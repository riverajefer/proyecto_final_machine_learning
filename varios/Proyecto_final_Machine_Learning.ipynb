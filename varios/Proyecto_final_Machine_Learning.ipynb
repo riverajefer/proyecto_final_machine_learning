{
  "nbformat": 4,
  "nbformat_minor": 0,
  "metadata": {
    "accelerator": "GPU",
    "colab": {
      "name": "Proyecto_final_Machine_Learning.ipynb",
      "provenance": [],
      "collapsed_sections": [],
      "toc_visible": true
    },
    "kernelspec": {
      "display_name": "Python 3",
      "name": "python3"
    }
  },
  "cells": [
    {
      "cell_type": "markdown",
      "metadata": {
        "id": "7rxK5SUeb1mE"
      },
      "source": [
        "https://tomaugspurger.github.io/modern-6-visualization.html"
      ]
    },
    {
      "cell_type": "markdown",
      "metadata": {
        "id": "cyAJqmg_BS8h"
      },
      "source": [
        "UNIVERSIDAD NACIONAL DE COLOMBIA.  \n",
        "FACULTAD DE INGENIERÍA.\n",
        "\n",
        "PROGRAMA DE FORMACIÓN  \n",
        "MACHINE LEARNING AND DATA SCIENCE MLDS.\n",
        "MÓDULO II.  \n",
        "Bogotá Colombia Mayo de 2021"
      ]
    },
    {
      "cell_type": "markdown",
      "metadata": {
        "id": "orW6cZ4rBtGY"
      },
      "source": [
        "\n",
        "\n",
        "---\n",
        "\n"
      ]
    },
    {
      "cell_type": "markdown",
      "metadata": {
        "id": "zfUy-mwJBlOz"
      },
      "source": [
        "**PROYECTO FINAL**  \n",
        "Nombre: Jefferson Rivera Patiño  \n",
        "Cel: 3118322699"
      ]
    },
    {
      "cell_type": "markdown",
      "metadata": {
        "id": "0aUC9lq2b6uV"
      },
      "source": [
        "# 0. Importación de librerías de Python.\n",
        "\n"
      ]
    },
    {
      "cell_type": "code",
      "metadata": {
        "colab": {
          "base_uri": "https://localhost:8080/"
        },
        "id": "G-Trb4_VJrST",
        "outputId": "7667d641-a290-42b0-9ade-4ed613bc4a31"
      },
      "source": [
        "# Ejecute esta celda para instalar la versión más reciente\n",
        "!pip install -U plotly\n",
        "!pip install -U kaleido # Necesitamos esta librería para exportar las visualizaciones como imágenes estáticas"
      ],
      "execution_count": null,
      "outputs": [
        {
          "output_type": "stream",
          "text": [
            "Collecting plotly\n",
            "\u001b[?25l  Downloading https://files.pythonhosted.org/packages/1f/f6/bd3c17c8003b6641df1228e80e1acac97ed8402635e46c2571f8e1ef63af/plotly-4.14.3-py2.py3-none-any.whl (13.2MB)\n",
            "\u001b[K     |████████████████████████████████| 13.2MB 230kB/s \n",
            "\u001b[?25hRequirement already satisfied, skipping upgrade: retrying>=1.3.3 in /usr/local/lib/python3.7/dist-packages (from plotly) (1.3.3)\n",
            "Requirement already satisfied, skipping upgrade: six in /usr/local/lib/python3.7/dist-packages (from plotly) (1.15.0)\n",
            "Installing collected packages: plotly\n",
            "  Found existing installation: plotly 4.4.1\n",
            "    Uninstalling plotly-4.4.1:\n",
            "      Successfully uninstalled plotly-4.4.1\n",
            "Successfully installed plotly-4.14.3\n",
            "Collecting kaleido\n",
            "\u001b[?25l  Downloading https://files.pythonhosted.org/packages/ae/b3/a0f0f4faac229b0011d8c4a7ee6da7c2dca0b6fd08039c95920846f23ca4/kaleido-0.2.1-py2.py3-none-manylinux1_x86_64.whl (79.9MB)\n",
            "\u001b[K     |████████████████████████████████| 79.9MB 37kB/s \n",
            "\u001b[?25hInstalling collected packages: kaleido\n",
            "Successfully installed kaleido-0.2.1\n"
          ],
          "name": "stdout"
        }
      ]
    },
    {
      "cell_type": "code",
      "metadata": {
        "id": "P-GzhgvhJ0iS"
      },
      "source": [
        "# Importar librerías\n",
        "from datetime import datetime, date \n",
        "import pandas as pd\n",
        "import numpy as np\n",
        "from scipy import stats\n",
        "import datetime\n",
        "import re\n",
        "import scipy\n",
        "import nltk\n",
        "from enum import Enum\n",
        "from nltk.corpus import stopwords\n",
        "\n",
        "\n",
        "# Librerías de visualiación\n",
        "import seaborn as sns \n",
        "import matplotlib\n",
        "import matplotlib.pyplot as plt\n",
        "import plotly.graph_objs as go\n",
        "import plotly.express as px\n",
        "import seaborn as sns\n",
        "%matplotlib inline"
      ],
      "execution_count": null,
      "outputs": []
    },
    {
      "cell_type": "code",
      "metadata": {
        "id": "Xhsrcun2J38o"
      },
      "source": [
        "# Librerías de Sklearn\n",
        "import sklearn\n",
        "import sklearn.metrics as metrics\n",
        "from sklearn.model_selection import train_test_split\n",
        "from sklearn.feature_selection import chi2\n",
        "from sklearn.feature_extraction.text import TfidfVectorizer\n",
        "from sklearn.model_selection import train_test_split\n",
        "from sklearn.feature_extraction.text import CountVectorizer\n",
        "from sklearn.tree import DecisionTreeClassifier\n",
        "from sklearn.ensemble import RandomForestClassifier\n",
        "from sklearn.feature_extraction.text import TfidfTransformer\n",
        "from sklearn.naive_bayes import MultinomialNB\n",
        "from sklearn.linear_model import LogisticRegression\n",
        "from sklearn.model_selection import GridSearchCV \n",
        "from sklearn.metrics import confusion_matrix\n",
        "from sklearn.svm import LinearSVC\n",
        "from sklearn.svm import SVC        \n",
        "from sklearn.neighbors import KNeighborsClassifier\n",
        "from sklearn.preprocessing import OrdinalEncoder\n",
        "from sklearn.metrics import classification_report\n",
        "from sklearn.neural_network import MLPClassifier\n",
        "from sklearn.model_selection import cross_val_score\n",
        "\n",
        "\n"
      ],
      "execution_count": null,
      "outputs": []
    },
    {
      "cell_type": "markdown",
      "metadata": {
        "id": "RGfXOE4Hihxr"
      },
      "source": [
        "# Problema"
      ]
    },
    {
      "cell_type": "markdown",
      "metadata": {
        "id": "RMrILvDnKn26"
      },
      "source": [
        ""
      ]
    },
    {
      "cell_type": "markdown",
      "metadata": {
        "id": "qfk0W5R8ikka"
      },
      "source": [
        "# Objetivos"
      ]
    },
    {
      "cell_type": "markdown",
      "metadata": {
        "id": "EJMuy1D_MMLe"
      },
      "source": [
        "Clasificar las textos introducidos en un sistema de comentario como por ejemplo review de productos en una tienda virtual, en emociones, ejemplo ira, felicidad, amor, etc."
      ]
    },
    {
      "cell_type": "markdown",
      "metadata": {
        "id": "RDqr1_X-Mo0n"
      },
      "source": [
        "Con esto se puede hacer un sistema automatizado de clasificación de texto y poder identifcar que productos productos despiertan algunas emociones y con base en esta infromación tomar decisiones para mejorar algunos productos."
      ]
    },
    {
      "cell_type": "markdown",
      "metadata": {
        "id": "tvXur5cFbDJg"
      },
      "source": [
        "# 1. ¿Qué pregunta(s) quiere responder a partir de sus datos?\n"
      ]
    },
    {
      "cell_type": "markdown",
      "metadata": {
        "id": "8goUhuCBcwSf"
      },
      "source": [
        "# 1.1. Describa a continuacíon los datos de forma precisa."
      ]
    },
    {
      "cell_type": "markdown",
      "metadata": {
        "id": "pP9_MW67nAWB"
      },
      "source": [
        "# Funciones de utilidad"
      ]
    },
    {
      "cell_type": "code",
      "metadata": {
        "id": "E4vCKN241pqp"
      },
      "source": [
        "# Con el código númerico retorna el string con la emoción\n",
        "def EmotionCodeToText(code):\n",
        "    selector = {\n",
        "        2.0: 'happy',\n",
        "        4.0: 'sadness',\n",
        "        0.0: 'anger',\n",
        "        1.0: 'fear',\n",
        "        3.0: 'love',\n",
        "        5.0: 'surprise',\n",
        "    }\n",
        "\n",
        "    return selector.get(code)"
      ],
      "execution_count": null,
      "outputs": []
    },
    {
      "cell_type": "code",
      "metadata": {
        "id": "TVIj2d9FsHnh"
      },
      "source": [
        "# Con el string con la emoción retorna el emoji\n",
        "class EmotionTextToEmoji(str, Enum):\n",
        "    happy = '\\U0001F600'\n",
        "    sadness = '\\U0001F625'\n",
        "    anger = '\\U0001F620'\n",
        "    fear  = '\\U0001F628'\n",
        "    love  = '\\U0001F970'\n",
        "    surprise = '\\U0001F632'\n",
        "   \n",
        "    def __str__(self):\n",
        "      return self.value"
      ],
      "execution_count": null,
      "outputs": []
    },
    {
      "cell_type": "code",
      "metadata": {
        "id": "PWgHu0_ZnEs6"
      },
      "source": [
        "# función para predecir el texto a emoción\n",
        "def predict_emotion_text(model = None, text='love'):\n",
        "  \"\"\"\n",
        "  model: Modelo\n",
        "  text: texto de prueba\n",
        "  \"\"\"\n",
        "  code_predict = model.predict(vectorizer.transform([text]))\n",
        "  code_predict = code_predict[0]\n",
        "  emotion_text = EmotionCodeToText(code_predict)\n",
        "\n",
        "  print(f'Emotion: { emotion_text} | {str(EmotionTextToEmoji[emotion_text])} ')"
      ],
      "execution_count": null,
      "outputs": []
    },
    {
      "cell_type": "code",
      "metadata": {
        "id": "SHEuLfLModiZ"
      },
      "source": [
        "def get_metrics_model(y_test=None, y_pred=None):\n",
        "  \"\"\"\n",
        "  y_test : conjunto de datos de prueba\n",
        "  y_pred : consjunto de datos predichos \n",
        "  \"\"\"\n",
        "  print(\"Accuracy:\",metrics.accuracy_score(y_test, y_pred))\n",
        "  print('fscore: ', metrics.f1_score(y_test, y_pred, average=\"macro\"))\n",
        "  print('precision: ',metrics.precision_score(y_test, y_pred, average=\"macro\"))\n",
        "  print('recall: ',metrics.recall_score(y_test, y_pred, average=\"macro\"))  "
      ],
      "execution_count": null,
      "outputs": []
    },
    {
      "cell_type": "code",
      "metadata": {
        "id": "9q4mbWBCbB3b"
      },
      "source": [
        "# Limpia el texto\n",
        "def cleantext(data):\n",
        "    data = re.sub(r'@[A-Za-z0-9]+', '', data) # remove @mentions\n",
        "    data = re.sub(r'#', '', data)# remove # tag\n",
        "    data = re.sub(r'RT[\\s]+', '', data) # remove the RT\n",
        "    data = re.sub(r'https?:\\/\\/\\S+', '', data) # remove links\n",
        "    data = re.sub('(\\\\\\\\u([a-z]|[0-9])+)', ' ', data) # remove unicode characters\n",
        "    data = re.sub(r'\"', '', data)\n",
        "    data = re.sub(r':', '', data)\n",
        "    return data"
      ],
      "execution_count": null,
      "outputs": []
    },
    {
      "cell_type": "code",
      "metadata": {
        "id": "uqrXaVFa3w3u"
      },
      "source": [
        "def plot_confusion_matrix(y_test=None, y_pred=None):\n",
        "  \"\"\"\n",
        "  y_test\n",
        "  y_pred\n",
        "  \"\"\"\n",
        "  labels = df['Emotion'].unique()\n",
        "  cm1 = pd.DataFrame(confusion_matrix(y_test, y_pred), index = labels, columns = labels)\n",
        "\n",
        "  plt.figure(figsize = (10, 8))\n",
        "  sns.heatmap(cm1, annot = True, cbar = False, fmt = 'g')\n",
        "  plt.ylabel('Valores actuales')\n",
        "  plt.xlabel('Valores predichos')\n",
        "  plt.show()  "
      ],
      "execution_count": null,
      "outputs": []
    },
    {
      "cell_type": "markdown",
      "metadata": {
        "id": "-pf8ZQMjy_ML"
      },
      "source": [
        "# 2. Carga del dataset"
      ]
    },
    {
      "cell_type": "code",
      "metadata": {
        "colab": {
          "base_uri": "https://localhost:8080/",
          "height": 359
        },
        "id": "jDDSfhegKuE6",
        "outputId": "0fa04b30-a326-4aee-9707-c23ceed9171a"
      },
      "source": [
        "df = pd.read_csv('http://45.90.109.111/api/emotion.csv')\n",
        "df.head(10)"
      ],
      "execution_count": null,
      "outputs": [
        {
          "output_type": "execute_result",
          "data": {
            "text/html": [
              "<div>\n",
              "<style scoped>\n",
              "    .dataframe tbody tr th:only-of-type {\n",
              "        vertical-align: middle;\n",
              "    }\n",
              "\n",
              "    .dataframe tbody tr th {\n",
              "        vertical-align: top;\n",
              "    }\n",
              "\n",
              "    .dataframe thead th {\n",
              "        text-align: right;\n",
              "    }\n",
              "</style>\n",
              "<table border=\"1\" class=\"dataframe\">\n",
              "  <thead>\n",
              "    <tr style=\"text-align: right;\">\n",
              "      <th></th>\n",
              "      <th>Text</th>\n",
              "      <th>Emotion</th>\n",
              "    </tr>\n",
              "  </thead>\n",
              "  <tbody>\n",
              "    <tr>\n",
              "      <th>0</th>\n",
              "      <td>i didnt feel humiliated</td>\n",
              "      <td>sadness</td>\n",
              "    </tr>\n",
              "    <tr>\n",
              "      <th>1</th>\n",
              "      <td>i can go from feeling so hopeless to so damned...</td>\n",
              "      <td>sadness</td>\n",
              "    </tr>\n",
              "    <tr>\n",
              "      <th>2</th>\n",
              "      <td>im grabbing a minute to post i feel greedy wrong</td>\n",
              "      <td>anger</td>\n",
              "    </tr>\n",
              "    <tr>\n",
              "      <th>3</th>\n",
              "      <td>i am ever feeling nostalgic about the fireplac...</td>\n",
              "      <td>love</td>\n",
              "    </tr>\n",
              "    <tr>\n",
              "      <th>4</th>\n",
              "      <td>i am feeling grouchy</td>\n",
              "      <td>anger</td>\n",
              "    </tr>\n",
              "    <tr>\n",
              "      <th>5</th>\n",
              "      <td>ive been feeling a little burdened lately wasn...</td>\n",
              "      <td>sadness</td>\n",
              "    </tr>\n",
              "    <tr>\n",
              "      <th>6</th>\n",
              "      <td>ive been taking or milligrams or times recomme...</td>\n",
              "      <td>surprise</td>\n",
              "    </tr>\n",
              "    <tr>\n",
              "      <th>7</th>\n",
              "      <td>i feel as confused about life as a teenager or...</td>\n",
              "      <td>fear</td>\n",
              "    </tr>\n",
              "    <tr>\n",
              "      <th>8</th>\n",
              "      <td>i have been with petronas for years i feel tha...</td>\n",
              "      <td>happy</td>\n",
              "    </tr>\n",
              "    <tr>\n",
              "      <th>9</th>\n",
              "      <td>i feel romantic too</td>\n",
              "      <td>love</td>\n",
              "    </tr>\n",
              "  </tbody>\n",
              "</table>\n",
              "</div>"
            ],
            "text/plain": [
              "                                                Text   Emotion\n",
              "0                            i didnt feel humiliated   sadness\n",
              "1  i can go from feeling so hopeless to so damned...   sadness\n",
              "2   im grabbing a minute to post i feel greedy wrong     anger\n",
              "3  i am ever feeling nostalgic about the fireplac...      love\n",
              "4                               i am feeling grouchy     anger\n",
              "5  ive been feeling a little burdened lately wasn...   sadness\n",
              "6  ive been taking or milligrams or times recomme...  surprise\n",
              "7  i feel as confused about life as a teenager or...      fear\n",
              "8  i have been with petronas for years i feel tha...     happy\n",
              "9                                i feel romantic too      love"
            ]
          },
          "metadata": {
            "tags": []
          },
          "execution_count": 11
        }
      ]
    },
    {
      "cell_type": "code",
      "metadata": {
        "colab": {
          "base_uri": "https://localhost:8080/"
        },
        "id": "-cfiwYWba7hk",
        "outputId": "c8796a42-1dc6-437a-a30e-e384027628cc"
      },
      "source": [
        "df.shape"
      ],
      "execution_count": null,
      "outputs": [
        {
          "output_type": "execute_result",
          "data": {
            "text/plain": [
              "(21433, 2)"
            ]
          },
          "metadata": {
            "tags": []
          },
          "execution_count": 12
        }
      ]
    },
    {
      "cell_type": "markdown",
      "metadata": {
        "id": "1bDwacSrLsvP"
      },
      "source": [
        "# Descripción del dataset"
      ]
    },
    {
      "cell_type": "markdown",
      "metadata": {
        "id": "IWj4OLgULv6V"
      },
      "source": [
        "Origen del dataset.\n",
        "Explicación de las variables."
      ]
    },
    {
      "cell_type": "markdown",
      "metadata": {
        "id": "tQxCZqpeyxGk"
      },
      "source": [
        "# 2.1. Limpieza de los datos"
      ]
    },
    {
      "cell_type": "code",
      "metadata": {
        "colab": {
          "base_uri": "https://localhost:8080/"
        },
        "id": "5QIySomkLhKL",
        "outputId": "ace96f84-65b4-4152-8409-60f1e44f1ec0"
      },
      "source": [
        "df.isnull().sum()"
      ],
      "execution_count": null,
      "outputs": [
        {
          "output_type": "execute_result",
          "data": {
            "text/plain": [
              "Text       0\n",
              "Emotion    0\n",
              "dtype: int64"
            ]
          },
          "metadata": {
            "tags": []
          },
          "execution_count": 13
        }
      ]
    },
    {
      "cell_type": "code",
      "metadata": {
        "id": "rp4pU7RokKBF"
      },
      "source": [
        "df['Text'] = df['Text'].apply(cleantext)"
      ],
      "execution_count": null,
      "outputs": []
    },
    {
      "cell_type": "markdown",
      "metadata": {
        "id": "86wK2CyIbDlv"
      },
      "source": [
        "# 2. Descripción de los datos.\n",
        "\n"
      ]
    },
    {
      "cell_type": "code",
      "metadata": {
        "colab": {
          "base_uri": "https://localhost:8080/"
        },
        "id": "b40j8T1-MKG-",
        "outputId": "c245374b-99be-458d-a369-94315fb7271c"
      },
      "source": [
        "df.info()"
      ],
      "execution_count": null,
      "outputs": [
        {
          "output_type": "stream",
          "text": [
            "<class 'pandas.core.frame.DataFrame'>\n",
            "RangeIndex: 21433 entries, 0 to 21432\n",
            "Data columns (total 2 columns):\n",
            " #   Column   Non-Null Count  Dtype \n",
            "---  ------   --------------  ----- \n",
            " 0   Text     21433 non-null  object\n",
            " 1   Emotion  21433 non-null  object\n",
            "dtypes: object(2)\n",
            "memory usage: 335.0+ KB\n"
          ],
          "name": "stdout"
        }
      ]
    },
    {
      "cell_type": "code",
      "metadata": {
        "colab": {
          "base_uri": "https://localhost:8080/"
        },
        "id": "oxE2eiWUcmJh",
        "outputId": "d77b0b47-1b0a-42fc-d295-2fe0a13eeb60"
      },
      "source": [
        "df.dtypes"
      ],
      "execution_count": null,
      "outputs": [
        {
          "output_type": "execute_result",
          "data": {
            "text/plain": [
              "Text       object\n",
              "Emotion    object\n",
              "dtype: object"
            ]
          },
          "metadata": {
            "tags": []
          },
          "execution_count": 16
        }
      ]
    },
    {
      "cell_type": "code",
      "metadata": {
        "colab": {
          "base_uri": "https://localhost:8080/"
        },
        "id": "7AvFpef6Nhpi",
        "outputId": "8c19f9ea-32b2-4d0b-a783-47d02d268ae8"
      },
      "source": [
        "df['Emotion'].value_counts()"
      ],
      "execution_count": null,
      "outputs": [
        {
          "output_type": "execute_result",
          "data": {
            "text/plain": [
              "happy       7025\n",
              "sadness     6259\n",
              "anger       2986\n",
              "fear        2650\n",
              "love        1636\n",
              "surprise     877\n",
              "Name: Emotion, dtype: int64"
            ]
          },
          "metadata": {
            "tags": []
          },
          "execution_count": 17
        }
      ]
    },
    {
      "cell_type": "code",
      "metadata": {
        "colab": {
          "base_uri": "https://localhost:8080/",
          "height": 173
        },
        "id": "JTrSrp7oMQpa",
        "outputId": "ff778a0a-8d77-49f4-d52c-c7d425c8e5a9"
      },
      "source": [
        "df.describe()"
      ],
      "execution_count": null,
      "outputs": [
        {
          "output_type": "execute_result",
          "data": {
            "text/html": [
              "<div>\n",
              "<style scoped>\n",
              "    .dataframe tbody tr th:only-of-type {\n",
              "        vertical-align: middle;\n",
              "    }\n",
              "\n",
              "    .dataframe tbody tr th {\n",
              "        vertical-align: top;\n",
              "    }\n",
              "\n",
              "    .dataframe thead th {\n",
              "        text-align: right;\n",
              "    }\n",
              "</style>\n",
              "<table border=\"1\" class=\"dataframe\">\n",
              "  <thead>\n",
              "    <tr style=\"text-align: right;\">\n",
              "      <th></th>\n",
              "      <th>Text</th>\n",
              "      <th>Emotion</th>\n",
              "    </tr>\n",
              "  </thead>\n",
              "  <tbody>\n",
              "    <tr>\n",
              "      <th>count</th>\n",
              "      <td>21433</td>\n",
              "      <td>21433</td>\n",
              "    </tr>\n",
              "    <tr>\n",
              "      <th>unique</th>\n",
              "      <td>21380</td>\n",
              "      <td>6</td>\n",
              "    </tr>\n",
              "    <tr>\n",
              "      <th>top</th>\n",
              "      <td>i am feeling stressed and more than a bit anxious</td>\n",
              "      <td>happy</td>\n",
              "    </tr>\n",
              "    <tr>\n",
              "      <th>freq</th>\n",
              "      <td>2</td>\n",
              "      <td>7025</td>\n",
              "    </tr>\n",
              "  </tbody>\n",
              "</table>\n",
              "</div>"
            ],
            "text/plain": [
              "                                                     Text Emotion\n",
              "count                                               21433   21433\n",
              "unique                                              21380       6\n",
              "top     i am feeling stressed and more than a bit anxious   happy\n",
              "freq                                                    2    7025"
            ]
          },
          "metadata": {
            "tags": []
          },
          "execution_count": 18
        }
      ]
    },
    {
      "cell_type": "markdown",
      "metadata": {
        "id": "xKJNDQERRUE6"
      },
      "source": [
        "Registros duplicados"
      ]
    },
    {
      "cell_type": "code",
      "metadata": {
        "colab": {
          "base_uri": "https://localhost:8080/"
        },
        "id": "CWRRZbLJRReL",
        "outputId": "feed8bfd-017f-489a-83bd-386b5967020d"
      },
      "source": [
        "df.duplicated().sum()"
      ],
      "execution_count": null,
      "outputs": [
        {
          "output_type": "execute_result",
          "data": {
            "text/plain": [
              "3"
            ]
          },
          "metadata": {
            "tags": []
          },
          "execution_count": 19
        }
      ]
    },
    {
      "cell_type": "code",
      "metadata": {
        "colab": {
          "base_uri": "https://localhost:8080/"
        },
        "id": "LYEQkzM7RID0",
        "outputId": "a99be29d-6685-476e-f6cd-cff9946344cf"
      },
      "source": [
        "# Eliminación de registros duplicados\n",
        "df = df.drop_duplicates()\n",
        "df.shape"
      ],
      "execution_count": null,
      "outputs": [
        {
          "output_type": "execute_result",
          "data": {
            "text/plain": [
              "(21430, 2)"
            ]
          },
          "metadata": {
            "tags": []
          },
          "execution_count": 20
        }
      ]
    },
    {
      "cell_type": "code",
      "metadata": {
        "colab": {
          "base_uri": "https://localhost:8080/"
        },
        "id": "JqRs4hzrMyKM",
        "outputId": "8da2a429-dc0c-4ec2-f293-46d015de766a"
      },
      "source": [
        "df['Emotion'].mode()\n"
      ],
      "execution_count": null,
      "outputs": [
        {
          "output_type": "execute_result",
          "data": {
            "text/plain": [
              "0    happy\n",
              "dtype: object"
            ]
          },
          "metadata": {
            "tags": []
          },
          "execution_count": 21
        }
      ]
    },
    {
      "cell_type": "markdown",
      "metadata": {
        "id": "xVwz0jVibPSj"
      },
      "source": [
        "# 3. Representación gráfica de datos.\n",
        "\n"
      ]
    },
    {
      "cell_type": "code",
      "metadata": {
        "id": "joiYCfv7QSbY"
      },
      "source": [
        "pd.options.plotting.backend = \"plotly\""
      ],
      "execution_count": null,
      "outputs": []
    },
    {
      "cell_type": "code",
      "metadata": {
        "colab": {
          "base_uri": "https://localhost:8080/",
          "height": 448
        },
        "id": "puJaEimDO88i",
        "outputId": "82727241-e1dd-4272-bbea-704d9f0e5236"
      },
      "source": [
        "plt.figure(figsize = (20,7))\n",
        "sns.set_theme(style=\"darkgrid\")\n",
        "ax = sns.countplot(x=\"Emotion\", data=df, palette=\"Set3\", dodge=False)"
      ],
      "execution_count": null,
      "outputs": [
        {
          "output_type": "display_data",
          "data": {
            "image/png": "[encoded data removed]",
            "text/plain": [
              "<Figure size 1440x504 with 1 Axes>"
            ]
          },
          "metadata": {
            "tags": []
          }
        }
      ]
    },
    {
      "cell_type": "code",
      "metadata": {
        "colab": {
          "base_uri": "https://localhost:8080/",
          "height": 542
        },
        "id": "0F1OrmTJQans",
        "outputId": "1ed2d743-abd4-431e-f713-9e36721f3a56"
      },
      "source": [
        "fig = df['Emotion'].plot(kind='hist', title=\"Distribución de emociones\", labels='Emotion')\n",
        "fig.show()"
      ],
      "execution_count": null,
      "outputs": [
        {
          "output_type": "display_data",
          "data": {
            "text/html": [
              "<html>\n",
              "<head><meta charset=\"utf-8\" /></head>\n",
              "<body>\n",
              "    <div>            <script src=\"https://cdnjs.cloudflare.com/ajax/libs/mathjax/2.7.5/MathJax.js?config=TeX-AMS-MML_SVG\"></script><script type=\"text/javascript\">if (window.MathJax) {MathJax.Hub.Config({SVG: {font: \"STIX-Web\"}});}</script>                <script type=\"text/javascript\">window.PlotlyConfig = {MathJaxConfig: 'local'};</script>\n",
              "        <script src=\"https://cdn.plot.ly/plotly-latest.min.js\"></script>                <div id=\"78efe506-c91c-40eb-ab95-d496cf43a965\" class=\"plotly-graph-div\" style=\"height:525px; width:100%;\"></div>            <script type=\"text/javascript\">                                    window.PLOTLYENV=window.PLOTLYENV || {};                                    if (document.getElementById(\"78efe506-c91c-40eb-ab95-d496cf43a965\")) {                    Plotly.newPlot(                        \"78efe506-c91c-40eb-ab95-d496cf43a965\",                        [{\"alignmentgroup\": \"True\", \"bingroup\": \"x\", \"hovertemplate\": \"variable=Emotion<br>value=%{x}<br>count=%{y}<extra></extra>\", \"legendgroup\": \"Emotion\", \"marker\": {\"color\": \"#636efa\"}, \"name\": \"Emotion\", \"offsetgroup\": \"Emotion\", \"orientation\": \"v\", \"showlegend\": true, \"type\": \"histogram\", \"x\": [\"sadness\", \"sadness\", \"anger\", \"love\", \"anger\", \"sadness\", \"surprise\", \"fear\", \"happy\", \"love\", \"sadness\", \"happy\", \"anger\", \"sadness\", \"happy\", \"happy\", \"sadness\", \"sadness\", \"sadness\", \"fear\", \"anger\", \"fear\", \"happy\", \"happy\", \"anger\", \"sadness\", \"sadness\", \"sadness\", \"anger\", \"happy\", \"happy\", \"fear\", \"surprise\", \"anger\", \"happy\", \"happy\", \"happy\", \"happy\", \"anger\", \"happy\", \"happy\", \"happy\", \"happy\", \"happy\", \"sadness\", \"sadness\", \"happy\", \"love\", \"happy\", \"anger\", \"happy\", \"sadness\", \"anger\", \"fear\", \"happy\", \"sadness\", \"sadness\", \"surprise\", \"happy\", \"happy\", \"happy\", \"love\", \"fear\", \"fear\", \"surprise\", \"anger\", \"anger\", \"sadness\", \"love\", \"happy\", \"sadness\", \"sadness\", \"happy\", \"sadness\", \"sadness\", \"sadness\", \"happy\", \"happy\", \"happy\", \"anger\", \"sadness\", \"anger\", \"anger\", \"anger\", \"happy\", \"happy\", \"happy\", \"happy\", \"sadness\", \"fear\", \"love\", \"anger\", \"sadness\", \"anger\", \"love\", \"sadness\", \"happy\", \"happy\", \"sadness\", \"anger\", \"love\", \"happy\", \"happy\", \"happy\", \"sadness\", \"happy\", \"happy\", \"happy\", \"happy\", \"sadness\", \"happy\", \"happy\", \"love\", \"sadness\", \"sadness\", \"happy\", \"happy\", \"sadness\", \"happy\", \"happy\", \"fear\", \"fear\", \"fear\", \"sadness\", \"love\", \"happy\", \"happy\", \"love\", \"fear\", \"surprise\", \"happy\", \"happy\", \"happy\", \"happy\", \"anger\", \"fear\", \"happy\", \"anger\", \"love\", \"anger\", \"sadness\", \"happy\", \"sadness\", \"anger\", \"happy\", \"surprise\", \"sadness\", \"anger\", \"anger\", \"sadness\", \"happy\", \"fear\", \"happy\", \"happy\", \"fear\", \"sadness\", \"surprise\", \"surprise\", \"happy\", \"anger\", \"fear\", \"anger\", \"sadness\", \"anger\", \"sadness\", \"fear\", \"sadness\", \"happy\", \"surprise\", \"fear\", \"happy\", \"anger\", \"happy\", \"anger\", \"happy\", \"fear\", \"fear\", \"sadness\", \"happy\", \"happy\", \"sadness\", \"surprise\", \"happy\", \"fear\", \"happy\", \"sadness\", \"happy\", \"happy\", \"happy\", \"fear\", \"happy\", \"surprise\", \"happy\", \"anger\", \"sadness\", \"sadness\", \"happy\", \"anger\", \"sadness\", \"happy\", \"happy\", \"surprise\", \"happy\", \"fear\", \"happy\", \"fear\", \"sadness\", \"fear\", \"love\", \"sadness\", \"fear\", \"love\", \"sadness\", \"sadness\", \"anger\", \"happy\", \"love\", \"anger\", \"sadness\", \"surprise\", \"anger\", \"happy\", \"sadness\", \"anger\", \"happy\", \"happy\", \"happy\", \"happy\", \"happy\", \"sadness\", \"happy\", \"love\", \"happy\", \"sadness\", \"anger\", \"surprise\", \"happy\", \"anger\", \"happy\", \"love\", \"sadness\", \"sadness\", \"happy\", \"sadness\", \"sadness\", \"happy\", \"sadness\", \"happy\", \"happy\", \"happy\", \"fear\", \"sadness\", \"anger\", \"sadness\", \"anger\", \"love\", \"happy\", \"love\", \"sadness\", \"happy\", \"happy\", \"happy\", \"sadness\", \"happy\", \"sadness\", \"anger\", \"love\", \"sadness\", \"love\", \"sadness\", \"sadness\", \"sadness\", \"sadness\", \"sadness\", \"sadness\", \"fear\", \"happy\", \"sadness\", \"sadness\", \"happy\", \"love\", \"sadness\", \"anger\", \"sadness\", \"love\", \"happy\", \"happy\", \"happy\", \"sadness\", \"happy\", \"sadness\", \"happy\", \"happy\", \"happy\", \"sadness\", \"sadness\", \"sadness\", \"love\", \"fear\", \"sadness\", \"fear\", \"happy\", \"happy\", \"fear\", \"happy\", \"anger\", \"anger\", \"love\", \"sadness\", \"surprise\", \"happy\", \"anger\", \"sadness\", \"sadness\", \"anger\", \"love\", \"surprise\", \"sadness\", \"love\", \"happy\", \"anger\", \"happy\", \"sadness\", \"sadness\", \"happy\", \"happy\", \"fear\", \"sadness\", \"anger\", \"happy\", \"love\", \"happy\", \"happy\", \"happy\", \"happy\", \"happy\", \"love\", \"happy\", \"fear\", \"fear\", \"happy\", \"happy\", \"anger\", \"happy\", \"happy\", \"happy\", \"sadness\", \"surprise\", \"happy\", \"happy\", \"sadness\", \"surprise\", \"happy\", \"fear\", \"happy\", \"anger\", \"love\", \"anger\", \"fear\", \"surprise\", \"happy\", \"anger\", \"sadness\", \"sadness\", \"sadness\", \"fear\", \"happy\", \"fear\", \"happy\", \"anger\", \"sadness\", \"love\", \"anger\", \"sadness\", \"love\", \"love\", \"happy\", \"sadness\", \"happy\", \"happy\", \"anger\", \"happy\", \"love\", \"happy\", \"happy\", \"sadness\", \"surprise\", \"happy\", \"happy\", \"sadness\", \"surprise\", \"anger\", \"happy\", \"happy\", \"love\", \"happy\", \"love\", \"love\", \"happy\", \"sadness\", \"happy\", \"sadness\", \"fear\", \"anger\", \"sadness\", \"anger\", \"happy\", \"fear\", \"surprise\", \"love\", \"sadness\", \"sadness\", \"happy\", \"surprise\", \"love\", \"sadness\", \"sadness\", \"happy\", \"fear\", \"happy\", \"happy\", \"happy\", \"love\", \"fear\", \"sadness\", \"sadness\", \"fear\", \"love\", \"happy\", \"sadness\", \"happy\", \"sadness\", \"happy\", \"sadness\", \"happy\", \"sadness\", \"happy\", \"happy\", \"anger\", \"sadness\", \"fear\", \"sadness\", \"sadness\", \"anger\", \"surprise\", \"surprise\", \"happy\", \"surprise\", \"fear\", \"love\", \"anger\", \"happy\", \"fear\", \"sadness\", \"anger\", \"sadness\", \"happy\", \"fear\", \"happy\", \"happy\", \"happy\", \"happy\", \"surprise\", \"anger\", \"sadness\", \"happy\", \"sadness\", \"anger\", \"love\", \"sadness\", \"love\", \"anger\", \"love\", \"love\", \"happy\", \"happy\", \"sadness\", \"happy\", \"sadness\", \"happy\", \"anger\", \"happy\", \"fear\", \"sadness\", \"happy\", \"sadness\", \"surprise\", \"happy\", \"happy\", \"love\", \"happy\", \"sadness\", \"anger\", \"happy\", \"sadness\", \"sadness\", \"sadness\", \"happy\", \"happy\", \"happy\", \"sadness\", \"sadness\", \"anger\", \"anger\", \"happy\", \"sadness\", \"surprise\", \"happy\", \"happy\", \"sadness\", \"anger\", \"happy\", \"anger\", \"happy\", \"happy\", \"love\", \"anger\", \"happy\", \"happy\", \"happy\", \"happy\", \"happy\", \"happy\", \"happy\", \"fear\", \"happy\", \"fear\", \"sadness\", \"anger\", \"anger\", \"sadness\", \"love\", \"sadness\", \"sadness\", \"sadness\", \"surprise\", \"fear\", \"sadness\", \"sadness\", \"happy\", \"fear\", \"happy\", \"sadness\", \"sadness\", \"anger\", \"sadness\", \"anger\", \"anger\", \"love\", \"happy\", \"happy\", \"sadness\", \"happy\", \"happy\", \"happy\", \"love\", \"love\", \"love\", \"happy\", \"surprise\", \"fear\", \"sadness\", \"anger\", \"sadness\", \"fear\", \"happy\", \"anger\", \"happy\", \"happy\", \"sadness\", \"happy\", \"fear\", \"happy\", \"anger\", \"sadness\", \"anger\", \"happy\", \"love\", \"love\", \"sadness\", \"fear\", \"sadness\", \"sadness\", \"sadness\", \"fear\", \"sadness\", \"anger\", \"happy\", \"happy\", \"sadness\", \"fear\", \"fear\", \"anger\", \"anger\", \"sadness\", \"sadness\", \"anger\", \"anger\", \"happy\", \"fear\", \"sadness\", \"sadness\", \"fear\", \"happy\", \"fear\", \"sadness\", \"sadness\", \"happy\", \"sadness\", \"anger\", \"sadness\", \"love\", \"surprise\", \"happy\", \"happy\", \"happy\", \"happy\", \"happy\", \"sadness\", \"sadness\", \"love\", \"fear\", \"anger\", \"happy\", \"love\", \"happy\", \"happy\", \"fear\", \"anger\", \"fear\", \"sadness\", \"anger\", \"anger\", \"anger\", \"fear\", \"happy\", \"love\", \"anger\", \"fear\", \"anger\", \"happy\", \"fear\", \"sadness\", \"sadness\", \"anger\", \"happy\", \"anger\", \"fear\", \"fear\", \"surprise\", \"sadness\", \"happy\", \"happy\", \"happy\", \"love\", \"sadness\", \"happy\", \"sadness\", \"anger\", \"happy\", \"happy\", \"fear\", \"fear\", \"happy\", \"fear\", \"anger\", \"anger\", \"anger\", \"happy\", \"sadness\", \"happy\", \"happy\", \"happy\", \"anger\", \"fear\", \"anger\", \"happy\", \"sadness\", \"happy\", \"fear\", \"happy\", \"sadness\", \"anger\", \"sadness\", \"sadness\", \"happy\", \"happy\", \"sadness\", \"love\", \"happy\", \"sadness\", \"anger\", \"love\", \"sadness\", \"happy\", \"happy\", \"fear\", \"anger\", \"happy\", \"happy\", \"love\", \"surprise\", \"fear\", \"fear\", \"anger\", \"anger\", \"love\", \"sadness\", \"sadness\", \"happy\", \"love\", \"anger\", \"happy\", \"anger\", \"happy\", \"happy\", \"happy\", \"fear\", \"fear\", \"love\", \"sadness\", \"love\", \"happy\", \"happy\", \"sadness\", \"sadness\", \"anger\", \"anger\", \"anger\", \"anger\", \"sadness\", \"happy\", \"sadness\", \"happy\", \"fear\", \"sadness\", \"happy\", \"sadness\", \"happy\", \"surprise\", \"fear\", \"happy\", \"happy\", \"fear\", \"fear\", \"sadness\", \"sadness\", \"anger\", \"sadness\", \"love\", \"happy\", \"surprise\", \"happy\", \"surprise\", \"happy\", \"fear\", \"happy\", \"happy\", \"happy\", \"happy\", \"surprise\", \"love\", \"sadness\", \"love\", \"happy\", \"sadness\", \"happy\", \"happy\", \"sadness\", \"happy\", \"happy\", \"happy\", \"happy\", \"fear\", \"fear\", \"fear\", \"fear\", \"anger\", \"love\", \"sadness\", \"happy\", \"happy\", \"sadness\", \"sadness\", \"sadness\", \"sadness\", \"happy\", \"sadness\", \"sadness\", \"fear\", \"happy\", \"anger\", \"happy\", \"happy\", \"fear\", \"anger\", \"happy\", \"anger\", \"anger\", \"anger\", \"anger\", \"anger\", \"happy\", \"fear\", \"sadness\", \"love\", \"sadness\", \"fear\", \"love\", \"happy\", \"surprise\", \"happy\", \"happy\", \"happy\", \"happy\", \"sadness\", \"surprise\", \"happy\", \"anger\", \"anger\", \"anger\", \"happy\", \"happy\", \"sadness\", \"love\", \"sadness\", \"happy\", \"anger\", \"anger\", \"anger\", \"fear\", \"happy\", \"happy\", \"fear\", \"sadness\", \"surprise\", \"happy\", \"love\", \"sadness\", \"happy\", \"happy\", \"sadness\", \"sadness\", \"sadness\", \"anger\", \"happy\", \"sadness\", \"sadness\", \"sadness\", \"sadness\", \"happy\", \"surprise\", \"happy\", \"anger\", \"love\", \"happy\", \"anger\", \"sadness\", \"happy\", \"anger\", \"sadness\", \"fear\", \"fear\", \"sadness\", \"sadness\", \"fear\", \"sadness\", \"love\", \"fear\", \"happy\", \"happy\", \"fear\", \"happy\", \"anger\", \"happy\", \"happy\", \"anger\", \"happy\", \"happy\", \"love\", \"anger\", \"happy\", \"happy\", \"happy\", \"anger\", \"happy\", \"love\", \"fear\", \"anger\", \"love\", \"sadness\", \"fear\", \"sadness\", \"sadness\", \"love\", \"happy\", \"fear\", \"love\", \"happy\", \"happy\", \"sadness\", \"happy\", \"sadness\", \"fear\", \"happy\", \"sadness\", \"love\", \"sadness\", \"love\", \"sadness\", \"sadness\", \"anger\", \"love\", \"anger\", \"happy\", \"anger\", \"sadness\", \"sadness\", \"happy\", \"happy\", \"anger\", \"sadness\", \"surprise\", \"happy\", \"love\", \"sadness\", \"anger\", \"fear\", \"love\", \"happy\", \"happy\", \"anger\", \"happy\", \"sadness\", \"happy\", \"happy\", \"happy\", \"love\", \"happy\", \"sadness\", \"love\", \"fear\", \"sadness\", \"happy\", \"sadness\", \"anger\", \"happy\", \"happy\", \"sadness\", \"happy\", \"love\", \"happy\", \"happy\", \"happy\", \"anger\", \"fear\", \"sadness\", \"happy\", \"sadness\", \"sadness\", \"love\", \"anger\", \"happy\", \"love\", \"sadness\", \"happy\", \"fear\", \"sadness\", \"happy\", \"happy\", \"sadness\", \"sadness\", \"love\", \"happy\", \"sadness\", \"sadness\", \"sadness\", \"sadness\", \"anger\", \"sadness\", \"happy\", \"sadness\", \"happy\", \"sadness\", \"love\", \"anger\", \"happy\", \"fear\", \"sadness\", \"sadness\", \"happy\", \"happy\", \"anger\", \"fear\", \"love\", \"happy\", \"sadness\", \"anger\", \"sadness\", \"happy\", \"sadness\", \"happy\", \"happy\", \"sadness\", \"love\", \"happy\", \"happy\", \"sadness\", \"anger\", \"sadness\", \"anger\", \"sadness\", \"happy\", \"sadness\", \"anger\", \"happy\", \"surprise\", \"sadness\", \"fear\", \"sadness\", \"fear\", \"sadness\", \"anger\", \"anger\", \"happy\", \"anger\", \"happy\", \"happy\", \"happy\", \"sadness\", \"fear\", \"happy\", \"happy\", \"anger\", \"happy\", \"fear\", \"happy\", \"love\", \"sadness\", \"sadness\", \"sadness\", \"sadness\", \"happy\", \"love\", \"fear\", \"happy\", \"anger\", \"sadness\", \"happy\", \"fear\", \"happy\", \"happy\", \"sadness\", \"fear\", \"sadness\", \"happy\", \"sadness\", \"sadness\", \"sadness\", \"sadness\", \"love\", \"sadness\", \"fear\", \"fear\", \"happy\", \"love\", \"sadness\", \"sadness\", \"love\", \"happy\", \"sadness\", \"sadness\", \"sadness\", \"sadness\", \"love\", \"happy\", \"happy\", \"sadness\", \"fear\", \"happy\", \"happy\", \"happy\", \"happy\", \"happy\", \"anger\", \"fear\", \"love\", \"happy\", \"anger\", \"love\", \"love\", \"happy\", \"sadness\", \"sadness\", \"anger\", \"happy\", \"happy\", \"fear\", \"happy\", \"happy\", \"sadness\", \"sadness\", \"love\", \"happy\", \"happy\", \"happy\", \"happy\", \"happy\", \"sadness\", \"happy\", \"love\", \"happy\", \"fear\", \"happy\", \"sadness\", \"happy\", \"happy\", \"fear\", \"happy\", \"sadness\", \"fear\", \"happy\", \"sadness\", \"happy\", \"sadness\", \"fear\", \"happy\", \"happy\", \"fear\", \"sadness\", \"sadness\", \"happy\", \"happy\", \"happy\", \"happy\", \"fear\", \"happy\", \"happy\", \"fear\", \"happy\", \"fear\", \"surprise\", \"happy\", \"fear\", \"surprise\", \"fear\", \"happy\", \"happy\", \"surprise\", \"sadness\", \"sadness\", \"happy\", \"happy\", \"happy\", \"happy\", \"happy\", \"happy\", \"happy\", \"happy\", \"fear\", \"sadness\", \"anger\", \"happy\", \"sadness\", \"happy\", \"fear\", \"love\", \"love\", \"fear\", \"sadness\", \"sadness\", \"happy\", \"fear\", \"sadness\", \"love\", \"anger\", \"happy\", \"sadness\", \"happy\", \"happy\", \"sadness\", \"fear\", \"sadness\", \"happy\", \"sadness\", \"sadness\", \"happy\", \"sadness\", \"sadness\", \"sadness\", \"fear\", \"happy\", \"anger\", \"sadness\", \"sadness\", \"happy\", \"happy\", \"happy\", \"happy\", \"love\", \"happy\", \"fear\", \"happy\", \"happy\", \"happy\", \"fear\", \"sadness\", \"sadness\", \"happy\", \"sadness\", \"sadness\", \"happy\", \"sadness\", \"sadness\", \"sadness\", \"happy\", \"sadness\", \"fear\", \"anger\", \"sadness\", \"happy\", \"fear\", \"happy\", \"sadness\", \"happy\", \"happy\", \"fear\", \"fear\", \"sadness\", \"happy\", \"surprise\", \"happy\", \"anger\", \"love\", \"sadness\", \"sadness\", \"love\", \"anger\", \"fear\", \"fear\", \"happy\", \"sadness\", \"love\", \"sadness\", \"sadness\", \"happy\", \"happy\", \"sadness\", \"love\", \"happy\", \"happy\", \"happy\", \"happy\", \"anger\", \"surprise\", \"love\", \"anger\", \"sadness\", \"sadness\", \"happy\", \"sadness\", \"happy\", \"happy\", \"happy\", \"sadness\", \"anger\", \"sadness\", \"sadness\", \"sadness\", \"happy\", \"anger\", \"happy\", \"sadness\", \"sadness\", \"happy\", \"anger\", \"happy\", \"happy\", \"love\", \"sadness\", \"happy\", \"sadness\", \"surprise\", \"anger\", \"happy\", \"sadness\", \"fear\", \"happy\", \"happy\", \"anger\", \"happy\", \"happy\", \"sadness\", \"anger\", \"love\", \"happy\", \"sadness\", \"surprise\", \"love\", \"love\", \"sadness\", \"sadness\", \"sadness\", \"love\", \"sadness\", \"love\", \"happy\", \"happy\", \"sadness\", \"love\", \"happy\", \"anger\", \"sadness\", \"happy\", \"anger\", \"sadness\", \"anger\", \"happy\", \"love\", \"happy\", \"fear\", \"anger\", \"happy\", \"sadness\", \"fear\", \"sadness\", \"sadness\", \"sadness\", \"sadness\", \"sadness\", \"fear\", \"love\", \"sadness\", \"sadness\", \"happy\", \"sadness\", \"love\", \"anger\", \"happy\", \"surprise\", \"happy\", \"fear\", \"sadness\", \"fear\", \"sadness\", \"happy\", \"anger\", \"anger\", \"surprise\", \"happy\", \"love\", \"sadness\", \"surprise\", \"happy\", \"happy\", \"surprise\", \"sadness\", \"love\", \"happy\", \"anger\", \"fear\", \"sadness\", \"sadness\", \"sadness\", \"sadness\", \"sadness\", \"anger\", \"happy\", \"happy\", \"happy\", \"sadness\", \"surprise\", \"surprise\", \"anger\", \"happy\", \"happy\", \"fear\", \"happy\", \"sadness\", \"fear\", \"anger\", \"anger\", \"fear\", \"love\", \"fear\", \"anger\", \"anger\", \"anger\", \"sadness\", \"fear\", \"happy\", \"happy\", \"fear\", \"fear\", \"anger\", \"happy\", \"anger\", \"happy\", \"happy\", \"love\", \"anger\", \"sadness\", \"fear\", \"happy\", \"anger\", \"sadness\", \"anger\", \"sadness\", \"love\", \"anger\", \"fear\", \"happy\", \"fear\", \"sadness\", \"sadness\", \"anger\", \"happy\", \"fear\", \"sadness\", \"love\", \"love\", \"sadness\", \"anger\", \"anger\", \"happy\", \"sadness\", \"anger\", \"sadness\", \"sadness\", \"fear\", \"happy\", \"sadness\", \"sadness\", \"happy\", \"anger\", \"sadness\", \"happy\", \"happy\", \"anger\", \"happy\", \"happy\", \"anger\", \"anger\", \"sadness\", \"happy\", \"anger\", \"sadness\", \"fear\", \"sadness\", \"fear\", \"happy\", \"fear\", \"happy\", \"happy\", \"happy\", \"happy\", \"sadness\", \"anger\", \"sadness\", \"happy\", \"fear\", \"happy\", \"sadness\", \"happy\", \"fear\", \"happy\", \"happy\", \"happy\", \"happy\", \"sadness\", \"happy\", \"anger\", \"happy\", \"happy\", \"happy\", \"happy\", \"fear\", \"happy\", \"fear\", \"sadness\", \"love\", \"happy\", \"happy\", \"happy\", \"happy\", \"anger\", \"happy\", \"fear\", \"sadness\", \"anger\", \"happy\", \"happy\", \"sadness\", \"surprise\", \"surprise\", \"happy\", \"sadness\", \"sadness\", \"love\", \"fear\", \"happy\", \"love\", \"love\", \"happy\", \"sadness\", \"sadness\", \"happy\", \"anger\", \"happy\", \"happy\", \"happy\", \"fear\", \"fear\", \"happy\", \"sadness\", \"surprise\", \"happy\", \"happy\", \"happy\", \"happy\", \"happy\", \"sadness\", \"anger\", \"fear\", \"anger\", \"sadness\", \"happy\", \"anger\", \"fear\", \"love\", \"sadness\", \"love\", \"happy\", \"sadness\", \"love\", \"sadness\", \"happy\", \"happy\", \"love\", \"sadness\", \"love\", \"anger\", \"happy\", \"love\", \"happy\", \"fear\", \"sadness\", \"sadness\", \"surprise\", \"sadness\", \"happy\", \"happy\", \"happy\", \"anger\", \"sadness\", \"happy\", \"happy\", \"sadness\", \"happy\", \"happy\", \"sadness\", \"sadness\", \"happy\", \"anger\", \"happy\", \"fear\", \"anger\", \"happy\", \"happy\", \"happy\", \"fear\", \"sadness\", \"happy\", \"fear\", \"sadness\", \"sadness\", \"anger\", \"sadness\", \"happy\", \"happy\", \"anger\", \"sadness\", \"sadness\", \"sadness\", \"sadness\", \"happy\", \"happy\", \"happy\", \"sadness\", \"happy\", \"happy\", \"happy\", \"sadness\", \"fear\", \"love\", \"fear\", \"fear\", \"fear\", \"anger\", \"anger\", \"sadness\", \"happy\", \"sadness\", \"sadness\", \"sadness\", \"sadness\", \"fear\", \"happy\", \"sadness\", \"happy\", \"fear\", \"fear\", \"sadness\", \"anger\", \"fear\", \"sadness\", \"sadness\", \"happy\", \"anger\", \"sadness\", \"sadness\", \"happy\", \"sadness\", \"fear\", \"anger\", \"anger\", \"happy\", \"happy\", \"sadness\", \"happy\", \"happy\", \"sadness\", \"sadness\", \"happy\", \"sadness\", \"fear\", \"happy\", \"sadness\", \"sadness\", \"sadness\", \"fear\", \"happy\", \"surprise\", \"sadness\", \"happy\", \"love\", \"happy\", \"anger\", \"surprise\", \"happy\", \"happy\", \"sadness\", \"sadness\", \"happy\", \"happy\", \"fear\", \"happy\", \"anger\", \"happy\", \"happy\", \"happy\", \"fear\", \"happy\", \"anger\", \"happy\", \"anger\", \"sadness\", \"happy\", \"sadness\", \"sadness\", \"happy\", \"fear\", \"happy\", \"happy\", \"fear\", \"sadness\", \"sadness\", \"love\", \"sadness\", \"anger\", \"sadness\", \"sadness\", \"anger\", \"anger\", \"sadness\", \"love\", \"sadness\", \"love\", \"happy\", \"sadness\", \"happy\", \"love\", \"fear\", \"happy\", \"fear\", \"happy\", \"anger\", \"happy\", \"sadness\", \"happy\", \"happy\", \"fear\", \"surprise\", \"sadness\", \"happy\", \"sadness\", \"surprise\", \"sadness\", \"sadness\", \"sadness\", \"sadness\", \"happy\", \"fear\", \"sadness\", \"sadness\", \"anger\", \"happy\", \"sadness\", \"love\", \"fear\", \"anger\", \"sadness\", \"fear\", \"sadness\", \"happy\", \"happy\", \"happy\", \"surprise\", \"happy\", \"sadness\", \"happy\", \"anger\", \"happy\", \"happy\", \"anger\", \"anger\", \"sadness\", \"surprise\", \"fear\", \"surprise\", \"happy\", \"fear\", \"sadness\", \"love\", \"happy\", \"happy\", \"anger\", \"sadness\", \"love\", \"sadness\", \"sadness\", \"happy\", \"anger\", \"sadness\", \"sadness\", \"anger\", \"surprise\", \"happy\", \"anger\", \"sadness\", \"anger\", \"anger\", \"sadness\", \"happy\", \"surprise\", \"fear\", \"happy\", \"happy\", \"fear\", \"happy\", \"anger\", \"sadness\", \"sadness\", \"happy\", \"happy\", \"sadness\", \"happy\", \"sadness\", \"fear\", \"anger\", \"sadness\", \"happy\", \"anger\", \"anger\", \"love\", \"happy\", \"happy\", \"happy\", \"happy\", \"anger\", \"happy\", \"happy\", \"sadness\", \"happy\", \"happy\", \"happy\", \"happy\", \"fear\", \"sadness\", \"sadness\", \"sadness\", \"happy\", \"happy\", \"sadness\", \"sadness\", \"happy\", \"happy\", \"love\", \"sadness\", \"anger\", \"sadness\", \"love\", \"happy\", \"sadness\", \"happy\", \"sadness\", \"happy\", \"anger\", \"happy\", \"sadness\", \"sadness\", \"sadness\", \"surprise\", \"anger\", \"happy\", \"sadness\", \"sadness\", \"anger\", \"happy\", \"happy\", \"sadness\", \"fear\", \"happy\", \"love\", \"sadness\", \"anger\", \"fear\", \"fear\", \"love\", \"sadness\", \"love\", \"happy\", \"love\", \"sadness\", \"sadness\", \"happy\", \"love\", \"fear\", \"sadness\", \"happy\", \"happy\", \"sadness\", \"sadness\", \"love\", \"happy\", \"fear\", \"fear\", \"anger\", \"happy\", \"fear\", \"fear\", \"surprise\", \"sadness\", \"happy\", \"fear\", \"happy\", \"fear\", \"happy\", \"sadness\", \"love\", \"happy\", \"happy\", \"anger\", \"sadness\", \"happy\", \"happy\", \"anger\", \"sadness\", \"sadness\", \"happy\", \"happy\", \"fear\", \"happy\", \"fear\", \"happy\", \"happy\", \"happy\", \"fear\", \"happy\", \"anger\", \"anger\", \"happy\", \"fear\", \"sadness\", \"happy\", \"sadness\", \"sadness\", \"anger\", \"sadness\", \"anger\", \"sadness\", \"sadness\", \"happy\", \"sadness\", \"fear\", \"sadness\", \"love\", \"fear\", \"happy\", \"sadness\", \"fear\", \"love\", \"happy\", \"fear\", \"sadness\", \"sadness\", \"sadness\", \"happy\", \"happy\", \"happy\", \"happy\", \"sadness\", \"anger\", \"fear\", \"happy\", \"happy\", \"happy\", \"sadness\", \"surprise\", \"fear\", \"happy\", \"happy\", \"sadness\", \"happy\", \"love\", \"happy\", \"sadness\", \"fear\", \"happy\", \"anger\", \"happy\", \"happy\", \"anger\", \"fear\", \"love\", \"surprise\", \"anger\", \"happy\", \"sadness\", \"sadness\", \"sadness\", \"sadness\", \"sadness\", \"anger\", \"surprise\", \"fear\", \"happy\", \"sadness\", \"sadness\", \"happy\", \"sadness\", \"happy\", \"love\", \"anger\", \"sadness\", \"fear\", \"sadness\", \"happy\", \"sadness\", \"love\", \"happy\", \"sadness\", \"love\", \"love\", \"sadness\", \"fear\", \"happy\", \"happy\", \"love\", \"happy\", \"happy\", \"sadness\", \"happy\", \"sadness\", \"love\", \"love\", \"anger\", \"sadness\", \"happy\", \"sadness\", \"fear\", \"happy\", \"sadness\", \"happy\", \"fear\", \"sadness\", \"happy\", \"surprise\", \"surprise\", \"happy\", \"sadness\", \"anger\", \"fear\", \"anger\", \"sadness\", \"sadness\", \"surprise\", \"happy\", \"sadness\", \"anger\", \"sadness\", \"fear\", \"love\", \"happy\", \"happy\", \"surprise\", \"happy\", \"sadness\", \"anger\", \"fear\", \"sadness\", \"happy\", \"happy\", \"fear\", \"happy\", \"happy\", \"happy\", \"sadness\", \"anger\", \"happy\", \"anger\", \"sadness\", \"happy\", \"sadness\", \"sadness\", \"fear\", \"love\", \"fear\", \"happy\", \"happy\", \"happy\", \"happy\", \"fear\", \"anger\", \"surprise\", \"happy\", \"sadness\", \"sadness\", \"happy\", \"fear\", \"sadness\", \"happy\", \"sadness\", \"happy\", \"sadness\", \"happy\", \"happy\", \"happy\", \"love\", \"fear\", \"happy\", \"sadness\", \"sadness\", \"surprise\", \"love\", \"fear\", \"anger\", \"anger\", \"sadness\", \"sadness\", \"happy\", \"love\", \"happy\", \"love\", \"happy\", \"fear\", \"sadness\", \"love\", \"sadness\", \"sadness\", \"sadness\", \"sadness\", \"anger\", \"sadness\", \"sadness\", \"happy\", \"sadness\", \"sadness\", \"sadness\", \"love\", \"anger\", \"anger\", \"sadness\", \"sadness\", \"happy\", \"fear\", \"anger\", \"sadness\", \"happy\", \"happy\", \"surprise\", \"love\", \"happy\", \"anger\", \"happy\", \"happy\", \"sadness\", \"surprise\", \"sadness\", \"happy\", \"surprise\", \"anger\", \"happy\", \"sadness\", \"happy\", \"love\", \"happy\", \"happy\", \"fear\", \"surprise\", \"happy\", \"fear\", \"happy\", \"anger\", \"fear\", \"happy\", \"sadness\", \"sadness\", \"sadness\", \"happy\", \"anger\", \"happy\", \"love\", \"sadness\", \"sadness\", \"happy\", \"anger\", \"sadness\", \"happy\", \"happy\", \"surprise\", \"sadness\", \"happy\", \"sadness\", \"sadness\", \"love\", \"anger\", \"anger\", \"happy\", \"surprise\", \"anger\", \"love\", \"love\", \"anger\", \"sadness\", \"anger\", \"sadness\", \"anger\", \"happy\", \"sadness\", \"fear\", \"happy\", \"love\", \"fear\", \"happy\", \"happy\", \"happy\", \"happy\", \"sadness\", \"sadness\", \"fear\", \"happy\", \"anger\", \"sadness\", \"sadness\", \"anger\", \"sadness\", \"anger\", \"sadness\", \"fear\", \"surprise\", \"sadness\", \"happy\", \"happy\", \"happy\", \"anger\", \"sadness\", \"happy\", \"sadness\", \"happy\", \"happy\", \"sadness\", \"fear\", \"sadness\", \"happy\", \"surprise\", \"happy\", \"love\", \"happy\", \"fear\", \"anger\", \"sadness\", \"happy\", \"happy\", \"happy\", \"anger\", \"sadness\", \"sadness\", \"anger\", \"fear\", \"sadness\", \"anger\", \"sadness\", \"sadness\", \"anger\", \"happy\", \"surprise\", \"sadness\", \"fear\", \"sadness\", \"fear\", \"fear\", \"fear\", \"sadness\", \"happy\", \"love\", \"happy\", \"happy\", \"sadness\", \"anger\", \"anger\", \"anger\", \"surprise\", \"happy\", \"surprise\", \"fear\", \"happy\", \"anger\", \"sadness\", \"fear\", \"happy\", \"fear\", \"happy\", \"love\", \"sadness\", \"sadness\", \"sadness\", \"sadness\", \"surprise\", \"sadness\", \"happy\", \"happy\", \"sadness\", \"happy\", \"happy\", \"fear\", \"happy\", \"love\", \"anger\", \"fear\", \"happy\", \"sadness\", \"anger\", \"sadness\", \"love\", \"happy\", \"happy\", \"surprise\", \"anger\", \"sadness\", \"happy\", \"happy\", \"happy\", \"sadness\", \"happy\", \"love\", \"anger\", \"happy\", \"happy\", \"anger\", \"anger\", \"sadness\", \"love\", \"sadness\", \"happy\", \"happy\", \"anger\", \"happy\", \"happy\", \"sadness\", \"love\", \"love\", \"happy\", \"anger\", \"happy\", \"happy\", \"surprise\", \"sadness\", \"sadness\", \"happy\", \"anger\", \"sadness\", \"anger\", \"sadness\", \"happy\", \"happy\", \"happy\", \"happy\", \"sadness\", \"fear\", \"happy\", \"sadness\", \"sadness\", \"anger\", \"anger\", \"happy\", \"happy\", \"sadness\", \"fear\", \"sadness\", \"sadness\", \"anger\", \"fear\", \"anger\", \"anger\", \"happy\", \"sadness\", \"happy\", \"happy\", \"surprise\", \"fear\", \"happy\", \"sadness\", \"happy\", \"fear\", \"surprise\", \"anger\", \"happy\", \"sadness\", \"fear\", \"fear\", \"anger\", \"love\", \"happy\", \"anger\", \"happy\", \"sadness\", \"surprise\", \"sadness\", \"anger\", \"sadness\", \"surprise\", \"fear\", \"sadness\", \"sadness\", \"sadness\", \"anger\", \"sadness\", \"happy\", \"fear\", \"happy\", \"happy\", \"sadness\", \"sadness\", \"love\", \"anger\", \"happy\", \"sadness\", \"love\", \"sadness\", \"happy\", \"happy\", \"happy\", \"fear\", \"love\", \"happy\", \"happy\", \"fear\", \"happy\", \"anger\", \"sadness\", \"love\", \"sadness\", \"anger\", \"anger\", \"happy\", \"love\", \"sadness\", \"sadness\", \"happy\", \"sadness\", \"happy\", \"surprise\", \"happy\", \"anger\", \"fear\", \"anger\", \"happy\", \"sadness\", \"happy\", \"sadness\", \"anger\", \"fear\", \"sadness\", \"sadness\", \"sadness\", \"anger\", \"happy\", \"fear\", \"anger\", \"sadness\", \"anger\", \"happy\", \"sadness\", \"fear\", \"fear\", \"happy\", \"sadness\", \"love\", \"surprise\", \"fear\", \"happy\", \"anger\", \"happy\", \"happy\", \"sadness\", \"happy\", \"happy\", \"happy\", \"sadness\", \"anger\", \"happy\", \"anger\", \"happy\", \"anger\", \"love\", \"love\", \"love\", \"surprise\", \"sadness\", \"happy\", \"happy\", \"sadness\", \"happy\", \"fear\", \"happy\", \"love\", \"happy\", \"sadness\", \"sadness\", \"happy\", \"fear\", \"happy\", \"sadness\", \"happy\", \"fear\", \"sadness\", \"happy\", \"sadness\", \"surprise\", \"happy\", \"fear\", \"happy\", \"sadness\", \"sadness\", \"sadness\", \"sadness\", \"sadness\", \"fear\", \"happy\", \"happy\", \"anger\", \"fear\", \"anger\", \"happy\", \"happy\", \"happy\", \"anger\", \"anger\", \"sadness\", \"sadness\", \"sadness\", \"anger\", \"love\", \"sadness\", \"anger\", \"happy\", \"anger\", \"sadness\", \"happy\", \"happy\", \"happy\", \"happy\", \"sadness\", \"happy\", \"sadness\", \"sadness\", \"happy\", \"sadness\", \"happy\", \"fear\", \"happy\", \"anger\", \"happy\", \"sadness\", \"sadness\", \"surprise\", \"happy\", \"happy\", \"happy\", \"anger\", \"happy\", \"anger\", \"happy\", \"happy\", \"happy\", \"happy\", \"surprise\", \"sadness\", \"happy\", \"love\", \"happy\", \"sadness\", \"sadness\", \"surprise\", \"anger\", \"anger\", \"love\", \"happy\", \"anger\", \"anger\", \"anger\", \"fear\", \"sadness\", \"fear\", \"happy\", \"fear\", \"love\", \"happy\", \"anger\", \"sadness\", \"love\", \"sadness\", \"surprise\", \"sadness\", \"happy\", \"happy\", \"sadness\", \"happy\", \"happy\", \"sadness\", \"happy\", \"happy\", \"fear\", \"happy\", \"happy\", \"anger\", \"happy\", \"happy\", \"sadness\", \"sadness\", \"sadness\", \"happy\", \"sadness\", \"sadness\", \"fear\", \"fear\", \"love\", \"happy\", \"happy\", \"happy\", \"fear\", \"sadness\", \"anger\", \"sadness\", \"sadness\", \"sadness\", \"happy\", \"sadness\", \"sadness\", \"sadness\", \"sadness\", \"sadness\", \"happy\", \"happy\", \"anger\", \"anger\", \"anger\", \"sadness\", \"anger\", \"happy\", \"sadness\", \"sadness\", \"fear\", \"sadness\", \"happy\", \"happy\", \"anger\", \"sadness\", \"fear\", \"fear\", \"sadness\", \"love\", \"sadness\", \"happy\", \"sadness\", \"sadness\", \"fear\", \"surprise\", \"sadness\", \"happy\", \"surprise\", \"anger\", \"sadness\", \"anger\", \"anger\", \"sadness\", \"anger\", \"surprise\", \"happy\", \"happy\", \"sadness\", \"sadness\", \"happy\", \"happy\", \"happy\", \"sadness\", \"happy\", \"happy\", \"happy\", \"sadness\", \"sadness\", \"happy\", \"love\", \"happy\", \"fear\", \"sadness\", \"happy\", \"happy\", \"sadness\", \"anger\", \"happy\", \"happy\", \"happy\", \"sadness\", \"sadness\", \"happy\", \"sadness\", \"happy\", \"happy\", \"sadness\", \"sadness\", \"sadness\", \"happy\", \"anger\", \"surprise\", \"fear\", \"happy\", \"fear\", \"sadness\", \"happy\", \"sadness\", \"sadness\", \"sadness\", \"happy\", \"fear\", \"happy\", \"sadness\", \"happy\", \"happy\", \"happy\", \"sadness\", \"sadness\", \"happy\", \"happy\", \"fear\", \"happy\", \"anger\", \"anger\", \"happy\", \"sadness\", \"happy\", \"sadness\", \"sadness\", \"sadness\", \"sadness\", \"happy\", \"fear\", \"sadness\", \"sadness\", \"sadness\", \"anger\", \"happy\", \"love\", \"love\", \"happy\", \"sadness\", \"sadness\", \"love\", \"sadness\", \"anger\", \"sadness\", \"fear\", \"happy\", \"sadness\", \"sadness\", \"love\", \"sadness\", \"happy\", \"sadness\", \"anger\", \"surprise\", \"happy\", \"surprise\", \"fear\", \"happy\", \"fear\", \"sadness\", \"anger\", \"happy\", \"happy\", \"happy\", \"anger\", \"fear\", \"happy\", \"sadness\", \"anger\", \"sadness\", \"happy\", \"sadness\", \"happy\", \"happy\", \"happy\", \"anger\", \"sadness\", \"happy\", \"sadness\", \"sadness\", \"anger\", \"happy\", \"fear\", \"happy\", \"anger\", \"fear\", \"sadness\", \"anger\", \"happy\", \"anger\", \"happy\", \"happy\", \"sadness\", \"happy\", \"love\", \"surprise\", \"happy\", \"fear\", \"fear\", \"happy\", \"sadness\", \"happy\", \"happy\", \"happy\", \"love\", \"sadness\", \"love\", \"anger\", \"sadness\", \"sadness\", \"fear\", \"happy\", \"happy\", \"anger\", \"sadness\", \"happy\", \"fear\", \"fear\", \"love\", \"anger\", \"anger\", \"love\", \"sadness\", \"anger\", \"sadness\", \"love\", \"happy\", \"fear\", \"happy\", \"happy\", \"sadness\", \"happy\", \"happy\", \"anger\", \"happy\", \"happy\", \"happy\", \"happy\", \"anger\", \"happy\", \"anger\", \"sadness\", \"sadness\", \"sadness\", \"happy\", \"sadness\", \"anger\", \"sadness\", \"love\", \"anger\", \"happy\", \"sadness\", \"happy\", \"anger\", \"fear\", \"love\", \"anger\", \"happy\", \"happy\", \"sadness\", \"fear\", \"fear\", \"sadness\", \"sadness\", \"surprise\", \"happy\", \"sadness\", \"happy\", \"love\", \"anger\", \"sadness\", \"love\", \"sadness\", \"sadness\", \"surprise\", \"happy\", \"sadness\", \"sadness\", \"sadness\", \"anger\", \"sadness\", \"sadness\", \"happy\", \"anger\", \"sadness\", \"sadness\", \"fear\", \"sadness\", \"happy\", \"sadness\", \"happy\", \"anger\", \"happy\", \"sadness\", \"sadness\", \"anger\", \"sadness\", \"anger\", \"love\", \"happy\", \"fear\", \"sadness\", \"fear\", \"fear\", \"sadness\", \"fear\", \"love\", \"sadness\", \"surprise\", \"anger\", \"anger\", \"fear\", \"fear\", \"fear\", \"fear\", \"sadness\", \"happy\", \"sadness\", \"fear\", \"sadness\", \"anger\", \"happy\", \"sadness\", \"love\", \"happy\", \"sadness\", \"sadness\", \"anger\", \"sadness\", \"happy\", \"happy\", \"fear\", \"anger\", \"sadness\", \"sadness\", \"sadness\", \"sadness\", \"happy\", \"sadness\", \"happy\", \"happy\", \"sadness\", \"happy\", \"anger\", \"happy\", \"happy\", \"sadness\", \"sadness\", \"sadness\", \"anger\", \"fear\", \"sadness\", \"sadness\", \"anger\", \"happy\", \"happy\", \"happy\", \"sadness\", \"sadness\", \"sadness\", \"fear\", \"happy\", \"happy\", \"fear\", \"happy\", \"sadness\", \"happy\", \"happy\", \"happy\", \"anger\", \"surprise\", \"anger\", \"happy\", \"happy\", \"love\", \"sadness\", \"happy\", \"sadness\", \"love\", \"happy\", \"sadness\", \"anger\", \"love\", \"anger\", \"sadness\", \"sadness\", \"sadness\", \"happy\", \"happy\", \"happy\", \"fear\", \"love\", \"happy\", \"happy\", \"love\", \"anger\", \"happy\", \"fear\", \"sadness\", \"love\", \"happy\", \"happy\", \"happy\", \"surprise\", \"sadness\", \"happy\", \"sadness\", \"sadness\", \"happy\", \"sadness\", \"happy\", \"happy\", \"fear\", \"sadness\", \"sadness\", \"sadness\", \"happy\", \"happy\", \"sadness\", \"happy\", \"happy\", \"happy\", \"happy\", \"sadness\", \"love\", \"anger\", \"happy\", \"love\", \"sadness\", \"happy\", \"anger\", \"sadness\", \"happy\", \"surprise\", \"fear\", \"love\", \"happy\", \"happy\", \"sadness\", \"anger\", \"sadness\", \"happy\", \"sadness\", \"happy\", \"fear\", \"fear\", \"happy\", \"happy\", \"fear\", \"anger\", \"happy\", \"happy\", \"sadness\", \"sadness\", \"anger\", \"sadness\", \"happy\", \"happy\", \"anger\", \"sadness\", \"happy\", \"happy\", \"sadness\", \"happy\", \"happy\", \"sadness\", \"anger\", \"happy\", \"anger\", \"anger\", \"sadness\", \"fear\", \"surprise\", \"fear\", \"happy\", \"sadness\", \"sadness\", \"happy\", \"sadness\", \"sadness\", \"love\", \"fear\", \"love\", \"fear\", \"sadness\", \"happy\", \"sadness\", \"happy\", \"sadness\", \"love\", \"happy\", \"sadness\", \"sadness\", \"anger\", \"happy\", \"anger\", \"fear\", \"sadness\", \"sadness\", \"sadness\", \"love\", \"happy\", \"happy\", \"sadness\", \"fear\", \"sadness\", \"anger\", \"sadness\", \"happy\", \"love\", \"happy\", \"happy\", \"anger\", \"happy\", \"fear\", \"sadness\", \"happy\", \"happy\", \"fear\", \"anger\", \"fear\", \"happy\", \"sadness\", \"sadness\", \"fear\", \"sadness\", \"sadness\", \"happy\", \"surprise\", \"fear\", \"fear\", \"happy\", \"sadness\", \"happy\", \"fear\", \"sadness\", \"fear\", \"sadness\", \"anger\", \"happy\", \"anger\", \"happy\", \"love\", \"love\", \"happy\", \"happy\", \"happy\", \"sadness\", \"sadness\", \"love\", \"fear\", \"happy\", \"sadness\", \"anger\", \"fear\", \"happy\", \"sadness\", \"happy\", \"happy\", \"sadness\", \"fear\", \"sadness\", \"happy\", \"sadness\", \"anger\", \"fear\", \"fear\", \"fear\", \"sadness\", \"love\", \"surprise\", \"anger\", \"love\", \"anger\", \"sadness\", \"sadness\", \"happy\", \"happy\", \"sadness\", \"love\", \"fear\", \"fear\", \"happy\", \"fear\", \"sadness\", \"fear\", \"love\", \"sadness\", \"fear\", \"sadness\", \"anger\", \"anger\", \"sadness\", \"sadness\", \"sadness\", \"fear\", \"happy\", \"anger\", \"happy\", \"fear\", \"sadness\", \"happy\", \"fear\", \"love\", \"fear\", \"sadness\", \"happy\", \"fear\", \"happy\", \"surprise\", \"happy\", \"happy\", \"happy\", \"sadness\", \"happy\", \"happy\", \"happy\", \"sadness\", \"anger\", \"anger\", \"happy\", \"surprise\", \"anger\", \"happy\", \"fear\", \"love\", \"sadness\", \"anger\", \"surprise\", \"sadness\", \"happy\", \"anger\", \"happy\", \"anger\", \"sadness\", \"happy\", \"fear\", \"sadness\", \"surprise\", \"happy\", \"anger\", \"sadness\", \"happy\", \"anger\", \"sadness\", \"sadness\", \"love\", \"anger\", \"sadness\", \"anger\", \"sadness\", \"fear\", \"anger\", \"sadness\", \"happy\", \"love\", \"anger\", \"fear\", \"happy\", \"love\", \"sadness\", \"anger\", \"sadness\", \"happy\", \"happy\", \"sadness\", \"fear\", \"love\", \"fear\", \"happy\", \"love\", \"love\", \"happy\", \"love\", \"happy\", \"happy\", \"happy\", \"sadness\", \"anger\", \"sadness\", \"happy\", \"sadness\", \"happy\", \"fear\", \"happy\", \"sadness\", \"sadness\", \"sadness\", \"sadness\", \"love\", \"surprise\", \"happy\", \"happy\", \"sadness\", \"sadness\", \"anger\", \"love\", \"happy\", \"happy\", \"sadness\", \"surprise\", \"fear\", \"love\", \"happy\", \"happy\", \"fear\", \"sadness\", \"happy\", \"sadness\", \"anger\", \"sadness\", \"sadness\", \"sadness\", \"happy\", \"sadness\", \"fear\", \"sadness\", \"happy\", \"happy\", \"happy\", \"happy\", \"happy\", \"happy\", \"happy\", \"happy\", \"sadness\", \"anger\", \"anger\", \"sadness\", \"happy\", \"happy\", \"love\", \"anger\", \"love\", \"anger\", \"happy\", \"sadness\", \"love\", \"sadness\", \"sadness\", \"sadness\", \"sadness\", \"anger\", \"happy\", \"happy\", \"sadness\", \"happy\", \"happy\", \"fear\", \"sadness\", \"happy\", \"happy\", \"sadness\", \"fear\", \"love\", \"happy\", \"happy\", \"fear\", \"sadness\", \"love\", \"fear\", \"fear\", \"fear\", \"sadness\", \"love\", \"happy\", \"happy\", \"sadness\", \"love\", \"happy\", \"fear\", \"happy\", \"happy\", \"happy\", \"happy\", \"anger\", \"fear\", \"sadness\", \"sadness\", \"sadness\", \"anger\", \"happy\", \"happy\", \"fear\", \"happy\", \"fear\", \"anger\", \"sadness\", \"sadness\", \"happy\", \"fear\", \"happy\", \"happy\", \"sadness\", \"happy\", \"sadness\", \"sadness\", \"love\", \"happy\", \"sadness\", \"sadness\", \"anger\", \"happy\", \"surprise\", \"sadness\", \"sadness\", \"sadness\", \"happy\", \"sadness\", \"happy\", \"happy\", \"sadness\", \"sadness\", \"love\", \"happy\", \"happy\", \"happy\", \"happy\", \"love\", \"anger\", \"happy\", \"happy\", \"fear\", \"happy\", \"sadness\", \"happy\", \"happy\", \"happy\", \"sadness\", \"happy\", \"sadness\", \"sadness\", \"fear\", \"happy\", \"happy\", \"happy\", \"anger\", \"happy\", \"fear\", \"happy\", \"anger\", \"love\", \"sadness\", \"sadness\", \"happy\", \"happy\", \"anger\", \"sadness\", \"happy\", \"fear\", \"happy\", \"anger\", \"anger\", \"sadness\", \"sadness\", \"happy\", \"sadness\", \"sadness\", \"anger\", \"happy\", \"anger\", \"sadness\", \"sadness\", \"sadness\", \"sadness\", \"anger\", \"happy\", \"sadness\", \"sadness\", \"happy\", \"happy\", \"happy\", \"sadness\", \"sadness\", \"surprise\", \"sadness\", \"sadness\", \"sadness\", \"anger\", \"happy\", \"happy\", \"sadness\", \"sadness\", \"happy\", \"sadness\", \"sadness\", \"sadness\", \"sadness\", \"fear\", \"love\", \"anger\", \"happy\", \"surprise\", \"surprise\", \"fear\", \"sadness\", \"anger\", \"happy\", \"sadness\", \"fear\", \"sadness\", \"fear\", \"surprise\", \"fear\", \"sadness\", \"sadness\", \"anger\", \"sadness\", \"sadness\", \"love\", \"anger\", \"happy\", \"happy\", \"happy\", \"fear\", \"sadness\", \"sadness\", \"happy\", \"sadness\", \"happy\", \"happy\", \"sadness\", \"fear\", \"sadness\", \"happy\", \"anger\", \"sadness\", \"fear\", \"fear\", \"fear\", \"happy\", \"sadness\", \"happy\", \"sadness\", \"sadness\", \"happy\", \"sadness\", \"sadness\", \"happy\", \"happy\", \"fear\", \"love\", \"happy\", \"happy\", \"sadness\", \"sadness\", \"anger\", \"sadness\", \"happy\", \"happy\", \"happy\", \"happy\", \"fear\", \"happy\", \"sadness\", \"sadness\", \"surprise\", \"happy\", \"love\", \"anger\", \"fear\", \"anger\", \"anger\", \"happy\", \"sadness\", \"happy\", \"surprise\", \"happy\", \"happy\", \"sadness\", \"sadness\", \"love\", \"happy\", \"sadness\", \"love\", \"sadness\", \"fear\", \"happy\", \"sadness\", \"happy\", \"happy\", \"happy\", \"happy\", \"sadness\", \"sadness\", \"anger\", \"happy\", \"sadness\", \"sadness\", \"sadness\", \"love\", \"sadness\", \"love\", \"fear\", \"sadness\", \"happy\", \"anger\", \"anger\", \"fear\", \"happy\", \"love\", \"happy\", \"fear\", \"surprise\", \"sadness\", \"happy\", \"fear\", \"fear\", \"anger\", \"sadness\", \"sadness\", \"fear\", \"happy\", \"happy\", \"sadness\", \"sadness\", \"anger\", \"love\", \"happy\", \"fear\", \"love\", \"happy\", \"anger\", \"happy\", \"anger\", \"happy\", \"sadness\", \"anger\", \"fear\", \"happy\", \"sadness\", \"love\", \"love\", \"happy\", \"sadness\", \"anger\", \"happy\", \"happy\", \"sadness\", \"happy\", \"anger\", \"fear\", \"anger\", \"surprise\", \"anger\", \"surprise\", \"sadness\", \"fear\", \"love\", \"love\", \"anger\", \"love\", \"love\", \"happy\", \"sadness\", \"sadness\", \"love\", \"sadness\", \"sadness\", \"anger\", \"surprise\", \"sadness\", \"happy\", \"fear\", \"surprise\", \"sadness\", \"anger\", \"love\", \"sadness\", \"fear\", \"sadness\", \"anger\", \"happy\", \"sadness\", \"sadness\", \"love\", \"sadness\", \"love\", \"happy\", \"fear\", \"love\", \"happy\", \"love\", \"sadness\", \"sadness\", \"sadness\", \"fear\", \"happy\", \"fear\", \"fear\", \"love\", \"happy\", \"sadness\", \"fear\", \"sadness\", \"happy\", \"fear\", \"sadness\", \"sadness\", \"anger\", \"happy\", \"happy\", \"happy\", \"love\", \"love\", \"happy\", \"sadness\", \"happy\", \"happy\", \"anger\", \"happy\", \"happy\", \"sadness\", \"happy\", \"love\", \"sadness\", \"happy\", \"sadness\", \"happy\", \"sadness\", \"anger\", \"happy\", \"happy\", \"happy\", \"sadness\", \"happy\", \"sadness\", \"happy\", \"happy\", \"fear\", \"sadness\", \"fear\", \"sadness\", \"anger\", \"sadness\", \"sadness\", \"fear\", \"sadness\", \"fear\", \"happy\", \"sadness\", \"fear\", \"anger\", \"sadness\", \"surprise\", \"happy\", \"anger\", \"happy\", \"anger\", \"happy\", \"surprise\", \"sadness\", \"happy\", \"happy\", \"fear\", \"love\", \"love\", \"happy\", \"sadness\", \"sadness\", \"happy\", \"fear\", \"happy\", \"anger\", \"sadness\", \"fear\", \"anger\", \"sadness\", \"anger\", \"sadness\", \"happy\", \"happy\", \"anger\", \"happy\", \"fear\", \"love\", \"sadness\", \"love\", \"happy\", \"sadness\", \"anger\", \"happy\", \"sadness\", \"fear\", \"happy\", \"happy\", \"anger\", \"fear\", \"happy\", \"happy\", \"anger\", \"happy\", \"happy\", \"happy\", \"anger\", \"fear\", \"anger\", \"happy\", \"happy\", \"happy\", \"happy\", \"anger\", \"surprise\", \"happy\", \"happy\", \"happy\", \"sadness\", \"happy\", \"anger\", \"happy\", \"happy\", \"sadness\", \"anger\", \"sadness\", \"happy\", \"anger\", \"happy\", \"happy\", \"sadness\", \"happy\", \"happy\", \"happy\", \"happy\", \"happy\", \"anger\", \"fear\", \"fear\", \"fear\", \"sadness\", \"sadness\", \"love\", \"love\", \"fear\", \"fear\", \"sadness\", \"happy\", \"happy\", \"happy\", \"fear\", \"sadness\", \"anger\", \"anger\", \"sadness\", \"anger\", \"sadness\", \"sadness\", \"happy\", \"sadness\", \"sadness\", \"fear\", \"sadness\", \"anger\", \"love\", \"sadness\", \"sadness\", \"happy\", \"love\", \"sadness\", \"sadness\", \"anger\", \"sadness\", \"happy\", \"happy\", \"sadness\", \"happy\", \"happy\", \"love\", \"anger\", \"happy\", \"sadness\", \"sadness\", \"love\", \"fear\", \"surprise\", \"sadness\", \"anger\", \"happy\", \"sadness\", \"sadness\", \"anger\", \"love\", \"anger\", \"sadness\", \"happy\", \"love\", \"sadness\", \"sadness\", \"happy\", \"happy\", \"fear\", \"sadness\", \"happy\", \"happy\", \"anger\", \"fear\", \"fear\", \"happy\", \"happy\", \"happy\", \"sadness\", \"surprise\", \"fear\", \"anger\", \"anger\", \"anger\", \"sadness\", \"sadness\", \"happy\", \"sadness\", \"sadness\", \"sadness\", \"sadness\", \"sadness\", \"surprise\", \"sadness\", \"anger\", \"anger\", \"sadness\", \"happy\", \"happy\", \"happy\", \"surprise\", \"fear\", \"happy\", \"anger\", \"happy\", \"anger\", \"love\", \"happy\", \"sadness\", \"sadness\", \"happy\", \"sadness\", \"sadness\", \"love\", \"fear\", \"sadness\", \"happy\", \"happy\", \"sadness\", \"happy\", \"sadness\", \"happy\", \"love\", \"fear\", \"happy\", \"fear\", \"sadness\", \"happy\", \"happy\", \"love\", \"love\", \"sadness\", \"happy\", \"happy\", \"sadness\", \"sadness\", \"happy\", \"anger\", \"happy\", \"fear\", \"anger\", \"happy\", \"fear\", \"anger\", \"happy\", \"happy\", \"fear\", \"fear\", \"sadness\", \"anger\", \"anger\", \"sadness\", \"love\", \"fear\", \"happy\", \"anger\", \"happy\", \"fear\", \"happy\", \"fear\", \"fear\", \"sadness\", \"happy\", \"happy\", \"happy\", \"happy\", \"anger\", \"sadness\", \"happy\", \"sadness\", \"anger\", \"happy\", \"anger\", \"happy\", \"happy\", \"happy\", \"happy\", \"anger\", \"happy\", \"fear\", \"happy\", \"happy\", \"anger\", \"sadness\", \"sadness\", \"love\", \"anger\", \"sadness\", \"happy\", \"happy\", \"happy\", \"sadness\", \"surprise\", \"fear\", \"happy\", \"sadness\", \"sadness\", \"sadness\", \"happy\", \"surprise\", \"sadness\", \"happy\", \"sadness\", \"surprise\", \"sadness\", \"happy\", \"anger\", \"happy\", \"surprise\", \"happy\", \"happy\", \"happy\", \"anger\", \"happy\", \"sadness\", \"happy\", \"surprise\", \"surprise\", \"happy\", \"happy\", \"sadness\", \"happy\", \"sadness\", \"fear\", \"fear\", \"sadness\", \"happy\", \"sadness\", \"sadness\", \"fear\", \"sadness\", \"happy\", \"happy\", \"happy\", \"happy\", \"happy\", \"happy\", \"surprise\", \"fear\", \"love\", \"fear\", \"sadness\", \"happy\", \"sadness\", \"fear\", \"sadness\", \"anger\", \"sadness\", \"sadness\", \"sadness\", \"sadness\", \"sadness\", \"happy\", \"love\", \"happy\", \"happy\", \"sadness\", \"fear\", \"happy\", \"happy\", \"love\", \"love\", \"sadness\", \"happy\", \"surprise\", \"love\", \"sadness\", \"happy\", \"happy\", \"sadness\", \"anger\", \"happy\", \"anger\", \"happy\", \"happy\", \"fear\", \"fear\", \"sadness\", \"sadness\", \"fear\", \"happy\", \"anger\", \"sadness\", \"sadness\", \"happy\", \"fear\", \"sadness\", \"happy\", \"happy\", \"sadness\", \"love\", \"love\", \"happy\", \"happy\", \"surprise\", \"anger\", \"surprise\", \"happy\", \"happy\", \"surprise\", \"sadness\", \"surprise\", \"sadness\", \"sadness\", \"fear\", \"sadness\", \"love\", \"sadness\", \"happy\", \"happy\", \"sadness\", \"anger\", \"sadness\", \"fear\", \"fear\", \"happy\", \"anger\", \"happy\", \"happy\", \"sadness\", \"happy\", \"love\", \"happy\", \"love\", \"anger\", \"happy\", \"fear\", \"sadness\", \"happy\", \"happy\", \"love\", \"sadness\", \"happy\", \"sadness\", \"fear\", \"happy\", \"happy\", \"happy\", \"sadness\", \"anger\", \"sadness\", \"fear\", \"happy\", \"love\", \"anger\", \"sadness\", \"sadness\", \"happy\", \"sadness\", \"sadness\", \"fear\", \"anger\", \"sadness\", \"happy\", \"happy\", \"happy\", \"love\", \"anger\", \"happy\", \"fear\", \"anger\", \"fear\", \"happy\", \"happy\", \"happy\", \"anger\", \"sadness\", \"sadness\", \"sadness\", \"fear\", \"happy\", \"fear\", \"happy\", \"sadness\", \"happy\", \"love\", \"happy\", \"happy\", \"happy\", \"happy\", \"happy\", \"happy\", \"happy\", \"sadness\", \"anger\", \"sadness\", \"love\", \"sadness\", \"love\", \"sadness\", \"happy\", \"sadness\", \"fear\", \"happy\", \"anger\", \"happy\", \"fear\", \"anger\", \"sadness\", \"sadness\", \"sadness\", \"sadness\", \"happy\", \"happy\", \"happy\", \"sadness\", \"happy\", \"happy\", \"anger\", \"sadness\", \"happy\", \"happy\", \"fear\", \"anger\", \"sadness\", \"sadness\", \"sadness\", \"sadness\", \"sadness\", \"anger\", \"happy\", \"sadness\", \"happy\", \"sadness\", \"sadness\", \"sadness\", \"sadness\", \"happy\", \"happy\", \"fear\", \"sadness\", \"love\", \"anger\", \"anger\", \"happy\", \"sadness\", \"sadness\", \"happy\", \"anger\", \"love\", \"happy\", \"fear\", \"happy\", \"anger\", \"happy\", \"happy\", \"happy\", \"sadness\", \"sadness\", \"sadness\", \"anger\", \"happy\", \"love\", \"happy\", \"happy\", \"anger\", \"surprise\", \"happy\", \"sadness\", \"happy\", \"happy\", \"fear\", \"surprise\", \"sadness\", \"sadness\", \"happy\", \"anger\", \"fear\", \"happy\", \"happy\", \"sadness\", \"happy\", \"surprise\", \"sadness\", \"surprise\", \"love\", \"love\", \"happy\", \"sadness\", \"fear\", \"sadness\", \"surprise\", \"sadness\", \"happy\", \"surprise\", \"sadness\", \"love\", \"happy\", \"happy\", \"happy\", \"happy\", \"happy\", \"happy\", \"sadness\", \"love\", \"happy\", \"sadness\", \"surprise\", \"fear\", \"anger\", \"sadness\", \"happy\", \"happy\", \"sadness\", \"anger\", \"love\", \"sadness\", \"sadness\", \"fear\", \"happy\", \"happy\", \"anger\", \"fear\", \"sadness\", \"sadness\", \"sadness\", \"love\", \"sadness\", \"happy\", \"fear\", \"happy\", \"happy\", \"sadness\", \"sadness\", \"happy\", \"love\", \"sadness\", \"happy\", \"sadness\", \"sadness\", \"anger\", \"fear\", \"sadness\", \"fear\", \"fear\", \"happy\", \"fear\", \"sadness\", \"anger\", \"happy\", \"happy\", \"sadness\", \"happy\", \"happy\", \"fear\", \"anger\", \"sadness\", \"anger\", \"love\", \"sadness\", \"fear\", \"fear\", \"fear\", \"happy\", \"love\", \"fear\", \"anger\", \"happy\", \"anger\", \"happy\", \"love\", \"sadness\", \"happy\", \"fear\", \"fear\", \"happy\", \"happy\", \"sadness\", \"happy\", \"happy\", \"fear\", \"anger\", \"sadness\", \"anger\", \"fear\", \"happy\", \"sadness\", \"love\", \"happy\", \"sadness\", \"happy\", \"love\", \"sadness\", \"happy\", \"happy\", \"sadness\", \"anger\", \"love\", \"happy\", \"anger\", \"sadness\", \"happy\", \"sadness\", \"happy\", \"sadness\", \"happy\", \"sadness\", \"surprise\", \"anger\", \"happy\", \"happy\", \"happy\", \"anger\", \"sadness\", \"love\", \"sadness\", \"fear\", \"happy\", \"sadness\", \"happy\", \"fear\", \"happy\", \"happy\", \"fear\", \"fear\", \"anger\", \"sadness\", \"happy\", \"anger\", \"happy\", \"sadness\", \"sadness\", \"sadness\", \"happy\", \"happy\", \"happy\", \"love\", \"happy\", \"fear\", \"happy\", \"sadness\", \"love\", \"happy\", \"fear\", \"sadness\", \"happy\", \"sadness\", \"fear\", \"love\", \"anger\", \"sadness\", \"happy\", \"happy\", \"sadness\", \"happy\", \"sadness\", \"happy\", \"happy\", \"sadness\", \"sadness\", \"happy\", \"happy\", \"happy\", \"sadness\", \"happy\", \"sadness\", \"sadness\", \"sadness\", \"happy\", \"sadness\", \"happy\", \"happy\", \"fear\", \"sadness\", \"sadness\", \"happy\", \"anger\", \"sadness\", \"surprise\", \"love\", \"sadness\", \"fear\", \"surprise\", \"sadness\", \"anger\", \"happy\", \"fear\", \"anger\", \"sadness\", \"anger\", \"happy\", \"fear\", \"happy\", \"happy\", \"love\", \"happy\", \"sadness\", \"sadness\", \"happy\", \"happy\", \"fear\", \"happy\", \"happy\", \"sadness\", \"anger\", \"anger\", \"anger\", \"happy\", \"love\", \"sadness\", \"fear\", \"surprise\", \"sadness\", \"anger\", \"happy\", \"happy\", \"sadness\", \"happy\", \"sadness\", \"happy\", \"happy\", \"happy\", \"fear\", \"anger\", \"happy\", \"happy\", \"happy\", \"surprise\", \"fear\", \"fear\", \"sadness\", \"happy\", \"love\", \"love\", \"happy\", \"fear\", \"sadness\", \"sadness\", \"sadness\", \"sadness\", \"happy\", \"sadness\", \"happy\", \"sadness\", \"anger\", \"sadness\", \"love\", \"happy\", \"love\", \"fear\", \"sadness\", \"sadness\", \"happy\", \"happy\", \"love\", \"sadness\", \"happy\", \"love\", \"fear\", \"happy\", \"sadness\", \"happy\", \"happy\", \"happy\", \"fear\", \"sadness\", \"happy\", \"sadness\", \"happy\", \"happy\", \"fear\", \"sadness\", \"love\", \"sadness\", \"happy\", \"fear\", \"love\", \"sadness\", \"sadness\", \"sadness\", \"love\", \"love\", \"anger\", \"happy\", \"fear\", \"happy\", \"happy\", \"anger\", \"happy\", \"surprise\", \"sadness\", \"happy\", \"love\", \"fear\", \"sadness\", \"anger\", \"anger\", \"sadness\", \"sadness\", \"happy\", \"sadness\", \"sadness\", \"love\", \"sadness\", \"sadness\", \"happy\", \"sadness\", \"happy\", \"fear\", \"happy\", \"happy\", \"anger\", \"happy\", \"sadness\", \"happy\", \"anger\", \"surprise\", \"sadness\", \"happy\", \"anger\", \"happy\", \"sadness\", \"fear\", \"sadness\", \"sadness\", \"anger\", \"sadness\", \"anger\", \"happy\", \"happy\", \"happy\", \"anger\", \"fear\", \"fear\", \"sadness\", \"happy\", \"anger\", \"happy\", \"love\", \"sadness\", \"sadness\", \"happy\", \"happy\", \"anger\", \"sadness\", \"sadness\", \"happy\", \"sadness\", \"sadness\", \"happy\", \"sadness\", \"sadness\", \"happy\", \"sadness\", \"sadness\", \"fear\", \"sadness\", \"happy\", \"sadness\", \"love\", \"happy\", \"surprise\", \"anger\", \"sadness\", \"happy\", \"sadness\", \"surprise\", \"anger\", \"fear\", \"anger\", \"sadness\", \"love\", \"sadness\", \"anger\", \"happy\", \"happy\", \"fear\", \"love\", \"fear\", \"surprise\", \"sadness\", \"fear\", \"sadness\", \"happy\", \"sadness\", \"happy\", \"happy\", \"surprise\", \"anger\", \"sadness\", \"anger\", \"happy\", \"anger\", \"sadness\", \"sadness\", \"happy\", \"sadness\", \"surprise\", \"love\", \"anger\", \"sadness\", \"fear\", \"happy\", \"happy\", \"sadness\", \"sadness\", \"sadness\", \"happy\", \"happy\", \"sadness\", \"sadness\", \"fear\", \"fear\", \"fear\", \"sadness\", \"anger\", \"anger\", \"sadness\", \"anger\", \"sadness\", \"sadness\", \"sadness\", \"sadness\", \"happy\", \"sadness\", \"surprise\", \"happy\", \"anger\", \"love\", \"sadness\", \"anger\", \"anger\", \"happy\", \"happy\", \"anger\", \"happy\", \"sadness\", \"anger\", \"sadness\", \"anger\", \"sadness\", \"anger\", \"happy\", \"surprise\", \"surprise\", \"sadness\", \"sadness\", \"fear\", \"anger\", \"fear\", \"happy\", \"happy\", \"happy\", \"happy\", \"happy\", \"surprise\", \"happy\", \"anger\", \"sadness\", \"happy\", \"fear\", \"happy\", \"happy\", \"happy\", \"sadness\", \"fear\", \"sadness\", \"sadness\", \"happy\", \"happy\", \"anger\", \"sadness\", \"happy\", \"happy\", \"anger\", \"happy\", \"sadness\", \"happy\", \"sadness\", \"happy\", \"love\", \"anger\", \"love\", \"sadness\", \"sadness\", \"happy\", \"sadness\", \"sadness\", \"sadness\", \"sadness\", \"love\", \"happy\", \"sadness\", \"anger\", \"happy\", \"happy\", \"sadness\", \"sadness\", \"happy\", \"anger\", \"fear\", \"sadness\", \"love\", \"love\", \"anger\", \"happy\", \"sadness\", \"surprise\", \"surprise\", \"anger\", \"happy\", \"happy\", \"surprise\", \"happy\", \"love\", \"anger\", \"happy\", \"sadness\", \"anger\", \"happy\", \"happy\", \"love\", \"happy\", \"sadness\", \"happy\", \"happy\", \"love\", \"happy\", \"sadness\", \"anger\", \"fear\", \"happy\", \"happy\", \"happy\", \"anger\", \"surprise\", \"fear\", \"anger\", \"fear\", \"fear\", \"anger\", \"happy\", \"anger\", \"happy\", \"happy\", \"happy\", \"sadness\", \"anger\", \"fear\", \"happy\", \"happy\", \"happy\", \"sadness\", \"happy\", \"happy\", \"fear\", \"sadness\", \"happy\", \"happy\", \"anger\", \"surprise\", \"happy\", \"anger\", \"surprise\", \"sadness\", \"surprise\", \"sadness\", \"sadness\", \"happy\", \"sadness\", \"happy\", \"surprise\", \"fear\", \"sadness\", \"happy\", \"surprise\", \"sadness\", \"sadness\", \"happy\", \"happy\", \"happy\", \"happy\", \"happy\", \"anger\", \"happy\", \"happy\", \"love\", \"sadness\", \"happy\", \"happy\", \"happy\", \"sadness\", \"happy\", \"happy\", \"sadness\", \"happy\", \"sadness\", \"sadness\", \"sadness\", \"sadness\", \"sadness\", \"happy\", \"sadness\", \"love\", \"happy\", \"love\", \"sadness\", \"love\", \"surprise\", \"anger\", \"love\", \"fear\", \"sadness\", \"happy\", \"sadness\", \"fear\", \"fear\", \"fear\", \"sadness\", \"sadness\", \"sadness\", \"fear\", \"sadness\", \"sadness\", \"surprise\", \"love\", \"happy\", \"fear\", \"anger\", \"happy\", \"sadness\", \"happy\", \"happy\", \"fear\", \"anger\", \"anger\", \"love\", \"happy\", \"sadness\", \"sadness\", \"sadness\", \"surprise\", \"happy\", \"happy\", \"happy\", \"anger\", \"anger\", \"happy\", \"anger\", \"happy\", \"fear\", \"sadness\", \"sadness\", \"sadness\", \"sadness\", \"fear\", \"sadness\", \"sadness\", \"fear\", \"fear\", \"anger\", \"sadness\", \"sadness\", \"happy\", \"sadness\", \"happy\", \"fear\", \"happy\", \"sadness\", \"sadness\", \"fear\", \"sadness\", \"happy\", \"love\", \"sadness\", \"sadness\", \"happy\", \"happy\", \"happy\", \"anger\", \"happy\", \"sadness\", \"sadness\", \"happy\", \"fear\", \"surprise\", \"happy\", \"sadness\", \"sadness\", \"sadness\", \"sadness\", \"happy\", \"fear\", \"happy\", \"anger\", \"sadness\", \"sadness\", \"happy\", \"happy\", \"sadness\", \"anger\", \"fear\", \"happy\", \"anger\", \"fear\", \"anger\", \"happy\", \"happy\", \"happy\", \"happy\", \"sadness\", \"anger\", \"sadness\", \"sadness\", \"happy\", \"anger\", \"anger\", \"anger\", \"anger\", \"happy\", \"happy\", \"anger\", \"happy\", \"fear\", \"happy\", \"anger\", \"happy\", \"sadness\", \"happy\", \"sadness\", \"surprise\", \"fear\", \"happy\", \"surprise\", \"fear\", \"sadness\", \"love\", \"happy\", \"happy\", \"fear\", \"love\", \"happy\", \"surprise\", \"surprise\", \"happy\", \"sadness\", \"happy\", \"sadness\", \"sadness\", \"anger\", \"sadness\", \"happy\", \"happy\", \"sadness\", \"surprise\", \"happy\", \"love\", \"anger\", \"happy\", \"anger\", \"happy\", \"sadness\", \"happy\", \"sadness\", \"happy\", \"happy\", \"anger\", \"sadness\", \"love\", \"sadness\", \"anger\", \"happy\", \"happy\", \"sadness\", \"sadness\", \"sadness\", \"sadness\", \"fear\", \"sadness\", \"sadness\", \"happy\", \"happy\", \"fear\", \"sadness\", \"happy\", \"surprise\", \"love\", \"sadness\", \"love\", \"surprise\", \"sadness\", \"sadness\", \"happy\", \"fear\", \"happy\", \"happy\", \"happy\", \"love\", \"sadness\", \"sadness\", \"surprise\", \"fear\", \"happy\", \"sadness\", \"happy\", \"fear\", \"happy\", \"sadness\", \"happy\", \"sadness\", \"love\", \"fear\", \"fear\", \"sadness\", \"happy\", \"anger\", \"anger\", \"sadness\", \"anger\", \"happy\", \"happy\", \"happy\", \"happy\", \"sadness\", \"happy\", \"fear\", \"sadness\", \"anger\", \"anger\", \"sadness\", \"fear\", \"sadness\", \"happy\", \"happy\", \"happy\", \"happy\", \"happy\", \"fear\", \"happy\", \"fear\", \"surprise\", \"surprise\", \"sadness\", \"sadness\", \"happy\", \"happy\", \"sadness\", \"fear\", \"love\", \"happy\", \"sadness\", \"surprise\", \"fear\", \"happy\", \"sadness\", \"sadness\", \"sadness\", \"happy\", \"happy\", \"sadness\", \"love\", \"love\", \"love\", \"happy\", \"surprise\", \"love\", \"happy\", \"happy\", \"sadness\", \"surprise\", \"happy\", \"sadness\", \"happy\", \"happy\", \"sadness\", \"happy\", \"anger\", \"happy\", \"sadness\", \"sadness\", \"fear\", \"sadness\", \"fear\", \"happy\", \"happy\", \"fear\", \"sadness\", \"sadness\", \"anger\", \"anger\", \"sadness\", \"sadness\", \"happy\", \"fear\", \"sadness\", \"happy\", \"sadness\", \"sadness\", \"love\", \"anger\", \"fear\", \"sadness\", \"happy\", \"happy\", \"happy\", \"happy\", \"happy\", \"happy\", \"sadness\", \"sadness\", \"anger\", \"happy\", \"sadness\", \"sadness\", \"happy\", \"anger\", \"surprise\", \"surprise\", \"sadness\", \"happy\", \"happy\", \"sadness\", \"fear\", \"sadness\", \"anger\", \"happy\", \"happy\", \"sadness\", \"sadness\", \"surprise\", \"love\", \"happy\", \"love\", \"happy\", \"happy\", \"sadness\", \"anger\", \"love\", \"sadness\", \"anger\", \"sadness\", \"fear\", \"sadness\", \"anger\", \"happy\", \"love\", \"happy\", \"sadness\", \"happy\", \"surprise\", \"happy\", \"happy\", \"happy\", \"fear\", \"happy\", \"sadness\", \"sadness\", \"surprise\", \"love\", \"anger\", \"sadness\", \"sadness\", \"sadness\", \"fear\", \"anger\", \"sadness\", \"fear\", \"anger\", \"fear\", \"sadness\", \"anger\", \"sadness\", \"happy\", \"surprise\", \"sadness\", \"happy\", \"happy\", \"love\", \"sadness\", \"sadness\", \"anger\", \"anger\", \"love\", \"sadness\", \"sadness\", \"happy\", \"love\", \"happy\", \"happy\", \"happy\", \"happy\", \"sadness\", \"sadness\", \"happy\", \"happy\", \"happy\", \"fear\", \"anger\", \"fear\", \"happy\", \"happy\", \"happy\", \"sadness\", \"sadness\", \"surprise\", \"sadness\", \"sadness\", \"happy\", \"love\", \"anger\", \"love\", \"happy\", \"sadness\", \"fear\", \"anger\", \"anger\", \"sadness\", \"fear\", \"happy\", \"happy\", \"sadness\", \"happy\", \"happy\", \"anger\", \"surprise\", \"sadness\", \"happy\", \"sadness\", \"sadness\", \"sadness\", \"happy\", \"happy\", \"fear\", \"sadness\", \"sadness\", \"sadness\", \"happy\", \"fear\", \"happy\", \"happy\", \"fear\", \"happy\", \"sadness\", \"sadness\", \"fear\", \"happy\", \"happy\", \"sadness\", \"happy\", \"sadness\", \"happy\", \"sadness\", \"fear\", \"sadness\", \"sadness\", \"love\", \"sadness\", \"happy\", \"fear\", \"anger\", \"fear\", \"fear\", \"happy\", \"love\", \"happy\", \"surprise\", \"happy\", \"happy\", \"love\", \"sadness\", \"sadness\", \"fear\", \"happy\", \"happy\", \"happy\", \"anger\", \"anger\", \"sadness\", \"anger\", \"happy\", \"happy\", \"love\", \"fear\", \"happy\", \"sadness\", \"love\", \"love\", \"sadness\", \"fear\", \"happy\", \"happy\", \"surprise\", \"sadness\", \"happy\", \"love\", \"love\", \"happy\", \"love\", \"happy\", \"sadness\", \"anger\", \"happy\", \"fear\", \"happy\", \"anger\", \"surprise\", \"happy\", \"fear\", \"sadness\", \"sadness\", \"anger\", \"sadness\", \"fear\", \"love\", \"sadness\", \"happy\", \"sadness\", \"surprise\", \"happy\", \"sadness\", \"sadness\", \"love\", \"sadness\", \"anger\", \"love\", \"sadness\", \"happy\", \"happy\", \"happy\", \"fear\", \"happy\", \"happy\", \"happy\", \"happy\", \"anger\", \"happy\", \"fear\", \"anger\", \"sadness\", \"sadness\", \"anger\", \"anger\", \"sadness\", \"love\", \"happy\", \"happy\", \"anger\", \"happy\", \"sadness\", \"happy\", \"anger\", \"sadness\", \"love\", \"anger\", \"happy\", \"happy\", \"happy\", \"anger\", \"sadness\", \"happy\", \"sadness\", \"sadness\", \"sadness\", \"sadness\", \"sadness\", \"happy\", \"surprise\", \"fear\", \"fear\", \"anger\", \"happy\", \"sadness\", \"anger\", \"sadness\", \"surprise\", \"happy\", \"happy\", \"love\", \"fear\", \"anger\", \"sadness\", \"love\", \"sadness\", \"sadness\", \"surprise\", \"happy\", \"happy\", \"happy\", \"happy\", \"sadness\", \"sadness\", \"happy\", \"fear\", \"anger\", \"anger\", \"fear\", \"happy\", \"surprise\", \"sadness\", \"fear\", \"happy\", \"happy\", \"fear\", \"happy\", \"happy\", \"sadness\", \"fear\", \"anger\", \"anger\", \"happy\", \"sadness\", \"sadness\", \"surprise\", \"happy\", \"anger\", \"happy\", \"love\", \"happy\", \"fear\", \"anger\", \"fear\", \"fear\", \"happy\", \"sadness\", \"sadness\", \"anger\", \"happy\", \"fear\", \"fear\", \"anger\", \"fear\", \"fear\", \"happy\", \"happy\", \"anger\", \"surprise\", \"love\", \"sadness\", \"sadness\", \"happy\", \"happy\", \"happy\", \"sadness\", \"fear\", \"love\", \"anger\", \"happy\", \"surprise\", \"happy\", \"fear\", \"love\", \"fear\", \"anger\", \"sadness\", \"happy\", \"sadness\", \"happy\", \"sadness\", \"surprise\", \"love\", \"happy\", \"anger\", \"anger\", \"fear\", \"anger\", \"sadness\", \"happy\", \"anger\", \"happy\", \"happy\", \"anger\", \"fear\", \"happy\", \"sadness\", \"surprise\", \"happy\", \"happy\", \"sadness\", \"happy\", \"sadness\", \"sadness\", \"sadness\", \"anger\", \"anger\", \"anger\", \"happy\", \"sadness\", \"sadness\", \"happy\", \"sadness\", \"fear\", \"happy\", \"anger\", \"fear\", \"happy\", \"surprise\", \"sadness\", \"anger\", \"sadness\", \"happy\", \"fear\", \"sadness\", \"fear\", \"anger\", \"sadness\", \"happy\", \"fear\", \"happy\", \"happy\", \"fear\", \"love\", \"sadness\", \"sadness\", \"fear\", \"fear\", \"happy\", \"happy\", \"happy\", \"anger\", \"sadness\", \"happy\", \"love\", \"sadness\", \"sadness\", \"anger\", \"sadness\", \"sadness\", \"love\", \"love\", \"sadness\", \"anger\", \"happy\", \"anger\", \"anger\", \"anger\", \"happy\", \"love\", \"sadness\", \"love\", \"happy\", \"love\", \"happy\", \"love\", \"love\", \"sadness\", \"love\", \"happy\", \"sadness\", \"love\", \"happy\", \"sadness\", \"love\", \"happy\", \"sadness\", \"fear\", \"happy\", \"sadness\", \"fear\", \"happy\", \"happy\", \"anger\", \"fear\", \"sadness\", \"happy\", \"happy\", \"fear\", \"fear\", \"love\", \"sadness\", \"happy\", \"happy\", \"fear\", \"sadness\", \"happy\", \"anger\", \"happy\", \"anger\", \"anger\", \"sadness\", \"anger\", \"sadness\", \"fear\", \"fear\", \"surprise\", \"fear\", \"happy\", \"anger\", \"surprise\", \"sadness\", \"sadness\", \"sadness\", \"happy\", \"love\", \"love\", \"anger\", \"happy\", \"sadness\", \"anger\", \"sadness\", \"anger\", \"happy\", \"fear\", \"sadness\", \"sadness\", \"anger\", \"happy\", \"happy\", \"love\", \"happy\", \"anger\", \"fear\", \"anger\", \"sadness\", \"sadness\", \"sadness\", \"sadness\", \"happy\", \"love\", \"happy\", \"love\", \"sadness\", \"happy\", \"happy\", \"love\", \"sadness\", \"sadness\", \"sadness\", \"happy\", \"sadness\", \"sadness\", \"sadness\", \"love\", \"sadness\", \"sadness\", \"sadness\", \"happy\", \"sadness\", \"anger\", \"anger\", \"happy\", \"sadness\", \"happy\", \"happy\", \"sadness\", \"fear\", \"happy\", \"fear\", \"sadness\", \"love\", \"sadness\", \"sadness\", \"happy\", \"surprise\", \"sadness\", \"happy\", \"fear\", \"sadness\", \"fear\", \"happy\", \"happy\", \"happy\", \"fear\", \"anger\", \"sadness\", \"sadness\", \"happy\", \"happy\", \"anger\", \"happy\", \"happy\", \"fear\", \"happy\", \"happy\", \"happy\", \"sadness\", \"sadness\", \"sadness\", \"anger\", \"happy\", \"anger\", \"happy\", \"sadness\", \"fear\", \"anger\", \"love\", \"fear\", \"anger\", \"happy\", \"surprise\", \"anger\", \"fear\", \"anger\", \"sadness\", \"sadness\", \"sadness\", \"happy\", \"love\", \"sadness\", \"happy\", \"happy\", \"love\", \"sadness\", \"sadness\", \"anger\", \"happy\", \"sadness\", \"sadness\", \"sadness\", \"happy\", \"love\", \"happy\", \"happy\", \"love\", \"happy\", \"sadness\", \"happy\", \"fear\", \"sadness\", \"happy\", \"fear\", \"anger\", \"happy\", \"sadness\", \"anger\", \"fear\", \"happy\", \"surprise\", \"sadness\", \"fear\", \"fear\", \"fear\", \"sadness\", \"sadness\", \"happy\", \"happy\", \"sadness\", \"sadness\", \"fear\", \"sadness\", \"happy\", \"sadness\", \"happy\", \"happy\", \"happy\", \"love\", \"surprise\", \"happy\", \"sadness\", \"sadness\", \"love\", \"sadness\", \"happy\", \"happy\", \"happy\", \"happy\", \"anger\", \"happy\", \"sadness\", \"happy\", \"sadness\", \"fear\", \"surprise\", \"sadness\", \"happy\", \"happy\", \"fear\", \"sadness\", \"anger\", \"happy\", \"happy\", \"happy\", \"love\", \"surprise\", \"happy\", \"happy\", \"love\", \"happy\", \"love\", \"love\", \"sadness\", \"sadness\", \"love\", \"surprise\", \"anger\", \"sadness\", \"sadness\", \"sadness\", \"happy\", \"anger\", \"happy\", \"happy\", \"happy\", \"anger\", \"sadness\", \"happy\", \"sadness\", \"happy\", \"fear\", \"happy\", \"happy\", \"fear\", \"fear\", \"sadness\", \"happy\", \"anger\", \"anger\", \"happy\", \"love\", \"happy\", \"sadness\", \"anger\", \"happy\", \"surprise\", \"sadness\", \"fear\", \"happy\", \"happy\", \"happy\", \"sadness\", \"love\", \"sadness\", \"happy\", \"fear\", \"surprise\", \"sadness\", \"happy\", \"anger\", \"happy\", \"fear\", \"happy\", \"sadness\", \"anger\", \"love\", \"fear\", \"happy\", \"anger\", \"surprise\", \"happy\", \"happy\", \"fear\", \"fear\", \"sadness\", \"happy\", \"sadness\", \"happy\", \"happy\", \"anger\", \"happy\", \"happy\", \"sadness\", \"happy\", \"happy\", \"love\", \"sadness\", \"love\", \"happy\", \"sadness\", \"sadness\", \"love\", \"happy\", \"fear\", \"happy\", \"happy\", \"sadness\", \"anger\", \"happy\", \"sadness\", \"happy\", \"sadness\", \"sadness\", \"happy\", \"happy\", \"sadness\", \"anger\", \"happy\", \"sadness\", \"sadness\", \"fear\", \"fear\", \"love\", \"happy\", \"happy\", \"happy\", \"fear\", \"sadness\", \"love\", \"fear\", \"love\", \"happy\", \"happy\", \"sadness\", \"sadness\", \"surprise\", \"happy\", \"sadness\", \"anger\", \"sadness\", \"surprise\", \"sadness\", \"happy\", \"fear\", \"love\", \"sadness\", \"anger\", \"happy\", \"happy\", \"sadness\", \"love\", \"love\", \"sadness\", \"fear\", \"fear\", \"happy\", \"sadness\", \"sadness\", \"fear\", \"happy\", \"sadness\", \"sadness\", \"anger\", \"sadness\", \"sadness\", \"anger\", \"happy\", \"fear\", \"sadness\", \"anger\", \"sadness\", \"sadness\", \"love\", \"happy\", \"happy\", \"love\", \"sadness\", \"anger\", \"sadness\", \"happy\", \"anger\", \"sadness\", \"fear\", \"happy\", \"anger\", \"sadness\", \"happy\", \"fear\", \"sadness\", \"happy\", \"fear\", \"sadness\", \"happy\", \"happy\", \"anger\", \"sadness\", \"anger\", \"fear\", \"anger\", \"sadness\", \"surprise\", \"anger\", \"fear\", \"fear\", \"happy\", \"anger\", \"happy\", \"happy\", \"sadness\", \"fear\", \"happy\", \"happy\", \"happy\", \"sadness\", \"anger\", \"fear\", \"happy\", \"anger\", \"happy\", \"sadness\", \"love\", \"fear\", \"fear\", \"fear\", \"anger\", \"anger\", \"sadness\", \"anger\", \"fear\", \"happy\", \"happy\", \"sadness\", \"love\", \"sadness\", \"happy\", \"happy\", \"happy\", \"fear\", \"love\", \"sadness\", \"fear\", \"sadness\", \"fear\", \"sadness\", \"sadness\", \"happy\", \"fear\", \"happy\", \"anger\", \"happy\", \"sadness\", \"happy\", \"happy\", \"happy\", \"surprise\", \"sadness\", \"surprise\", \"fear\", \"sadness\", \"sadness\", \"love\", \"sadness\", \"love\", \"fear\", \"love\", \"happy\", \"happy\", \"anger\", \"happy\", \"happy\", \"anger\", \"sadness\", \"fear\", \"anger\", \"sadness\", \"sadness\", \"anger\", \"anger\", \"sadness\", \"sadness\", \"anger\", \"love\", \"happy\", \"sadness\", \"happy\", \"anger\", \"love\", \"sadness\", \"anger\", \"fear\", \"happy\", \"sadness\", \"happy\", \"anger\", \"happy\", \"happy\", \"fear\", \"sadness\", \"happy\", \"sadness\", \"happy\", \"fear\", \"sadness\", \"sadness\", \"happy\", \"surprise\", \"happy\", \"anger\", \"surprise\", \"surprise\", \"happy\", \"happy\", \"sadness\", \"sadness\", \"anger\", \"fear\", \"happy\", \"sadness\", \"love\", \"fear\", \"sadness\", \"sadness\", \"happy\", \"love\", \"fear\", \"anger\", \"happy\", \"fear\", \"sadness\", \"fear\", \"surprise\", \"sadness\", \"sadness\", \"happy\", \"sadness\", \"fear\", \"anger\", \"love\", \"sadness\", \"fear\", \"happy\", \"happy\", \"love\", \"sadness\", \"anger\", \"fear\", \"sadness\", \"sadness\", \"fear\", \"happy\", \"sadness\", \"sadness\", \"fear\", \"happy\", \"sadness\", \"sadness\", \"happy\", \"sadness\", \"sadness\", \"anger\", \"sadness\", \"happy\", \"anger\", \"fear\", \"sadness\", \"happy\", \"sadness\", \"happy\", \"happy\", \"fear\", \"anger\", \"happy\", \"surprise\", \"anger\", \"sadness\", \"happy\", \"fear\", \"sadness\", \"love\", \"love\", \"sadness\", \"surprise\", \"happy\", \"fear\", \"love\", \"anger\", \"surprise\", \"sadness\", \"anger\", \"anger\", \"happy\", \"happy\", \"fear\", \"happy\", \"happy\", \"anger\", \"sadness\", \"sadness\", \"happy\", \"anger\", \"sadness\", \"happy\", \"sadness\", \"love\", \"anger\", \"fear\", \"sadness\", \"happy\", \"fear\", \"anger\", \"happy\", \"happy\", \"happy\", \"sadness\", \"happy\", \"happy\", \"happy\", \"happy\", \"anger\", \"happy\", \"sadness\", \"happy\", \"sadness\", \"happy\", \"sadness\", \"sadness\", \"sadness\", \"sadness\", \"fear\", \"anger\", \"happy\", \"happy\", \"anger\", \"love\", \"sadness\", \"fear\", \"happy\", \"happy\", \"happy\", \"fear\", \"sadness\", \"sadness\", \"love\", \"sadness\", \"sadness\", \"fear\", \"sadness\", \"happy\", \"anger\", \"fear\", \"happy\", \"sadness\", \"sadness\", \"anger\", \"happy\", \"happy\", \"fear\", \"sadness\", \"fear\", \"fear\", \"sadness\", \"anger\", \"happy\", \"anger\", \"fear\", \"fear\", \"happy\", \"happy\", \"happy\", \"fear\", \"sadness\", \"happy\", \"happy\", \"anger\", \"sadness\", \"happy\", \"sadness\", \"surprise\", \"anger\", \"happy\", \"fear\", \"anger\", \"sadness\", \"anger\", \"fear\", \"sadness\", \"love\", \"fear\", \"sadness\", \"love\", \"love\", \"fear\", \"anger\", \"happy\", \"happy\", \"sadness\", \"happy\", \"love\", \"sadness\", \"love\", \"surprise\", \"sadness\", \"anger\", \"love\", \"happy\", \"sadness\", \"fear\", \"surprise\", \"happy\", \"sadness\", \"love\", \"happy\", \"sadness\", \"sadness\", \"happy\", \"happy\", \"fear\", \"anger\", \"happy\", \"sadness\", \"happy\", \"sadness\", \"love\", \"happy\", \"fear\", \"sadness\", \"happy\", \"sadness\", \"sadness\", \"surprise\", \"surprise\", \"sadness\", \"sadness\", \"happy\", \"happy\", \"anger\", \"sadness\", \"sadness\", \"anger\", \"sadness\", \"fear\", \"fear\", \"happy\", \"happy\", \"sadness\", \"happy\", \"sadness\", \"anger\", \"sadness\", \"love\", \"sadness\", \"happy\", \"sadness\", \"anger\", \"happy\", \"happy\", \"anger\", \"happy\", \"happy\", \"anger\", \"happy\", \"love\", \"anger\", \"happy\", \"anger\", \"sadness\", \"fear\", \"sadness\", \"love\", \"sadness\", \"fear\", \"anger\", \"anger\", \"anger\", \"sadness\", \"happy\", \"sadness\", \"happy\", \"happy\", \"surprise\", \"sadness\", \"love\", \"sadness\", \"happy\", \"fear\", \"love\", \"happy\", \"anger\", \"surprise\", \"happy\", \"surprise\", \"anger\", \"happy\", \"sadness\", \"anger\", \"happy\", \"love\", \"anger\", \"happy\", \"anger\", \"sadness\", \"love\", \"sadness\", \"happy\", \"sadness\", \"sadness\", \"sadness\", \"anger\", \"sadness\", \"sadness\", \"happy\", \"happy\", \"happy\", \"love\", \"sadness\", \"fear\", \"sadness\", \"fear\", \"sadness\", \"happy\", \"happy\", \"sadness\", \"sadness\", \"happy\", \"sadness\", \"fear\", \"sadness\", \"happy\", \"fear\", \"fear\", \"sadness\", \"happy\", \"sadness\", \"sadness\", \"sadness\", \"anger\", \"happy\", \"happy\", \"anger\", \"sadness\", \"sadness\", \"sadness\", \"anger\", \"sadness\", \"happy\", \"sadness\", \"happy\", \"sadness\", \"love\", \"anger\", \"sadness\", \"surprise\", \"sadness\", \"happy\", \"happy\", \"anger\", \"anger\", \"sadness\", \"fear\", \"fear\", \"sadness\", \"sadness\", \"happy\", \"love\", \"anger\", \"happy\", \"happy\", \"happy\", \"love\", \"love\", \"sadness\", \"anger\", \"fear\", \"happy\", \"surprise\", \"fear\", \"happy\", \"sadness\", \"happy\", \"anger\", \"anger\", \"sadness\", \"anger\", \"sadness\", \"fear\", \"sadness\", \"sadness\", \"sadness\", \"love\", \"surprise\", \"happy\", \"anger\", \"happy\", \"happy\", \"love\", \"anger\", \"happy\", \"sadness\", \"sadness\", \"fear\", \"happy\", \"fear\", \"anger\", \"happy\", \"anger\", \"anger\", \"anger\", \"happy\", \"love\", \"happy\", \"happy\", \"anger\", \"anger\", \"sadness\", \"fear\", \"happy\", \"fear\", \"sadness\", \"happy\", \"anger\", \"happy\", \"fear\", \"anger\", \"happy\", \"sadness\", \"anger\", \"happy\", \"anger\", \"happy\", \"sadness\", \"love\", \"happy\", \"happy\", \"anger\", \"sadness\", \"love\", \"happy\", \"anger\", \"happy\", \"sadness\", \"happy\", \"fear\", \"anger\", \"happy\", \"sadness\", \"happy\", \"sadness\", \"happy\", \"sadness\", \"surprise\", \"happy\", \"anger\", \"sadness\", \"fear\", \"happy\", \"anger\", \"happy\", \"happy\", \"happy\", \"sadness\", \"happy\", \"sadness\", \"anger\", \"sadness\", \"sadness\", \"happy\", \"anger\", \"sadness\", \"sadness\", \"happy\", \"happy\", \"fear\", \"happy\", \"surprise\", \"anger\", \"anger\", \"happy\", \"happy\", \"fear\", \"fear\", \"happy\", \"happy\", \"fear\", \"anger\", \"anger\", \"happy\", \"sadness\", \"fear\", \"happy\", \"love\", \"fear\", \"sadness\", \"fear\", \"fear\", \"surprise\", \"sadness\", \"happy\", \"fear\", \"happy\", \"sadness\", \"sadness\", \"happy\", \"fear\", \"anger\", \"sadness\", \"anger\", \"happy\", \"happy\", \"happy\", \"sadness\", \"happy\", \"happy\", \"happy\", \"anger\", \"love\", \"love\", \"sadness\", \"love\", \"anger\", \"sadness\", \"anger\", \"sadness\", \"anger\", \"happy\", \"sadness\", \"happy\", \"fear\", \"fear\", \"fear\", \"love\", \"sadness\", \"anger\", \"sadness\", \"fear\", \"sadness\", \"fear\", \"sadness\", \"love\", \"happy\", \"happy\", \"surprise\", \"happy\", \"fear\", \"love\", \"happy\", \"happy\", \"sadness\", \"fear\", \"happy\", \"love\", \"fear\", \"anger\", \"happy\", \"anger\", \"happy\", \"happy\", \"sadness\", \"happy\", \"love\", \"sadness\", \"anger\", \"happy\", \"fear\", \"sadness\", \"sadness\", \"happy\", \"happy\", \"happy\", \"happy\", \"happy\", \"sadness\", \"sadness\", \"happy\", \"love\", \"surprise\", \"happy\", \"happy\", \"fear\", \"happy\", \"love\", \"sadness\", \"love\", \"sadness\", \"fear\", \"sadness\", \"happy\", \"sadness\", \"sadness\", \"happy\", \"sadness\", \"sadness\", \"happy\", \"surprise\", \"happy\", \"happy\", \"anger\", \"anger\", \"happy\", \"sadness\", \"sadness\", \"happy\", \"happy\", \"happy\", \"sadness\", \"happy\", \"sadness\", \"happy\", \"sadness\", \"sadness\", \"happy\", \"sadness\", \"sadness\", \"happy\", \"fear\", \"sadness\", \"sadness\", \"sadness\", \"happy\", \"anger\", \"sadness\", \"fear\", \"anger\", \"sadness\", \"happy\", \"sadness\", \"sadness\", \"happy\", \"happy\", \"happy\", \"happy\", \"sadness\", \"sadness\", \"love\", \"love\", \"sadness\", \"happy\", \"love\", \"anger\", \"surprise\", \"happy\", \"sadness\", \"sadness\", \"fear\", \"sadness\", \"sadness\", \"fear\", \"sadness\", \"anger\", \"happy\", \"anger\", \"happy\", \"surprise\", \"sadness\", \"sadness\", \"sadness\", \"fear\", \"anger\", \"happy\", \"anger\", \"anger\", \"happy\", \"sadness\", \"happy\", \"sadness\", \"happy\", \"anger\", \"sadness\", \"fear\", \"anger\", \"love\", \"sadness\", \"happy\", \"anger\", \"fear\", \"happy\", \"sadness\", \"love\", \"happy\", \"love\", \"sadness\", \"happy\", \"anger\", \"anger\", \"sadness\", \"fear\", \"sadness\", \"fear\", \"anger\", \"happy\", \"surprise\", \"anger\", \"fear\", \"fear\", \"happy\", \"anger\", \"happy\", \"happy\", \"fear\", \"surprise\", \"fear\", \"happy\", \"happy\", \"anger\", \"happy\", \"happy\", \"love\", \"sadness\", \"sadness\", \"anger\", \"happy\", \"sadness\", \"sadness\", \"love\", \"love\", \"fear\", \"sadness\", \"sadness\", \"happy\", \"happy\", \"happy\", \"anger\", \"sadness\", \"happy\", \"anger\", \"happy\", \"happy\", \"sadness\", \"anger\", \"sadness\", \"happy\", \"happy\", \"anger\", \"happy\", \"happy\", \"anger\", \"sadness\", \"anger\", \"sadness\", \"fear\", \"sadness\", \"happy\", \"love\", \"sadness\", \"anger\", \"sadness\", \"happy\", \"love\", \"happy\", \"happy\", \"happy\", \"happy\", \"anger\", \"sadness\", \"happy\", \"sadness\", \"love\", \"happy\", \"happy\", \"anger\", \"happy\", \"happy\", \"happy\", \"happy\", \"anger\", \"fear\", \"sadness\", \"sadness\", \"sadness\", \"love\", \"love\", \"anger\", \"sadness\", \"fear\", \"anger\", \"happy\", \"love\", \"sadness\", \"anger\", \"love\", \"sadness\", \"anger\", \"fear\", \"sadness\", \"fear\", \"happy\", \"happy\", \"surprise\", \"happy\", \"happy\", \"love\", \"sadness\", \"sadness\", \"fear\", \"love\", \"happy\", \"surprise\", \"sadness\", \"surprise\", \"happy\", \"sadness\", \"happy\", \"anger\", \"sadness\", \"happy\", \"anger\", \"sadness\", \"anger\", \"surprise\", \"sadness\", \"sadness\", \"anger\", \"happy\", \"sadness\", \"fear\", \"anger\", \"fear\", \"happy\", \"sadness\", \"happy\", \"surprise\", \"love\", \"sadness\", \"love\", \"happy\", \"surprise\", \"happy\", \"anger\", \"happy\", \"anger\", \"surprise\", \"sadness\", \"happy\", \"happy\", \"happy\", \"fear\", \"happy\", \"happy\", \"happy\", \"happy\", \"sadness\", \"happy\", \"happy\", \"sadness\", \"happy\", \"happy\", \"surprise\", \"happy\", \"happy\", \"surprise\", \"fear\", \"happy\", \"happy\", \"fear\", \"happy\", \"happy\", \"surprise\", \"sadness\", \"sadness\", \"love\", \"happy\", \"anger\", \"anger\", \"fear\", \"happy\", \"sadness\", \"sadness\", \"love\", \"happy\", \"sadness\", \"happy\", \"happy\", \"surprise\", \"happy\", \"sadness\", \"sadness\", \"happy\", \"sadness\", \"sadness\", \"sadness\", \"sadness\", \"anger\", \"love\", \"sadness\", \"happy\", \"happy\", \"happy\", \"happy\", \"anger\", \"love\", \"sadness\", \"fear\", \"love\", \"love\", \"happy\", \"happy\", \"happy\", \"happy\", \"anger\", \"sadness\", \"happy\", \"anger\", \"sadness\", \"fear\", \"anger\", \"happy\", \"fear\", \"sadness\", \"happy\", \"happy\", \"happy\", \"sadness\", \"happy\", \"happy\", \"happy\", \"sadness\", \"happy\", \"fear\", \"happy\", \"sadness\", \"fear\", \"fear\", \"love\", \"fear\", \"love\", \"happy\", \"love\", \"fear\", \"anger\", \"sadness\", \"sadness\", \"anger\", \"fear\", \"happy\", \"happy\", \"sadness\", \"sadness\", \"surprise\", \"happy\", \"fear\", \"sadness\", \"anger\", \"happy\", \"anger\", \"anger\", \"sadness\", \"sadness\", \"sadness\", \"happy\", \"fear\", \"sadness\", \"sadness\", \"sadness\", \"sadness\", \"happy\", \"happy\", \"happy\", \"sadness\", \"anger\", \"anger\", \"happy\", \"happy\", \"sadness\", \"happy\", \"anger\", \"sadness\", \"fear\", \"love\", \"sadness\", \"anger\", \"happy\", \"surprise\", \"happy\", \"happy\", \"happy\", \"happy\", \"love\", \"love\", \"sadness\", \"happy\", \"happy\", \"love\", \"sadness\", \"happy\", \"sadness\", \"sadness\", \"sadness\", \"happy\", \"happy\", \"happy\", \"happy\", \"happy\", \"happy\", \"sadness\", \"happy\", \"sadness\", \"love\", \"love\", \"sadness\", \"sadness\", \"fear\", \"sadness\", \"anger\", \"happy\", \"sadness\", \"anger\", \"happy\", \"sadness\", \"happy\", \"sadness\", \"happy\", \"sadness\", \"sadness\", \"anger\", \"anger\", \"anger\", \"sadness\", \"fear\", \"sadness\", \"anger\", \"sadness\", \"fear\", \"fear\", \"sadness\", \"fear\", \"sadness\", \"happy\", \"sadness\", \"happy\", \"happy\", \"happy\", \"fear\", \"love\", \"happy\", \"happy\", \"fear\", \"sadness\", \"happy\", \"sadness\", \"fear\", \"sadness\", \"sadness\", \"anger\", \"fear\", \"happy\", \"happy\", \"happy\", \"love\", \"anger\", \"fear\", \"sadness\", \"happy\", \"fear\", \"happy\", \"love\", \"love\", \"sadness\", \"love\", \"anger\", \"sadness\", \"sadness\", \"sadness\", \"surprise\", \"happy\", \"anger\", \"happy\", \"sadness\", \"fear\", \"anger\", \"happy\", \"surprise\", \"happy\", \"happy\", \"happy\", \"happy\", \"sadness\", \"happy\", \"sadness\", \"sadness\", \"love\", \"sadness\", \"love\", \"sadness\", \"sadness\", \"happy\", \"happy\", \"anger\", \"anger\", \"sadness\", \"fear\", \"anger\", \"happy\", \"sadness\", \"happy\", \"anger\", \"love\", \"happy\", \"fear\", \"happy\", \"happy\", \"happy\", \"anger\", \"anger\", \"fear\", \"surprise\", \"happy\", \"anger\", \"anger\", \"happy\", \"fear\", \"sadness\", \"fear\", \"love\", \"sadness\", \"love\", \"happy\", \"happy\", \"fear\", \"sadness\", \"anger\", \"happy\", \"sadness\", \"fear\", \"happy\", \"sadness\", \"happy\", \"fear\", \"happy\", \"anger\", \"happy\", \"happy\", \"happy\", \"surprise\", \"happy\", \"anger\", \"sadness\", \"fear\", \"sadness\", \"sadness\", \"happy\", \"happy\", \"sadness\", \"anger\", \"sadness\", \"happy\", \"surprise\", \"happy\", \"happy\", \"sadness\", \"happy\", \"happy\", \"happy\", \"sadness\", \"happy\", \"sadness\", \"sadness\", \"anger\", \"anger\", \"anger\", \"anger\", \"anger\", \"sadness\", \"anger\", \"sadness\", \"happy\", \"anger\", \"love\", \"anger\", \"happy\", \"happy\", \"love\", \"love\", \"love\", \"sadness\", \"sadness\", \"sadness\", \"love\", \"happy\", \"sadness\", \"anger\", \"happy\", \"love\", \"happy\", \"happy\", \"love\", \"love\", \"happy\", \"sadness\", \"fear\", \"happy\", \"sadness\", \"happy\", \"anger\", \"sadness\", \"happy\", \"happy\", \"anger\", \"fear\", \"fear\", \"anger\", \"love\", \"sadness\", \"fear\", \"fear\", \"happy\", \"sadness\", \"love\", \"sadness\", \"happy\", \"happy\", \"sadness\", \"anger\", \"sadness\", \"happy\", \"love\", \"sadness\", \"happy\", \"happy\", \"anger\", \"sadness\", \"anger\", \"happy\", \"happy\", \"happy\", \"happy\", \"love\", \"sadness\", \"happy\", \"fear\", \"happy\", \"sadness\", \"love\", \"sadness\", \"sadness\", \"happy\", \"sadness\", \"happy\", \"happy\", \"sadness\", \"fear\", \"happy\", \"fear\", \"sadness\", \"sadness\", \"sadness\", \"happy\", \"sadness\", \"fear\", \"surprise\", \"sadness\", \"happy\", \"sadness\", \"anger\", \"sadness\", \"love\", \"sadness\", \"happy\", \"happy\", \"sadness\", \"anger\", \"sadness\", \"love\", \"sadness\", \"happy\", \"sadness\", \"happy\", \"anger\", \"sadness\", \"happy\", \"happy\", \"sadness\", \"sadness\", \"anger\", \"happy\", \"surprise\", \"fear\", \"sadness\", \"anger\", \"sadness\", \"happy\", \"sadness\", \"anger\", \"anger\", \"surprise\", \"anger\", \"happy\", \"anger\", \"sadness\", \"love\", \"happy\", \"sadness\", \"happy\", \"fear\", \"sadness\", \"happy\", \"anger\", \"anger\", \"sadness\", \"happy\", \"anger\", \"happy\", \"sadness\", \"happy\", \"happy\", \"happy\", \"love\", \"happy\", \"love\", \"happy\", \"happy\", \"happy\", \"anger\", \"happy\", \"happy\", \"anger\", \"happy\", \"anger\", \"happy\", \"happy\", \"happy\", \"happy\", \"anger\", \"sadness\", \"happy\", \"sadness\", \"sadness\", \"happy\", \"sadness\", \"happy\", \"sadness\", \"fear\", \"happy\", \"fear\", \"sadness\", \"sadness\", \"fear\", \"surprise\", \"anger\", \"surprise\", \"sadness\", \"happy\", \"anger\", \"happy\", \"surprise\", \"sadness\", \"anger\", \"sadness\", \"love\", \"sadness\", \"sadness\", \"anger\", \"happy\", \"sadness\", \"sadness\", \"sadness\", \"fear\", \"anger\", \"happy\", \"surprise\", \"happy\", \"surprise\", \"happy\", \"anger\", \"love\", \"sadness\", \"anger\", \"fear\", \"happy\", \"love\", \"sadness\", \"happy\", \"happy\", \"happy\", \"happy\", \"anger\", \"sadness\", \"anger\", \"happy\", \"happy\", \"anger\", \"sadness\", \"sadness\", \"anger\", \"happy\", \"sadness\", \"anger\", \"anger\", \"happy\", \"sadness\", \"sadness\", \"sadness\", \"happy\", \"fear\", \"anger\", \"sadness\", \"love\", \"happy\", \"surprise\", \"fear\", \"fear\", \"sadness\", \"love\", \"happy\", \"sadness\", \"fear\", \"love\", \"happy\", \"fear\", \"happy\", \"sadness\", \"fear\", \"happy\", \"happy\", \"fear\", \"happy\", \"happy\", \"happy\", \"sadness\", \"sadness\", \"sadness\", \"happy\", \"fear\", \"anger\", \"sadness\", \"sadness\", \"love\", \"sadness\", \"surprise\", \"surprise\", \"love\", \"happy\", \"love\", \"sadness\", \"sadness\", \"anger\", \"happy\", \"happy\", \"sadness\", \"fear\", \"happy\", \"sadness\", \"happy\", \"sadness\", \"fear\", \"anger\", \"fear\", \"fear\", \"happy\", \"sadness\", \"happy\", \"anger\", \"anger\", \"happy\", \"happy\", \"love\", \"happy\", \"happy\", \"happy\", \"happy\", \"fear\", \"happy\", \"sadness\", \"sadness\", \"happy\", \"happy\", \"love\", \"happy\", \"happy\", \"sadness\", \"anger\", \"happy\", \"happy\", \"sadness\", \"happy\", \"happy\", \"happy\", \"happy\", \"surprise\", \"sadness\", \"happy\", \"love\", \"anger\", \"happy\", \"happy\", \"love\", \"love\", \"sadness\", \"happy\", \"happy\", \"sadness\", \"surprise\", \"sadness\", \"happy\", \"sadness\", \"love\", \"anger\", \"fear\", \"sadness\", \"anger\", \"happy\", \"love\", \"sadness\", \"sadness\", \"sadness\", \"fear\", \"sadness\", \"sadness\", \"love\", \"sadness\", \"happy\", \"happy\", \"fear\", \"happy\", \"sadness\", \"happy\", \"sadness\", \"happy\", \"happy\", \"fear\", \"sadness\", \"sadness\", \"sadness\", \"sadness\", \"anger\", \"sadness\", \"happy\", \"surprise\", \"fear\", \"sadness\", \"anger\", \"love\", \"anger\", \"sadness\", \"fear\", \"surprise\", \"sadness\", \"happy\", \"fear\", \"happy\", \"sadness\", \"sadness\", \"love\", \"anger\", \"happy\", \"happy\", \"anger\", \"surprise\", \"love\", \"happy\", \"happy\", \"happy\", \"happy\", \"fear\", \"happy\", \"happy\", \"sadness\", \"happy\", \"love\", \"sadness\", \"love\", \"sadness\", \"fear\", \"fear\", \"happy\", \"sadness\", \"sadness\", \"surprise\", \"sadness\", \"anger\", \"sadness\", \"sadness\", \"happy\", \"love\", \"fear\", \"sadness\", \"sadness\", \"sadness\", \"anger\", \"happy\", \"anger\", \"fear\", \"sadness\", \"sadness\", \"fear\", \"sadness\", \"anger\", \"sadness\", \"sadness\", \"anger\", \"love\", \"fear\", \"love\", \"surprise\", \"sadness\", \"anger\", \"happy\", \"happy\", \"sadness\", \"love\", \"sadness\", \"sadness\", \"anger\", \"happy\", \"sadness\", \"happy\", \"happy\", \"love\", \"anger\", \"happy\", \"sadness\", \"love\", \"anger\", \"sadness\", \"sadness\", \"sadness\", \"happy\", \"happy\", \"happy\", \"happy\", \"anger\", \"happy\", \"sadness\", \"anger\", \"happy\", \"sadness\", \"sadness\", \"sadness\", \"anger\", \"love\", \"fear\", \"fear\", \"fear\", \"sadness\", \"sadness\", \"sadness\", \"fear\", \"sadness\", \"happy\", \"sadness\", \"surprise\", \"love\", \"sadness\", \"sadness\", \"anger\", \"love\", \"surprise\", \"sadness\", \"fear\", \"anger\", \"sadness\", \"happy\", \"happy\", \"happy\", \"happy\", \"anger\", \"love\", \"love\", \"happy\", \"happy\", \"happy\", \"anger\", \"fear\", \"sadness\", \"sadness\", \"sadness\", \"fear\", \"happy\", \"surprise\", \"happy\", \"happy\", \"happy\", \"happy\", \"sadness\", \"sadness\", \"sadness\", \"fear\", \"sadness\", \"happy\", \"happy\", \"happy\", \"sadness\", \"sadness\", \"happy\", \"happy\", \"sadness\", \"love\", \"happy\", \"sadness\", \"love\", \"happy\", \"happy\", \"fear\", \"sadness\", \"love\", \"anger\", \"happy\", \"love\", \"anger\", \"happy\", \"love\", \"anger\", \"anger\", \"love\", \"sadness\", \"anger\", \"love\", \"sadness\", \"happy\", \"happy\", \"love\", \"sadness\", \"fear\", \"happy\", \"sadness\", \"happy\", \"happy\", \"sadness\", \"sadness\", \"happy\", \"surprise\", \"sadness\", \"love\", \"happy\", \"surprise\", \"sadness\", \"fear\", \"surprise\", \"sadness\", \"happy\", \"love\", \"sadness\", \"happy\", \"love\", \"happy\", \"happy\", \"anger\", \"happy\", \"happy\", \"sadness\", \"happy\", \"sadness\", \"anger\", \"happy\", \"happy\", \"anger\", \"happy\", \"happy\", \"happy\", \"happy\", \"happy\", \"fear\", \"love\", \"happy\", \"happy\", \"anger\", \"happy\", \"happy\", \"sadness\", \"sadness\", \"happy\", \"surprise\", \"fear\", \"sadness\", \"fear\", \"sadness\", \"sadness\", \"fear\", \"sadness\", \"love\", \"fear\", \"happy\", \"happy\", \"happy\", \"sadness\", \"anger\", \"anger\", \"sadness\", \"happy\", \"fear\", \"sadness\", \"happy\", \"sadness\", \"happy\", \"sadness\", \"anger\", \"fear\", \"happy\", \"sadness\", \"anger\", \"fear\", \"sadness\", \"happy\", \"happy\", \"sadness\", \"sadness\", \"sadness\", \"anger\", \"anger\", \"fear\", \"sadness\", \"happy\", \"happy\", \"happy\", \"anger\", \"anger\", \"love\", \"fear\", \"anger\", \"sadness\", \"happy\", \"surprise\", \"happy\", \"fear\", \"happy\", \"happy\", \"happy\", \"sadness\", \"happy\", \"happy\", \"happy\", \"sadness\", \"sadness\", \"fear\", \"sadness\", \"happy\", \"happy\", \"sadness\", \"happy\", \"happy\", \"love\", \"happy\", \"anger\", \"anger\", \"fear\", \"happy\", \"sadness\", \"fear\", \"happy\", \"happy\", \"anger\", \"sadness\", \"love\", \"happy\", \"happy\", \"love\", \"happy\", \"sadness\", \"happy\", \"happy\", \"happy\", \"sadness\", \"happy\", \"surprise\", \"happy\", \"sadness\", \"love\", \"sadness\", \"sadness\", \"anger\", \"sadness\", \"happy\", \"love\", \"love\", \"happy\", \"happy\", \"happy\", \"sadness\", \"happy\", \"happy\", \"anger\", \"sadness\", \"happy\", \"anger\", \"sadness\", \"happy\", \"fear\", \"anger\", \"happy\", \"love\", \"love\", \"happy\", \"love\", \"happy\", \"happy\", \"happy\", \"happy\", \"anger\", \"happy\", \"fear\", \"anger\", \"fear\", \"happy\", \"anger\", \"fear\", \"sadness\", \"happy\", \"sadness\", \"fear\", \"sadness\", \"sadness\", \"happy\", \"happy\", \"happy\", \"happy\", \"happy\", \"sadness\", \"anger\", \"happy\", \"happy\", \"surprise\", \"sadness\", \"sadness\", \"happy\", \"happy\", \"sadness\", \"sadness\", \"happy\", \"happy\", \"anger\", \"happy\", \"happy\", \"sadness\", \"sadness\", \"sadness\", \"fear\", \"fear\", \"sadness\", \"surprise\", \"happy\", \"happy\", \"happy\", \"fear\", \"happy\", \"sadness\", \"happy\", \"happy\", \"sadness\", \"sadness\", \"fear\", \"anger\", \"sadness\", \"happy\", \"fear\", \"anger\", \"happy\", \"happy\", \"sadness\", \"happy\", \"love\", \"sadness\", \"fear\", \"anger\", \"fear\", \"love\", \"happy\", \"anger\", \"sadness\", \"happy\", \"surprise\", \"anger\", \"sadness\", \"anger\", \"happy\", \"sadness\", \"happy\", \"sadness\", \"fear\", \"sadness\", \"happy\", \"sadness\", \"happy\", \"surprise\", \"sadness\", \"anger\", \"sadness\", \"happy\", \"happy\", \"happy\", \"happy\", \"happy\", \"happy\", \"sadness\", \"happy\", \"fear\", \"love\", \"happy\", \"sadness\", \"happy\", \"sadness\", \"happy\", \"happy\", \"happy\", \"fear\", \"sadness\", \"anger\", \"fear\", \"anger\", \"happy\", \"anger\", \"sadness\", \"love\", \"sadness\", \"sadness\", \"fear\", \"happy\", \"happy\", \"sadness\", \"happy\", \"surprise\", \"anger\", \"happy\", \"sadness\", \"sadness\", \"love\", \"sadness\", \"sadness\", \"happy\", \"sadness\", \"happy\", \"anger\", \"sadness\", \"fear\", \"sadness\", \"sadness\", \"anger\", \"anger\", \"happy\", \"fear\", \"happy\", \"sadness\", \"fear\", \"fear\", \"happy\", \"sadness\", \"anger\", \"anger\", \"sadness\", \"love\", \"anger\", \"anger\", \"sadness\", \"sadness\", \"happy\", \"surprise\", \"anger\", \"sadness\", \"surprise\", \"fear\", \"anger\", \"anger\", \"anger\", \"sadness\", \"sadness\", \"anger\", \"love\", \"sadness\", \"fear\", \"sadness\", \"happy\", \"fear\", \"sadness\", \"happy\", \"anger\", \"happy\", \"love\", \"happy\", \"happy\", \"sadness\", \"happy\", \"fear\", \"sadness\", \"sadness\", \"sadness\", \"happy\", \"happy\", \"happy\", \"happy\", \"happy\", \"fear\", \"sadness\", \"fear\", \"sadness\", \"love\", \"anger\", \"happy\", \"happy\", \"anger\", \"happy\", \"anger\", \"happy\", \"sadness\", \"sadness\", \"sadness\", \"surprise\", \"fear\", \"love\", \"sadness\", \"happy\", \"love\", \"surprise\", \"sadness\", \"fear\", \"happy\", \"love\", \"sadness\", \"anger\", \"sadness\", \"happy\", \"sadness\", \"sadness\", \"happy\", \"fear\", \"sadness\", \"sadness\", \"love\", \"happy\", \"happy\", \"happy\", \"happy\", \"sadness\", \"love\", \"fear\", \"love\", \"sadness\", \"fear\", \"sadness\", \"sadness\", \"sadness\", \"anger\", \"sadness\", \"fear\", \"happy\", \"sadness\", \"sadness\", \"happy\", \"happy\", \"sadness\", \"happy\", \"fear\", \"sadness\", \"happy\", \"sadness\", \"sadness\", \"love\", \"sadness\", \"happy\", \"happy\", \"anger\", \"sadness\", \"sadness\", \"happy\", \"happy\", \"fear\", \"sadness\", \"happy\", \"happy\", \"happy\", \"fear\", \"sadness\", \"sadness\", \"sadness\", \"happy\", \"happy\", \"fear\", \"sadness\", \"happy\", \"fear\", \"anger\", \"happy\", \"happy\", \"happy\", \"sadness\", \"surprise\", \"anger\", \"happy\", \"happy\", \"sadness\", \"fear\", \"love\", \"happy\", \"fear\", \"happy\", \"anger\", \"sadness\", \"sadness\", \"happy\", \"fear\", \"fear\", \"anger\", \"sadness\", \"fear\", \"sadness\", \"sadness\", \"fear\", \"fear\", \"happy\", \"love\", \"anger\", \"fear\", \"happy\", \"happy\", \"fear\", \"love\", \"love\", \"sadness\", \"happy\", \"surprise\", \"happy\", \"sadness\", \"anger\", \"love\", \"sadness\", \"happy\", \"happy\", \"happy\", \"happy\", \"happy\", \"happy\", \"happy\", \"sadness\", \"sadness\", \"anger\", \"sadness\", \"fear\", \"anger\", \"sadness\", \"anger\", \"love\", \"fear\", \"happy\", \"sadness\", \"happy\", \"sadness\", \"love\", \"happy\", \"anger\", \"love\", \"fear\", \"anger\", \"happy\", \"fear\", \"sadness\", \"love\", \"sadness\", \"sadness\", \"sadness\", \"happy\", \"sadness\", \"happy\", \"happy\", \"anger\", \"happy\", \"anger\", \"happy\", \"anger\", \"sadness\", \"anger\", \"fear\", \"surprise\", \"happy\", \"happy\", \"happy\", \"anger\", \"happy\", \"happy\", \"fear\", \"surprise\", \"sadness\", \"fear\", \"happy\", \"happy\", \"anger\", \"fear\", \"happy\", \"love\", \"sadness\", \"happy\", \"fear\", \"happy\", \"surprise\", \"happy\", \"sadness\", \"happy\", \"surprise\", \"anger\", \"sadness\", \"anger\", \"sadness\", \"happy\", \"happy\", \"happy\", \"happy\", \"happy\", \"love\", \"love\", \"anger\", \"happy\", \"love\", \"love\", \"love\", \"fear\", \"sadness\", \"sadness\", \"happy\", \"sadness\", \"sadness\", \"happy\", \"sadness\", \"happy\", \"sadness\", \"anger\", \"happy\", \"sadness\", \"happy\", \"happy\", \"sadness\", \"happy\", \"happy\", \"anger\", \"love\", \"happy\", \"happy\", \"happy\", \"fear\", \"sadness\", \"anger\", \"anger\", \"sadness\", \"happy\", \"sadness\", \"happy\", \"happy\", \"sadness\", \"happy\", \"anger\", \"sadness\", \"sadness\", \"sadness\", \"happy\", \"love\", \"anger\", \"happy\", \"happy\", \"happy\", \"happy\", \"sadness\", \"fear\", \"happy\", \"happy\", \"happy\", \"sadness\", \"sadness\", \"happy\", \"happy\", \"sadness\", \"happy\", \"happy\", \"sadness\", \"sadness\", \"happy\", \"happy\", \"happy\", \"anger\", \"fear\", \"happy\", \"happy\", \"happy\", \"sadness\", \"sadness\", \"happy\", \"sadness\", \"happy\", \"happy\", \"happy\", \"love\", \"love\", \"sadness\", \"sadness\", \"happy\", \"love\", \"fear\", \"happy\", \"happy\", \"sadness\", \"happy\", \"sadness\", \"happy\", \"happy\", \"happy\", \"happy\", \"anger\", \"happy\", \"sadness\", \"happy\", \"sadness\", \"happy\", \"sadness\", \"anger\", \"happy\", \"happy\", \"sadness\", \"love\", \"fear\", \"fear\", \"fear\", \"sadness\", \"fear\", \"happy\", \"sadness\", \"happy\", \"love\", \"fear\", \"love\", \"fear\", \"anger\", \"sadness\", \"happy\", \"love\", \"sadness\", \"sadness\", \"happy\", \"anger\", \"surprise\", \"sadness\", \"sadness\", \"anger\", \"happy\", \"happy\", \"fear\", \"happy\", \"sadness\", \"happy\", \"happy\", \"sadness\", \"happy\", \"anger\", \"sadness\", \"happy\", \"sadness\", \"happy\", \"happy\", \"sadness\", \"sadness\", \"happy\", \"happy\", \"sadness\", \"happy\", \"sadness\", \"sadness\", \"love\", \"sadness\", \"happy\", \"sadness\", \"happy\", \"love\", \"sadness\", \"love\", \"love\", \"sadness\", \"sadness\", \"love\", \"sadness\", \"fear\", \"anger\", \"happy\", \"happy\", \"anger\", \"anger\", \"happy\", \"happy\", \"anger\", \"happy\", \"sadness\", \"happy\", \"happy\", \"love\", \"happy\", \"love\", \"surprise\", \"sadness\", \"sadness\", \"happy\", \"sadness\", \"happy\", \"sadness\", \"anger\", \"happy\", \"fear\", \"happy\", \"fear\", \"fear\", \"fear\", \"happy\", \"sadness\", \"anger\", \"sadness\", \"surprise\", \"sadness\", \"sadness\", \"happy\", \"happy\", \"sadness\", \"sadness\", \"happy\", \"fear\", \"sadness\", \"anger\", \"love\", \"anger\", \"anger\", \"anger\", \"sadness\", \"happy\", \"sadness\", \"surprise\", \"anger\", \"sadness\", \"sadness\", \"sadness\", \"sadness\", \"sadness\", \"love\", \"sadness\", \"anger\", \"happy\", \"happy\", \"sadness\", \"happy\", \"love\", \"happy\", \"anger\", \"love\", \"happy\", \"happy\", \"happy\", \"surprise\", \"happy\", \"happy\", \"sadness\", \"happy\", \"fear\", \"happy\", \"surprise\", \"happy\", \"happy\", \"fear\", \"happy\", \"anger\", \"fear\", \"sadness\", \"anger\", \"sadness\", \"love\", \"happy\", \"anger\", \"happy\", \"anger\", \"fear\", \"love\", \"sadness\", \"sadness\", \"love\", \"fear\", \"sadness\", \"sadness\", \"anger\", \"sadness\", \"anger\", \"happy\", \"happy\", \"sadness\", \"happy\", \"sadness\", \"anger\", \"happy\", \"sadness\", \"surprise\", \"anger\", \"anger\", \"happy\", \"happy\", \"sadness\", \"sadness\", \"sadness\", \"sadness\", \"happy\", \"anger\", \"sadness\", \"happy\", \"sadness\", \"sadness\", \"fear\", \"anger\", \"anger\", \"love\", \"sadness\", \"sadness\", \"sadness\", \"fear\", \"happy\", \"fear\", \"happy\", \"surprise\", \"happy\", \"sadness\", \"sadness\", \"fear\", \"sadness\", \"love\", \"sadness\", \"happy\", \"sadness\", \"anger\", \"sadness\", \"happy\", \"anger\", \"love\", \"happy\", \"happy\", \"sadness\", \"sadness\", \"happy\", \"sadness\", \"anger\", \"happy\", \"sadness\", \"sadness\", \"sadness\", \"anger\", \"love\", \"anger\", \"anger\", \"sadness\", \"happy\", \"love\", \"sadness\", \"happy\", \"fear\", \"happy\", \"happy\", \"love\", \"sadness\", \"love\", \"happy\", \"happy\", \"anger\", \"surprise\", \"happy\", \"sadness\", \"fear\", \"sadness\", \"sadness\", \"fear\", \"fear\", \"happy\", \"sadness\", \"sadness\", \"sadness\", \"sadness\", \"sadness\", \"anger\", \"fear\", \"sadness\", \"fear\", \"sadness\", \"happy\", \"happy\", \"sadness\", \"fear\", \"fear\", \"happy\", \"anger\", \"anger\", \"fear\", \"happy\", \"happy\", \"sadness\", \"happy\", \"happy\", \"sadness\", \"sadness\", \"love\", \"sadness\", \"happy\", \"fear\", \"anger\", \"fear\", \"anger\", \"happy\", \"fear\", \"sadness\", \"anger\", \"sadness\", \"sadness\", \"happy\", \"sadness\", \"anger\", \"happy\", \"happy\", \"sadness\", \"sadness\", \"sadness\", \"fear\", \"happy\", \"sadness\", \"happy\", \"sadness\", \"sadness\", \"sadness\", \"sadness\", \"love\", \"fear\", \"sadness\", \"surprise\", \"love\", \"fear\", \"fear\", \"happy\", \"sadness\", \"happy\", \"sadness\", \"anger\", \"happy\", \"surprise\", \"fear\", \"fear\", \"sadness\", \"happy\", \"sadness\", \"sadness\", \"anger\", \"sadness\", \"fear\", \"fear\", \"happy\", \"happy\", \"sadness\", \"anger\", \"happy\", \"fear\", \"anger\", \"happy\", \"happy\", \"happy\", \"fear\", \"happy\", \"happy\", \"happy\", \"fear\", \"sadness\", \"anger\", \"happy\", \"fear\", \"sadness\", \"anger\", \"happy\", \"happy\", \"sadness\", \"sadness\", \"love\", \"happy\", \"anger\", \"anger\", \"sadness\", \"happy\", \"fear\", \"happy\", \"happy\", \"happy\", \"happy\", \"fear\", \"sadness\", \"happy\", \"love\", \"happy\", \"happy\", \"love\", \"sadness\", \"happy\", \"fear\", \"happy\", \"sadness\", \"happy\", \"anger\", \"sadness\", \"sadness\", \"happy\", \"happy\", \"happy\", \"happy\", \"fear\", \"sadness\", \"sadness\", \"happy\", \"anger\", \"sadness\", \"happy\", \"happy\", \"sadness\", \"happy\", \"sadness\", \"sadness\", \"happy\", \"happy\", \"anger\", \"happy\", \"fear\", \"sadness\", \"sadness\", \"love\", \"happy\", \"anger\", \"sadness\", \"anger\", \"fear\", \"fear\", \"happy\", \"sadness\", \"sadness\", \"sadness\", \"sadness\", \"happy\", \"happy\", \"anger\", \"sadness\", \"fear\", \"love\", \"surprise\", \"sadness\", \"fear\", \"anger\", \"fear\", \"sadness\", \"love\", \"sadness\", \"sadness\", \"fear\", \"happy\", \"love\", \"sadness\", \"sadness\", \"love\", \"surprise\", \"sadness\", \"love\", \"happy\", \"happy\", \"love\", \"sadness\", \"love\", \"happy\", \"happy\", \"happy\", \"sadness\", \"happy\", \"happy\", \"sadness\", \"sadness\", \"sadness\", \"happy\", \"love\", \"happy\", \"love\", \"happy\", \"fear\", \"happy\", \"fear\", \"happy\", \"happy\", \"happy\", \"sadness\", \"sadness\", \"fear\", \"happy\", \"happy\", \"sadness\", \"happy\", \"happy\", \"sadness\", \"happy\", \"anger\", \"fear\", \"sadness\", \"sadness\", \"sadness\", \"sadness\", \"fear\", \"happy\", \"happy\", \"love\", \"fear\", \"happy\", \"happy\", \"sadness\", \"fear\", \"surprise\", \"happy\", \"sadness\", \"sadness\", \"sadness\", \"happy\", \"sadness\", \"love\", \"love\", \"fear\", \"happy\", \"fear\", \"anger\", \"anger\", \"fear\", \"anger\", \"anger\", \"happy\", \"sadness\", \"sadness\", \"love\", \"happy\", \"happy\", \"love\", \"happy\", \"love\", \"sadness\", \"surprise\", \"happy\", \"sadness\", \"happy\", \"anger\", \"sadness\", \"fear\", \"sadness\", \"fear\", \"happy\", \"fear\", \"happy\", \"anger\", \"fear\", \"fear\", \"sadness\", \"sadness\", \"happy\", \"anger\", \"anger\", \"happy\", \"happy\", \"happy\", \"sadness\", \"happy\", \"fear\", \"happy\", \"sadness\", \"sadness\", \"sadness\", \"happy\", \"love\", \"anger\", \"happy\", \"anger\", \"happy\", \"anger\", \"happy\", \"fear\", \"happy\", \"anger\", \"anger\", \"happy\", \"fear\", \"sadness\", \"happy\", \"fear\", \"sadness\", \"fear\", \"happy\", \"happy\", \"happy\", \"happy\", \"happy\", \"sadness\", \"anger\", \"sadness\", \"happy\", \"anger\", \"anger\", \"happy\", \"happy\", \"sadness\", \"sadness\", \"fear\", \"happy\", \"fear\", \"happy\", \"sadness\", \"sadness\", \"love\", \"happy\", \"happy\", \"fear\", \"fear\", \"sadness\", \"happy\", \"fear\", \"happy\", \"sadness\", \"love\", \"anger\", \"happy\", \"sadness\", \"love\", \"love\", \"happy\", \"happy\", \"fear\", \"fear\", \"sadness\", \"happy\", \"happy\", \"sadness\", \"anger\", \"fear\", \"sadness\", \"fear\", \"happy\", \"surprise\", \"sadness\", \"sadness\", \"fear\", \"sadness\", \"happy\", \"sadness\", \"anger\", \"sadness\", \"fear\", \"happy\", \"fear\", \"sadness\", \"love\", \"sadness\", \"sadness\", \"happy\", \"happy\", \"happy\", \"sadness\", \"happy\", \"sadness\", \"surprise\", \"sadness\", \"anger\", \"happy\", \"sadness\", \"happy\", \"happy\", \"sadness\", \"anger\", \"love\", \"anger\", \"fear\", \"happy\", \"sadness\", \"happy\", \"fear\", \"love\", \"sadness\", \"happy\", \"sadness\", \"sadness\", \"happy\", \"fear\", \"sadness\", \"love\", \"sadness\", \"sadness\", \"happy\", \"love\", \"sadness\", \"love\", \"happy\", \"fear\", \"anger\", \"fear\", \"sadness\", \"fear\", \"fear\", \"sadness\", \"sadness\", \"fear\", \"happy\", \"happy\", \"happy\", \"anger\", \"love\", \"fear\", \"sadness\", \"happy\", \"sadness\", \"anger\", \"sadness\", \"happy\", \"love\", \"happy\", \"sadness\", \"happy\", \"sadness\", \"sadness\", \"sadness\", \"sadness\", \"happy\", \"anger\", \"love\", \"sadness\", \"happy\", \"sadness\", \"love\", \"happy\", \"happy\", \"happy\", \"sadness\", \"fear\", \"happy\", \"sadness\", \"happy\", \"happy\", \"surprise\", \"happy\", \"fear\", \"fear\", \"anger\", \"fear\", \"sadness\", \"sadness\", \"sadness\", \"fear\", \"sadness\", \"anger\", \"happy\", \"anger\", \"sadness\", \"sadness\", \"anger\", \"fear\", \"anger\", \"fear\", \"love\", \"anger\", \"love\", \"happy\", \"fear\", \"anger\", \"happy\", \"love\", \"happy\", \"sadness\", \"love\", \"happy\", \"love\", \"fear\", \"happy\", \"fear\", \"fear\", \"sadness\", \"sadness\", \"happy\", \"love\", \"sadness\", \"happy\", \"sadness\", \"sadness\", \"love\", \"sadness\", \"sadness\", \"fear\", \"happy\", \"sadness\", \"happy\", \"anger\", \"happy\", \"fear\", \"sadness\", \"happy\", \"happy\", \"love\", \"surprise\", \"happy\", \"anger\", \"love\", \"anger\", \"sadness\", \"happy\", \"happy\", \"happy\", \"love\", \"sadness\", \"love\", \"happy\", \"sadness\", \"happy\", \"happy\", \"anger\", \"anger\", \"happy\", \"sadness\", \"fear\", \"sadness\", \"happy\", \"fear\", \"happy\", \"anger\", \"sadness\", \"happy\", \"happy\", \"happy\", \"fear\", \"fear\", \"sadness\", \"happy\", \"sadness\", \"sadness\", \"happy\", \"happy\", \"sadness\", \"happy\", \"fear\", \"anger\", \"happy\", \"sadness\", \"fear\", \"happy\", \"sadness\", \"love\", \"anger\", \"sadness\", \"happy\", \"surprise\", \"happy\", \"happy\", \"fear\", \"anger\", \"fear\", \"fear\", \"anger\", \"happy\", \"anger\", \"anger\", \"surprise\", \"anger\", \"fear\", \"sadness\", \"happy\", \"happy\", \"happy\", \"sadness\", \"love\", \"sadness\", \"happy\", \"sadness\", \"happy\", \"fear\", \"sadness\", \"happy\", \"fear\", \"anger\", \"happy\", \"anger\", \"sadness\", \"happy\", \"anger\", \"happy\", \"sadness\", \"fear\", \"happy\", \"happy\", \"sadness\", \"sadness\", \"anger\", \"love\", \"sadness\", \"sadness\", \"happy\", \"happy\", \"anger\", \"love\", \"anger\", \"sadness\", \"sadness\", \"happy\", \"sadness\", \"surprise\", \"surprise\", \"sadness\", \"fear\", \"happy\", \"happy\", \"happy\", \"fear\", \"sadness\", \"happy\", \"fear\", \"sadness\", \"happy\", \"fear\", \"happy\", \"happy\", \"sadness\", \"fear\", \"happy\", \"anger\", \"fear\", \"sadness\", \"happy\", \"anger\", \"sadness\", \"happy\", \"sadness\", \"sadness\", \"sadness\", \"sadness\", \"sadness\", \"love\", \"sadness\", \"anger\", \"fear\", \"sadness\", \"happy\", \"sadness\", \"sadness\", \"love\", \"fear\", \"anger\", \"anger\", \"happy\", \"fear\", \"happy\", \"happy\", \"sadness\", \"sadness\", \"sadness\", \"sadness\", \"sadness\", \"anger\", \"fear\", \"sadness\", \"love\", \"happy\", \"sadness\", \"happy\", \"happy\", \"fear\", \"fear\", \"happy\", \"sadness\", \"love\", \"sadness\", \"sadness\", \"love\", \"fear\", \"anger\", \"anger\", \"happy\", \"sadness\", \"sadness\", \"happy\", \"anger\", \"happy\", \"sadness\", \"sadness\", \"sadness\", \"sadness\", \"fear\", \"sadness\", \"anger\", \"happy\", \"happy\", \"anger\", \"anger\", \"love\", \"happy\", \"fear\", \"happy\", \"sadness\", \"sadness\", \"surprise\", \"happy\", \"happy\", \"happy\", \"sadness\", \"happy\", \"sadness\", \"anger\", \"anger\", \"happy\", \"sadness\", \"sadness\", \"sadness\", \"happy\", \"sadness\", \"love\", \"happy\", \"surprise\", \"sadness\", \"sadness\", \"happy\", \"anger\", \"sadness\", \"sadness\", \"fear\", \"fear\", \"sadness\", \"sadness\", \"happy\", \"happy\", \"happy\", \"love\", \"love\", \"love\", \"happy\", \"fear\", \"fear\", \"happy\", \"sadness\", \"anger\", \"happy\", \"happy\", \"anger\", \"anger\", \"anger\", \"sadness\", \"love\", \"happy\", \"sadness\", \"surprise\", \"sadness\", \"sadness\", \"sadness\", \"sadness\", \"sadness\", \"anger\", \"sadness\", \"anger\", \"love\", \"anger\", \"happy\", \"anger\", \"fear\", \"fear\", \"sadness\", \"fear\", \"fear\", \"happy\", \"anger\", \"happy\", \"happy\", \"sadness\", \"sadness\", \"happy\", \"sadness\", \"sadness\", \"fear\", \"sadness\", \"happy\", \"happy\", \"surprise\", \"sadness\", \"love\", \"sadness\", \"love\", \"happy\", \"sadness\", \"happy\", \"anger\", \"happy\", \"anger\", \"fear\", \"happy\", \"love\", \"sadness\", \"sadness\", \"love\", \"sadness\", \"happy\", \"happy\", \"anger\", \"happy\", \"anger\", \"love\", \"sadness\", \"anger\", \"happy\", \"sadness\", \"happy\", \"sadness\", \"happy\", \"anger\", \"anger\", \"sadness\", \"love\", \"happy\", \"happy\", \"sadness\", \"love\", \"love\", \"surprise\", \"happy\", \"happy\", \"happy\", \"happy\", \"happy\", \"sadness\", \"happy\", \"anger\", \"fear\", \"anger\", \"love\", \"sadness\", \"happy\", \"sadness\", \"happy\", \"happy\", \"happy\", \"surprise\", \"happy\", \"happy\", \"surprise\", \"sadness\", \"sadness\", \"love\", \"anger\", \"happy\", \"love\", \"fear\", \"love\", \"fear\", \"happy\", \"sadness\", \"anger\", \"sadness\", \"happy\", \"happy\", \"sadness\", \"happy\", \"happy\", \"happy\", \"happy\", \"happy\", \"sadness\", \"sadness\", \"sadness\", \"love\", \"sadness\", \"sadness\", \"anger\", \"happy\", \"happy\", \"anger\", \"happy\", \"happy\", \"happy\", \"fear\", \"sadness\", \"love\", \"sadness\", \"anger\", \"sadness\", \"happy\", \"happy\", \"sadness\", \"sadness\", \"sadness\", \"sadness\", \"happy\", \"anger\", \"happy\", \"happy\", \"sadness\", \"sadness\", \"anger\", \"anger\", \"sadness\", \"happy\", \"fear\", \"sadness\", \"fear\", \"happy\", \"sadness\", \"anger\", \"happy\", \"happy\", \"fear\", \"happy\", \"sadness\", \"sadness\", \"sadness\", \"happy\", \"happy\", \"sadness\", \"sadness\", \"fear\", \"sadness\", \"happy\", \"love\", \"sadness\", \"sadness\", \"sadness\", \"happy\", \"fear\", \"fear\", \"sadness\", \"anger\", \"anger\", \"happy\", \"happy\", \"sadness\", \"fear\", \"happy\", \"anger\", \"fear\", \"anger\", \"sadness\", \"happy\", \"sadness\", \"happy\", \"sadness\", \"anger\", \"sadness\", \"happy\", \"happy\", \"happy\", \"anger\", \"sadness\", \"surprise\", \"sadness\", \"love\", \"happy\", \"happy\", \"fear\", \"sadness\", \"love\", \"happy\", \"happy\", \"sadness\", \"love\", \"happy\", \"fear\", \"surprise\", \"happy\", \"happy\", \"happy\", \"fear\", \"happy\", \"anger\", \"sadness\", \"happy\", \"sadness\", \"sadness\", \"sadness\", \"happy\", \"happy\", \"fear\", \"fear\", \"sadness\", \"sadness\", \"anger\", \"happy\", \"sadness\", \"happy\", \"sadness\", \"surprise\", \"happy\", \"anger\", \"love\", \"fear\", \"sadness\", \"love\", \"anger\", \"happy\", \"love\", \"sadness\", \"happy\", \"happy\", \"sadness\", \"love\", \"love\", \"love\", \"anger\", \"sadness\", \"fear\", \"sadness\", \"happy\", \"fear\", \"happy\", \"love\", \"sadness\", \"sadness\", \"happy\", \"happy\", \"love\", \"anger\", \"anger\", \"fear\", \"happy\", \"happy\", \"happy\", \"anger\", \"sadness\", \"happy\", \"fear\", \"fear\", \"sadness\", \"fear\", \"anger\", \"love\", \"happy\", \"sadness\", \"sadness\", \"fear\", \"happy\", \"happy\", \"sadness\", \"happy\", \"happy\", \"happy\", \"happy\", \"love\", \"anger\", \"happy\", \"happy\", \"sadness\", \"fear\", \"fear\", \"fear\", \"happy\", \"happy\", \"happy\", \"anger\", \"happy\", \"happy\", \"fear\", \"sadness\", \"sadness\", \"sadness\", \"sadness\", \"anger\", \"sadness\", \"fear\", \"sadness\", \"surprise\", \"sadness\", \"fear\", \"anger\", \"anger\", \"fear\", \"sadness\", \"fear\", \"love\", \"love\", \"happy\", \"surprise\", \"sadness\", \"happy\", \"anger\", \"anger\", \"sadness\", \"anger\", \"fear\", \"fear\", \"love\", \"surprise\", \"sadness\", \"happy\", \"happy\", \"happy\", \"sadness\", \"sadness\", \"sadness\", \"fear\", \"sadness\", \"happy\", \"happy\", \"fear\", \"happy\", \"fear\", \"love\", \"surprise\", \"happy\", \"anger\", \"happy\", \"love\", \"fear\", \"fear\", \"sadness\", \"surprise\", \"happy\", \"fear\", \"sadness\", \"happy\", \"sadness\", \"happy\", \"sadness\", \"love\", \"surprise\", \"anger\", \"happy\", \"happy\", \"sadness\", \"sadness\", \"happy\", \"anger\", \"happy\", \"happy\", \"happy\", \"happy\", \"fear\", \"happy\", \"anger\", \"love\", \"fear\", \"sadness\", \"sadness\", \"happy\", \"anger\", \"surprise\", \"happy\", \"anger\", \"sadness\", \"happy\", \"love\", \"happy\", \"anger\", \"sadness\", \"happy\", \"happy\", \"sadness\", \"fear\", \"sadness\", \"anger\", \"sadness\", \"love\", \"sadness\", \"happy\", \"surprise\", \"sadness\", \"happy\", \"fear\", \"happy\", \"happy\", \"happy\", \"sadness\", \"fear\", \"fear\", \"sadness\", \"sadness\", \"anger\", \"anger\", \"happy\", \"happy\", \"happy\", \"happy\", \"sadness\", \"happy\", \"happy\", \"anger\", \"happy\", \"happy\", \"anger\", \"happy\", \"anger\", \"happy\", \"sadness\", \"fear\", \"sadness\", \"happy\", \"anger\", \"love\", \"fear\", \"happy\", \"anger\", \"fear\", \"fear\", \"happy\", \"sadness\", \"sadness\", \"anger\", \"happy\", \"anger\", \"happy\", \"happy\", \"happy\", \"fear\", \"sadness\", \"sadness\", \"sadness\", \"fear\", \"happy\", \"anger\", \"sadness\", \"fear\", \"sadness\", \"happy\", \"sadness\", \"anger\", \"anger\", \"anger\", \"happy\", \"sadness\", \"sadness\", \"happy\", \"sadness\", \"fear\", \"sadness\", \"sadness\", \"sadness\", \"sadness\", \"sadness\", \"surprise\", \"happy\", \"happy\", \"sadness\", \"love\", \"happy\", \"happy\", \"happy\", \"anger\", \"anger\", \"happy\", \"happy\", \"sadness\", \"happy\", \"love\", \"happy\", \"love\", \"sadness\", \"anger\", \"fear\", \"happy\", \"sadness\", \"sadness\", \"surprise\", \"love\", \"happy\", \"happy\", \"happy\", \"fear\", \"sadness\", \"happy\", \"sadness\", \"happy\", \"surprise\", \"happy\", \"fear\", \"happy\", \"happy\", \"surprise\", \"sadness\", \"sadness\", \"sadness\", \"anger\", \"sadness\", \"happy\", \"sadness\", \"love\", \"anger\", \"happy\", \"sadness\", \"happy\", \"happy\", \"love\", \"sadness\", \"sadness\", \"happy\", \"fear\", \"love\", \"happy\", \"sadness\", \"love\", \"happy\", \"happy\", \"fear\", \"happy\", \"happy\", \"happy\", \"anger\", \"love\", \"sadness\", \"happy\", \"happy\", \"happy\", \"sadness\", \"happy\", \"sadness\", \"surprise\", \"sadness\", \"happy\", \"happy\", \"happy\", \"love\", \"fear\", \"sadness\", \"happy\", \"sadness\", \"happy\", \"sadness\", \"love\", \"happy\", \"love\", \"sadness\", \"fear\", \"anger\", \"surprise\", \"happy\", \"sadness\", \"fear\", \"sadness\", \"sadness\", \"happy\", \"sadness\", \"happy\", \"happy\", \"sadness\", \"happy\", \"anger\", \"sadness\", \"fear\", \"happy\", \"happy\", \"happy\", \"surprise\", \"sadness\", \"happy\", \"fear\", \"happy\", \"sadness\", \"sadness\", \"sadness\", \"happy\", \"anger\", \"sadness\", \"happy\", \"fear\", \"happy\", \"happy\", \"happy\", \"happy\", \"sadness\", \"sadness\", \"sadness\", \"love\", \"happy\", \"fear\", \"love\", \"sadness\", \"anger\", \"sadness\", \"happy\", \"happy\", \"love\", \"sadness\", \"love\", \"happy\", \"happy\", \"happy\", \"happy\", \"sadness\", \"sadness\", \"fear\", \"sadness\", \"sadness\", \"happy\", \"sadness\", \"happy\", \"love\", \"love\", \"love\", \"happy\", \"love\", \"happy\", \"happy\", \"happy\", \"happy\", \"happy\", \"love\", \"sadness\", \"happy\", \"sadness\", \"happy\", \"anger\", \"sadness\", \"happy\", \"happy\", \"fear\", \"fear\", \"happy\", \"happy\", \"anger\", \"sadness\", \"love\", \"fear\", \"sadness\", \"happy\", \"happy\", \"anger\", \"fear\", \"fear\", \"anger\", \"fear\", \"fear\", \"anger\", \"happy\", \"fear\", \"surprise\", \"fear\", \"sadness\", \"happy\", \"love\", \"happy\", \"anger\", \"fear\", \"happy\", \"happy\", \"happy\", \"happy\", \"happy\", \"fear\", \"sadness\", \"sadness\", \"sadness\", \"fear\", \"happy\", \"surprise\", \"anger\", \"happy\", \"happy\", \"fear\", \"sadness\", \"happy\", \"happy\", \"anger\", \"fear\", \"fear\", \"happy\", \"sadness\", \"happy\", \"happy\", \"sadness\", \"fear\", \"happy\", \"sadness\", \"happy\", \"sadness\", \"happy\", \"sadness\", \"anger\", \"happy\", \"love\", \"sadness\", \"sadness\", \"fear\", \"happy\", \"sadness\", \"sadness\", \"love\", \"sadness\", \"fear\", \"anger\", \"sadness\", \"anger\", \"happy\", \"sadness\", \"anger\", \"anger\", \"happy\", \"fear\", \"love\", \"happy\", \"sadness\", \"happy\", \"sadness\", \"happy\", \"happy\", \"sadness\", \"sadness\", \"sadness\", \"fear\", \"fear\", \"love\", \"fear\", \"happy\", \"love\", \"anger\", \"sadness\", \"sadness\", \"happy\", \"anger\", \"happy\", \"sadness\", \"happy\", \"happy\", \"love\", \"anger\", \"anger\", \"love\", \"sadness\", \"anger\", \"happy\", \"anger\", \"happy\", \"fear\", \"happy\", \"happy\", \"fear\", \"sadness\", \"sadness\", \"happy\", \"happy\", \"happy\", \"happy\", \"happy\", \"happy\", \"sadness\", \"sadness\", \"sadness\", \"happy\", \"surprise\", \"happy\", \"love\", \"happy\", \"anger\", \"love\", \"sadness\", \"happy\", \"happy\", \"happy\", \"happy\", \"sadness\", \"sadness\", \"sadness\", \"love\", \"sadness\", \"anger\", \"happy\", \"sadness\", \"sadness\", \"happy\", \"happy\", \"sadness\", \"sadness\", \"love\", \"fear\", \"happy\", \"sadness\", \"sadness\", \"happy\", \"sadness\", \"love\", \"anger\", \"love\", \"anger\", \"sadness\", \"happy\", \"anger\", \"anger\", \"love\", \"fear\", \"sadness\", \"sadness\", \"happy\", \"happy\", \"happy\", \"sadness\", \"happy\", \"sadness\", \"sadness\", \"happy\", \"happy\", \"sadness\", \"happy\", \"happy\", \"happy\", \"happy\", \"sadness\", \"sadness\", \"surprise\", \"happy\", \"anger\", \"fear\", \"happy\", \"happy\", \"sadness\", \"happy\", \"happy\", \"happy\", \"happy\", \"surprise\", \"happy\", \"surprise\", \"happy\", \"fear\", \"sadness\", \"happy\", \"happy\", \"surprise\", \"anger\", \"fear\", \"sadness\", \"anger\", \"fear\", \"happy\", \"sadness\", \"fear\", \"love\", \"happy\", \"sadness\", \"sadness\", \"sadness\", \"sadness\", \"happy\", \"sadness\", \"happy\", \"fear\", \"sadness\", \"sadness\", \"sadness\", \"happy\", \"anger\", \"happy\", \"sadness\", \"happy\", \"sadness\", \"happy\", \"sadness\", \"sadness\", \"happy\", \"sadness\", \"happy\", \"happy\", \"anger\", \"sadness\", \"happy\", \"happy\", \"anger\", \"anger\", \"happy\", \"love\", \"happy\", \"anger\", \"fear\", \"sadness\", \"love\", \"sadness\", \"love\", \"sadness\", \"sadness\", \"sadness\", \"happy\", \"sadness\", \"fear\", \"happy\", \"anger\", \"sadness\", \"sadness\", \"sadness\", \"love\", \"happy\", \"anger\", \"happy\", \"happy\", \"fear\", \"happy\", \"sadness\", \"happy\", \"sadness\", \"fear\", \"love\", \"love\", \"happy\", \"happy\", \"sadness\", \"happy\", \"happy\", \"happy\", \"sadness\", \"fear\", \"happy\", \"happy\", \"sadness\", \"fear\", \"happy\", \"sadness\", \"anger\", \"love\", \"anger\", \"sadness\", \"surprise\", \"fear\", \"anger\", \"surprise\", \"surprise\", \"sadness\", \"anger\", \"fear\", \"happy\", \"happy\", \"happy\", \"anger\", \"fear\", \"sadness\", \"happy\", \"happy\", \"love\", \"happy\", \"anger\", \"happy\", \"fear\", \"happy\", \"sadness\", \"happy\", \"happy\", \"sadness\", \"happy\", \"sadness\", \"anger\", \"anger\", \"happy\", \"sadness\", \"happy\", \"happy\", \"sadness\", \"anger\", \"anger\", \"sadness\", \"happy\", \"happy\", \"love\", \"happy\", \"happy\", \"happy\", \"love\", \"love\", \"happy\", \"fear\", \"sadness\", \"fear\", \"sadness\", \"sadness\", \"anger\", \"sadness\", \"happy\", \"anger\", \"fear\", \"anger\", \"anger\", \"anger\", \"love\", \"happy\", \"sadness\", \"sadness\", \"sadness\", \"fear\", \"happy\", \"happy\", \"anger\", \"sadness\", \"anger\", \"happy\", \"anger\", \"happy\", \"happy\", \"anger\", \"happy\", \"sadness\", \"happy\", \"fear\", \"happy\", \"love\", \"love\", \"sadness\", \"sadness\", \"fear\", \"anger\", \"happy\", \"anger\", \"happy\", \"happy\", \"anger\", \"sadness\", \"happy\", \"happy\", \"surprise\", \"fear\", \"happy\", \"love\", \"love\", \"sadness\", \"sadness\", \"sadness\", \"sadness\", \"anger\", \"sadness\", \"sadness\", \"happy\", \"fear\", \"love\", \"anger\", \"anger\", \"fear\", \"happy\", \"fear\", \"sadness\", \"sadness\", \"anger\", \"sadness\", \"happy\", \"happy\", \"sadness\", \"fear\", \"anger\", \"sadness\", \"anger\", \"sadness\", \"happy\", \"sadness\", \"happy\", \"fear\", \"sadness\", \"sadness\", \"happy\", \"sadness\", \"sadness\", \"happy\", \"happy\", \"happy\", \"happy\", \"sadness\", \"fear\", \"sadness\", \"love\", \"happy\", \"happy\", \"happy\", \"happy\", \"sadness\", \"sadness\", \"happy\", \"sadness\", \"happy\", \"happy\", \"anger\", \"happy\", \"happy\", \"happy\", \"happy\", \"fear\", \"happy\", \"sadness\", \"happy\", \"sadness\", \"sadness\", \"happy\", \"happy\", \"fear\", \"sadness\", \"fear\", \"sadness\", \"sadness\", \"sadness\", \"sadness\", \"anger\", \"happy\", \"fear\", \"happy\", \"happy\", \"fear\", \"happy\", \"sadness\", \"sadness\", \"happy\", \"anger\", \"sadness\", \"happy\", \"fear\", \"sadness\", \"happy\", \"happy\", \"fear\", \"anger\", \"happy\", \"anger\", \"sadness\", \"anger\", \"love\", \"sadness\", \"happy\", \"anger\", \"sadness\", \"sadness\", \"happy\", \"happy\", \"happy\", \"happy\", \"sadness\", \"fear\", \"sadness\", \"fear\", \"happy\", \"anger\", \"anger\", \"happy\", \"sadness\", \"happy\", \"happy\", \"anger\", \"sadness\", \"sadness\", \"happy\", \"sadness\", \"love\", \"fear\", \"fear\", \"happy\", \"love\", \"happy\", \"happy\", \"fear\", \"sadness\", \"sadness\", \"fear\", \"love\", \"sadness\", \"happy\", \"happy\", \"fear\", \"love\", \"fear\", \"sadness\", \"happy\", \"sadness\", \"love\", \"fear\", \"sadness\", \"happy\", \"happy\", \"sadness\", \"sadness\", \"love\", \"happy\", \"happy\", \"happy\", \"fear\", \"sadness\", \"fear\", \"sadness\", \"sadness\", \"fear\", \"fear\", \"love\", \"sadness\", \"surprise\", \"sadness\", \"happy\", \"fear\", \"love\", \"love\", \"happy\", \"love\", \"fear\", \"sadness\", \"anger\", \"happy\", \"sadness\", \"sadness\", \"love\", \"happy\", \"sadness\", \"sadness\", \"happy\", \"love\", \"sadness\", \"anger\", \"sadness\", \"fear\", \"sadness\", \"sadness\", \"happy\", \"happy\", \"happy\", \"happy\", \"fear\", \"happy\", \"sadness\", \"sadness\", \"fear\", \"happy\", \"fear\", \"sadness\", \"anger\", \"sadness\", \"happy\", \"sadness\", \"sadness\", \"happy\", \"sadness\", \"happy\", \"sadness\", \"happy\", \"happy\", \"happy\", \"happy\", \"fear\", \"sadness\", \"anger\", \"happy\", \"fear\", \"happy\", \"happy\", \"sadness\", \"sadness\", \"sadness\", \"sadness\", \"fear\", \"anger\", \"happy\", \"sadness\", \"happy\", \"fear\", \"anger\", \"sadness\", \"anger\", \"sadness\", \"sadness\", \"happy\", \"sadness\", \"love\", \"sadness\", \"fear\", \"happy\", \"happy\", \"happy\", \"happy\", \"happy\", \"anger\", \"sadness\", \"sadness\", \"anger\", \"sadness\", \"sadness\", \"happy\", \"anger\", \"anger\", \"happy\", \"happy\", \"fear\", \"love\", \"anger\", \"sadness\", \"sadness\", \"fear\", \"sadness\", \"happy\", \"fear\", \"surprise\", \"sadness\", \"fear\", \"sadness\", \"love\", \"fear\", \"sadness\", \"sadness\", \"sadness\", \"happy\", \"sadness\", \"love\", \"fear\", \"anger\", \"anger\", \"happy\", \"happy\", \"happy\", \"happy\", \"sadness\", \"sadness\", \"happy\", \"happy\", \"anger\", \"happy\", \"anger\", \"happy\", \"sadness\", \"happy\", \"happy\", \"anger\", \"sadness\", \"sadness\", \"happy\", \"sadness\", \"happy\", \"love\", \"anger\", \"happy\", \"anger\", \"happy\", \"anger\", \"sadness\", \"sadness\", \"love\", \"sadness\", \"anger\", \"happy\", \"love\", \"happy\", \"anger\", \"sadness\", \"happy\", \"sadness\", \"anger\", \"anger\", \"sadness\", \"happy\", \"fear\", \"anger\", \"love\", \"sadness\", \"anger\", \"sadness\", \"fear\", \"happy\", \"sadness\", \"sadness\", \"anger\", \"anger\", \"fear\", \"surprise\", \"fear\", \"sadness\", \"happy\", \"happy\", \"love\", \"happy\", \"love\", \"happy\", \"sadness\", \"love\", \"happy\", \"happy\", \"happy\", \"sadness\", \"happy\", \"sadness\", \"happy\", \"anger\", \"happy\", \"love\", \"happy\", \"sadness\", \"sadness\", \"sadness\", \"anger\", \"fear\", \"love\", \"happy\", \"anger\", \"sadness\", \"sadness\", \"happy\", \"fear\", \"happy\", \"fear\", \"love\", \"love\", \"anger\", \"anger\", \"sadness\", \"fear\", \"sadness\", \"sadness\", \"surprise\", \"love\", \"happy\", \"happy\", \"love\", \"sadness\", \"happy\", \"happy\", \"fear\", \"sadness\", \"anger\", \"anger\", \"sadness\", \"love\", \"fear\", \"fear\", \"anger\", \"anger\", \"happy\", \"sadness\", \"sadness\", \"happy\", \"happy\", \"fear\", \"sadness\", \"happy\", \"love\", \"fear\", \"anger\", \"sadness\", \"happy\", \"anger\", \"surprise\", \"fear\", \"happy\", \"happy\", \"love\", \"fear\", \"sadness\", \"happy\", \"anger\", \"fear\", \"anger\", \"sadness\", \"sadness\", \"sadness\", \"anger\", \"sadness\", \"fear\", \"happy\", \"anger\", \"anger\", \"sadness\", \"fear\", \"happy\", \"anger\", \"fear\", \"sadness\", \"happy\", \"fear\", \"happy\", \"love\", \"anger\", \"fear\", \"fear\", \"fear\", \"fear\", \"happy\", \"anger\", \"anger\", \"sadness\", \"happy\", \"sadness\", \"happy\", \"sadness\", \"sadness\", \"happy\", \"sadness\", \"fear\", \"fear\", \"happy\", \"sadness\", \"happy\", \"sadness\", \"happy\", \"fear\", \"anger\", \"sadness\", \"happy\", \"anger\", \"happy\", \"happy\", \"sadness\", \"happy\", \"happy\", \"anger\", \"anger\", \"happy\", \"happy\", \"happy\", \"sadness\", \"happy\", \"happy\", \"happy\", \"anger\", \"anger\", \"happy\", \"love\", \"happy\", \"love\", \"happy\", \"happy\", \"happy\", \"sadness\", \"happy\", \"sadness\", \"surprise\", \"sadness\", \"anger\", \"anger\", \"anger\", \"fear\", \"fear\", \"happy\", \"fear\", \"fear\", \"happy\", \"anger\", \"happy\", \"happy\", \"happy\", \"love\", \"happy\", \"fear\", \"sadness\", \"sadness\", \"surprise\", \"sadness\", \"sadness\", \"anger\", \"happy\", \"love\", \"fear\", \"happy\", \"anger\", \"happy\", \"surprise\", \"anger\", \"fear\", \"sadness\", \"happy\", \"sadness\", \"happy\", \"sadness\", \"love\", \"fear\", \"sadness\", \"sadness\", \"surprise\", \"happy\", \"anger\", \"anger\", \"sadness\", \"surprise\", \"anger\", \"happy\", \"fear\", \"sadness\", \"fear\", \"happy\", \"happy\", \"fear\", \"sadness\", \"happy\", \"happy\", \"happy\", \"fear\", \"sadness\", \"love\", \"fear\", \"love\", \"sadness\", \"anger\", \"love\", \"sadness\", \"happy\", \"happy\", \"happy\", \"fear\", \"sadness\", \"anger\", \"fear\", \"love\", \"happy\", \"love\", \"anger\", \"sadness\", \"happy\", \"happy\", \"love\", \"sadness\", \"happy\", \"sadness\", \"happy\", \"sadness\", \"sadness\", \"fear\", \"anger\", \"happy\", \"sadness\", \"happy\", \"sadness\", \"happy\", \"happy\", \"sadness\", \"surprise\", \"happy\", \"happy\", \"anger\", \"happy\", \"happy\", \"fear\", \"happy\", \"sadness\", \"sadness\", \"fear\", \"anger\", \"sadness\", \"happy\", \"sadness\", \"sadness\", \"happy\", \"anger\", \"sadness\", \"sadness\", \"fear\", \"sadness\", \"happy\", \"surprise\", \"sadness\", \"happy\", \"sadness\", \"anger\", \"anger\", \"fear\", \"happy\", \"happy\", \"fear\", \"fear\", \"love\", \"sadness\", \"love\", \"happy\", \"sadness\", \"happy\", \"happy\", \"happy\", \"anger\", \"surprise\", \"happy\", \"anger\", \"anger\", \"anger\", \"happy\", \"sadness\", \"fear\", \"anger\", \"happy\", \"sadness\", \"sadness\", \"fear\", \"happy\", \"happy\", \"anger\", \"sadness\", \"happy\", \"fear\", \"happy\", \"sadness\", \"sadness\", \"happy\", \"happy\", \"sadness\", \"sadness\", \"sadness\", \"surprise\", \"love\", \"surprise\", \"happy\", \"happy\", \"happy\", \"happy\", \"love\", \"happy\", \"sadness\", \"fear\", \"fear\", \"sadness\", \"anger\", \"happy\", \"happy\", \"fear\", \"sadness\", \"sadness\", \"sadness\", \"fear\", \"happy\", \"love\", \"anger\", \"sadness\", \"happy\", \"happy\", \"happy\", \"sadness\", \"love\", \"sadness\", \"happy\", \"happy\", \"sadness\", \"happy\", \"happy\", \"sadness\", \"sadness\", \"happy\", \"fear\", \"sadness\", \"happy\", \"happy\", \"sadness\", \"happy\", \"sadness\", \"sadness\", \"happy\", \"love\", \"happy\", \"sadness\", \"sadness\", \"sadness\", \"love\", \"happy\", \"happy\", \"happy\", \"surprise\", \"happy\", \"anger\", \"happy\", \"sadness\", \"happy\", \"happy\", \"fear\", \"anger\", \"happy\", \"sadness\", \"happy\", \"sadness\", \"sadness\", \"sadness\", \"happy\", \"happy\", \"sadness\", \"happy\", \"surprise\", \"happy\", \"sadness\", \"surprise\", \"fear\", \"happy\", \"happy\", \"sadness\", \"sadness\", \"surprise\", \"sadness\", \"fear\", \"fear\", \"anger\", \"surprise\", \"love\", \"surprise\", \"anger\", \"happy\", \"happy\", \"happy\", \"sadness\", \"happy\", \"happy\", \"sadness\", \"anger\", \"sadness\", \"sadness\", \"sadness\", \"happy\", \"fear\", \"happy\", \"happy\", \"happy\", \"sadness\", \"happy\", \"sadness\", \"happy\", \"sadness\", \"sadness\", \"fear\", \"happy\", \"happy\", \"sadness\", \"happy\", \"happy\", \"anger\", \"happy\", \"happy\", \"sadness\", \"happy\", \"sadness\", \"fear\", \"anger\", \"happy\", \"happy\", \"anger\", \"happy\", \"sadness\", \"love\", \"anger\", \"happy\", \"sadness\", \"love\", \"fear\", \"anger\", \"happy\", \"sadness\", \"sadness\", \"happy\", \"happy\", \"fear\", \"sadness\", \"sadness\", \"love\", \"sadness\", \"anger\", \"happy\", \"sadness\", \"anger\", \"sadness\", \"sadness\", \"happy\", \"fear\", \"surprise\", \"fear\", \"happy\", \"sadness\", \"happy\", \"anger\", \"surprise\", \"sadness\", \"anger\", \"anger\", \"fear\", \"sadness\", \"sadness\", \"happy\", \"sadness\", \"fear\", \"sadness\", \"anger\", \"sadness\", \"happy\", \"anger\", \"happy\", \"love\", \"anger\", \"fear\", \"love\", \"love\", \"sadness\", \"sadness\", \"anger\", \"happy\", \"love\", \"sadness\", \"happy\", \"sadness\", \"sadness\", \"fear\", \"fear\", \"fear\", \"sadness\", \"love\", \"happy\", \"love\", \"sadness\", \"fear\", \"happy\", \"fear\", \"happy\", \"happy\", \"anger\", \"happy\", \"fear\", \"happy\", \"happy\", \"sadness\", \"anger\", \"sadness\", \"happy\", \"anger\", \"fear\", \"surprise\", \"happy\", \"sadness\", \"fear\", \"sadness\", \"happy\", \"happy\", \"anger\", \"sadness\", \"love\", \"fear\", \"anger\", \"sadness\", \"sadness\", \"love\", \"sadness\", \"love\", \"happy\", \"happy\", \"sadness\", \"sadness\", \"fear\", \"happy\", \"happy\", \"happy\", \"happy\", \"happy\", \"sadness\", \"happy\", \"happy\", \"love\", \"anger\", \"happy\", \"fear\", \"fear\", \"love\", \"fear\", \"sadness\", \"happy\", \"sadness\", \"sadness\", \"happy\", \"anger\", \"happy\", \"happy\", \"happy\", \"sadness\", \"sadness\", \"love\", \"sadness\", \"sadness\", \"sadness\", \"fear\", \"anger\", \"anger\", \"anger\", \"sadness\", \"sadness\", \"love\", \"anger\", \"fear\", \"happy\", \"happy\", \"love\", \"happy\", \"fear\", \"sadness\", \"anger\", \"love\", \"happy\", \"happy\", \"surprise\", \"sadness\", \"happy\", \"sadness\", \"sadness\", \"sadness\", \"sadness\", \"happy\", \"happy\", \"sadness\", \"love\", \"sadness\", \"sadness\", \"fear\", \"happy\", \"sadness\", \"happy\", \"happy\", \"sadness\", \"fear\", \"fear\", \"happy\", \"happy\", \"happy\", \"happy\", \"anger\", \"sadness\", \"sadness\", \"fear\", \"fear\", \"sadness\", \"sadness\", \"anger\", \"happy\", \"happy\", \"sadness\", \"happy\", \"fear\", \"fear\", \"sadness\", \"anger\", \"happy\", \"happy\", \"fear\", \"happy\", \"happy\", \"anger\", \"sadness\", \"anger\", \"fear\", \"sadness\", \"surprise\", \"happy\", \"sadness\", \"surprise\", \"sadness\", \"anger\", \"happy\", \"sadness\", \"fear\", \"fear\", \"fear\", \"happy\", \"anger\", \"love\", \"anger\", \"anger\", \"anger\", \"happy\", \"anger\", \"anger\", \"happy\", \"anger\", \"fear\", \"happy\", \"sadness\", \"love\", \"sadness\", \"anger\", \"fear\", \"sadness\", \"happy\", \"happy\", \"anger\", \"happy\", \"happy\", \"happy\", \"anger\", \"sadness\", \"sadness\", \"sadness\", \"happy\", \"sadness\", \"love\", \"sadness\", \"happy\", \"fear\", \"happy\", \"anger\", \"sadness\", \"anger\", \"fear\", \"sadness\", \"anger\", \"happy\", \"anger\", \"sadness\", \"happy\", \"fear\", \"sadness\", \"sadness\", \"fear\", \"happy\", \"fear\", \"fear\", \"fear\", \"sadness\", \"happy\", \"surprise\", \"happy\", \"happy\", \"sadness\", \"happy\", \"love\", \"fear\", \"happy\", \"fear\", \"happy\", \"love\", \"sadness\", \"sadness\", \"anger\", \"love\", \"happy\", \"sadness\", \"love\", \"anger\", \"happy\", \"anger\", \"sadness\", \"fear\", \"sadness\", \"surprise\", \"surprise\", \"happy\", \"love\", \"anger\", \"fear\", \"happy\", \"sadness\", \"sadness\", \"happy\", \"sadness\", \"sadness\", \"happy\", \"happy\", \"love\", \"sadness\", \"fear\", \"love\", \"anger\", \"happy\", \"happy\", \"sadness\", \"happy\", \"happy\", \"happy\", \"surprise\", \"happy\", \"fear\", \"love\", \"happy\", \"fear\", \"sadness\", \"fear\", \"love\", \"happy\", \"fear\", \"sadness\", \"fear\", \"sadness\", \"happy\", \"sadness\", \"sadness\", \"sadness\", \"anger\", \"happy\", \"happy\", \"happy\", \"love\", \"fear\", \"sadness\", \"anger\", \"anger\", \"sadness\", \"fear\", \"fear\", \"love\", \"fear\", \"sadness\", \"fear\", \"anger\", \"happy\", \"anger\", \"sadness\", \"anger\", \"happy\", \"anger\", \"sadness\", \"anger\", \"sadness\", \"sadness\", \"happy\", \"happy\", \"anger\", \"fear\", \"sadness\", \"anger\", \"sadness\", \"love\", \"sadness\", \"sadness\", \"sadness\", \"anger\", \"love\", \"sadness\", \"happy\", \"anger\", \"love\", \"happy\", \"sadness\", \"anger\", \"sadness\", \"fear\", \"love\", \"sadness\", \"sadness\", \"anger\", \"love\", \"happy\", \"surprise\", \"fear\", \"anger\", \"sadness\", \"sadness\", \"fear\", \"fear\", \"sadness\", \"fear\", \"sadness\", \"anger\", \"fear\", \"anger\", \"sadness\", \"happy\", \"surprise\", \"fear\", \"love\", \"sadness\", \"anger\", \"sadness\", \"happy\", \"love\", \"sadness\", \"anger\", \"fear\", \"love\", \"happy\", \"happy\", \"happy\", \"happy\", \"happy\", \"anger\", \"love\", \"fear\", \"happy\", \"happy\", \"happy\", \"anger\", \"sadness\", \"sadness\", \"sadness\", \"happy\", \"happy\", \"sadness\", \"happy\", \"fear\", \"sadness\", \"sadness\", \"sadness\", \"sadness\", \"fear\", \"fear\", \"sadness\", \"happy\", \"anger\", \"happy\", \"surprise\", \"sadness\", \"sadness\", \"sadness\", \"sadness\", \"happy\", \"anger\", \"love\", \"sadness\", \"happy\", \"sadness\", \"sadness\", \"happy\", \"happy\", \"sadness\", \"sadness\", \"sadness\", \"anger\", \"surprise\", \"sadness\", \"anger\", \"happy\", \"love\", \"love\", \"anger\", \"love\", \"fear\", \"happy\", \"fear\", \"happy\", \"love\", \"happy\", \"happy\", \"fear\", \"fear\", \"anger\", \"happy\", \"anger\", \"fear\", \"love\", \"fear\", \"sadness\", \"anger\", \"fear\", \"fear\", \"happy\", \"happy\", \"sadness\", \"sadness\", \"love\", \"sadness\", \"sadness\", \"happy\", \"sadness\", \"sadness\", \"fear\", \"sadness\", \"happy\", \"fear\", \"happy\", \"happy\", \"sadness\", \"sadness\", \"anger\", \"fear\", \"sadness\", \"surprise\", \"surprise\", \"surprise\", \"sadness\", \"sadness\", \"happy\", \"sadness\", \"anger\", \"sadness\", \"sadness\", \"happy\", \"sadness\", \"happy\", \"sadness\", \"sadness\", \"anger\", \"happy\", \"anger\", \"happy\", \"surprise\", \"anger\", \"sadness\", \"surprise\", \"fear\", \"anger\", \"sadness\", \"happy\", \"sadness\", \"love\", \"happy\", \"sadness\", \"sadness\", \"happy\", \"happy\", \"surprise\", \"happy\", \"happy\", \"happy\", \"happy\", \"happy\", \"happy\", \"anger\", \"sadness\", \"fear\", \"anger\", \"fear\", \"sadness\", \"happy\", \"surprise\", \"happy\", \"anger\", \"fear\", \"sadness\", \"love\", \"happy\", \"sadness\", \"happy\", \"happy\", \"happy\", \"sadness\", \"happy\", \"anger\", \"anger\", \"happy\", \"happy\", \"sadness\", \"sadness\", \"sadness\", \"happy\", \"happy\", \"sadness\", \"sadness\", \"anger\", \"happy\", \"happy\", \"sadness\", \"sadness\", \"anger\", \"fear\", \"happy\", \"sadness\", \"love\", \"happy\", \"sadness\", \"sadness\", \"sadness\", \"sadness\", \"anger\", \"sadness\", \"happy\", \"surprise\", \"love\", \"happy\", \"surprise\", \"love\", \"happy\", \"happy\", \"happy\", \"happy\", \"happy\", \"anger\", \"happy\", \"happy\", \"anger\", \"love\", \"happy\", \"surprise\", \"anger\", \"anger\", \"sadness\", \"fear\", \"fear\", \"happy\", \"happy\", \"sadness\", \"sadness\", \"happy\", \"anger\", \"happy\", \"sadness\", \"happy\", \"sadness\", \"happy\", \"happy\", \"happy\", \"sadness\", \"love\", \"happy\", \"sadness\", \"love\", \"anger\", \"love\", \"happy\", \"happy\", \"sadness\", \"fear\", \"happy\", \"fear\", \"sadness\", \"happy\", \"happy\", \"love\", \"anger\", \"anger\", \"anger\", \"love\", \"anger\", \"anger\", \"fear\", \"happy\", \"happy\", \"sadness\", \"sadness\", \"sadness\", \"happy\", \"anger\", \"surprise\", \"happy\", \"sadness\", \"sadness\", \"happy\", \"happy\", \"love\", \"anger\", \"happy\", \"happy\", \"fear\", \"happy\", \"anger\", \"fear\", \"anger\", \"sadness\", \"happy\", \"sadness\", \"happy\", \"sadness\", \"happy\", \"sadness\", \"sadness\", \"anger\", \"fear\", \"happy\", \"sadness\", \"love\", \"anger\", \"sadness\", \"sadness\", \"happy\", \"anger\", \"fear\", \"surprise\", \"love\", \"sadness\", \"surprise\", \"surprise\", \"love\", \"sadness\", \"happy\", \"happy\", \"anger\", \"sadness\", \"sadness\", \"love\", \"anger\", \"fear\", \"fear\", \"happy\", \"fear\", \"happy\", \"sadness\", \"sadness\", \"happy\", \"happy\", \"sadness\", \"fear\", \"love\", \"sadness\", \"happy\", \"sadness\", \"surprise\", \"happy\", \"happy\", \"anger\", \"happy\", \"happy\", \"anger\", \"happy\", \"sadness\", \"sadness\", \"anger\", \"happy\", \"fear\", \"fear\", \"sadness\", \"happy\", \"sadness\", \"sadness\", \"sadness\", \"anger\", \"happy\", \"anger\", \"anger\", \"happy\", \"happy\", \"happy\", \"happy\", \"happy\", \"happy\", \"sadness\", \"happy\", \"happy\", \"happy\", \"happy\", \"happy\", \"happy\", \"fear\", \"anger\", \"love\", \"sadness\", \"sadness\", \"happy\", \"sadness\", \"fear\", \"happy\", \"anger\", \"fear\", \"sadness\", \"happy\", \"sadness\", \"love\", \"happy\", \"happy\", \"happy\", \"happy\", \"fear\", \"happy\", \"fear\", \"anger\", \"love\", \"anger\", \"sadness\", \"fear\", \"sadness\", \"sadness\", \"happy\", \"happy\", \"sadness\", \"sadness\", \"sadness\", \"happy\", \"happy\", \"happy\", \"love\", \"anger\", \"surprise\", \"sadness\", \"sadness\", \"sadness\", \"happy\", \"surprise\", \"surprise\", \"love\", \"fear\", \"love\", \"fear\", \"anger\", \"happy\", \"happy\", \"sadness\", \"happy\", \"sadness\", \"sadness\", \"happy\", \"sadness\", \"happy\", \"love\", \"fear\", \"sadness\", \"happy\", \"happy\", \"sadness\", \"happy\", \"sadness\", \"anger\", \"happy\", \"sadness\", \"love\", \"sadness\", \"fear\", \"happy\", \"fear\", \"love\", \"happy\", \"anger\", \"happy\", \"happy\", \"fear\", \"happy\", \"happy\", \"happy\", \"happy\", \"happy\", \"happy\", \"sadness\", \"happy\", \"fear\", \"surprise\", \"sadness\", \"anger\", \"sadness\", \"sadness\", \"happy\", \"fear\", \"fear\", \"anger\", \"happy\", \"love\", \"fear\", \"happy\", \"sadness\", \"fear\", \"love\", \"sadness\", \"happy\", \"happy\", \"sadness\", \"sadness\", \"happy\", \"sadness\", \"happy\", \"sadness\", \"happy\", \"anger\", \"love\", \"fear\", \"happy\", \"happy\", \"surprise\", \"happy\", \"sadness\", \"happy\", \"happy\", \"happy\", \"fear\", \"fear\", \"happy\", \"sadness\", \"sadness\", \"happy\", \"happy\", \"happy\", \"love\", \"sadness\", \"love\", \"happy\", \"happy\", \"fear\", \"sadness\", \"sadness\", \"love\", \"sadness\", \"sadness\", \"sadness\", \"happy\", \"sadness\", \"sadness\", \"sadness\", \"love\", \"fear\", \"happy\", \"happy\", \"fear\", \"happy\", \"sadness\", \"anger\", \"sadness\", \"happy\", \"happy\", \"sadness\", \"anger\", \"happy\", \"sadness\", \"love\", \"happy\", \"anger\", \"happy\", \"fear\", \"happy\", \"surprise\", \"sadness\", \"sadness\", \"anger\", \"fear\", \"sadness\", \"fear\", \"sadness\", \"happy\", \"fear\", \"anger\", \"happy\", \"sadness\", \"happy\", \"sadness\", \"happy\", \"sadness\", \"anger\", \"fear\", \"sadness\", \"happy\", \"anger\", \"sadness\", \"anger\", \"fear\", \"happy\", \"anger\", \"happy\", \"sadness\", \"fear\", \"happy\", \"happy\", \"sadness\", \"sadness\", \"sadness\", \"love\", \"sadness\", \"sadness\", \"happy\", \"fear\", \"happy\", \"sadness\", \"anger\", \"happy\", \"sadness\", \"love\", \"fear\", \"happy\", \"happy\", \"sadness\", \"happy\", \"sadness\", \"happy\", \"love\", \"surprise\", \"sadness\", \"sadness\", \"happy\", \"fear\", \"sadness\", \"sadness\", \"sadness\", \"love\", \"happy\", \"happy\", \"fear\", \"sadness\", \"fear\", \"sadness\", \"happy\", \"happy\", \"surprise\", \"sadness\", \"happy\", \"sadness\", \"anger\", \"happy\", \"anger\", \"happy\", \"anger\", \"sadness\", \"sadness\", \"anger\", \"happy\", \"sadness\", \"sadness\", \"fear\", \"anger\", \"fear\", \"sadness\", \"fear\", \"happy\", \"fear\", \"happy\", \"anger\", \"happy\", \"sadness\", \"surprise\", \"anger\", \"sadness\", \"sadness\", \"fear\", \"fear\", \"happy\", \"sadness\", \"sadness\", \"sadness\", \"happy\", \"happy\", \"surprise\", \"anger\", \"anger\", \"anger\", \"happy\", \"anger\", \"sadness\", \"sadness\", \"happy\", \"love\", \"happy\", \"happy\", \"sadness\", \"anger\", \"happy\", \"love\", \"happy\", \"happy\", \"happy\", \"happy\", \"happy\", \"happy\", \"fear\", \"happy\", \"love\", \"happy\", \"happy\", \"love\", \"happy\", \"fear\", \"sadness\", \"happy\", \"love\", \"love\", \"happy\", \"sadness\", \"happy\", \"happy\", \"happy\", \"anger\", \"sadness\", \"happy\", \"fear\", \"happy\", \"sadness\", \"sadness\", \"happy\", \"fear\", \"anger\", \"anger\", \"happy\", \"anger\", \"happy\", \"love\", \"happy\", \"happy\", \"happy\", \"happy\", \"sadness\", \"happy\", \"happy\", \"happy\", \"happy\", \"anger\", \"happy\", \"surprise\", \"sadness\", \"happy\", \"sadness\", \"anger\", \"anger\", \"sadness\", \"sadness\", \"sadness\", \"love\", \"anger\", \"anger\", \"sadness\", \"sadness\", \"happy\", \"sadness\", \"sadness\", \"happy\", \"happy\", \"fear\", \"happy\", \"happy\", \"happy\", \"fear\", \"surprise\", \"sadness\", \"sadness\", \"happy\", \"fear\", \"fear\", \"happy\", \"happy\", \"sadness\", \"fear\", \"happy\", \"sadness\", \"sadness\", \"sadness\", \"fear\", \"fear\", \"sadness\", \"surprise\", \"sadness\", \"happy\", \"sadness\", \"fear\", \"happy\", \"happy\", \"happy\", \"fear\", \"fear\", \"happy\", \"happy\", \"anger\", \"fear\", \"sadness\", \"sadness\", \"happy\", \"anger\", \"fear\", \"sadness\", \"sadness\", \"sadness\", \"sadness\", \"happy\", \"love\", \"happy\", \"happy\", \"anger\", \"love\", \"anger\", \"happy\", \"sadness\", \"surprise\", \"sadness\", \"anger\", \"sadness\", \"fear\", \"sadness\", \"anger\", \"anger\", \"sadness\", \"happy\", \"sadness\", \"anger\", \"love\", \"happy\", \"sadness\", \"sadness\", \"sadness\", \"anger\", \"happy\", \"fear\", \"happy\", \"anger\", \"fear\", \"happy\", \"fear\", \"sadness\", \"fear\", \"happy\", \"happy\", \"happy\", \"sadness\", \"fear\", \"sadness\", \"sadness\", \"sadness\", \"sadness\", \"happy\", \"sadness\", \"happy\", \"love\", \"love\", \"sadness\", \"happy\", \"love\", \"love\", \"happy\", \"anger\", \"sadness\", \"happy\", \"fear\", \"sadness\", \"sadness\", \"happy\", \"anger\", \"fear\", \"sadness\", \"surprise\", \"anger\", \"sadness\", \"sadness\", \"happy\", \"happy\", \"sadness\", \"sadness\", \"happy\", \"happy\", \"sadness\", \"happy\", \"surprise\", \"anger\", \"anger\", \"happy\", \"happy\", \"happy\", \"happy\", \"happy\", \"sadness\", \"sadness\", \"sadness\", \"anger\", \"anger\", \"sadness\", \"happy\", \"fear\", \"sadness\", \"fear\", \"sadness\", \"sadness\", \"happy\", \"happy\", \"happy\", \"anger\", \"happy\", \"happy\", \"happy\", \"sadness\", \"happy\", \"anger\", \"fear\", \"anger\", \"fear\", \"anger\", \"sadness\", \"happy\", \"anger\", \"sadness\", \"anger\", \"anger\", \"happy\", \"sadness\", \"happy\", \"love\", \"happy\", \"sadness\", \"sadness\", \"fear\", \"happy\", \"happy\", \"sadness\", \"happy\", \"surprise\", \"happy\", \"happy\", \"anger\", \"sadness\", \"anger\", \"happy\", \"sadness\", \"happy\", \"happy\", \"love\", \"happy\", \"anger\", \"anger\", \"sadness\", \"happy\", \"sadness\", \"sadness\", \"happy\", \"sadness\", \"love\", \"surprise\", \"happy\", \"happy\", \"sadness\", \"sadness\", \"sadness\", \"love\", \"sadness\", \"love\", \"sadness\", \"happy\", \"sadness\", \"happy\", \"anger\", \"fear\", \"happy\", \"love\", \"anger\", \"sadness\", \"anger\", \"happy\", \"surprise\", \"sadness\", \"happy\", \"fear\", \"sadness\", \"fear\", \"happy\", \"fear\", \"happy\", \"anger\", \"fear\", \"happy\", \"anger\", \"happy\", \"happy\", \"sadness\", \"sadness\", \"happy\", \"sadness\", \"sadness\", \"love\", \"sadness\", \"fear\", \"anger\", \"anger\", \"happy\", \"anger\", \"sadness\", \"happy\", \"happy\", \"happy\", \"happy\", \"sadness\", \"happy\", \"happy\", \"love\", \"sadness\", \"fear\", \"happy\", \"sadness\", \"happy\", \"anger\", \"anger\", \"anger\", \"happy\", \"happy\", \"sadness\", \"happy\", \"anger\", \"anger\", \"sadness\", \"happy\", \"happy\", \"happy\", \"anger\", \"love\", \"sadness\", \"happy\", \"sadness\", \"happy\", \"sadness\", \"sadness\", \"fear\", \"sadness\", \"fear\", \"sadness\", \"sadness\", \"sadness\", \"happy\", \"happy\", \"happy\", \"sadness\", \"sadness\", \"sadness\", \"love\", \"sadness\", \"fear\", \"surprise\", \"sadness\", \"sadness\", \"happy\", \"happy\", \"happy\", \"anger\", \"anger\", \"surprise\", \"love\", \"sadness\", \"happy\", \"anger\", \"sadness\", \"anger\", \"anger\", \"fear\", \"fear\", \"happy\", \"happy\", \"happy\", \"happy\", \"happy\", \"sadness\", \"anger\", \"love\", \"happy\", \"sadness\", \"fear\", \"happy\", \"sadness\", \"happy\", \"fear\", \"anger\", \"anger\", \"happy\", \"fear\", \"sadness\", \"happy\", \"love\", \"love\", \"happy\", \"happy\", \"anger\", \"sadness\", \"fear\", \"happy\", \"fear\", \"love\", \"sadness\", \"sadness\", \"sadness\", \"anger\", \"surprise\", \"sadness\", \"anger\", \"sadness\", \"sadness\", \"fear\", \"surprise\", \"love\", \"happy\", \"happy\", \"sadness\", \"happy\", \"anger\", \"happy\", \"love\", \"anger\", \"happy\", \"surprise\", \"fear\", \"anger\", \"happy\", \"happy\", \"love\", \"happy\", \"love\", \"sadness\", \"happy\", \"sadness\", \"happy\", \"happy\", \"happy\", \"happy\", \"happy\", \"sadness\", \"anger\", \"happy\", \"fear\", \"sadness\", \"happy\", \"sadness\", \"sadness\", \"sadness\", \"happy\", \"happy\", \"fear\", \"fear\", \"happy\", \"surprise\", \"anger\", \"sadness\", \"sadness\", \"happy\", \"happy\", \"happy\", \"anger\", \"happy\", \"happy\", \"anger\", \"fear\", \"happy\", \"happy\", \"fear\", \"fear\", \"fear\", \"happy\", \"sadness\", \"happy\", \"anger\", \"happy\", \"sadness\", \"sadness\", \"sadness\", \"sadness\", \"surprise\", \"happy\", \"happy\", \"sadness\", \"happy\", \"sadness\", \"sadness\", \"surprise\", \"happy\", \"fear\", \"anger\", \"anger\", \"happy\", \"sadness\", \"happy\", \"happy\", \"happy\", \"sadness\", \"happy\", \"anger\", \"sadness\", \"happy\", \"happy\", \"sadness\", \"sadness\", \"sadness\", \"fear\", \"happy\", \"sadness\", \"anger\", \"anger\", \"sadness\", \"happy\", \"happy\", \"sadness\", \"happy\", \"anger\", \"love\", \"surprise\", \"sadness\", \"happy\", \"sadness\", \"anger\", \"happy\", \"surprise\", \"love\", \"sadness\", \"anger\", \"sadness\", \"happy\", \"sadness\", \"love\", \"love\", \"happy\", \"sadness\", \"sadness\", \"sadness\", \"happy\", \"sadness\", \"anger\", \"sadness\", \"fear\", \"sadness\", \"happy\", \"love\", \"sadness\", \"sadness\", \"sadness\", \"happy\", \"fear\", \"sadness\", \"happy\", \"sadness\", \"sadness\", \"happy\", \"happy\", \"happy\", \"sadness\", \"sadness\", \"sadness\", \"surprise\", \"fear\", \"happy\", \"sadness\", \"anger\", \"sadness\", \"happy\", \"fear\", \"surprise\", \"love\", \"surprise\", \"happy\", \"happy\", \"happy\", \"sadness\", \"happy\", \"fear\", \"sadness\", \"fear\", \"sadness\", \"sadness\", \"fear\", \"love\", \"sadness\", \"happy\", \"sadness\", \"anger\", \"happy\", \"sadness\", \"love\", \"happy\", \"happy\", \"sadness\", \"happy\", \"sadness\", \"sadness\", \"fear\", \"love\", \"anger\", \"sadness\", \"sadness\", \"anger\", \"happy\", \"sadness\", \"love\", \"happy\", \"sadness\", \"fear\", \"happy\", \"fear\", \"happy\", \"sadness\", \"sadness\", \"anger\", \"fear\", \"happy\", \"happy\", \"sadness\", \"happy\", \"sadness\", \"anger\", \"happy\", \"anger\", \"anger\", \"sadness\", \"happy\", \"sadness\", \"happy\", \"sadness\", \"sadness\", \"sadness\", \"happy\", \"surprise\", \"happy\", \"love\", \"surprise\", \"sadness\", \"happy\", \"happy\", \"sadness\", \"happy\", \"happy\", \"happy\", \"anger\", \"happy\", \"sadness\", \"sadness\", \"happy\", \"happy\", \"happy\", \"fear\", \"sadness\", \"anger\", \"sadness\", \"happy\", \"sadness\", \"happy\", \"love\", \"sadness\", \"sadness\", \"sadness\", \"anger\", \"fear\", \"anger\", \"fear\", \"happy\", \"anger\", \"happy\", \"happy\", \"anger\", \"happy\", \"sadness\", \"anger\", \"happy\", \"anger\", \"anger\", \"happy\", \"happy\", \"surprise\", \"anger\", \"fear\", \"anger\", \"fear\", \"happy\", \"sadness\", \"happy\", \"sadness\", \"sadness\", \"happy\", \"fear\", \"happy\", \"sadness\", \"fear\", \"sadness\", \"love\", \"sadness\", \"surprise\", \"happy\", \"anger\", \"happy\", \"anger\", \"sadness\", \"fear\", \"happy\", \"fear\", \"anger\", \"sadness\", \"sadness\", \"love\", \"happy\", \"happy\", \"sadness\", \"happy\", \"sadness\", \"happy\", \"happy\", \"anger\", \"sadness\", \"sadness\", \"fear\", \"happy\", \"sadness\", \"happy\", \"anger\", \"sadness\", \"happy\", \"sadness\", \"sadness\", \"love\", \"anger\", \"happy\", \"fear\", \"sadness\", \"anger\", \"anger\", \"surprise\", \"anger\", \"sadness\", \"anger\", \"anger\", \"anger\", \"anger\", \"happy\", \"happy\", \"love\", \"happy\", \"sadness\", \"sadness\", \"sadness\", \"happy\", \"fear\", \"fear\", \"happy\", \"happy\", \"anger\", \"sadness\", \"anger\", \"fear\", \"happy\", \"anger\", \"sadness\", \"sadness\", \"happy\", \"anger\", \"happy\", \"anger\", \"surprise\", \"love\", \"happy\", \"anger\", \"sadness\", \"happy\", \"sadness\", \"happy\", \"sadness\", \"sadness\", \"fear\", \"anger\", \"anger\", \"sadness\", \"fear\", \"sadness\", \"sadness\", \"sadness\", \"love\", \"happy\", \"anger\", \"happy\", \"love\", \"anger\", \"love\", \"happy\", \"happy\", \"love\", \"sadness\", \"sadness\", \"anger\", \"happy\", \"sadness\", \"fear\", \"surprise\", \"sadness\", \"fear\", \"sadness\", \"anger\", \"sadness\", \"happy\", \"fear\", \"love\", \"happy\", \"sadness\", \"happy\", \"anger\", \"sadness\", \"fear\", \"happy\", \"happy\", \"happy\", \"happy\", \"love\", \"sadness\", \"happy\", \"happy\", \"happy\", \"fear\", \"happy\", \"happy\", \"sadness\", \"love\", \"sadness\", \"sadness\", \"anger\", \"happy\", \"sadness\", \"anger\", \"happy\", \"sadness\", \"happy\", \"surprise\", \"happy\", \"fear\", \"sadness\", \"fear\", \"happy\", \"love\", \"anger\", \"happy\", \"love\", \"happy\", \"happy\", \"happy\", \"anger\", \"love\", \"sadness\", \"fear\", \"sadness\", \"happy\", \"sadness\", \"sadness\", \"happy\", \"happy\", \"anger\", \"anger\", \"happy\", \"love\", \"happy\", \"sadness\", \"sadness\", \"anger\", \"anger\", \"sadness\", \"anger\", \"love\", \"sadness\", \"fear\", \"happy\", \"happy\", \"happy\", \"sadness\", \"happy\", \"anger\", \"anger\", \"fear\", \"happy\", \"happy\", \"fear\", \"happy\", \"surprise\", \"sadness\", \"anger\", \"surprise\", \"fear\", \"happy\", \"happy\", \"happy\", \"sadness\", \"happy\", \"happy\", \"fear\", \"surprise\", \"happy\", \"sadness\", \"happy\", \"love\", \"sadness\", \"sadness\", \"anger\", \"happy\", \"sadness\", \"sadness\", \"love\", \"fear\", \"anger\", \"happy\", \"anger\", \"sadness\", \"happy\", \"sadness\", \"sadness\", \"sadness\", \"happy\", \"love\", \"happy\", \"sadness\", \"happy\", \"happy\", \"anger\", \"fear\", \"sadness\", \"love\", \"sadness\", \"sadness\", \"anger\", \"sadness\", \"happy\", \"love\", \"happy\", \"love\", \"fear\", \"happy\", \"happy\", \"sadness\", \"happy\", \"happy\", \"happy\", \"love\", \"anger\", \"happy\", \"sadness\", \"happy\", \"happy\", \"happy\", \"sadness\", \"happy\", \"happy\", \"fear\", \"anger\", \"sadness\", \"anger\", \"love\", \"happy\", \"happy\", \"happy\", \"sadness\", \"fear\", \"happy\", \"fear\", \"sadness\", \"happy\", \"happy\", \"happy\", \"sadness\", \"happy\", \"happy\", \"happy\", \"sadness\", \"anger\", \"happy\", \"happy\", \"sadness\", \"happy\", \"anger\", \"fear\", \"happy\", \"sadness\", \"happy\", \"sadness\", \"anger\", \"happy\", \"sadness\", \"sadness\", \"fear\", \"love\", \"sadness\", \"happy\", \"love\", \"happy\", \"fear\", \"sadness\", \"anger\", \"happy\", \"fear\", \"sadness\", \"sadness\", \"anger\", \"anger\", \"fear\", \"fear\", \"love\", \"anger\", \"happy\", \"sadness\", \"love\", \"happy\", \"sadness\", \"surprise\", \"anger\", \"happy\", \"happy\", \"fear\", \"sadness\", \"happy\", \"love\", \"sadness\", \"anger\", \"happy\", \"anger\", \"fear\", \"sadness\", \"anger\", \"sadness\", \"happy\", \"happy\", \"sadness\", \"fear\", \"happy\", \"anger\", \"fear\", \"sadness\", \"fear\", \"anger\", \"happy\", \"sadness\", \"happy\", \"fear\", \"happy\", \"sadness\", \"sadness\", \"sadness\", \"happy\", \"fear\", \"sadness\", \"fear\", \"happy\", \"love\", \"happy\", \"happy\", \"happy\", \"happy\", \"happy\", \"happy\", \"fear\", \"happy\", \"happy\", \"sadness\", \"fear\", \"happy\", \"sadness\", \"sadness\", \"happy\", \"happy\", \"sadness\", \"sadness\", \"happy\", \"happy\", \"sadness\", \"sadness\", \"love\", \"happy\", \"surprise\", \"sadness\", \"sadness\", \"love\", \"sadness\", \"love\", \"love\", \"happy\", \"love\", \"anger\", \"fear\", \"happy\", \"happy\", \"sadness\", \"fear\", \"fear\", \"fear\", \"happy\", \"happy\", \"anger\", \"happy\", \"happy\", \"anger\", \"love\", \"fear\", \"anger\", \"sadness\", \"sadness\", \"fear\", \"sadness\", \"sadness\", \"anger\", \"anger\", \"anger\", \"happy\", \"happy\", \"happy\", \"happy\", \"happy\", \"happy\", \"love\", \"happy\", \"anger\", \"sadness\", \"happy\", \"fear\", \"sadness\", \"love\", \"love\", \"fear\", \"happy\", \"sadness\", \"surprise\", \"sadness\", \"fear\", \"fear\", \"anger\", \"sadness\", \"sadness\", \"happy\", \"happy\", \"happy\", \"happy\", \"sadness\", \"sadness\", \"fear\", \"happy\", \"happy\", \"happy\", \"happy\", \"sadness\", \"happy\", \"happy\", \"fear\", \"sadness\", \"happy\", \"happy\", \"love\", \"happy\", \"sadness\", \"sadness\", \"anger\", \"happy\", \"happy\", \"sadness\", \"surprise\", \"happy\", \"fear\", \"surprise\", \"fear\", \"happy\", \"happy\", \"fear\", \"happy\", \"anger\", \"love\", \"sadness\", \"happy\", \"sadness\", \"love\", \"sadness\", \"happy\", \"anger\", \"fear\", \"sadness\", \"love\", \"love\", \"happy\", \"sadness\", \"happy\", \"happy\", \"sadness\", \"sadness\", \"happy\", \"sadness\", \"sadness\", \"fear\", \"sadness\", \"happy\", \"sadness\", \"happy\", \"happy\", \"fear\", \"happy\", \"happy\", \"love\", \"happy\", \"happy\", \"happy\", \"anger\", \"love\", \"happy\", \"happy\", \"sadness\", \"happy\", \"sadness\", \"sadness\", \"sadness\", \"fear\", \"sadness\", \"happy\", \"sadness\", \"fear\", \"happy\", \"fear\", \"sadness\", \"sadness\", \"fear\", \"happy\", \"love\", \"happy\", \"love\", \"happy\", \"happy\", \"fear\", \"sadness\", \"happy\", \"happy\", \"love\", \"anger\", \"happy\", \"anger\", \"happy\", \"sadness\", \"sadness\", \"fear\", \"happy\", \"sadness\", \"surprise\", \"fear\", \"happy\", \"sadness\", \"happy\", \"love\", \"happy\", \"happy\", \"happy\", \"sadness\", \"surprise\", \"surprise\", \"fear\", \"sadness\", \"happy\", \"fear\", \"sadness\", \"sadness\", \"anger\", \"fear\", \"surprise\", \"fear\", \"sadness\", \"happy\", \"happy\", \"happy\", \"happy\", \"sadness\", \"sadness\", \"happy\", \"fear\", \"anger\", \"anger\", \"sadness\", \"sadness\", \"surprise\", \"sadness\", \"fear\", \"anger\", \"happy\", \"fear\", \"anger\", \"fear\", \"happy\", \"sadness\", \"anger\", \"love\", \"fear\", \"happy\", \"happy\", \"sadness\", \"happy\", \"sadness\", \"happy\", \"happy\", \"anger\", \"love\", \"fear\", \"happy\", \"sadness\", \"happy\", \"sadness\", \"sadness\", \"sadness\", \"sadness\", \"happy\", \"anger\", \"love\", \"anger\", \"happy\", \"happy\", \"happy\", \"sadness\", \"happy\", \"sadness\", \"anger\", \"happy\", \"happy\", \"sadness\", \"happy\", \"sadness\", \"anger\", \"anger\", \"happy\", \"happy\", \"sadness\", \"sadness\", \"happy\", \"fear\", \"love\", \"sadness\", \"happy\", \"fear\", \"happy\", \"fear\", \"love\", \"happy\", \"happy\", \"happy\", \"happy\", \"sadness\", \"happy\", \"sadness\", \"happy\", \"sadness\", \"fear\", \"sadness\", \"happy\", \"fear\", \"happy\", \"sadness\", \"happy\", \"love\", \"love\", \"love\", \"happy\", \"sadness\", \"happy\", \"sadness\", \"sadness\", \"sadness\", \"anger\", \"fear\", \"surprise\", \"fear\", \"happy\", \"happy\", \"anger\", \"sadness\", \"happy\", \"happy\", \"happy\", \"anger\", \"anger\", \"happy\", \"sadness\", \"sadness\", \"sadness\", \"anger\", \"fear\", \"sadness\", \"happy\", \"anger\", \"happy\", \"fear\", \"anger\", \"happy\", \"anger\", \"sadness\", \"happy\", \"anger\", \"sadness\", \"sadness\", \"fear\", \"happy\", \"happy\", \"fear\", \"sadness\", \"happy\", \"happy\", \"happy\", \"sadness\", \"happy\", \"fear\", \"love\", \"anger\", \"happy\", \"happy\", \"happy\", \"sadness\", \"happy\", \"sadness\", \"sadness\", \"anger\", \"happy\", \"anger\", \"anger\", \"happy\", \"love\", \"sadness\", \"fear\", \"fear\", \"anger\", \"fear\", \"fear\", \"sadness\", \"happy\", \"sadness\", \"happy\", \"sadness\", \"fear\", \"love\", \"surprise\", \"love\", \"happy\", \"sadness\", \"happy\", \"fear\", \"sadness\", \"happy\", \"happy\", \"sadness\", \"sadness\", \"anger\", \"anger\", \"fear\", \"love\", \"happy\", \"happy\", \"happy\", \"sadness\", \"sadness\", \"sadness\", \"sadness\", \"happy\", \"love\", \"happy\", \"fear\", \"happy\", \"sadness\", \"sadness\", \"fear\", \"sadness\", \"sadness\", \"sadness\", \"anger\", \"anger\", \"happy\", \"sadness\", \"sadness\", \"anger\", \"sadness\", \"love\", \"fear\", \"anger\", \"sadness\", \"happy\", \"happy\", \"happy\", \"love\", \"anger\", \"anger\", \"anger\", \"fear\", \"fear\", \"happy\", \"love\", \"fear\", \"fear\", \"surprise\", \"happy\", \"happy\", \"fear\", \"sadness\", \"sadness\", \"sadness\", \"love\", \"surprise\", \"happy\", \"love\", \"happy\", \"happy\", \"love\", \"happy\", \"love\", \"surprise\", \"sadness\", \"happy\", \"happy\", \"happy\", \"happy\", \"anger\", \"sadness\", \"happy\", \"anger\", \"love\", \"happy\", \"fear\", \"fear\", \"sadness\", \"love\", \"sadness\", \"sadness\", \"sadness\", \"happy\", \"sadness\", \"sadness\", \"love\", \"happy\", \"sadness\", \"sadness\", \"happy\", \"surprise\", \"anger\", \"sadness\", \"sadness\", \"sadness\", \"happy\", \"love\", \"fear\", \"sadness\", \"sadness\", \"sadness\", \"happy\", \"sadness\", \"sadness\", \"happy\", \"sadness\", \"surprise\", \"love\", \"surprise\", \"sadness\", \"sadness\", \"love\", \"anger\", \"sadness\", \"happy\", \"anger\", \"sadness\", \"happy\", \"happy\", \"happy\", \"sadness\", \"anger\", \"surprise\", \"happy\", \"sadness\", \"fear\", \"sadness\", \"happy\", \"happy\", \"sadness\", \"happy\", \"sadness\", \"happy\", \"sadness\", \"fear\", \"surprise\", \"happy\", \"surprise\", \"love\", \"happy\", \"love\", \"happy\", \"sadness\", \"fear\", \"anger\", \"happy\", \"fear\", \"sadness\", \"love\", \"sadness\", \"sadness\", \"sadness\", \"sadness\", \"happy\", \"happy\", \"sadness\", \"fear\", \"anger\", \"happy\", \"sadness\", \"sadness\", \"surprise\", \"sadness\", \"surprise\", \"sadness\", \"fear\", \"love\", \"love\", \"sadness\", \"fear\", \"sadness\", \"sadness\", \"sadness\", \"happy\", \"sadness\", \"happy\", \"happy\", \"sadness\", \"love\", \"happy\", \"happy\", \"anger\", \"sadness\", \"happy\", \"happy\", \"sadness\", \"sadness\", \"happy\", \"sadness\", \"sadness\", \"sadness\", \"sadness\", \"sadness\", \"anger\", \"anger\", \"anger\", \"sadness\", \"love\", \"love\", \"sadness\", \"anger\", \"sadness\", \"love\", \"sadness\", \"sadness\", \"happy\", \"fear\", \"love\", \"happy\", \"fear\", \"sadness\", \"happy\", \"happy\", \"sadness\", \"sadness\", \"anger\", \"love\", \"happy\", \"love\", \"happy\", \"love\", \"happy\", \"love\", \"happy\", \"happy\", \"sadness\", \"fear\", \"surprise\", \"sadness\", \"happy\", \"fear\", \"sadness\", \"happy\", \"fear\", \"sadness\", \"sadness\", \"sadness\", \"anger\", \"sadness\", \"happy\", \"happy\", \"love\", \"fear\", \"love\", \"surprise\", \"sadness\", \"sadness\", \"happy\", \"surprise\", \"anger\", \"fear\", \"happy\", \"happy\", \"sadness\", \"happy\", \"sadness\", \"surprise\", \"fear\", \"anger\", \"happy\", \"happy\", \"fear\", \"happy\", \"sadness\", \"sadness\", \"happy\", \"anger\", \"sadness\", \"fear\", \"fear\", \"anger\", \"anger\", \"sadness\", \"anger\", \"sadness\", \"sadness\", \"sadness\", \"happy\", \"fear\", \"love\", \"sadness\", \"sadness\", \"sadness\", \"fear\", \"fear\", \"sadness\", \"happy\", \"happy\", \"anger\", \"sadness\", \"love\", \"happy\", \"fear\", \"sadness\", \"fear\", \"love\", \"sadness\", \"sadness\", \"happy\", \"sadness\", \"happy\", \"happy\", \"love\", \"happy\", \"sadness\", \"happy\", \"sadness\", \"fear\", \"sadness\", \"happy\", \"happy\", \"anger\", \"anger\", \"anger\", \"fear\", \"anger\", \"happy\", \"surprise\", \"sadness\", \"sadness\", \"anger\", \"happy\", \"fear\", \"anger\", \"sadness\", \"happy\", \"anger\", \"sadness\", \"happy\", \"fear\", \"anger\", \"fear\", \"anger\", \"happy\", \"fear\", \"anger\", \"happy\", \"anger\", \"anger\", \"anger\", \"anger\", \"fear\", \"happy\", \"happy\", \"surprise\", \"sadness\", \"fear\", \"happy\", \"sadness\", \"sadness\", \"sadness\", \"happy\", \"sadness\", \"sadness\", \"happy\", \"anger\", \"anger\", \"happy\", \"fear\", \"love\", \"sadness\", \"happy\", \"happy\", \"anger\", \"sadness\", \"happy\", \"fear\", \"fear\", \"happy\", \"sadness\", \"sadness\", \"anger\", \"happy\", \"love\", \"anger\", \"sadness\", \"surprise\", \"happy\", \"happy\", \"sadness\", \"sadness\", \"sadness\", \"anger\", \"sadness\", \"happy\", \"sadness\", \"happy\", \"anger\", \"happy\", \"happy\", \"anger\", \"happy\", \"happy\", \"sadness\", \"sadness\", \"happy\", \"anger\", \"happy\", \"love\", \"fear\", \"surprise\", \"sadness\", \"love\", \"surprise\", \"sadness\", \"anger\", \"fear\", \"fear\", \"anger\", \"anger\", \"happy\", \"anger\", \"anger\", \"love\", \"fear\", \"love\", \"happy\", \"anger\", \"happy\", \"anger\", \"happy\", \"sadness\", \"surprise\", \"fear\", \"happy\", \"happy\", \"sadness\", \"sadness\", \"anger\", \"happy\", \"love\", \"sadness\", \"sadness\", \"sadness\", \"happy\", \"fear\", \"happy\", \"fear\", \"anger\", \"love\", \"fear\", \"anger\", \"happy\", \"sadness\", \"happy\", \"love\", \"happy\", \"fear\", \"sadness\", \"happy\", \"sadness\", \"happy\", \"happy\", \"happy\", \"happy\", \"happy\", \"happy\", \"happy\", \"love\", \"sadness\", \"anger\", \"happy\", \"sadness\", \"happy\", \"love\", \"sadness\", \"happy\", \"sadness\", \"happy\", \"sadness\", \"anger\", \"fear\", \"surprise\", \"sadness\", \"sadness\", \"sadness\", \"sadness\", \"happy\", \"fear\", \"sadness\", \"love\", \"happy\", \"sadness\", \"sadness\", \"happy\", \"anger\", \"surprise\", \"anger\", \"sadness\", \"love\", \"love\", \"love\", \"love\", \"fear\", \"love\", \"happy\", \"sadness\", \"surprise\", \"sadness\", \"sadness\", \"happy\", \"sadness\", \"fear\", \"happy\", \"happy\", \"sadness\", \"sadness\", \"happy\", \"anger\", \"sadness\", \"happy\", \"happy\", \"happy\", \"fear\", \"fear\", \"fear\", \"happy\", \"happy\", \"happy\", \"fear\", \"sadness\", \"sadness\", \"sadness\", \"happy\", \"anger\", \"love\", \"happy\", \"anger\", \"happy\", \"sadness\", \"love\", \"happy\", \"sadness\", \"love\", \"sadness\", \"love\", \"fear\", \"anger\", \"sadness\", \"sadness\", \"sadness\", \"sadness\", \"sadness\", \"sadness\", \"sadness\", \"anger\", \"sadness\", \"happy\", \"happy\", \"sadness\", \"sadness\", \"fear\", \"fear\", \"happy\", \"happy\", \"anger\", \"happy\", \"love\", \"happy\", \"happy\", \"sadness\", \"sadness\", \"happy\", \"happy\", \"anger\", \"sadness\", \"sadness\", \"sadness\", \"sadness\", \"sadness\", \"fear\", \"sadness\", \"happy\", \"sadness\", \"sadness\", \"fear\", \"sadness\", \"fear\", \"sadness\", \"happy\", \"sadness\", \"sadness\", \"sadness\", \"fear\", \"fear\", \"anger\", \"fear\", \"fear\", \"happy\", \"anger\", \"sadness\", \"anger\", \"happy\", \"anger\", \"sadness\", \"happy\", \"love\", \"happy\", \"happy\", \"sadness\", \"sadness\", \"happy\", \"sadness\", \"sadness\", \"anger\", \"sadness\", \"sadness\", \"anger\", \"anger\", \"happy\", \"anger\", \"sadness\", \"fear\", \"anger\", \"fear\", \"sadness\", \"anger\", \"happy\", \"sadness\", \"fear\", \"sadness\", \"sadness\", \"happy\", \"surprise\", \"sadness\", \"fear\", \"fear\", \"surprise\", \"sadness\", \"happy\", \"sadness\", \"sadness\", \"happy\", \"happy\", \"sadness\", \"fear\", \"fear\", \"fear\", \"fear\", \"love\", \"happy\", \"surprise\", \"sadness\", \"happy\", \"anger\", \"sadness\", \"sadness\", \"sadness\", \"anger\", \"sadness\", \"anger\", \"sadness\", \"happy\", \"happy\", \"sadness\", \"happy\", \"sadness\", \"sadness\", \"happy\", \"happy\", \"sadness\", \"happy\", \"happy\", \"happy\", \"fear\", \"sadness\", \"happy\", \"happy\", \"love\", \"happy\", \"anger\", \"happy\", \"happy\", \"anger\", \"sadness\", \"happy\", \"happy\", \"anger\", \"sadness\", \"anger\", \"anger\", \"surprise\", \"sadness\", \"sadness\", \"sadness\", \"sadness\", \"anger\", \"happy\", \"fear\", \"sadness\", \"anger\", \"anger\", \"sadness\", \"sadness\", \"happy\", \"sadness\", \"happy\", \"happy\", \"fear\", \"happy\", \"love\", \"sadness\", \"sadness\", \"anger\", \"fear\", \"anger\", \"sadness\", \"happy\", \"love\", \"anger\", \"happy\", \"sadness\", \"sadness\", \"happy\", \"surprise\", \"fear\", \"happy\", \"happy\", \"sadness\", \"fear\", \"sadness\", \"happy\", \"happy\", \"love\", \"happy\", \"sadness\", \"sadness\", \"surprise\", \"anger\", \"sadness\", \"anger\", \"sadness\", \"sadness\", \"sadness\", \"anger\", \"sadness\", \"sadness\", \"happy\", \"surprise\", \"sadness\", \"anger\", \"surprise\", \"happy\", \"happy\", \"happy\", \"love\", \"sadness\", \"sadness\", \"sadness\", \"sadness\", \"happy\", \"sadness\", \"sadness\", \"sadness\", \"fear\", \"sadness\", \"anger\", \"sadness\", \"fear\", \"love\", \"anger\", \"happy\", \"love\", \"sadness\", \"sadness\", \"fear\", \"sadness\", \"sadness\", \"anger\", \"sadness\", \"happy\", \"fear\", \"anger\", \"anger\", \"happy\", \"happy\", \"happy\", \"happy\", \"fear\", \"sadness\", \"happy\", \"surprise\", \"anger\", \"happy\", \"sadness\", \"sadness\", \"sadness\", \"love\", \"sadness\", \"happy\", \"happy\", \"happy\", \"happy\", \"happy\", \"surprise\", \"happy\", \"fear\", \"fear\", \"surprise\", \"happy\", \"happy\", \"anger\", \"sadness\", \"happy\", \"sadness\", \"anger\", \"happy\", \"anger\", \"happy\", \"anger\", \"love\", \"anger\", \"anger\", \"sadness\", \"happy\", \"fear\", \"happy\", \"happy\", \"sadness\", \"love\", \"sadness\", \"sadness\", \"happy\", \"happy\", \"happy\", \"happy\", \"happy\", \"happy\", \"fear\", \"anger\", \"sadness\", \"happy\", \"sadness\", \"happy\", \"happy\", \"sadness\", \"sadness\", \"happy\", \"sadness\", \"happy\", \"happy\", \"anger\", \"happy\", \"sadness\", \"happy\", \"happy\", \"happy\", \"anger\", \"happy\", \"happy\", \"sadness\", \"fear\", \"sadness\", \"happy\", \"sadness\", \"anger\", \"fear\", \"sadness\", \"sadness\", \"sadness\", \"sadness\", \"love\", \"sadness\", \"happy\", \"anger\", \"sadness\", \"anger\", \"sadness\", \"love\", \"sadness\", \"fear\", \"fear\", \"surprise\", \"happy\", \"sadness\", \"fear\", \"sadness\", \"love\", \"happy\", \"sadness\", \"happy\", \"anger\", \"surprise\", \"sadness\", \"happy\", \"happy\", \"anger\", \"love\", \"fear\", \"happy\", \"anger\", \"sadness\", \"sadness\", \"love\", \"anger\", \"sadness\", \"sadness\", \"happy\", \"sadness\", \"happy\", \"happy\", \"sadness\", \"sadness\", \"anger\", \"happy\", \"happy\", \"anger\", \"sadness\", \"happy\", \"happy\", \"fear\", \"sadness\", \"happy\", \"sadness\", \"sadness\", \"sadness\", \"sadness\", \"happy\", \"fear\", \"sadness\", \"love\", \"love\", \"sadness\", \"fear\", \"fear\", \"happy\", \"sadness\", \"happy\", \"anger\", \"sadness\", \"sadness\", \"sadness\", \"sadness\", \"fear\", \"sadness\", \"sadness\", \"happy\", \"sadness\", \"happy\", \"happy\", \"sadness\", \"love\", \"happy\", \"sadness\", \"anger\", \"anger\", \"happy\", \"happy\", \"happy\", \"surprise\", \"anger\", \"fear\", \"sadness\", \"sadness\", \"happy\", \"sadness\", \"fear\", \"sadness\", \"happy\", \"fear\", \"sadness\", \"anger\", \"happy\", \"happy\", \"anger\", \"happy\", \"anger\", \"anger\", \"fear\", \"happy\", \"surprise\", \"fear\", \"anger\", \"anger\", \"happy\", \"happy\", \"sadness\", \"sadness\", \"sadness\", \"happy\", \"anger\", \"surprise\", \"sadness\", \"anger\", \"sadness\", \"happy\", \"anger\", \"happy\", \"fear\", \"happy\", \"fear\", \"happy\", \"sadness\", \"sadness\", \"happy\", \"happy\", \"sadness\", \"happy\", \"sadness\", \"sadness\", \"happy\", \"sadness\", \"happy\", \"sadness\", \"sadness\", \"anger\", \"happy\", \"anger\", \"sadness\", \"happy\", \"happy\", \"fear\", \"anger\", \"anger\", \"love\", \"happy\", \"sadness\", \"happy\", \"happy\", \"anger\", \"sadness\", \"anger\", \"sadness\", \"sadness\", \"anger\", \"anger\", \"love\", \"fear\", \"fear\", \"happy\", \"love\", \"sadness\", \"happy\", \"happy\", \"sadness\", \"happy\", \"sadness\", \"sadness\", \"sadness\", \"sadness\", \"fear\", \"sadness\", \"happy\", \"anger\", \"anger\", \"fear\", \"happy\", \"love\", \"happy\", \"happy\", \"happy\", \"happy\", \"happy\", \"sadness\", \"fear\", \"happy\", \"happy\", \"love\", \"anger\", \"happy\", \"happy\", \"sadness\", \"happy\", \"sadness\", \"sadness\", \"fear\", \"happy\", \"happy\", \"surprise\", \"happy\", \"sadness\", \"happy\", \"sadness\", \"happy\", \"happy\", \"sadness\", \"sadness\", \"happy\", \"sadness\", \"anger\", \"sadness\", \"sadness\", \"happy\", \"happy\", \"anger\", \"happy\", \"happy\", \"happy\", \"fear\", \"fear\", \"sadness\", \"sadness\", \"anger\", \"sadness\", \"sadness\", \"anger\", \"happy\", \"fear\", \"happy\", \"anger\", \"sadness\", \"love\", \"love\", \"sadness\", \"sadness\", \"sadness\", \"love\", \"happy\", \"sadness\", \"happy\", \"sadness\", \"anger\", \"anger\", \"happy\", \"anger\", \"happy\", \"love\", \"happy\", \"happy\", \"love\", \"anger\", \"fear\", \"happy\", \"anger\", \"love\", \"love\", \"fear\", \"happy\", \"anger\", \"happy\", \"sadness\", \"love\", \"fear\", \"happy\", \"happy\", \"sadness\", \"fear\", \"happy\", \"fear\", \"happy\", \"sadness\", \"love\", \"fear\", \"happy\", \"sadness\", \"sadness\", \"sadness\", \"sadness\", \"happy\", \"happy\", \"love\", \"sadness\", \"happy\", \"fear\", \"happy\", \"happy\", \"happy\", \"happy\", \"love\", \"sadness\", \"sadness\", \"anger\", \"sadness\", \"anger\", \"sadness\", \"happy\", \"sadness\", \"sadness\", \"anger\", \"happy\", \"happy\", \"happy\", \"fear\", \"happy\", \"anger\", \"happy\", \"love\", \"fear\", \"love\", \"fear\", \"anger\", \"happy\", \"sadness\", \"sadness\", \"happy\", \"love\", \"happy\", \"love\", \"fear\", \"love\", \"sadness\", \"fear\", \"happy\", \"anger\", \"fear\", \"fear\", \"love\", \"sadness\", \"happy\", \"fear\", \"sadness\", \"happy\", \"happy\", \"sadness\", \"sadness\", \"anger\", \"happy\", \"sadness\", \"fear\", \"sadness\", \"sadness\", \"fear\", \"fear\", \"sadness\", \"happy\", \"happy\", \"happy\", \"sadness\", \"happy\", \"anger\", \"anger\", \"happy\", \"fear\", \"happy\", \"happy\", \"happy\", \"happy\", \"love\", \"happy\", \"happy\", \"fear\", \"anger\", \"happy\", \"happy\", \"sadness\", \"sadness\", \"sadness\", \"happy\", \"sadness\", \"anger\", \"sadness\", \"happy\", \"surprise\", \"love\", \"fear\", \"surprise\", \"fear\", \"anger\", \"love\", \"happy\", \"love\", \"anger\", \"anger\", \"sadness\", \"love\", \"sadness\", \"anger\", \"sadness\", \"sadness\", \"sadness\", \"happy\", \"sadness\", \"sadness\", \"happy\", \"sadness\", \"happy\", \"fear\", \"sadness\", \"sadness\", \"anger\", \"sadness\", \"fear\", \"happy\", \"sadness\", \"sadness\", \"sadness\", \"happy\", \"happy\", \"sadness\", \"anger\", \"happy\", \"happy\", \"love\", \"anger\", \"sadness\", \"anger\", \"sadness\", \"happy\", \"sadness\", \"fear\", \"happy\", \"happy\", \"fear\", \"anger\", \"fear\", \"sadness\", \"sadness\", \"love\", \"happy\", \"fear\", \"anger\", \"sadness\", \"happy\", \"sadness\", \"love\", \"love\", \"fear\", \"anger\", \"sadness\", \"happy\", \"anger\", \"love\", \"sadness\", \"anger\", \"happy\", \"surprise\", \"sadness\", \"happy\", \"sadness\", \"sadness\", \"sadness\", \"happy\", \"surprise\", \"anger\", \"fear\", \"anger\", \"sadness\", \"sadness\", \"fear\", \"sadness\", \"surprise\", \"happy\", \"love\", \"sadness\", \"sadness\", \"sadness\", \"fear\", \"love\", \"surprise\", \"happy\", \"happy\", \"sadness\", \"sadness\", \"sadness\", \"sadness\", \"happy\", \"sadness\", \"fear\", \"sadness\", \"anger\", \"love\", \"happy\", \"anger\", \"sadness\", \"love\", \"happy\", \"sadness\", \"fear\", \"happy\", \"happy\", \"love\", \"sadness\", \"happy\", \"fear\", \"anger\", \"sadness\", \"sadness\", \"happy\", \"sadness\", \"sadness\", \"happy\", \"love\", \"sadness\", \"anger\", \"happy\", \"anger\", \"happy\", \"sadness\", \"fear\", \"anger\", \"sadness\", \"fear\", \"happy\", \"happy\", \"happy\", \"happy\", \"sadness\", \"happy\", \"love\", \"anger\", \"love\", \"sadness\", \"happy\", \"fear\", \"sadness\", \"happy\", \"fear\", \"sadness\", \"love\", \"sadness\", \"surprise\", \"surprise\", \"anger\", \"fear\", \"happy\", \"happy\", \"happy\", \"sadness\", \"sadness\", \"happy\", \"surprise\", \"happy\", \"happy\", \"happy\", \"sadness\", \"happy\", \"anger\", \"fear\", \"happy\", \"sadness\", \"happy\", \"sadness\", \"anger\", \"sadness\", \"love\", \"love\", \"fear\", \"fear\", \"surprise\", \"sadness\", \"sadness\", \"happy\", \"anger\", \"anger\", \"sadness\", \"fear\", \"happy\", \"sadness\", \"happy\", \"anger\", \"happy\", \"surprise\", \"happy\", \"surprise\", \"sadness\", \"happy\", \"happy\", \"sadness\", \"sadness\", \"happy\", \"happy\", \"sadness\", \"sadness\", \"happy\", \"fear\", \"sadness\", \"love\", \"anger\", \"anger\", \"sadness\", \"love\", \"love\", \"sadness\", \"surprise\", \"fear\", \"sadness\", \"fear\", \"happy\", \"happy\", \"anger\", \"sadness\", \"fear\", \"sadness\", \"happy\", \"anger\", \"happy\", \"fear\", \"anger\", \"happy\", \"fear\", \"sadness\", \"love\", \"happy\", \"happy\", \"love\", \"happy\", \"sadness\", \"happy\", \"happy\", \"anger\", \"sadness\", \"happy\", \"love\", \"happy\", \"sadness\", \"happy\", \"fear\", \"fear\", \"surprise\", \"anger\", \"surprise\", \"fear\", \"sadness\", \"sadness\", \"love\", \"sadness\", \"anger\", \"anger\", \"happy\", \"anger\", \"happy\", \"love\", \"happy\", \"happy\", \"anger\", \"happy\", \"sadness\", \"sadness\", \"happy\", \"happy\", \"happy\", \"anger\", \"sadness\", \"sadness\", \"fear\", \"sadness\", \"love\", \"sadness\", \"fear\", \"happy\", \"sadness\", \"happy\", \"love\", \"happy\", \"sadness\", \"sadness\", \"fear\", \"fear\", \"surprise\", \"anger\", \"sadness\", \"fear\", \"sadness\", \"fear\", \"happy\", \"anger\", \"happy\", \"happy\", \"happy\", \"fear\", \"anger\", \"happy\", \"sadness\", \"happy\", \"happy\", \"love\", \"fear\", \"sadness\", \"fear\", \"sadness\", \"sadness\", \"happy\", \"happy\", \"happy\", \"fear\", \"sadness\", \"sadness\", \"sadness\", \"fear\", \"anger\", \"happy\", \"sadness\", \"sadness\", \"surprise\", \"happy\", \"love\", \"surprise\", \"happy\", \"sadness\", \"happy\", \"sadness\", \"anger\", \"love\", \"happy\", \"anger\", \"anger\", \"fear\", \"happy\", \"anger\", \"sadness\", \"happy\", \"happy\", \"happy\", \"happy\", \"sadness\", \"sadness\", \"happy\", \"happy\", \"sadness\", \"happy\", \"fear\", \"fear\", \"anger\", \"anger\", \"surprise\", \"sadness\", \"happy\", \"happy\", \"happy\", \"happy\", \"happy\", \"sadness\", \"anger\", \"happy\", \"sadness\", \"happy\", \"happy\", \"happy\", \"sadness\", \"happy\", \"fear\", \"sadness\", \"love\", \"love\", \"sadness\", \"sadness\", \"anger\", \"happy\", \"sadness\", \"happy\", \"happy\", \"happy\", \"happy\", \"fear\", \"love\", \"sadness\", \"happy\", \"sadness\", \"sadness\", \"fear\", \"fear\", \"sadness\", \"love\", \"anger\", \"sadness\", \"sadness\", \"happy\", \"sadness\", \"anger\", \"sadness\", \"sadness\", \"sadness\", \"happy\", \"surprise\", \"fear\", \"sadness\", \"fear\", \"happy\", \"fear\", \"anger\", \"sadness\", \"love\", \"anger\", \"fear\", \"anger\", \"sadness\", \"sadness\", \"happy\", \"sadness\", \"happy\", \"sadness\", \"happy\", \"happy\", \"anger\", \"happy\", \"sadness\", \"fear\", \"fear\", \"sadness\", \"happy\", \"sadness\", \"sadness\", \"sadness\", \"love\", \"love\", \"happy\", \"love\", \"sadness\", \"happy\", \"happy\", \"sadness\", \"fear\", \"sadness\", \"fear\", \"happy\", \"sadness\", \"fear\", \"sadness\", \"happy\", \"sadness\", \"sadness\", \"fear\", \"anger\", \"fear\", \"fear\", \"happy\", \"happy\", \"happy\", \"sadness\", \"happy\", \"happy\", \"sadness\", \"happy\", \"happy\", \"anger\", \"love\", \"fear\", \"fear\", \"happy\", \"happy\", \"sadness\", \"sadness\", \"happy\", \"happy\", \"happy\", \"fear\", \"happy\", \"happy\", \"happy\", \"happy\", \"love\", \"happy\", \"anger\", \"sadness\", \"love\", \"happy\", \"anger\", \"sadness\", \"fear\", \"sadness\", \"happy\", \"fear\", \"sadness\", \"anger\", \"anger\", \"anger\", \"anger\", \"love\", \"fear\", \"sadness\", \"fear\", \"sadness\", \"happy\", \"happy\", \"happy\", \"happy\", \"happy\", \"anger\", \"happy\", \"sadness\", \"sadness\", \"happy\", \"happy\", \"fear\", \"sadness\", \"fear\", \"sadness\", \"happy\", \"anger\", \"sadness\", \"happy\", \"anger\", \"fear\", \"love\", \"love\", \"happy\", \"happy\", \"anger\", \"fear\", \"anger\", \"happy\", \"happy\", \"happy\", \"sadness\", \"surprise\", \"sadness\", \"love\", \"happy\", \"fear\", \"happy\", \"sadness\", \"sadness\", \"love\", \"anger\", \"happy\", \"love\", \"anger\", \"happy\", \"happy\", \"sadness\", \"happy\", \"sadness\", \"sadness\", \"anger\", \"fear\", \"fear\", \"happy\", \"sadness\", \"fear\", \"sadness\", \"love\", \"happy\", \"fear\", \"love\", \"happy\", \"anger\", \"anger\", \"anger\", \"surprise\", \"happy\", \"happy\", \"happy\", \"anger\", \"happy\", \"anger\", \"sadness\", \"happy\", \"happy\", \"happy\", \"anger\", \"anger\", \"happy\", \"happy\", \"fear\", \"sadness\", \"love\", \"happy\", \"fear\", \"happy\", \"sadness\", \"sadness\", \"sadness\", \"happy\", \"surprise\", \"anger\", \"happy\", \"anger\", \"happy\", \"happy\", \"anger\", \"fear\", \"happy\", \"fear\", \"love\", \"happy\", \"surprise\", \"love\", \"fear\", \"happy\", \"happy\", \"anger\", \"fear\", \"happy\", \"sadness\", \"happy\", \"sadness\", \"happy\", \"sadness\", \"love\", \"fear\", \"sadness\", \"sadness\", \"sadness\", \"happy\", \"love\", \"sadness\", \"happy\", \"happy\", \"sadness\", \"fear\", \"anger\", \"sadness\", \"sadness\", \"sadness\", \"sadness\", \"happy\", \"sadness\", \"happy\", \"sadness\", \"anger\", \"anger\", \"happy\", \"happy\", \"fear\", \"fear\", \"anger\", \"fear\", \"happy\", \"sadness\", \"sadness\", \"happy\", \"surprise\", \"sadness\", \"love\", \"love\", \"love\", \"anger\", \"happy\", \"anger\", \"fear\", \"fear\", \"sadness\", \"anger\", \"sadness\", \"sadness\", \"happy\", \"happy\", \"sadness\", \"happy\", \"fear\", \"happy\", \"anger\", \"sadness\", \"fear\", \"fear\", \"anger\", \"happy\", \"love\", \"anger\", \"love\", \"anger\", \"happy\", \"anger\", \"happy\", \"anger\", \"sadness\", \"sadness\", \"fear\", \"sadness\", \"sadness\", \"sadness\", \"happy\", \"happy\", \"love\", \"fear\", \"sadness\", \"sadness\", \"sadness\", \"sadness\", \"sadness\", \"sadness\", \"happy\", \"fear\", \"happy\", \"sadness\", \"fear\", \"happy\", \"happy\", \"happy\", \"sadness\", \"happy\", \"happy\", \"happy\", \"happy\", \"sadness\", \"sadness\", \"love\", \"sadness\", \"sadness\", \"sadness\", \"happy\", \"sadness\", \"fear\", \"surprise\", \"fear\", \"fear\", \"happy\", \"happy\", \"anger\", \"happy\", \"anger\", \"happy\", \"anger\", \"sadness\", \"anger\", \"happy\", \"happy\", \"anger\", \"love\", \"happy\", \"sadness\", \"anger\", \"fear\", \"love\", \"anger\", \"happy\", \"sadness\", \"anger\", \"sadness\", \"sadness\", \"surprise\", \"love\", \"sadness\", \"happy\", \"surprise\", \"fear\", \"sadness\", \"anger\", \"fear\", \"fear\", \"happy\", \"happy\", \"anger\", \"fear\", \"happy\", \"happy\", \"happy\", \"happy\", \"sadness\", \"surprise\", \"happy\", \"sadness\", \"anger\", \"happy\", \"love\", \"sadness\", \"sadness\", \"happy\", \"anger\", \"sadness\", \"sadness\", \"sadness\", \"sadness\", \"happy\", \"sadness\", \"fear\", \"anger\", \"happy\", \"happy\", \"anger\", \"fear\", \"sadness\", \"fear\", \"happy\", \"love\", \"sadness\", \"happy\", \"sadness\", \"anger\", \"happy\", \"sadness\", \"happy\", \"happy\", \"sadness\", \"sadness\", \"fear\", \"anger\", \"sadness\", \"fear\", \"anger\", \"fear\", \"anger\", \"sadness\", \"anger\", \"sadness\", \"happy\", \"happy\", \"sadness\", \"happy\", \"happy\", \"anger\", \"sadness\", \"happy\", \"sadness\", \"happy\", \"anger\", \"happy\", \"happy\", \"fear\", \"fear\", \"sadness\", \"fear\", \"happy\", \"sadness\", \"happy\", \"sadness\", \"sadness\", \"happy\", \"sadness\", \"anger\", \"sadness\", \"sadness\", \"happy\", \"happy\", \"sadness\", \"surprise\", \"sadness\", \"anger\", \"fear\", \"surprise\", \"happy\", \"love\", \"surprise\", \"happy\", \"love\", \"anger\", \"happy\", \"sadness\", \"happy\", \"love\", \"happy\", \"anger\", \"sadness\", \"happy\", \"sadness\", \"sadness\", \"happy\", \"happy\", \"happy\", \"sadness\", \"happy\", \"fear\", \"anger\", \"fear\", \"anger\", \"anger\", \"love\", \"sadness\", \"anger\", \"sadness\", \"sadness\", \"sadness\", \"sadness\", \"fear\", \"anger\", \"anger\", \"happy\", \"happy\", \"fear\", \"sadness\", \"happy\", \"love\", \"fear\", \"happy\", \"sadness\", \"happy\", \"happy\", \"fear\", \"sadness\", \"happy\", \"sadness\", \"happy\", \"sadness\", \"anger\", \"sadness\", \"love\", \"sadness\", \"fear\", \"sadness\", \"sadness\", \"happy\", \"love\", \"sadness\", \"anger\", \"anger\", \"happy\", \"fear\", \"anger\", \"sadness\", \"happy\", \"happy\", \"sadness\", \"fear\", \"happy\", \"happy\", \"sadness\", \"happy\", \"fear\", \"fear\", \"love\", \"sadness\", \"love\", \"surprise\", \"sadness\", \"happy\", \"sadness\", \"happy\", \"happy\", \"anger\", \"sadness\", \"anger\", \"anger\", \"happy\", \"fear\", \"fear\", \"happy\", \"love\", \"love\", \"love\", \"sadness\", \"love\", \"anger\", \"happy\", \"happy\", \"sadness\", \"anger\", \"happy\", \"happy\", \"sadness\", \"sadness\", \"fear\", \"happy\", \"sadness\", \"love\", \"fear\", \"sadness\", \"happy\", \"happy\", \"fear\", \"anger\", \"happy\", \"sadness\", \"happy\", \"anger\", \"sadness\", \"sadness\", \"fear\", \"fear\", \"happy\", \"happy\", \"happy\", \"love\", \"love\", \"happy\", \"happy\", \"happy\", \"love\", \"fear\", \"fear\", \"happy\", \"anger\", \"sadness\", \"happy\", \"fear\", \"happy\", \"sadness\", \"anger\", \"sadness\", \"anger\", \"anger\", \"happy\", \"fear\", \"surprise\", \"happy\", \"happy\", \"happy\", \"anger\", \"happy\", \"love\", \"fear\", \"sadness\", \"sadness\", \"happy\", \"happy\", \"fear\", \"happy\", \"sadness\", \"happy\", \"sadness\", \"happy\", \"sadness\", \"love\", \"fear\", \"happy\", \"sadness\", \"sadness\", \"sadness\", \"anger\", \"happy\", \"surprise\", \"sadness\", \"sadness\", \"sadness\", \"anger\", \"love\", \"sadness\", \"happy\", \"happy\", \"sadness\", \"anger\", \"anger\", \"anger\", \"happy\", \"anger\", \"anger\", \"love\", \"happy\", \"happy\", \"anger\", \"sadness\", \"anger\", \"anger\", \"fear\", \"sadness\", \"anger\", \"sadness\", \"happy\", \"fear\", \"anger\", \"sadness\", \"happy\", \"sadness\", \"sadness\", \"happy\", \"happy\", \"happy\", \"love\", \"sadness\", \"happy\", \"happy\", \"surprise\", \"fear\", \"love\", \"sadness\", \"love\", \"fear\", \"anger\", \"sadness\", \"sadness\", \"anger\", \"happy\", \"anger\", \"love\", \"love\", \"happy\", \"fear\", \"anger\", \"love\", \"fear\", \"fear\", \"happy\", \"sadness\", \"fear\", \"happy\", \"sadness\", \"anger\", \"love\", \"surprise\", \"anger\", \"fear\", \"sadness\", \"sadness\", \"sadness\", \"happy\", \"sadness\", \"sadness\", \"love\", \"anger\", \"sadness\", \"sadness\", \"fear\", \"sadness\", \"sadness\", \"love\", \"sadness\", \"happy\", \"sadness\", \"happy\", \"happy\", \"sadness\", \"anger\", \"love\", \"surprise\", \"happy\", \"happy\", \"happy\", \"happy\", \"fear\", \"fear\", \"happy\", \"sadness\", \"sadness\", \"sadness\", \"happy\", \"happy\", \"love\", \"love\", \"sadness\", \"sadness\", \"happy\", \"anger\", \"sadness\", \"sadness\", \"anger\", \"happy\", \"happy\", \"love\", \"sadness\", \"anger\", \"love\", \"sadness\", \"happy\", \"happy\", \"anger\", \"happy\", \"sadness\", \"happy\", \"sadness\", \"anger\", \"sadness\", \"fear\", \"anger\", \"surprise\", \"fear\", \"happy\", \"anger\", \"anger\", \"fear\", \"happy\", \"sadness\", \"sadness\", \"love\", \"sadness\", \"sadness\", \"fear\", \"sadness\", \"anger\", \"happy\", \"sadness\", \"fear\", \"fear\", \"happy\", \"surprise\", \"sadness\", \"love\", \"happy\", \"happy\", \"sadness\", \"happy\", \"sadness\", \"fear\", \"anger\", \"happy\", \"happy\", \"anger\", \"happy\", \"fear\", \"sadness\", \"anger\", \"fear\", \"happy\", \"fear\", \"fear\", \"happy\", \"sadness\", \"happy\", \"sadness\", \"happy\", \"anger\", \"fear\", \"anger\", \"sadness\", \"fear\", \"fear\", \"fear\", \"sadness\", \"happy\", \"anger\", \"anger\", \"sadness\", \"happy\", \"surprise\", \"anger\", \"sadness\", \"sadness\", \"happy\", \"sadness\", \"sadness\", \"happy\", \"anger\", \"sadness\", \"anger\", \"sadness\", \"sadness\", \"fear\", \"sadness\", \"happy\", \"fear\", \"happy\", \"anger\", \"fear\", \"happy\", \"sadness\", \"sadness\", \"sadness\", \"happy\", \"love\", \"sadness\", \"sadness\", \"surprise\", \"fear\", \"sadness\", \"happy\", \"happy\", \"anger\", \"happy\", \"sadness\", \"anger\", \"happy\", \"fear\", \"sadness\", \"sadness\", \"anger\", \"happy\", \"happy\", \"sadness\", \"fear\", \"anger\", \"happy\", \"happy\", \"happy\", \"sadness\", \"happy\", \"fear\", \"happy\", \"happy\", \"happy\", \"sadness\", \"happy\", \"fear\", \"anger\", \"anger\", \"anger\", \"happy\", \"happy\", \"happy\", \"sadness\", \"anger\", \"sadness\", \"sadness\", \"happy\", \"happy\", \"happy\", \"love\", \"fear\", \"happy\", \"happy\", \"happy\", \"anger\", \"happy\", \"love\", \"sadness\", \"fear\", \"anger\", \"happy\", \"sadness\", \"fear\", \"sadness\", \"anger\", \"love\", \"happy\", \"happy\", \"happy\", \"happy\", \"happy\", \"love\", \"fear\", \"anger\", \"happy\", \"sadness\", \"happy\", \"happy\", \"happy\", \"surprise\", \"sadness\", \"anger\", \"happy\", \"happy\", \"happy\", \"sadness\", \"happy\", \"sadness\", \"surprise\", \"sadness\", \"happy\", \"happy\", \"sadness\", \"anger\", \"happy\", \"happy\", \"happy\", \"anger\", \"sadness\", \"happy\", \"anger\", \"sadness\", \"sadness\", \"sadness\", \"sadness\", \"happy\", \"happy\", \"sadness\", \"happy\", \"sadness\", \"love\", \"love\", \"happy\", \"anger\", \"fear\", \"happy\", \"happy\", \"happy\", \"sadness\", \"happy\", \"sadness\", \"fear\", \"sadness\", \"sadness\", \"sadness\", \"happy\", \"fear\", \"sadness\", \"sadness\", \"love\", \"sadness\", \"love\", \"surprise\", \"happy\", \"sadness\", \"fear\", \"sadness\", \"anger\", \"sadness\", \"anger\", \"anger\", \"sadness\", \"happy\", \"happy\", \"love\", \"happy\", \"anger\", \"sadness\", \"happy\", \"surprise\", \"love\", \"love\", \"sadness\", \"happy\", \"happy\", \"happy\", \"sadness\", \"love\", \"happy\", \"fear\", \"anger\", \"surprise\", \"fear\", \"love\", \"happy\", \"love\", \"love\", \"happy\", \"fear\", \"happy\", \"sadness\", \"happy\", \"happy\", \"happy\", \"happy\", \"happy\", \"happy\", \"sadness\", \"happy\", \"love\", \"happy\", \"happy\", \"happy\", \"happy\", \"anger\", \"sadness\", \"love\", \"happy\", \"sadness\", \"happy\", \"happy\", \"happy\", \"sadness\", \"anger\", \"fear\", \"happy\", \"anger\", \"sadness\", \"anger\", \"sadness\", \"anger\", \"anger\", \"fear\", \"sadness\", \"fear\", \"sadness\", \"love\", \"surprise\", \"happy\", \"happy\", \"happy\", \"happy\", \"anger\", \"sadness\", \"happy\", \"sadness\", \"sadness\", \"surprise\", \"happy\", \"sadness\", \"sadness\", \"fear\", \"sadness\", \"fear\", \"sadness\", \"sadness\", \"sadness\", \"sadness\", \"fear\", \"sadness\", \"fear\", \"happy\", \"sadness\", \"fear\", \"anger\", \"happy\", \"anger\", \"happy\", \"sadness\", \"sadness\", \"sadness\", \"surprise\", \"happy\", \"happy\", \"happy\", \"sadness\", \"sadness\", \"anger\", \"sadness\", \"love\", \"fear\", \"love\", \"happy\", \"fear\", \"anger\", \"happy\", \"happy\", \"fear\", \"happy\", \"happy\", \"anger\", \"sadness\", \"fear\", \"sadness\", \"happy\", \"happy\", \"happy\", \"sadness\", \"sadness\", \"happy\", \"sadness\", \"love\", \"sadness\", \"fear\", \"anger\", \"anger\", \"happy\", \"happy\", \"happy\", \"sadness\", \"happy\", \"happy\", \"love\", \"happy\", \"sadness\", \"sadness\", \"sadness\", \"happy\", \"happy\", \"sadness\", \"fear\", \"sadness\", \"happy\", \"anger\", \"happy\", \"happy\", \"happy\", \"happy\", \"anger\", \"happy\", \"sadness\", \"love\", \"love\", \"anger\", \"sadness\", \"anger\", \"happy\", \"happy\", \"anger\", \"happy\", \"sadness\", \"happy\", \"sadness\", \"sadness\", \"happy\", \"happy\", \"fear\", \"happy\", \"happy\", \"anger\", \"sadness\", \"happy\", \"happy\", \"happy\", \"happy\", \"happy\", \"happy\", \"sadness\", \"fear\", \"happy\", \"happy\", \"surprise\", \"sadness\", \"happy\", \"sadness\", \"happy\", \"happy\", \"happy\", \"love\", \"sadness\", \"sadness\", \"happy\", \"sadness\", \"sadness\", \"happy\", \"sadness\", \"anger\", \"sadness\", \"happy\", \"surprise\", \"happy\", \"happy\", \"anger\", \"sadness\", \"sadness\", \"happy\", \"surprise\", \"love\", \"anger\", \"anger\", \"fear\", \"happy\", \"sadness\", \"sadness\", \"fear\", \"sadness\", \"fear\", \"happy\", \"fear\", \"love\", \"fear\", \"sadness\", \"anger\", \"sadness\", \"sadness\", \"sadness\", \"happy\", \"sadness\", \"happy\", \"happy\", \"surprise\", \"happy\", \"sadness\", \"sadness\", \"fear\", \"happy\", \"sadness\", \"sadness\", \"happy\", \"happy\", \"sadness\", \"sadness\", \"sadness\", \"happy\", \"sadness\", \"happy\", \"sadness\", \"fear\", \"sadness\", \"anger\", \"happy\", \"sadness\", \"sadness\", \"happy\", \"sadness\", \"love\", \"happy\", \"fear\", \"sadness\", \"sadness\", \"happy\", \"surprise\", \"sadness\", \"happy\", \"happy\", \"surprise\", \"fear\", \"anger\", \"sadness\", \"fear\", \"sadness\", \"happy\", \"love\", \"sadness\", \"love\", \"happy\", \"love\", \"happy\", \"anger\", \"happy\", \"love\", \"love\", \"happy\", \"happy\", \"sadness\", \"happy\", \"anger\", \"happy\", \"fear\", \"happy\", \"sadness\", \"anger\", \"sadness\", \"anger\", \"sadness\", \"love\", \"sadness\", \"happy\", \"sadness\", \"happy\", \"happy\", \"sadness\", \"fear\", \"happy\", \"sadness\", \"sadness\", \"happy\", \"sadness\", \"anger\", \"love\", \"anger\", \"happy\", \"sadness\", \"fear\", \"happy\", \"happy\", \"anger\", \"happy\", \"sadness\", \"anger\", \"happy\", \"sadness\", \"love\", \"anger\", \"happy\", \"happy\", \"happy\", \"fear\", \"fear\", \"sadness\", \"sadness\", \"surprise\", \"sadness\", \"sadness\", \"happy\", \"sadness\", \"sadness\", \"happy\", \"happy\", \"sadness\", \"fear\", \"happy\", \"happy\", \"love\", \"happy\", \"love\", \"love\", \"sadness\", \"sadness\", \"happy\", \"happy\", \"sadness\", \"happy\", \"anger\", \"anger\", \"surprise\", \"anger\", \"happy\", \"happy\", \"anger\", \"sadness\", \"happy\", \"anger\", \"fear\", \"love\", \"anger\", \"happy\", \"sadness\", \"love\", \"sadness\", \"anger\", \"love\", \"happy\", \"happy\", \"happy\", \"sadness\", \"sadness\", \"sadness\", \"love\", \"happy\", \"love\", \"fear\", \"surprise\", \"happy\", \"happy\", \"sadness\", \"happy\", \"happy\", \"anger\", \"happy\", \"anger\", \"happy\", \"fear\", \"anger\", \"sadness\", \"happy\", \"fear\", \"happy\", \"happy\", \"love\", \"sadness\", \"love\", \"sadness\", \"love\", \"fear\", \"happy\", \"sadness\", \"anger\", \"sadness\", \"happy\", \"fear\", \"anger\", \"sadness\", \"fear\", \"happy\", \"sadness\", \"happy\", \"anger\", \"sadness\", \"anger\", \"sadness\", \"happy\", \"happy\", \"sadness\", \"fear\", \"happy\", \"fear\", \"happy\", \"happy\", \"sadness\", \"happy\", \"sadness\", \"anger\", \"happy\", \"surprise\", \"surprise\", \"happy\", \"surprise\", \"happy\", \"anger\", \"surprise\", \"happy\", \"sadness\", \"happy\", \"sadness\", \"love\", \"sadness\", \"love\", \"fear\", \"happy\", \"love\", \"sadness\", \"happy\", \"anger\", \"happy\", \"happy\", \"surprise\", \"sadness\", \"love\", \"happy\", \"anger\", \"sadness\", \"sadness\", \"happy\", \"anger\", \"anger\", \"sadness\", \"love\", \"anger\", \"love\", \"sadness\", \"anger\", \"sadness\", \"happy\", \"sadness\", \"happy\", \"fear\", \"anger\", \"love\", \"sadness\", \"sadness\", \"fear\", \"sadness\", \"anger\", \"sadness\", \"anger\", \"surprise\", \"anger\", \"sadness\", \"sadness\", \"fear\", \"happy\", \"sadness\", \"happy\", \"fear\", \"anger\", \"sadness\", \"love\", \"fear\", \"anger\", \"happy\", \"sadness\", \"happy\", \"love\", \"sadness\", \"anger\", \"sadness\", \"anger\", \"happy\", \"love\", \"sadness\", \"sadness\", \"happy\", \"sadness\", \"happy\", \"happy\", \"anger\", \"sadness\", \"happy\", \"fear\", \"sadness\", \"sadness\", \"happy\", \"sadness\", \"anger\", \"happy\", \"happy\", \"anger\", \"happy\", \"sadness\", \"anger\", \"happy\", \"love\", \"happy\", \"happy\", \"anger\", \"sadness\", \"sadness\", \"happy\", \"sadness\", \"happy\", \"sadness\", \"happy\", \"happy\", \"anger\", \"happy\", \"happy\", \"happy\", \"fear\", \"happy\", \"anger\", \"happy\", \"sadness\", \"sadness\", \"fear\", \"happy\", \"happy\", \"happy\", \"fear\", \"fear\", \"happy\", \"sadness\", \"happy\", \"anger\", \"love\", \"happy\", \"fear\", \"surprise\", \"happy\", \"happy\", \"anger\", \"surprise\", \"sadness\", \"surprise\", \"sadness\", \"sadness\", \"anger\", \"sadness\", \"sadness\", \"sadness\", \"love\", \"sadness\", \"sadness\", \"sadness\", \"fear\", \"happy\", \"anger\", \"sadness\", \"surprise\", \"sadness\", \"sadness\", \"surprise\", \"happy\", \"love\", \"sadness\", \"happy\", \"happy\", \"sadness\", \"sadness\", \"sadness\", \"sadness\", \"happy\", \"love\", \"happy\", \"happy\", \"happy\", \"happy\", \"happy\", \"sadness\", \"sadness\", \"sadness\", \"sadness\", \"happy\", \"sadness\", \"happy\", \"happy\", \"happy\", \"happy\", \"anger\", \"happy\", \"surprise\", \"anger\", \"sadness\", \"sadness\", \"sadness\", \"happy\", \"surprise\", \"sadness\", \"sadness\", \"sadness\", \"happy\", \"love\", \"sadness\", \"happy\", \"happy\", \"sadness\", \"sadness\", \"happy\", \"anger\", \"surprise\", \"sadness\", \"happy\", \"fear\", \"anger\", \"fear\", \"sadness\", \"happy\", \"fear\", \"happy\", \"sadness\", \"happy\", \"happy\", \"fear\", \"happy\", \"happy\", \"happy\", \"happy\", \"happy\", \"happy\", \"surprise\", \"happy\", \"surprise\", \"happy\", \"happy\", \"fear\", \"fear\", \"happy\", \"anger\", \"anger\", \"happy\", \"sadness\", \"sadness\", \"happy\", \"fear\", \"sadness\", \"anger\", \"sadness\", \"happy\", \"sadness\", \"sadness\", \"fear\", \"sadness\", \"fear\", \"sadness\", \"sadness\", \"anger\", \"anger\", \"love\", \"happy\", \"happy\", \"sadness\", \"fear\", \"surprise\", \"happy\", \"surprise\", \"happy\", \"happy\", \"happy\", \"fear\", \"happy\", \"surprise\", \"happy\", \"happy\", \"happy\", \"sadness\", \"anger\", \"anger\", \"fear\", \"fear\", \"happy\", \"happy\", \"fear\", \"sadness\", \"anger\", \"happy\", \"sadness\", \"happy\", \"happy\", \"happy\", \"love\", \"sadness\", \"sadness\", \"happy\", \"sadness\", \"sadness\", \"sadness\", \"love\", \"sadness\", \"happy\", \"happy\", \"sadness\", \"happy\", \"love\", \"love\", \"happy\", \"fear\", \"happy\", \"happy\", \"anger\", \"happy\", \"anger\", \"fear\", \"happy\", \"happy\", \"love\", \"happy\", \"happy\", \"happy\", \"happy\", \"happy\", \"fear\", \"sadness\", \"sadness\", \"fear\", \"sadness\", \"happy\", \"love\", \"anger\", \"sadness\", \"happy\", \"sadness\", \"sadness\", \"anger\", \"love\", \"sadness\", \"happy\", \"happy\", \"love\", \"surprise\", \"sadness\", \"fear\", \"happy\", \"love\", \"love\", \"happy\", \"happy\", \"happy\", \"happy\", \"happy\", \"sadness\", \"surprise\", \"love\", \"sadness\", \"anger\", \"fear\", \"anger\", \"happy\", \"anger\", \"love\", \"fear\", \"sadness\", \"anger\", \"happy\", \"happy\", \"happy\", \"fear\", \"happy\", \"happy\", \"fear\", \"anger\", \"sadness\", \"sadness\", \"happy\", \"happy\", \"happy\", \"anger\", \"fear\", \"fear\", \"sadness\", \"sadness\", \"anger\", \"fear\", \"anger\", \"happy\", \"happy\", \"happy\", \"sadness\", \"sadness\", \"happy\", \"sadness\", \"happy\", \"sadness\", \"love\", \"sadness\", \"sadness\", \"sadness\", \"happy\", \"fear\", \"fear\", \"sadness\", \"happy\", \"fear\", \"sadness\", \"happy\", \"happy\", \"happy\", \"happy\", \"surprise\", \"anger\", \"sadness\", \"happy\", \"sadness\", \"sadness\", \"happy\", \"love\", \"happy\", \"happy\", \"happy\", \"sadness\", \"love\", \"fear\", \"surprise\", \"happy\", \"fear\", \"happy\", \"fear\", \"anger\", \"sadness\", \"happy\", \"happy\", \"sadness\", \"sadness\", \"love\", \"fear\", \"love\", \"happy\", \"happy\", \"happy\", \"sadness\", \"sadness\", \"anger\", \"surprise\", \"happy\", \"happy\", \"love\", \"sadness\", \"happy\", \"anger\", \"fear\", \"happy\", \"sadness\", \"happy\", \"fear\", \"love\", \"happy\", \"anger\", \"happy\", \"happy\", \"happy\", \"sadness\", \"sadness\", \"sadness\", \"happy\", \"anger\", \"fear\", \"fear\", \"anger\", \"sadness\", \"happy\", \"love\", \"happy\", \"happy\", \"happy\", \"fear\", \"happy\", \"sadness\", \"happy\", \"sadness\", \"sadness\", \"anger\", \"love\", \"happy\", \"happy\", \"sadness\", \"fear\", \"happy\", \"anger\", \"fear\", \"happy\", \"anger\", \"fear\", \"anger\", \"happy\", \"happy\", \"happy\", \"happy\", \"sadness\", \"love\", \"anger\", \"anger\", \"happy\", \"love\", \"sadness\", \"sadness\", \"sadness\", \"happy\", \"happy\", \"sadness\", \"fear\", \"happy\", \"sadness\", \"sadness\", \"anger\", \"sadness\", \"happy\", \"happy\", \"sadness\", \"fear\", \"happy\", \"fear\", \"sadness\", \"anger\", \"happy\", \"sadness\", \"happy\", \"sadness\", \"anger\", \"love\", \"fear\", \"happy\", \"sadness\", \"fear\", \"fear\", \"fear\", \"sadness\", \"happy\", \"sadness\", \"sadness\", \"sadness\", \"happy\", \"anger\", \"happy\", \"anger\", \"sadness\", \"love\", \"happy\", \"happy\", \"anger\", \"love\", \"sadness\", \"happy\", \"sadness\", \"sadness\", \"happy\", \"anger\", \"surprise\", \"sadness\", \"happy\", \"anger\", \"sadness\", \"happy\", \"sadness\", \"fear\", \"happy\", \"happy\", \"fear\", \"fear\", \"happy\", \"anger\", \"happy\", \"happy\", \"sadness\", \"anger\", \"happy\", \"fear\", \"happy\", \"happy\", \"sadness\", \"sadness\", \"happy\", \"fear\", \"anger\", \"anger\", \"sadness\", \"anger\", \"anger\", \"happy\", \"sadness\", \"fear\", \"fear\", \"surprise\", \"happy\", \"happy\", \"surprise\", \"happy\", \"happy\", \"happy\", \"anger\", \"love\", \"fear\", \"sadness\", \"sadness\", \"happy\", \"happy\", \"happy\", \"anger\", \"love\", \"sadness\", \"happy\", \"fear\", \"anger\", \"fear\", \"happy\", \"fear\", \"sadness\", \"sadness\", \"sadness\", \"sadness\", \"happy\", \"sadness\", \"sadness\", \"sadness\", \"sadness\", \"anger\", \"sadness\", \"sadness\", \"happy\", \"happy\", \"happy\", \"fear\", \"happy\", \"anger\", \"sadness\", \"fear\", \"anger\", \"sadness\", \"love\", \"anger\", \"sadness\", \"happy\", \"love\", \"love\", \"happy\", \"happy\", \"happy\", \"happy\", \"sadness\", \"anger\", \"happy\", \"happy\", \"happy\", \"anger\", \"sadness\", \"sadness\", \"sadness\", \"anger\", \"happy\", \"love\", \"sadness\", \"happy\", \"sadness\", \"happy\", \"sadness\", \"happy\", \"happy\", \"love\", \"anger\", \"happy\", \"anger\", \"sadness\", \"love\", \"sadness\", \"fear\", \"happy\", \"fear\", \"happy\", \"sadness\", \"surprise\", \"happy\", \"anger\", \"happy\", \"anger\", \"happy\", \"happy\", \"sadness\", \"happy\", \"anger\", \"love\", \"love\", \"happy\", \"surprise\", \"fear\", \"fear\", \"anger\", \"anger\", \"love\", \"fear\", \"anger\", \"sadness\", \"fear\", \"sadness\", \"love\", \"happy\", \"fear\", \"anger\", \"sadness\", \"happy\", \"sadness\", \"sadness\", \"happy\", \"happy\", \"sadness\", \"love\", \"happy\", \"happy\", \"sadness\", \"fear\", \"happy\", \"fear\", \"happy\", \"happy\", \"love\", \"happy\", \"happy\", \"sadness\", \"happy\", \"happy\", \"sadness\", \"happy\", \"happy\", \"surprise\", \"surprise\", \"happy\", \"happy\", \"sadness\", \"sadness\", \"anger\", \"sadness\", \"happy\", \"anger\", \"fear\", \"fear\", \"happy\", \"sadness\", \"fear\", \"sadness\", \"sadness\", \"surprise\", \"sadness\", \"happy\", \"anger\", \"sadness\", \"sadness\", \"surprise\", \"sadness\", \"happy\", \"happy\", \"happy\", \"sadness\", \"sadness\", \"sadness\", \"sadness\", \"sadness\", \"happy\", \"fear\", \"anger\", \"fear\", \"fear\", \"sadness\", \"sadness\", \"sadness\", \"happy\", \"sadness\", \"happy\", \"love\", \"anger\", \"sadness\", \"sadness\", \"happy\", \"anger\", \"happy\", \"happy\", \"happy\", \"sadness\", \"sadness\", \"fear\", \"happy\", \"happy\", \"anger\", \"love\", \"happy\", \"anger\", \"love\", \"sadness\", \"sadness\", \"happy\", \"happy\", \"sadness\", \"happy\", \"happy\", \"love\", \"happy\", \"sadness\", \"happy\", \"happy\", \"love\", \"happy\", \"love\", \"happy\", \"fear\", \"happy\", \"sadness\", \"anger\", \"happy\", \"anger\", \"happy\", \"sadness\", \"happy\", \"anger\", \"happy\", \"sadness\", \"sadness\", \"happy\", \"sadness\", \"anger\", \"happy\", \"happy\", \"fear\", \"happy\", \"happy\", \"fear\", \"happy\", \"anger\", \"fear\", \"sadness\", \"sadness\", \"happy\", \"sadness\", \"happy\", \"happy\", \"sadness\", \"happy\", \"sadness\", \"happy\", \"happy\", \"love\", \"anger\", \"happy\", \"anger\", \"sadness\", \"happy\", \"sadness\", \"sadness\", \"sadness\", \"happy\", \"love\", \"sadness\", \"sadness\", \"love\", \"sadness\", \"happy\", \"sadness\", \"sadness\", \"anger\", \"sadness\", \"anger\", \"happy\", \"surprise\", \"fear\", \"anger\", \"happy\", \"happy\", \"happy\", \"anger\", \"sadness\", \"sadness\", \"happy\", \"happy\", \"sadness\", \"sadness\", \"happy\", \"surprise\", \"sadness\", \"sadness\", \"fear\", \"anger\", \"sadness\", \"happy\", \"sadness\", \"happy\", \"happy\", \"fear\", \"love\", \"sadness\", \"anger\", \"happy\", \"sadness\", \"happy\", \"fear\", \"sadness\", \"happy\", \"love\", \"anger\", \"sadness\", \"sadness\", \"happy\", \"sadness\", \"happy\", \"fear\", \"happy\", \"sadness\", \"sadness\", \"happy\", \"surprise\", \"happy\", \"happy\", \"sadness\", \"love\", \"happy\", \"happy\", \"sadness\", \"sadness\", \"happy\", \"happy\", \"sadness\", \"love\", \"love\", \"happy\", \"happy\", \"happy\", \"anger\", \"fear\", \"happy\", \"sadness\", \"sadness\", \"anger\", \"sadness\", \"anger\", \"anger\", \"sadness\", \"anger\", \"happy\", \"fear\", \"sadness\", \"sadness\", \"sadness\", \"love\", \"love\", \"anger\", \"anger\", \"sadness\", \"anger\", \"anger\", \"happy\", \"happy\", \"fear\", \"sadness\", \"sadness\", \"love\", \"anger\", \"happy\", \"happy\", \"happy\", \"happy\", \"happy\", \"sadness\", \"anger\", \"happy\", \"sadness\", \"sadness\", \"sadness\", \"happy\", \"sadness\", \"anger\", \"love\", \"happy\", \"fear\", \"sadness\", \"happy\", \"sadness\", \"sadness\", \"sadness\", \"sadness\", \"happy\", \"sadness\", \"sadness\", \"love\", \"sadness\", \"happy\", \"sadness\", \"sadness\", \"happy\", \"sadness\", \"sadness\", \"anger\", \"happy\", \"love\", \"sadness\", \"sadness\", \"sadness\", \"anger\", \"sadness\", \"sadness\", \"anger\", \"love\", \"sadness\", \"sadness\", \"happy\", \"happy\", \"sadness\", \"happy\", \"happy\", \"anger\", \"sadness\", \"sadness\", \"love\", \"love\", \"happy\", \"sadness\", \"happy\", \"happy\", \"sadness\", \"sadness\", \"love\", \"fear\", \"sadness\", \"happy\", \"happy\", \"happy\", \"fear\", \"love\", \"happy\", \"sadness\", \"anger\", \"sadness\", \"sadness\", \"sadness\", \"anger\", \"anger\", \"sadness\", \"anger\", \"love\", \"happy\", \"happy\", \"love\", \"anger\", \"anger\", \"happy\", \"love\", \"anger\", \"fear\", \"happy\", \"anger\", \"anger\", \"love\", \"sadness\", \"anger\", \"love\", \"love\", \"sadness\", \"happy\", \"anger\", \"sadness\", \"happy\", \"sadness\", \"sadness\", \"happy\", \"happy\", \"sadness\", \"sadness\", \"sadness\", \"sadness\", \"happy\", \"sadness\", \"anger\", \"anger\", \"anger\", \"happy\", \"sadness\", \"love\", \"fear\", \"fear\", \"happy\", \"sadness\", \"fear\", \"sadness\", \"sadness\", \"happy\", \"anger\", \"sadness\", \"fear\", \"fear\", \"love\", \"happy\", \"happy\", \"sadness\", \"happy\", \"sadness\", \"happy\", \"anger\", \"surprise\", \"love\", \"fear\", \"love\", \"sadness\", \"love\", \"happy\", \"fear\", \"anger\", \"happy\", \"anger\", \"happy\", \"surprise\", \"anger\", \"love\", \"sadness\", \"fear\", \"anger\", \"happy\", \"sadness\", \"happy\", \"surprise\", \"happy\", \"fear\", \"fear\", \"sadness\", \"sadness\", \"surprise\", \"sadness\", \"happy\", \"fear\", \"happy\", \"fear\", \"sadness\", \"love\", \"love\", \"sadness\", \"anger\", \"anger\", \"happy\", \"happy\", \"anger\", \"anger\", \"sadness\", \"sadness\", \"sadness\", \"happy\", \"happy\", \"happy\", \"happy\", \"happy\", \"happy\", \"fear\", \"happy\", \"fear\", \"happy\", \"anger\", \"sadness\", \"fear\", \"happy\", \"sadness\", \"happy\", \"anger\", \"anger\", \"happy\", \"fear\", \"sadness\", \"fear\", \"happy\", \"happy\", \"sadness\", \"sadness\", \"sadness\", \"happy\", \"surprise\", \"fear\", \"sadness\", \"sadness\", \"happy\", \"surprise\", \"sadness\", \"fear\", \"sadness\", \"surprise\", \"fear\", \"happy\", \"anger\", \"fear\", \"happy\", \"happy\", \"anger\", \"surprise\", \"happy\", \"love\", \"happy\", \"happy\", \"fear\", \"happy\", \"love\", \"fear\", \"sadness\", \"sadness\", \"sadness\", \"happy\", \"happy\", \"surprise\", \"anger\", \"love\", \"happy\", \"happy\", \"fear\", \"happy\", \"happy\", \"sadness\", \"sadness\", \"anger\", \"happy\", \"happy\", \"happy\", \"happy\", \"sadness\", \"happy\", \"happy\", \"sadness\", \"happy\", \"sadness\", \"love\", \"sadness\", \"happy\", \"anger\", \"happy\", \"happy\", \"sadness\", \"happy\", \"happy\", \"happy\", \"sadness\", \"sadness\", \"happy\", \"happy\", \"sadness\", \"happy\", \"happy\", \"happy\", \"fear\", \"sadness\", \"surprise\", \"happy\", \"love\", \"happy\", \"anger\", \"sadness\", \"happy\", \"fear\", \"anger\", \"fear\", \"love\", \"love\", \"happy\", \"fear\", \"sadness\", \"fear\", \"sadness\", \"sadness\", \"anger\", \"sadness\", \"fear\", \"anger\", \"sadness\", \"happy\", \"sadness\", \"love\", \"happy\", \"happy\", \"fear\", \"happy\", \"happy\", \"sadness\", \"happy\", \"sadness\", \"surprise\", \"fear\", \"anger\", \"fear\", \"happy\", \"happy\", \"anger\", \"happy\", \"love\", \"happy\", \"anger\", \"anger\", \"happy\", \"happy\", \"fear\", \"surprise\", \"anger\", \"sadness\", \"sadness\", \"fear\", \"anger\", \"happy\", \"sadness\", \"anger\", \"anger\", \"sadness\", \"happy\", \"love\", \"sadness\", \"fear\", \"sadness\", \"sadness\", \"happy\", \"love\", \"happy\", \"love\", \"anger\", \"love\", \"happy\", \"sadness\", \"anger\", \"anger\", \"happy\", \"sadness\", \"sadness\", \"sadness\", \"fear\", \"sadness\", \"sadness\", \"happy\", \"sadness\", \"sadness\", \"fear\", \"love\", \"happy\", \"sadness\", \"anger\", \"happy\", \"happy\", \"happy\", \"happy\", \"anger\", \"sadness\", \"sadness\", \"sadness\", \"happy\", \"fear\", \"happy\", \"sadness\", \"sadness\", \"sadness\", \"happy\", \"sadness\", \"happy\", \"happy\", \"happy\", \"happy\", \"fear\", \"happy\", \"happy\", \"happy\", \"fear\", \"happy\", \"love\", \"fear\", \"sadness\", \"happy\", \"anger\", \"sadness\", \"fear\", \"happy\", \"love\", \"fear\", \"happy\", \"happy\", \"anger\", \"happy\", \"happy\", \"happy\", \"anger\", \"happy\", \"love\", \"happy\", \"happy\", \"happy\", \"anger\", \"happy\", \"anger\", \"happy\", \"sadness\", \"anger\", \"happy\", \"anger\", \"anger\", \"fear\", \"sadness\", \"anger\", \"love\", \"fear\", \"happy\", \"love\", \"sadness\", \"anger\", \"happy\", \"love\", \"happy\", \"anger\", \"happy\", \"happy\", \"anger\", \"happy\", \"happy\", \"happy\", \"surprise\", \"happy\", \"sadness\", \"love\", \"sadness\", \"happy\", \"love\", \"sadness\", \"happy\", \"happy\", \"happy\", \"happy\", \"sadness\", \"happy\", \"anger\", \"happy\", \"sadness\", \"happy\", \"sadness\", \"love\", \"fear\", \"love\", \"fear\", \"anger\", \"sadness\", \"fear\", \"happy\", \"fear\", \"anger\", \"sadness\", \"sadness\", \"love\", \"happy\", \"happy\", \"happy\", \"anger\", \"anger\", \"happy\", \"sadness\", \"happy\", \"anger\", \"sadness\", \"surprise\", \"love\", \"sadness\", \"sadness\", \"sadness\", \"surprise\", \"happy\", \"sadness\", \"sadness\", \"sadness\", \"sadness\", \"happy\", \"sadness\", \"sadness\", \"surprise\", \"love\", \"sadness\", \"anger\", \"happy\", \"happy\", \"happy\", \"happy\", \"happy\", \"happy\", \"happy\", \"anger\", \"sadness\", \"sadness\", \"fear\", \"anger\", \"happy\", \"happy\", \"sadness\", \"fear\", \"sadness\", \"sadness\", \"sadness\", \"fear\", \"love\", \"fear\", \"happy\", \"sadness\", \"sadness\", \"anger\", \"sadness\", \"sadness\", \"sadness\", \"happy\", \"sadness\", \"anger\", \"sadness\", \"anger\", \"sadness\", \"sadness\", \"love\", \"anger\", \"love\", \"happy\", \"happy\", \"sadness\", \"love\", \"fear\", \"happy\", \"sadness\", \"sadness\", \"happy\", \"sadness\", \"sadness\", \"happy\", \"love\", \"sadness\", \"happy\", \"sadness\", \"surprise\", \"love\", \"sadness\", \"fear\", \"surprise\", \"sadness\", \"happy\", \"love\", \"fear\", \"love\", \"sadness\", \"surprise\", \"love\", \"sadness\", \"sadness\", \"love\", \"fear\", \"happy\", \"happy\", \"fear\", \"sadness\", \"fear\", \"sadness\", \"anger\", \"sadness\", \"sadness\", \"sadness\", \"anger\", \"sadness\", \"love\", \"sadness\", \"happy\", \"happy\", \"surprise\", \"happy\", \"sadness\", \"sadness\", \"happy\", \"happy\", \"happy\", \"anger\", \"love\", \"happy\", \"happy\", \"happy\", \"happy\", \"sadness\", \"sadness\", \"happy\", \"fear\", \"anger\", \"sadness\", \"anger\", \"sadness\", \"sadness\", \"happy\", \"happy\", \"surprise\", \"happy\", \"happy\", \"happy\", \"anger\", \"fear\", \"sadness\", \"happy\", \"sadness\", \"surprise\", \"fear\", \"happy\", \"fear\", \"love\", \"anger\", \"happy\", \"anger\", \"happy\", \"sadness\", \"happy\", \"fear\", \"sadness\", \"happy\", \"sadness\", \"sadness\", \"happy\", \"happy\", \"love\", \"sadness\", \"sadness\", \"love\", \"anger\", \"love\", \"love\", \"love\", \"happy\", \"fear\", \"love\", \"happy\", \"happy\", \"happy\", \"anger\", \"happy\", \"love\", \"sadness\", \"happy\", \"happy\", \"happy\", \"happy\", \"happy\", \"sadness\", \"love\", \"happy\", \"sadness\", \"happy\", \"happy\", \"fear\", \"surprise\", \"sadness\", \"happy\", \"sadness\", \"fear\", \"sadness\", \"fear\", \"happy\", \"sadness\", \"sadness\", \"anger\", \"sadness\", \"happy\", \"love\", \"anger\", \"happy\", \"happy\", \"sadness\", \"happy\", \"anger\", \"sadness\", \"anger\", \"happy\", \"happy\", \"anger\", \"anger\", \"fear\", \"sadness\", \"anger\", \"happy\", \"happy\", \"fear\", \"happy\", \"fear\", \"sadness\", \"surprise\", \"happy\", \"happy\", \"anger\", \"sadness\", \"happy\", \"fear\", \"sadness\", \"anger\", \"anger\", \"happy\", \"surprise\", \"sadness\", \"sadness\", \"sadness\", \"sadness\", \"happy\", \"happy\", \"surprise\", \"happy\", \"happy\", \"happy\", \"anger\", \"sadness\", \"happy\", \"surprise\", \"surprise\", \"fear\", \"happy\", \"fear\", \"anger\", \"happy\", \"anger\", \"happy\", \"anger\", \"sadness\", \"sadness\", \"happy\", \"fear\", \"sadness\", \"happy\", \"happy\", \"happy\", \"sadness\", \"happy\", \"anger\", \"surprise\", \"sadness\", \"sadness\", \"sadness\", \"happy\", \"sadness\", \"sadness\", \"fear\", \"happy\", \"sadness\", \"fear\", \"anger\", \"sadness\", \"happy\", \"surprise\", \"happy\", \"sadness\", \"fear\", \"sadness\", \"happy\", \"happy\", \"love\", \"happy\", \"happy\", \"sadness\", \"sadness\", \"happy\", \"anger\", \"happy\", \"sadness\", \"happy\", \"happy\", \"love\", \"anger\", \"anger\", \"happy\", \"sadness\", \"happy\", \"sadness\", \"happy\", \"anger\", \"love\", \"anger\", \"sadness\", \"happy\", \"sadness\", \"happy\", \"happy\", \"fear\", \"happy\", \"happy\", \"sadness\", \"happy\", \"sadness\", \"happy\", \"sadness\", \"sadness\", \"happy\", \"anger\", \"sadness\", \"fear\", \"fear\", \"happy\", \"happy\", \"anger\", \"fear\", \"happy\", \"sadness\", \"happy\", \"sadness\", \"sadness\", \"sadness\", \"happy\", \"happy\", \"anger\", \"happy\", \"happy\", \"love\", \"happy\", \"happy\", \"happy\", \"happy\", \"love\", \"sadness\", \"anger\", \"anger\", \"fear\", \"fear\", \"happy\", \"happy\", \"happy\", \"love\", \"happy\", \"happy\", \"sadness\", \"sadness\", \"fear\", \"sadness\", \"fear\", \"sadness\", \"sadness\", \"happy\", \"sadness\", \"sadness\", \"happy\", \"sadness\", \"fear\", \"sadness\", \"happy\", \"happy\", \"happy\", \"anger\", \"happy\", \"sadness\", \"happy\", \"love\", \"happy\", \"sadness\", \"happy\", \"anger\", \"love\", \"love\", \"sadness\", \"happy\", \"anger\", \"happy\", \"happy\", \"fear\", \"sadness\", \"anger\", \"anger\", \"happy\", \"anger\", \"happy\", \"happy\", \"love\", \"happy\", \"happy\", \"happy\", \"sadness\", \"sadness\", \"happy\", \"love\", \"sadness\", \"happy\", \"anger\", \"sadness\", \"sadness\", \"sadness\", \"love\", \"anger\", \"sadness\", \"fear\", \"sadness\", \"happy\", \"love\", \"sadness\", \"happy\", \"happy\", \"surprise\", \"happy\", \"happy\", \"anger\", \"surprise\", \"sadness\", \"surprise\", \"happy\", \"happy\", \"fear\", \"fear\", \"happy\", \"sadness\", \"sadness\", \"love\", \"happy\", \"happy\", \"love\", \"love\", \"fear\", \"happy\", \"happy\", \"happy\", \"happy\", \"anger\", \"happy\", \"sadness\", \"sadness\", \"sadness\", \"sadness\", \"happy\", \"fear\", \"anger\", \"happy\", \"happy\", \"happy\", \"anger\", \"happy\", \"happy\", \"happy\", \"sadness\", \"love\", \"happy\", \"sadness\", \"anger\", \"love\", \"happy\", \"love\", \"love\", \"love\", \"happy\", \"sadness\", \"sadness\", \"happy\", \"fear\", \"sadness\", \"anger\", \"happy\", \"sadness\", \"sadness\", \"surprise\", \"happy\", \"love\", \"sadness\", \"anger\", \"sadness\", \"sadness\", \"love\", \"anger\", \"fear\", \"sadness\", \"anger\", \"happy\", \"fear\", \"surprise\", \"anger\", \"happy\", \"surprise\", \"sadness\", \"love\", \"happy\", \"sadness\", \"happy\", \"surprise\", \"happy\", \"happy\", \"happy\", \"happy\", \"happy\", \"anger\", \"anger\", \"happy\", \"sadness\", \"fear\", \"happy\", \"surprise\", \"sadness\", \"sadness\", \"sadness\", \"anger\", \"anger\", \"sadness\", \"happy\", \"anger\", \"sadness\", \"happy\", \"sadness\", \"anger\", \"happy\", \"love\", \"happy\", \"sadness\", \"sadness\", \"anger\", \"anger\", \"sadness\", \"anger\", \"sadness\", \"happy\", \"sadness\", \"sadness\", \"anger\", \"anger\", \"happy\", \"happy\", \"happy\", \"anger\", \"anger\", \"anger\", \"happy\", \"anger\", \"sadness\", \"love\", \"fear\", \"happy\", \"love\", \"happy\", \"happy\", \"anger\", \"love\", \"happy\", \"happy\", \"happy\", \"fear\", \"sadness\", \"love\", \"happy\", \"surprise\", \"happy\", \"sadness\", \"anger\", \"sadness\", \"happy\", \"happy\", \"anger\", \"happy\", \"happy\", \"anger\", \"love\", \"love\", \"sadness\", \"sadness\", \"happy\", \"sadness\", \"happy\", \"sadness\", \"sadness\", \"love\", \"happy\", \"happy\", \"love\", \"sadness\", \"sadness\", \"happy\", \"happy\", \"happy\", \"sadness\", \"sadness\", \"anger\", \"sadness\", \"happy\", \"fear\", \"happy\", \"happy\", \"sadness\", \"happy\", \"love\", \"sadness\", \"sadness\", \"anger\", \"anger\", \"sadness\", \"happy\", \"happy\", \"sadness\", \"love\", \"surprise\", \"fear\", \"anger\", \"happy\", \"surprise\", \"sadness\", \"anger\", \"happy\", \"sadness\", \"fear\", \"happy\", \"happy\", \"fear\", \"love\", \"sadness\", \"happy\", \"fear\", \"happy\", \"sadness\", \"love\", \"anger\", \"fear\", \"fear\", \"fear\", \"sadness\", \"happy\", \"happy\", \"sadness\", \"happy\", \"sadness\", \"sadness\", \"happy\", \"happy\", \"sadness\", \"love\", \"happy\", \"happy\", \"anger\", \"happy\", \"fear\", \"happy\", \"sadness\", \"sadness\", \"happy\", \"sadness\", \"sadness\", \"happy\", \"fear\", \"happy\", \"anger\", \"happy\", \"happy\", \"fear\", \"anger\", \"sadness\", \"surprise\", \"sadness\", \"happy\", \"love\", \"fear\", \"sadness\", \"sadness\", \"happy\", \"sadness\", \"sadness\", \"fear\", \"sadness\", \"sadness\", \"sadness\", \"happy\", \"sadness\", \"happy\", \"happy\", \"anger\", \"happy\", \"happy\", \"happy\", \"happy\", \"sadness\", \"fear\", \"sadness\", \"anger\", \"happy\", \"happy\", \"surprise\", \"sadness\", \"happy\", \"anger\", \"sadness\", \"anger\", \"happy\", \"anger\", \"happy\", \"love\", \"happy\", \"happy\", \"happy\", \"happy\", \"sadness\", \"happy\", \"anger\", \"happy\", \"sadness\", \"fear\", \"happy\", \"love\", \"happy\", \"surprise\", \"surprise\", \"happy\", \"fear\", \"happy\", \"happy\", \"happy\", \"sadness\", \"fear\", \"anger\", \"happy\", \"anger\", \"sadness\", \"sadness\", \"sadness\", \"love\", \"anger\", \"sadness\", \"fear\", \"happy\", \"happy\", \"anger\", \"love\", \"happy\", \"fear\", \"happy\", \"happy\", \"anger\", \"sadness\", \"fear\", \"happy\", \"surprise\", \"fear\", \"sadness\", \"happy\", \"fear\", \"happy\", \"sadness\", \"sadness\", \"fear\", \"happy\", \"happy\", \"sadness\", \"sadness\", \"sadness\", \"happy\", \"anger\", \"sadness\", \"anger\", \"love\", \"anger\", \"happy\", \"happy\", \"surprise\", \"happy\", \"anger\", \"happy\", \"happy\", \"anger\", \"fear\", \"anger\", \"anger\", \"happy\", \"happy\", \"anger\", \"surprise\", \"sadness\", \"fear\", \"anger\", \"happy\", \"sadness\", \"sadness\", \"happy\", \"fear\", \"sadness\", \"surprise\", \"anger\", \"happy\", \"sadness\", \"happy\", \"love\", \"sadness\", \"sadness\", \"sadness\", \"sadness\", \"love\", \"surprise\", \"happy\", \"sadness\", \"surprise\", \"sadness\", \"happy\", \"fear\", \"sadness\", \"happy\", \"anger\", \"sadness\", \"sadness\", \"happy\", \"happy\", \"happy\", \"happy\", \"sadness\", \"fear\", \"sadness\", \"happy\", \"love\", \"happy\", \"anger\", \"fear\", \"anger\", \"happy\", \"love\", \"sadness\", \"anger\", \"surprise\", \"anger\", \"happy\", \"anger\", \"fear\", \"anger\", \"sadness\", \"sadness\", \"fear\", \"happy\", \"happy\", \"happy\", \"fear\", \"happy\", \"sadness\", \"happy\", \"anger\", \"happy\", \"anger\", \"love\", \"sadness\", \"happy\", \"love\", \"fear\", \"sadness\", \"happy\", \"happy\", \"happy\", \"love\", \"surprise\", \"sadness\", \"anger\", \"sadness\", \"love\", \"sadness\", \"fear\", \"happy\", \"happy\", \"anger\", \"fear\", \"happy\", \"happy\", \"happy\", \"love\", \"sadness\", \"happy\", \"sadness\", \"happy\", \"anger\", \"sadness\", \"sadness\", \"love\", \"sadness\", \"happy\", \"fear\", \"sadness\", \"happy\", \"happy\", \"happy\", \"anger\", \"anger\", \"love\", \"happy\", \"sadness\", \"love\", \"fear\", \"anger\", \"happy\", \"happy\", \"fear\", \"happy\", \"fear\", \"fear\", \"happy\", \"happy\", \"love\", \"fear\", \"happy\", \"anger\", \"happy\", \"happy\", \"happy\", \"happy\", \"sadness\", \"happy\", \"sadness\", \"happy\", \"love\", \"happy\", \"sadness\", \"happy\", \"love\", \"sadness\", \"happy\", \"surprise\", \"happy\", \"fear\", \"happy\", \"sadness\", \"happy\", \"anger\", \"happy\", \"happy\", \"anger\", \"happy\", \"happy\", \"fear\", \"love\", \"sadness\", \"surprise\", \"sadness\", \"happy\", \"sadness\", \"sadness\", \"happy\", \"fear\", \"sadness\", \"sadness\", \"love\", \"fear\", \"anger\", \"anger\", \"sadness\", \"anger\", \"sadness\", \"anger\", \"happy\", \"sadness\", \"happy\", \"anger\", \"anger\", \"happy\", \"happy\", \"love\", \"anger\", \"anger\", \"happy\", \"happy\", \"surprise\", \"surprise\", \"happy\", \"anger\", \"sadness\", \"happy\", \"anger\", \"sadness\", \"sadness\", \"fear\", \"happy\", \"surprise\", \"sadness\", \"happy\", \"happy\", \"anger\", \"happy\", \"love\", \"anger\", \"sadness\", \"sadness\", \"surprise\", \"sadness\", \"happy\", \"sadness\", \"love\", \"happy\", \"happy\", \"sadness\", \"happy\", \"happy\", \"happy\", \"happy\", \"love\", \"anger\", \"sadness\", \"love\", \"anger\", \"anger\", \"surprise\", \"sadness\", \"happy\", \"happy\", \"sadness\", \"happy\", \"happy\", \"happy\", \"anger\", \"happy\", \"sadness\", \"sadness\", \"anger\", \"sadness\", \"happy\", \"fear\", \"happy\", \"love\", \"happy\", \"sadness\", \"fear\", \"love\", \"love\", \"happy\", \"anger\", \"happy\", \"happy\", \"happy\", \"happy\", \"sadness\", \"happy\", \"anger\", \"love\", \"fear\", \"sadness\", \"sadness\", \"sadness\", \"happy\", \"sadness\", \"happy\", \"happy\", \"love\", \"fear\", \"sadness\", \"happy\", \"happy\", \"happy\", \"happy\", \"happy\", \"fear\", \"anger\", \"anger\", \"happy\", \"sadness\", \"happy\", \"happy\", \"happy\", \"love\", \"fear\", \"sadness\", \"anger\", \"surprise\", \"happy\", \"anger\", \"sadness\", \"anger\", \"happy\", \"happy\", \"happy\", \"anger\", \"sadness\", \"fear\", \"fear\", \"happy\", \"happy\", \"fear\", \"happy\", \"happy\", \"fear\", \"happy\", \"sadness\", \"love\", \"anger\", \"surprise\", \"happy\", \"fear\", \"happy\", \"anger\", \"anger\", \"fear\", \"fear\", \"happy\", \"fear\", \"love\", \"happy\", \"happy\", \"anger\", \"happy\", \"happy\", \"happy\", \"sadness\", \"happy\", \"sadness\", \"happy\", \"anger\", \"happy\", \"sadness\", \"anger\", \"sadness\", \"fear\", \"happy\", \"fear\", \"happy\", \"happy\", \"anger\", \"happy\", \"anger\", \"happy\", \"sadness\", \"sadness\", \"fear\", \"sadness\", \"happy\", \"sadness\", \"happy\", \"love\", \"fear\", \"happy\", \"happy\", \"happy\", \"happy\", \"love\", \"happy\", \"sadness\", \"fear\", \"sadness\", \"happy\", \"love\", \"happy\", \"sadness\", \"anger\", \"happy\", \"sadness\", \"surprise\", \"sadness\", \"love\", \"sadness\", \"fear\", \"happy\", \"happy\", \"sadness\", \"love\", \"anger\", \"anger\", \"happy\", \"fear\", \"fear\", \"happy\", \"happy\", \"fear\", \"sadness\", \"fear\", \"anger\", \"sadness\", \"happy\", \"sadness\", \"sadness\", \"happy\", \"fear\", \"sadness\", \"sadness\", \"sadness\", \"anger\", \"happy\", \"sadness\", \"anger\", \"love\", \"sadness\", \"fear\", \"love\", \"fear\", \"happy\", \"anger\", \"happy\", \"sadness\", \"sadness\", \"fear\", \"sadness\", \"sadness\", \"happy\", \"surprise\", \"sadness\", \"sadness\", \"surprise\", \"sadness\", \"happy\", \"happy\", \"happy\", \"happy\", \"love\", \"sadness\", \"sadness\", \"happy\", \"surprise\", \"sadness\", \"sadness\", \"happy\", \"happy\", \"anger\", \"happy\", \"sadness\", \"happy\", \"happy\", \"love\", \"love\", \"sadness\", \"anger\", \"fear\", \"sadness\", \"sadness\", \"happy\", \"happy\", \"fear\", \"anger\", \"fear\", \"fear\", \"sadness\", \"sadness\", \"anger\", \"sadness\", \"fear\", \"anger\", \"sadness\", \"sadness\", \"sadness\", \"happy\", \"anger\", \"surprise\", \"sadness\", \"sadness\", \"sadness\", \"happy\", \"happy\", \"sadness\", \"anger\", \"sadness\", \"sadness\", \"anger\", \"surprise\", \"sadness\", \"happy\", \"anger\", \"fear\", \"sadness\", \"happy\", \"love\", \"fear\", \"surprise\", \"anger\", \"happy\", \"surprise\", \"happy\", \"happy\", \"sadness\", \"surprise\", \"fear\", \"sadness\", \"love\", \"sadness\", \"happy\", \"happy\", \"sadness\", \"happy\", \"fear\", \"sadness\", \"happy\", \"happy\", \"happy\", \"anger\", \"happy\", \"love\", \"sadness\", \"sadness\", \"happy\", \"anger\", \"sadness\", \"sadness\", \"love\", \"fear\", \"sadness\", \"sadness\", \"sadness\", \"sadness\", \"sadness\", \"happy\", \"surprise\", \"surprise\", \"sadness\", \"happy\", \"anger\", \"happy\", \"anger\", \"happy\", \"surprise\", \"anger\", \"happy\", \"happy\", \"fear\", \"happy\", \"sadness\", \"happy\", \"anger\", \"fear\", \"sadness\", \"sadness\", \"fear\", \"sadness\", \"happy\", \"fear\", \"happy\", \"love\", \"sadness\", \"anger\", \"anger\", \"fear\", \"happy\", \"anger\", \"sadness\", \"sadness\", \"love\", \"love\", \"sadness\", \"anger\", \"happy\", \"fear\", \"happy\", \"surprise\", \"fear\", \"love\", \"love\", \"sadness\", \"happy\", \"sadness\", \"happy\", \"love\", \"sadness\", \"happy\", \"surprise\", \"happy\", \"happy\", \"anger\", \"love\", \"happy\", \"sadness\", \"happy\", \"fear\", \"sadness\", \"sadness\", \"fear\", \"happy\", \"fear\", \"love\", \"happy\", \"happy\", \"love\", \"sadness\", \"sadness\", \"happy\", \"love\", \"sadness\", \"happy\", \"happy\", \"fear\", \"sadness\", \"anger\", \"sadness\", \"love\", \"sadness\", \"surprise\", \"happy\", \"happy\", \"sadness\", \"sadness\", \"happy\", \"sadness\", \"happy\", \"happy\", \"happy\", \"fear\", \"happy\", \"fear\", \"sadness\", \"happy\", \"happy\", \"sadness\", \"sadness\", \"sadness\", \"anger\", \"fear\", \"love\", \"happy\", \"happy\", \"happy\", \"happy\", \"fear\", \"anger\", \"surprise\", \"sadness\", \"sadness\", \"anger\", \"fear\", \"fear\", \"sadness\", \"happy\", \"happy\", \"fear\", \"sadness\", \"sadness\", \"happy\", \"fear\", \"happy\", \"happy\", \"love\", \"anger\", \"happy\", \"sadness\", \"sadness\", \"surprise\", \"happy\", \"surprise\", \"happy\", \"fear\", \"sadness\", \"sadness\", \"love\", \"love\", \"happy\", \"fear\", \"anger\", \"happy\", \"happy\", \"happy\", \"happy\", \"happy\", \"sadness\", \"happy\", \"sadness\", \"sadness\", \"sadness\", \"happy\", \"happy\", \"love\", \"sadness\", \"anger\", \"sadness\", \"happy\", \"happy\", \"love\", \"sadness\", \"happy\", \"fear\", \"anger\", \"anger\", \"sadness\", \"anger\", \"happy\", \"happy\", \"love\", \"fear\", \"fear\", \"sadness\", \"surprise\", \"anger\", \"anger\", \"sadness\", \"happy\", \"happy\", \"happy\", \"happy\", \"happy\", \"happy\", \"happy\", \"happy\", \"happy\", \"happy\", \"happy\", \"happy\", \"happy\", \"happy\", \"happy\", \"happy\", \"happy\", \"happy\", \"happy\", \"happy\", \"happy\", \"happy\", \"happy\", \"happy\", \"happy\", \"happy\", \"happy\", \"happy\", \"happy\", \"happy\", \"happy\", \"happy\", \"happy\", \"happy\", \"happy\", \"happy\", \"happy\", \"happy\", \"happy\", \"happy\", \"happy\", \"happy\", \"happy\", \"happy\", \"happy\", \"happy\", \"happy\", \"happy\", \"happy\", \"happy\", \"happy\", \"happy\", \"happy\", \"happy\", \"happy\", \"happy\", \"happy\", \"happy\", \"happy\", \"happy\", \"happy\", \"happy\", \"happy\", \"happy\", \"happy\", \"happy\", \"happy\", \"happy\", \"happy\", \"happy\", \"happy\", \"happy\", \"happy\", \"happy\", \"happy\", \"happy\", \"happy\", \"happy\", \"happy\", \"happy\", \"happy\", \"happy\", \"happy\", \"happy\", \"happy\", \"happy\", \"happy\", \"happy\", \"happy\", \"happy\", \"happy\", \"happy\", \"happy\", \"happy\", \"happy\", \"happy\", \"happy\", \"happy\", \"happy\", \"happy\", \"happy\", \"happy\", \"happy\", \"happy\", \"happy\", \"happy\", \"happy\", \"happy\", \"happy\", \"happy\", \"happy\", \"happy\", \"happy\", \"happy\", \"happy\", \"happy\", \"happy\", \"happy\", \"happy\", \"happy\", \"happy\", \"happy\", \"happy\", \"happy\", \"happy\", \"happy\", \"happy\", \"happy\", \"happy\", \"happy\", \"happy\", \"happy\", \"happy\", \"happy\", \"happy\", \"happy\", \"happy\", \"happy\", \"happy\", \"happy\", \"happy\", \"happy\", \"happy\", \"happy\", \"happy\", \"happy\", \"happy\", \"happy\", \"happy\", \"happy\", \"happy\", \"happy\", \"happy\", \"happy\", \"happy\", \"happy\", \"happy\", \"happy\", \"happy\", \"happy\", \"happy\", \"happy\", \"happy\", \"happy\", \"happy\", \"happy\", \"happy\", \"happy\", \"happy\", \"happy\", \"happy\", \"happy\", \"happy\", \"happy\", \"happy\", \"happy\", \"happy\", \"happy\", \"happy\", \"happy\", \"happy\", \"happy\", \"happy\", \"happy\", \"happy\", \"happy\", \"happy\", \"happy\", \"happy\", \"happy\", \"happy\", \"happy\", \"happy\", \"happy\", \"happy\", \"happy\", \"happy\", \"happy\", \"happy\", \"happy\", \"happy\", \"happy\", \"happy\", \"happy\", \"happy\", \"happy\", \"happy\", \"happy\", \"happy\", \"happy\", \"happy\", \"happy\", \"happy\", \"happy\", \"happy\", \"happy\", \"happy\", \"happy\", \"happy\", \"happy\", \"happy\", \"happy\", \"happy\", \"happy\", \"happy\", \"happy\", \"happy\", \"happy\", \"happy\", \"happy\", \"happy\", \"happy\", \"happy\", \"happy\", \"happy\", \"happy\", \"happy\", \"happy\", \"happy\", \"happy\", \"happy\", \"happy\", \"happy\", \"happy\", \"happy\", \"happy\", \"happy\", \"happy\", \"happy\", \"happy\", \"happy\", \"happy\", \"happy\", \"happy\", \"happy\", \"happy\", \"happy\", \"happy\", \"happy\", \"happy\", \"happy\", \"happy\", \"happy\", \"happy\", \"happy\", \"happy\", \"happy\", \"happy\", \"happy\", \"happy\", \"happy\", \"happy\", \"sadness\", \"sadness\", \"sadness\", \"sadness\", \"sadness\", \"sadness\", \"sadness\", \"sadness\", \"sadness\", \"sadness\", \"sadness\", \"sadness\", \"sadness\", \"sadness\", \"sadness\", \"sadness\", \"sadness\", \"sadness\", \"sadness\", \"sadness\", \"sadness\", \"sadness\", \"sadness\", \"sadness\", \"sadness\", \"sadness\", \"sadness\", \"sadness\", \"sadness\", \"sadness\", \"sadness\", \"sadness\", \"sadness\", \"sadness\", \"sadness\", \"sadness\", \"sadness\", \"sadness\", \"sadness\", \"sadness\", \"sadness\", \"sadness\", \"sadness\", \"sadness\", \"sadness\", \"sadness\", \"sadness\", \"sadness\", \"sadness\", \"sadness\", \"sadness\", \"sadness\", \"sadness\", \"sadness\", \"sadness\", \"sadness\", \"sadness\", \"sadness\", \"sadness\", \"sadness\", \"sadness\", \"sadness\", \"sadness\", \"sadness\", \"sadness\", \"sadness\", \"sadness\", \"sadness\", \"sadness\", \"sadness\", \"sadness\", \"sadness\", \"sadness\", \"sadness\", \"sadness\", \"sadness\", \"sadness\", \"sadness\", \"sadness\", \"sadness\", \"sadness\", \"sadness\", \"sadness\", \"sadness\", \"sadness\", \"sadness\", \"sadness\", \"sadness\", \"sadness\", \"sadness\", \"sadness\", \"sadness\", \"sadness\", \"sadness\", \"sadness\", \"sadness\", \"sadness\", \"sadness\", \"sadness\", \"sadness\", \"sadness\", \"sadness\", \"sadness\", \"sadness\", \"sadness\", \"sadness\", \"sadness\", \"sadness\", \"sadness\", \"sadness\", \"sadness\", \"sadness\", \"sadness\", \"sadness\", \"sadness\", \"sadness\", \"sadness\", \"sadness\", \"sadness\", \"sadness\", \"sadness\", \"sadness\", \"sadness\", \"sadness\", \"sadness\", \"sadness\", \"sadness\", \"sadness\", \"sadness\", \"sadness\", \"sadness\", \"sadness\", \"sadness\", \"sadness\", \"sadness\", \"sadness\", \"sadness\", \"sadness\", \"sadness\", \"sadness\", \"sadness\", \"sadness\", \"sadness\", \"sadness\", \"sadness\", \"sadness\", \"sadness\", \"sadness\", \"sadness\", \"sadness\", \"sadness\", \"sadness\", \"sadness\", \"sadness\", \"sadness\", \"sadness\", \"sadness\", \"sadness\", \"sadness\", \"sadness\", \"sadness\", \"sadness\", \"sadness\", \"sadness\", \"sadness\", \"sadness\", \"sadness\", \"sadness\", \"sadness\", \"sadness\", \"sadness\", \"sadness\", \"sadness\", \"sadness\", \"sadness\", \"sadness\", \"sadness\", \"sadness\", \"sadness\", \"sadness\", \"sadness\", \"sadness\", \"sadness\", \"sadness\", \"sadness\", \"sadness\", \"sadness\", \"sadness\", \"sadness\", \"sadness\", \"sadness\", \"sadness\", \"sadness\", \"sadness\", \"sadness\", \"sadness\", \"sadness\", \"sadness\", \"sadness\", \"sadness\", \"sadness\", \"sadness\", \"sadness\", \"sadness\", \"sadness\", \"sadness\", \"sadness\", \"sadness\", \"sadness\", \"sadness\", \"sadness\", \"sadness\", \"sadness\", \"sadness\", \"sadness\", \"sadness\", \"sadness\", \"sadness\", \"sadness\", \"sadness\", \"sadness\", \"sadness\", \"sadness\", \"sadness\", \"sadness\", \"sadness\", \"sadness\", \"sadness\", \"sadness\", \"sadness\", \"sadness\", \"sadness\", \"sadness\", \"sadness\", \"sadness\", \"sadness\", \"sadness\", \"sadness\", \"sadness\", \"sadness\", \"sadness\", \"sadness\", \"sadness\", \"sadness\", \"sadness\", \"sadness\", \"sadness\", \"sadness\", \"sadness\", \"sadness\", \"sadness\", \"sadness\", \"sadness\", \"sadness\", \"sadness\", \"sadness\", \"sadness\", \"sadness\", \"sadness\", \"sadness\", \"sadness\", \"sadness\", \"sadness\", \"sadness\", \"sadness\", \"sadness\", \"sadness\", \"sadness\", \"sadness\", \"sadness\", \"sadness\", \"sadness\", \"sadness\", \"sadness\", \"sadness\", \"sadness\", \"sadness\", \"sadness\", \"sadness\", \"sadness\", \"sadness\", \"sadness\", \"sadness\", \"sadness\", \"sadness\", \"sadness\", \"sadness\", \"sadness\", \"sadness\", \"sadness\", \"sadness\", \"sadness\", \"sadness\", \"sadness\", \"sadness\", \"sadness\", \"sadness\", \"sadness\", \"sadness\", \"sadness\", \"sadness\", \"sadness\", \"sadness\", \"sadness\", \"sadness\", \"sadness\", \"sadness\", \"sadness\", \"sadness\", \"sadness\", \"sadness\", \"sadness\", \"sadness\", \"sadness\", \"sadness\", \"sadness\", \"sadness\", \"sadness\", \"sadness\", \"sadness\", \"sadness\", \"sadness\", \"sadness\", \"sadness\", \"sadness\", \"sadness\", \"sadness\", \"sadness\", \"sadness\", \"sadness\", \"sadness\", \"sadness\", \"sadness\", \"sadness\", \"sadness\", \"sadness\", \"sadness\", \"sadness\", \"sadness\", \"sadness\", \"sadness\", \"sadness\", \"sadness\", \"sadness\", \"sadness\", \"sadness\", \"sadness\", \"sadness\", \"sadness\", \"sadness\", \"sadness\", \"sadness\", \"sadness\", \"sadness\", \"sadness\", \"sadness\", \"sadness\", \"sadness\", \"sadness\", \"sadness\", \"sadness\", \"sadness\", \"sadness\", \"sadness\", \"sadness\", \"sadness\", \"sadness\", \"sadness\", \"sadness\", \"sadness\", \"sadness\", \"sadness\", \"sadness\", \"sadness\", \"sadness\", \"sadness\", \"sadness\", \"sadness\", \"sadness\", \"sadness\", \"sadness\", \"sadness\", \"sadness\", \"sadness\", \"sadness\", \"sadness\", \"sadness\", \"sadness\", \"sadness\", \"sadness\", \"sadness\", \"sadness\", \"sadness\", \"sadness\", \"sadness\", \"sadness\", \"sadness\", \"sadness\", \"sadness\", \"sadness\", \"sadness\", \"sadness\", \"sadness\", \"sadness\", \"sadness\", \"sadness\", \"sadness\", \"sadness\", \"sadness\", \"sadness\", \"sadness\", \"sadness\", \"sadness\", \"sadness\", \"sadness\", \"sadness\", \"sadness\", \"sadness\", \"sadness\", \"sadness\", \"sadness\", \"sadness\", \"sadness\", \"sadness\", \"sadness\", \"sadness\", \"sadness\", \"sadness\", \"sadness\", \"sadness\", \"sadness\", \"sadness\", \"sadness\", \"sadness\", \"sadness\", \"sadness\", \"sadness\", \"sadness\", \"sadness\", \"sadness\", \"sadness\", \"sadness\", \"sadness\", \"sadness\", \"sadness\", \"sadness\", \"sadness\", \"sadness\", \"sadness\", \"sadness\", \"sadness\", \"sadness\", \"sadness\", \"sadness\", \"sadness\", \"sadness\", \"sadness\", \"sadness\", \"sadness\", \"sadness\", \"sadness\", \"sadness\", \"sadness\", \"sadness\", \"sadness\", \"sadness\", \"sadness\", \"sadness\", \"surprise\", \"surprise\", \"surprise\", \"surprise\", \"surprise\", \"surprise\", \"surprise\", \"surprise\", \"surprise\", \"surprise\", \"surprise\", \"surprise\", \"surprise\", \"surprise\", \"surprise\", \"surprise\", \"surprise\", \"surprise\", \"surprise\", \"surprise\", \"surprise\", \"surprise\", \"surprise\", \"surprise\", \"surprise\", \"surprise\", \"surprise\", \"surprise\", \"surprise\", \"surprise\", \"surprise\", \"surprise\", \"surprise\", \"surprise\", \"surprise\", \"surprise\", \"surprise\", \"surprise\", \"surprise\", \"surprise\", \"surprise\", \"surprise\", \"surprise\", \"surprise\", \"surprise\", \"surprise\", \"surprise\", \"surprise\", \"surprise\", \"surprise\", \"surprise\", \"surprise\", \"surprise\", \"surprise\", \"surprise\", \"surprise\", \"surprise\", \"surprise\", \"surprise\", \"surprise\", \"surprise\", \"surprise\", \"surprise\", \"surprise\", \"surprise\", \"surprise\", \"surprise\", \"surprise\", \"surprise\", \"surprise\", \"surprise\", \"surprise\", \"surprise\", \"surprise\", \"surprise\", \"surprise\", \"surprise\", \"surprise\", \"surprise\", \"surprise\", \"surprise\", \"surprise\", \"surprise\", \"surprise\", \"surprise\", \"surprise\", \"surprise\", \"surprise\", \"surprise\", \"surprise\", \"surprise\", \"surprise\", \"surprise\", \"surprise\", \"surprise\", \"surprise\", \"surprise\", \"surprise\", \"surprise\", \"surprise\", \"surprise\", \"surprise\", \"surprise\", \"surprise\", \"surprise\", \"surprise\", \"surprise\", \"surprise\", \"surprise\", \"surprise\", \"surprise\", \"surprise\", \"surprise\", \"surprise\", \"surprise\", \"surprise\", \"surprise\", \"surprise\", \"surprise\", \"surprise\", \"surprise\", \"surprise\", \"surprise\", \"surprise\", \"surprise\", \"surprise\", \"surprise\", \"surprise\", \"surprise\", \"surprise\", \"surprise\", \"surprise\", \"surprise\", \"surprise\", \"surprise\", \"surprise\", \"surprise\", \"surprise\", \"surprise\", \"surprise\", \"surprise\", \"surprise\", \"surprise\", \"surprise\", \"surprise\", \"surprise\", \"surprise\", \"surprise\", \"surprise\", \"surprise\", \"surprise\", \"surprise\", \"surprise\", \"surprise\", \"surprise\", \"surprise\", \"surprise\", \"surprise\", \"surprise\", \"surprise\", \"anger\", \"anger\", \"anger\", \"anger\", \"anger\", \"anger\", \"anger\", \"anger\", \"anger\", \"anger\", \"anger\", \"anger\", \"anger\", \"anger\", \"anger\", \"anger\", \"anger\", \"anger\", \"anger\", \"anger\", \"anger\", \"anger\", \"anger\", \"anger\", \"anger\", \"anger\", \"anger\", \"anger\", \"anger\", \"anger\", \"anger\", \"anger\", \"anger\", \"anger\", \"anger\", \"anger\", \"anger\", \"anger\", \"anger\", \"anger\", \"anger\", \"anger\", \"anger\", \"anger\", \"anger\", \"anger\", \"anger\", \"anger\", \"anger\", \"anger\", \"anger\", \"anger\", \"anger\", \"anger\", \"anger\", \"anger\", \"anger\", \"anger\", \"anger\", \"anger\", \"anger\", \"anger\", \"anger\", \"anger\", \"anger\", \"anger\", \"anger\", \"anger\", \"anger\", \"anger\", \"anger\", \"anger\", \"anger\", \"anger\", \"anger\", \"anger\", \"anger\", \"anger\", \"anger\", \"anger\", \"anger\", \"anger\", \"anger\", \"anger\", \"anger\", \"anger\", \"anger\", \"anger\", \"anger\", \"anger\", \"anger\", \"anger\", \"anger\", \"anger\", \"anger\", \"anger\", \"anger\", \"anger\", \"anger\", \"anger\", \"anger\", \"anger\", \"anger\", \"anger\", \"anger\", \"anger\", \"anger\", \"anger\", \"anger\", \"anger\", \"anger\", \"anger\", \"anger\", \"anger\", \"anger\", \"anger\", \"anger\", \"anger\", \"anger\", \"anger\", \"anger\", \"anger\", \"anger\", \"anger\", \"anger\", \"anger\", \"anger\", \"anger\", \"anger\", \"anger\", \"anger\", \"anger\", \"anger\", \"anger\", \"anger\", \"anger\", \"anger\", \"anger\", \"anger\", \"anger\", \"anger\", \"anger\", \"anger\", \"anger\", \"anger\", \"anger\", \"anger\", \"anger\", \"anger\", \"anger\", \"anger\", \"anger\", \"anger\", \"anger\", \"anger\", \"anger\", \"anger\", \"anger\", \"anger\", \"anger\", \"anger\", \"anger\", \"anger\", \"anger\", \"anger\", \"anger\", \"anger\", \"anger\", \"anger\", \"anger\", \"anger\", \"anger\", \"anger\", \"anger\", \"anger\", \"anger\", \"anger\", \"anger\", \"anger\", \"anger\", \"anger\", \"anger\", \"anger\", \"anger\", \"anger\", \"anger\", \"anger\", \"anger\", \"anger\", \"anger\", \"anger\", \"anger\", \"anger\", \"anger\", \"anger\", \"anger\", \"anger\", \"anger\", \"anger\", \"anger\", \"anger\", \"anger\", \"anger\", \"anger\", \"anger\", \"anger\", \"anger\", \"anger\", \"anger\", \"anger\", \"anger\", \"anger\", \"anger\", \"anger\", \"anger\", \"anger\", \"anger\", \"anger\", \"anger\", \"anger\", \"anger\", \"anger\", \"anger\", \"anger\", \"anger\", \"anger\", \"anger\", \"anger\", \"anger\", \"anger\", \"anger\", \"anger\", \"anger\", \"anger\", \"anger\", \"anger\", \"anger\", \"anger\", \"anger\", \"anger\", \"anger\", \"anger\", \"anger\", \"anger\", \"anger\", \"anger\", \"anger\", \"anger\", \"anger\", \"anger\", \"anger\", \"anger\", \"anger\", \"anger\", \"anger\", \"anger\", \"anger\", \"anger\", \"anger\", \"anger\", \"anger\", \"anger\", \"anger\", \"anger\", \"anger\", \"anger\", \"anger\", \"anger\", \"anger\", \"anger\", \"anger\", \"anger\", \"anger\", \"anger\", \"anger\", \"anger\", \"anger\", \"anger\", \"anger\", \"anger\", \"anger\", \"anger\", \"anger\", \"fear\", \"fear\", \"fear\", \"fear\", \"fear\", \"fear\", \"fear\", \"fear\", \"fear\", \"fear\", \"fear\", \"fear\", \"fear\", \"fear\", \"fear\", \"fear\", \"fear\", \"fear\", \"fear\", \"fear\", \"fear\", \"fear\", \"fear\", \"fear\", \"fear\", \"fear\", \"fear\", \"fear\", \"fear\", \"fear\", \"fear\", \"fear\", \"fear\", \"fear\", \"fear\", \"fear\", \"fear\", \"fear\", \"fear\", \"fear\", \"fear\", \"fear\", \"fear\", \"fear\", \"fear\", \"fear\", \"fear\", \"fear\", \"fear\", \"fear\", \"fear\", \"fear\", \"fear\", \"fear\", \"fear\", \"fear\", \"fear\", \"fear\", \"fear\", \"fear\", \"fear\", \"fear\", \"fear\", \"fear\", \"fear\", \"fear\", \"fear\", \"fear\", \"fear\", \"fear\", \"fear\", \"fear\", \"fear\", \"fear\", \"fear\", \"fear\", \"fear\", \"fear\", \"fear\", \"fear\", \"fear\", \"fear\", \"fear\", \"fear\", \"fear\", \"fear\", \"fear\", \"fear\", \"fear\", \"fear\", \"fear\", \"fear\", \"fear\", \"fear\", \"fear\", \"fear\", \"fear\", \"fear\", \"fear\", \"fear\", \"fear\", \"fear\", \"fear\", \"fear\", \"fear\", \"fear\", \"fear\", \"fear\", \"fear\", \"fear\", \"fear\", \"fear\", \"fear\", \"fear\", \"fear\", \"fear\", \"fear\", \"fear\", \"fear\", \"fear\", \"fear\", \"fear\", \"fear\", \"fear\", \"fear\", \"fear\", \"fear\", \"fear\", \"fear\", \"fear\", \"fear\", \"fear\", \"fear\", \"fear\", \"fear\", \"fear\", \"fear\", \"fear\", \"fear\", \"fear\", \"fear\", \"fear\", \"fear\", \"fear\", \"fear\", \"fear\", \"fear\", \"fear\", \"fear\", \"fear\", \"fear\", \"fear\", \"fear\", \"fear\", \"fear\", \"fear\", \"fear\", \"fear\", \"fear\", \"fear\", \"fear\", \"fear\", \"fear\", \"fear\", \"fear\", \"fear\", \"fear\", \"fear\", \"fear\", \"fear\", \"fear\", \"fear\", \"fear\", \"fear\", \"fear\", \"fear\", \"fear\", \"fear\", \"fear\", \"fear\", \"fear\", \"fear\", \"fear\", \"fear\", \"fear\", \"fear\", \"fear\", \"fear\", \"fear\", \"fear\", \"fear\", \"fear\", \"fear\", \"fear\", \"fear\", \"fear\", \"fear\", \"fear\", \"fear\", \"fear\", \"fear\", \"fear\", \"fear\", \"fear\", \"fear\", \"fear\", \"fear\", \"fear\", \"fear\", \"fear\", \"fear\", \"fear\", \"fear\", \"fear\", \"fear\", \"fear\", \"fear\", \"fear\", \"fear\", \"fear\", \"fear\", \"fear\", \"fear\", \"fear\", \"fear\", \"fear\", \"fear\", \"fear\", \"fear\", \"fear\", \"fear\", \"fear\", \"fear\", \"fear\", \"fear\", \"fear\", \"fear\", \"fear\", \"fear\", \"fear\", \"fear\", \"fear\", \"fear\", \"fear\", \"fear\", \"fear\", \"fear\", \"fear\", \"fear\", \"fear\", \"fear\", \"fear\", \"fear\", \"fear\", \"fear\", \"fear\", \"fear\", \"fear\", \"fear\", \"fear\", \"fear\", \"fear\", \"fear\", \"fear\", \"fear\", \"fear\", \"fear\", \"fear\", \"fear\", \"fear\", \"fear\", \"fear\", \"fear\", \"fear\", \"fear\", \"fear\", \"fear\", \"fear\"], \"xaxis\": \"x\", \"yaxis\": \"y\"}],                        {\"barmode\": \"relative\", \"legend\": {\"title\": {\"text\": \"variable\"}, \"tracegroupgap\": 0}, \"template\": {\"data\": {\"bar\": [{\"error_x\": {\"color\": \"#2a3f5f\"}, \"error_y\": {\"color\": \"#2a3f5f\"}, \"marker\": {\"line\": {\"color\": \"#E5ECF6\", \"width\": 0.5}}, \"type\": \"bar\"}], \"barpolar\": [{\"marker\": {\"line\": {\"color\": \"#E5ECF6\", \"width\": 0.5}}, \"type\": \"barpolar\"}], \"carpet\": [{\"aaxis\": {\"endlinecolor\": \"#2a3f5f\", \"gridcolor\": \"white\", \"linecolor\": \"white\", \"minorgridcolor\": \"white\", \"startlinecolor\": \"#2a3f5f\"}, \"baxis\": {\"endlinecolor\": \"#2a3f5f\", \"gridcolor\": \"white\", \"linecolor\": \"white\", \"minorgridcolor\": \"white\", \"startlinecolor\": \"#2a3f5f\"}, \"type\": \"carpet\"}], \"choropleth\": [{\"colorbar\": {\"outlinewidth\": 0, \"ticks\": \"\"}, \"type\": \"choropleth\"}], \"contour\": [{\"colorbar\": {\"outlinewidth\": 0, \"ticks\": \"\"}, \"colorscale\": [[0.0, \"#0d0887\"], [0.1111111111111111, \"#46039f\"], [0.2222222222222222, \"#7201a8\"], [0.3333333333333333, \"#9c179e\"], [0.4444444444444444, \"#bd3786\"], [0.5555555555555556, \"#d8576b\"], [0.6666666666666666, \"#ed7953\"], [0.7777777777777778, \"#fb9f3a\"], [0.8888888888888888, \"#fdca26\"], [1.0, \"#f0f921\"]], \"type\": \"contour\"}], \"contourcarpet\": [{\"colorbar\": {\"outlinewidth\": 0, \"ticks\": \"\"}, \"type\": \"contourcarpet\"}], \"heatmap\": [{\"colorbar\": {\"outlinewidth\": 0, \"ticks\": \"\"}, \"colorscale\": [[0.0, \"#0d0887\"], [0.1111111111111111, \"#46039f\"], [0.2222222222222222, \"#7201a8\"], [0.3333333333333333, \"#9c179e\"], [0.4444444444444444, \"#bd3786\"], [0.5555555555555556, \"#d8576b\"], [0.6666666666666666, \"#ed7953\"], [0.7777777777777778, \"#fb9f3a\"], [0.8888888888888888, \"#fdca26\"], [1.0, \"#f0f921\"]], \"type\": \"heatmap\"}], \"heatmapgl\": [{\"colorbar\": {\"outlinewidth\": 0, \"ticks\": \"\"}, \"colorscale\": [[0.0, \"#0d0887\"], [0.1111111111111111, \"#46039f\"], [0.2222222222222222, \"#7201a8\"], [0.3333333333333333, \"#9c179e\"], [0.4444444444444444, \"#bd3786\"], [0.5555555555555556, \"#d8576b\"], [0.6666666666666666, \"#ed7953\"], [0.7777777777777778, \"#fb9f3a\"], [0.8888888888888888, \"#fdca26\"], [1.0, \"#f0f921\"]], \"type\": \"heatmapgl\"}], \"histogram\": [{\"marker\": {\"colorbar\": {\"outlinewidth\": 0, \"ticks\": \"\"}}, \"type\": \"histogram\"}], \"histogram2d\": [{\"colorbar\": {\"outlinewidth\": 0, \"ticks\": \"\"}, \"colorscale\": [[0.0, \"#0d0887\"], [0.1111111111111111, \"#46039f\"], [0.2222222222222222, \"#7201a8\"], [0.3333333333333333, \"#9c179e\"], [0.4444444444444444, \"#bd3786\"], [0.5555555555555556, \"#d8576b\"], [0.6666666666666666, \"#ed7953\"], [0.7777777777777778, \"#fb9f3a\"], [0.8888888888888888, \"#fdca26\"], [1.0, \"#f0f921\"]], \"type\": \"histogram2d\"}], \"histogram2dcontour\": [{\"colorbar\": {\"outlinewidth\": 0, \"ticks\": \"\"}, \"colorscale\": [[0.0, \"#0d0887\"], [0.1111111111111111, \"#46039f\"], [0.2222222222222222, \"#7201a8\"], [0.3333333333333333, \"#9c179e\"], [0.4444444444444444, \"#bd3786\"], [0.5555555555555556, \"#d8576b\"], [0.6666666666666666, \"#ed7953\"], [0.7777777777777778, \"#fb9f3a\"], [0.8888888888888888, \"#fdca26\"], [1.0, \"#f0f921\"]], \"type\": \"histogram2dcontour\"}], \"mesh3d\": [{\"colorbar\": {\"outlinewidth\": 0, \"ticks\": \"\"}, \"type\": \"mesh3d\"}], \"parcoords\": [{\"line\": {\"colorbar\": {\"outlinewidth\": 0, \"ticks\": \"\"}}, \"type\": \"parcoords\"}], \"pie\": [{\"automargin\": true, \"type\": \"pie\"}], \"scatter\": [{\"marker\": {\"colorbar\": {\"outlinewidth\": 0, \"ticks\": \"\"}}, \"type\": \"scatter\"}], \"scatter3d\": [{\"line\": {\"colorbar\": {\"outlinewidth\": 0, \"ticks\": \"\"}}, \"marker\": {\"colorbar\": {\"outlinewidth\": 0, \"ticks\": \"\"}}, \"type\": \"scatter3d\"}], \"scattercarpet\": [{\"marker\": {\"colorbar\": {\"outlinewidth\": 0, \"ticks\": \"\"}}, \"type\": \"scattercarpet\"}], \"scattergeo\": [{\"marker\": {\"colorbar\": {\"outlinewidth\": 0, \"ticks\": \"\"}}, \"type\": \"scattergeo\"}], \"scattergl\": [{\"marker\": {\"colorbar\": {\"outlinewidth\": 0, \"ticks\": \"\"}}, \"type\": \"scattergl\"}], \"scattermapbox\": [{\"marker\": {\"colorbar\": {\"outlinewidth\": 0, \"ticks\": \"\"}}, \"type\": \"scattermapbox\"}], \"scatterpolar\": [{\"marker\": {\"colorbar\": {\"outlinewidth\": 0, \"ticks\": \"\"}}, \"type\": \"scatterpolar\"}], \"scatterpolargl\": [{\"marker\": {\"colorbar\": {\"outlinewidth\": 0, \"ticks\": \"\"}}, \"type\": \"scatterpolargl\"}], \"scatterternary\": [{\"marker\": {\"colorbar\": {\"outlinewidth\": 0, \"ticks\": \"\"}}, \"type\": \"scatterternary\"}], \"surface\": [{\"colorbar\": {\"outlinewidth\": 0, \"ticks\": \"\"}, \"colorscale\": [[0.0, \"#0d0887\"], [0.1111111111111111, \"#46039f\"], [0.2222222222222222, \"#7201a8\"], [0.3333333333333333, \"#9c179e\"], [0.4444444444444444, \"#bd3786\"], [0.5555555555555556, \"#d8576b\"], [0.6666666666666666, \"#ed7953\"], [0.7777777777777778, \"#fb9f3a\"], [0.8888888888888888, \"#fdca26\"], [1.0, \"#f0f921\"]], \"type\": \"surface\"}], \"table\": [{\"cells\": {\"fill\": {\"color\": \"#EBF0F8\"}, \"line\": {\"color\": \"white\"}}, \"header\": {\"fill\": {\"color\": \"#C8D4E3\"}, \"line\": {\"color\": \"white\"}}, \"type\": \"table\"}]}, \"layout\": {\"annotationdefaults\": {\"arrowcolor\": \"#2a3f5f\", \"arrowhead\": 0, \"arrowwidth\": 1}, \"autotypenumbers\": \"strict\", \"coloraxis\": {\"colorbar\": {\"outlinewidth\": 0, \"ticks\": \"\"}}, \"colorscale\": {\"diverging\": [[0, \"#8e0152\"], [0.1, \"#c51b7d\"], [0.2, \"#de77ae\"], [0.3, \"#f1b6da\"], [0.4, \"#fde0ef\"], [0.5, \"#f7f7f7\"], [0.6, \"#e6f5d0\"], [0.7, \"#b8e186\"], [0.8, \"#7fbc41\"], [0.9, \"#4d9221\"], [1, \"#276419\"]], \"sequential\": [[0.0, \"#0d0887\"], [0.1111111111111111, \"#46039f\"], [0.2222222222222222, \"#7201a8\"], [0.3333333333333333, \"#9c179e\"], [0.4444444444444444, \"#bd3786\"], [0.5555555555555556, \"#d8576b\"], [0.6666666666666666, \"#ed7953\"], [0.7777777777777778, \"#fb9f3a\"], [0.8888888888888888, \"#fdca26\"], [1.0, \"#f0f921\"]], \"sequentialminus\": [[0.0, \"#0d0887\"], [0.1111111111111111, \"#46039f\"], [0.2222222222222222, \"#7201a8\"], [0.3333333333333333, \"#9c179e\"], [0.4444444444444444, \"#bd3786\"], [0.5555555555555556, \"#d8576b\"], [0.6666666666666666, \"#ed7953\"], [0.7777777777777778, \"#fb9f3a\"], [0.8888888888888888, \"#fdca26\"], [1.0, \"#f0f921\"]]}, \"colorway\": [\"#636efa\", \"#EF553B\", \"#00cc96\", \"#ab63fa\", \"#FFA15A\", \"#19d3f3\", \"#FF6692\", \"#B6E880\", \"#FF97FF\", \"#FECB52\"], \"font\": {\"color\": \"#2a3f5f\"}, \"geo\": {\"bgcolor\": \"white\", \"lakecolor\": \"white\", \"landcolor\": \"#E5ECF6\", \"showlakes\": true, \"showland\": true, \"subunitcolor\": \"white\"}, \"hoverlabel\": {\"align\": \"left\"}, \"hovermode\": \"closest\", \"mapbox\": {\"style\": \"light\"}, \"paper_bgcolor\": \"white\", \"plot_bgcolor\": \"#E5ECF6\", \"polar\": {\"angularaxis\": {\"gridcolor\": \"white\", \"linecolor\": \"white\", \"ticks\": \"\"}, \"bgcolor\": \"#E5ECF6\", \"radialaxis\": {\"gridcolor\": \"white\", \"linecolor\": \"white\", \"ticks\": \"\"}}, \"scene\": {\"xaxis\": {\"backgroundcolor\": \"#E5ECF6\", \"gridcolor\": \"white\", \"gridwidth\": 2, \"linecolor\": \"white\", \"showbackground\": true, \"ticks\": \"\", \"zerolinecolor\": \"white\"}, \"yaxis\": {\"backgroundcolor\": \"#E5ECF6\", \"gridcolor\": \"white\", \"gridwidth\": 2, \"linecolor\": \"white\", \"showbackground\": true, \"ticks\": \"\", \"zerolinecolor\": \"white\"}, \"zaxis\": {\"backgroundcolor\": \"#E5ECF6\", \"gridcolor\": \"white\", \"gridwidth\": 2, \"linecolor\": \"white\", \"showbackground\": true, \"ticks\": \"\", \"zerolinecolor\": \"white\"}}, \"shapedefaults\": {\"line\": {\"color\": \"#2a3f5f\"}}, \"ternary\": {\"aaxis\": {\"gridcolor\": \"white\", \"linecolor\": \"white\", \"ticks\": \"\"}, \"baxis\": {\"gridcolor\": \"white\", \"linecolor\": \"white\", \"ticks\": \"\"}, \"bgcolor\": \"#E5ECF6\", \"caxis\": {\"gridcolor\": \"white\", \"linecolor\": \"white\", \"ticks\": \"\"}}, \"title\": {\"x\": 0.05}, \"xaxis\": {\"automargin\": true, \"gridcolor\": \"white\", \"linecolor\": \"white\", \"ticks\": \"\", \"title\": {\"standoff\": 15}, \"zerolinecolor\": \"white\", \"zerolinewidth\": 2}, \"yaxis\": {\"automargin\": true, \"gridcolor\": \"white\", \"linecolor\": \"white\", \"ticks\": \"\", \"title\": {\"standoff\": 15}, \"zerolinecolor\": \"white\", \"zerolinewidth\": 2}}}, \"title\": {\"text\": \"Distribuci\\u00f3n de emociones\"}, \"xaxis\": {\"anchor\": \"y\", \"domain\": [0.0, 1.0], \"title\": {\"text\": \"value\"}}, \"yaxis\": {\"anchor\": \"x\", \"domain\": [0.0, 1.0], \"title\": {\"text\": \"count\"}}},                        {\"responsive\": true}                    ).then(function(){\n",
              "                            \n",
              "var gd = document.getElementById('78efe506-c91c-40eb-ab95-d496cf43a965');\n",
              "var x = new MutationObserver(function (mutations, observer) {{\n",
              "        var display = window.getComputedStyle(gd).display;\n",
              "        if (!display || display === 'none') {{\n",
              "            console.log([gd, 'removed!']);\n",
              "            Plotly.purge(gd);\n",
              "            observer.disconnect();\n",
              "        }}\n",
              "}});\n",
              "\n",
              "// Listen for the removal of the full notebook cells\n",
              "var notebookContainer = gd.closest('#notebook-container');\n",
              "if (notebookContainer) {{\n",
              "    x.observe(notebookContainer, {childList: true});\n",
              "}}\n",
              "\n",
              "// Listen for the clearing of the current output cell\n",
              "var outputEl = gd.closest('.output');\n",
              "if (outputEl) {{\n",
              "    x.observe(outputEl, {childList: true});\n",
              "}}\n",
              "\n",
              "                        })                };                            </script>        </div>\n",
              "</body>\n",
              "</html>"
            ]
          },
          "metadata": {
            "tags": []
          }
        }
      ]
    },
    {
      "cell_type": "code",
      "metadata": {
        "colab": {
          "base_uri": "https://localhost:8080/"
        },
        "id": "7Gk2WSt4btdm",
        "outputId": "53b5e40d-0742-403b-c2a4-c1c82feec605"
      },
      "source": [
        "df['Emotion'].value_counts()"
      ],
      "execution_count": null,
      "outputs": [
        {
          "output_type": "execute_result",
          "data": {
            "text/plain": [
              "happy       7024\n",
              "sadness     6259\n",
              "anger       2985\n",
              "fear        2649\n",
              "love        1636\n",
              "surprise     877\n",
              "Name: Emotion, dtype: int64"
            ]
          },
          "metadata": {
            "tags": []
          },
          "execution_count": 25
        }
      ]
    },
    {
      "cell_type": "markdown",
      "metadata": {
        "id": "VRliqUi_cm2T"
      },
      "source": [
        "## 3.1 ¿Qué puede extraer de los datos con esta gráfica?\n",
        "De una breve explicación"
      ]
    },
    {
      "cell_type": "markdown",
      "metadata": {
        "id": "nbYS5cR5bhUQ"
      },
      "source": [
        "# 4. Transformación de variables categorícas\n",
        "\n",
        "\n",
        "https://medium.com/hugo-ferreiras-blog/dealing-with-categorical-features-in-machine-learning-1bb70f07262d\n",
        "\n"
      ]
    },
    {
      "cell_type": "markdown",
      "metadata": {
        "id": "0y03YmgdmH04"
      },
      "source": [
        "https://www.geeksforgeeks.org/removing-stop-words-nltk-python/"
      ]
    },
    {
      "cell_type": "markdown",
      "metadata": {
        "id": "6Dcf8qLcbqWL"
      },
      "source": [
        "<center>\n",
        "<img src=\"https://www.geeksforgeeks.org/wp-content/uploads/Stop-word-removal-using-NLTK.png\">\n",
        "</center>"
      ]
    },
    {
      "cell_type": "code",
      "metadata": {
        "colab": {
          "base_uri": "https://localhost:8080/"
        },
        "id": "GLPlBdRSl56X",
        "outputId": "8f199ec4-9270-494d-f860-8558cb2314ae"
      },
      "source": [
        "nltk.download('stopwords')"
      ],
      "execution_count": null,
      "outputs": [
        {
          "output_type": "stream",
          "text": [
            "[nltk_data] Downloading package stopwords to /root/nltk_data...\n",
            "[nltk_data]   Unzipping corpora/stopwords.zip.\n"
          ],
          "name": "stdout"
        },
        {
          "output_type": "execute_result",
          "data": {
            "text/plain": [
              "True"
            ]
          },
          "metadata": {
            "tags": []
          },
          "execution_count": 26
        }
      ]
    },
    {
      "cell_type": "code",
      "metadata": {
        "colab": {
          "base_uri": "https://localhost:8080/"
        },
        "id": "nuA_MUAzlJsm",
        "outputId": "72736251-7009-4924-fd62-11f49961563f"
      },
      "source": [
        "vectorizer = CountVectorizer(max_features=1500, min_df=5, max_df=0.7, stop_words=stopwords.words('english'))\n",
        "X = vectorizer.fit_transform(df['Text']).toarray()\n",
        "X"
      ],
      "execution_count": null,
      "outputs": [
        {
          "output_type": "execute_result",
          "data": {
            "text/plain": [
              "array([[0, 0, 0, ..., 0, 0, 0],\n",
              "       [0, 0, 0, ..., 0, 0, 0],\n",
              "       [0, 0, 0, ..., 0, 0, 0],\n",
              "       ...,\n",
              "       [0, 0, 0, ..., 0, 0, 0],\n",
              "       [0, 0, 0, ..., 0, 0, 0],\n",
              "       [0, 0, 0, ..., 0, 0, 0]])"
            ]
          },
          "metadata": {
            "tags": []
          },
          "execution_count": 27
        }
      ]
    },
    {
      "cell_type": "code",
      "metadata": {
        "id": "h6nLADS9my0v"
      },
      "source": [
        "tfidfconverter = TfidfTransformer()\n",
        "X = tfidfconverter.fit_transform(X).toarray()"
      ],
      "execution_count": null,
      "outputs": []
    },
    {
      "cell_type": "code",
      "metadata": {
        "colab": {
          "base_uri": "https://localhost:8080/"
        },
        "id": "JYwoT1gaev3t",
        "outputId": "599674ce-462c-49d1-b6b8-4ecf0603f0ae"
      },
      "source": [
        "df.Emotion.value_counts()"
      ],
      "execution_count": null,
      "outputs": [
        {
          "output_type": "execute_result",
          "data": {
            "text/plain": [
              "happy       7024\n",
              "sadness     6259\n",
              "anger       2985\n",
              "fear        2649\n",
              "love        1636\n",
              "surprise     877\n",
              "Name: Emotion, dtype: int64"
            ]
          },
          "metadata": {
            "tags": []
          },
          "execution_count": 29
        }
      ]
    },
    {
      "cell_type": "code",
      "metadata": {
        "id": "fUBici0MekxY"
      },
      "source": [
        "enc = OrdinalEncoder()\n",
        "df[\"Emotion_code\"] = enc.fit_transform(df[[\"Emotion\"]])\n"
      ],
      "execution_count": null,
      "outputs": []
    },
    {
      "cell_type": "code",
      "metadata": {
        "colab": {
          "base_uri": "https://localhost:8080/"
        },
        "id": "TExUGZMYfoV_",
        "outputId": "f232a8c8-05ac-4199-9c2f-a69fd88aaf4b"
      },
      "source": [
        "df.Emotion.value_counts()"
      ],
      "execution_count": null,
      "outputs": [
        {
          "output_type": "execute_result",
          "data": {
            "text/plain": [
              "happy       7024\n",
              "sadness     6259\n",
              "anger       2985\n",
              "fear        2649\n",
              "love        1636\n",
              "surprise     877\n",
              "Name: Emotion, dtype: int64"
            ]
          },
          "metadata": {
            "tags": []
          },
          "execution_count": 31
        }
      ]
    },
    {
      "cell_type": "code",
      "metadata": {
        "colab": {
          "base_uri": "https://localhost:8080/"
        },
        "id": "nkl1W4e0jdow",
        "outputId": "19fe2e4a-832f-44eb-e49e-7a659fe15f2f"
      },
      "source": [
        "df.Emotion_code.value_counts()"
      ],
      "execution_count": null,
      "outputs": [
        {
          "output_type": "execute_result",
          "data": {
            "text/plain": [
              "2.0    7024\n",
              "4.0    6259\n",
              "0.0    2985\n",
              "1.0    2649\n",
              "3.0    1636\n",
              "5.0     877\n",
              "Name: Emotion_code, dtype: int64"
            ]
          },
          "metadata": {
            "tags": []
          },
          "execution_count": 32
        }
      ]
    },
    {
      "cell_type": "code",
      "metadata": {
        "colab": {
          "base_uri": "https://localhost:8080/",
          "height": 204
        },
        "id": "Yk3wybd82v0a",
        "outputId": "7185f159-342a-4147-d13a-9059f8f73fc2"
      },
      "source": [
        "df.head()"
      ],
      "execution_count": null,
      "outputs": [
        {
          "output_type": "execute_result",
          "data": {
            "text/html": [
              "<div>\n",
              "<style scoped>\n",
              "    .dataframe tbody tr th:only-of-type {\n",
              "        vertical-align: middle;\n",
              "    }\n",
              "\n",
              "    .dataframe tbody tr th {\n",
              "        vertical-align: top;\n",
              "    }\n",
              "\n",
              "    .dataframe thead th {\n",
              "        text-align: right;\n",
              "    }\n",
              "</style>\n",
              "<table border=\"1\" class=\"dataframe\">\n",
              "  <thead>\n",
              "    <tr style=\"text-align: right;\">\n",
              "      <th></th>\n",
              "      <th>Text</th>\n",
              "      <th>Emotion</th>\n",
              "      <th>Emotion_code</th>\n",
              "    </tr>\n",
              "  </thead>\n",
              "  <tbody>\n",
              "    <tr>\n",
              "      <th>0</th>\n",
              "      <td>i didnt feel humiliated</td>\n",
              "      <td>sadness</td>\n",
              "      <td>4.0</td>\n",
              "    </tr>\n",
              "    <tr>\n",
              "      <th>1</th>\n",
              "      <td>i can go from feeling so hopeless to so damned...</td>\n",
              "      <td>sadness</td>\n",
              "      <td>4.0</td>\n",
              "    </tr>\n",
              "    <tr>\n",
              "      <th>2</th>\n",
              "      <td>im grabbing a minute to post i feel greedy wrong</td>\n",
              "      <td>anger</td>\n",
              "      <td>0.0</td>\n",
              "    </tr>\n",
              "    <tr>\n",
              "      <th>3</th>\n",
              "      <td>i am ever feeling nostalgic about the fireplac...</td>\n",
              "      <td>love</td>\n",
              "      <td>3.0</td>\n",
              "    </tr>\n",
              "    <tr>\n",
              "      <th>4</th>\n",
              "      <td>i am feeling grouchy</td>\n",
              "      <td>anger</td>\n",
              "      <td>0.0</td>\n",
              "    </tr>\n",
              "  </tbody>\n",
              "</table>\n",
              "</div>"
            ],
            "text/plain": [
              "                                                Text  Emotion  Emotion_code\n",
              "0                            i didnt feel humiliated  sadness           4.0\n",
              "1  i can go from feeling so hopeless to so damned...  sadness           4.0\n",
              "2   im grabbing a minute to post i feel greedy wrong    anger           0.0\n",
              "3  i am ever feeling nostalgic about the fireplac...     love           3.0\n",
              "4                               i am feeling grouchy    anger           0.0"
            ]
          },
          "metadata": {
            "tags": []
          },
          "execution_count": 33
        }
      ]
    },
    {
      "cell_type": "code",
      "metadata": {
        "colab": {
          "base_uri": "https://localhost:8080/",
          "height": 448
        },
        "id": "z5HFH--62m3c",
        "outputId": "522fbde6-8bae-4b0c-bd4f-fb3b60c7961a"
      },
      "source": [
        "plt.figure(figsize = (20,7))\n",
        "ax = sns.countplot(x=\"Emotion_code\", data=df, palette=\"Set3\", dodge=False)"
      ],
      "execution_count": null,
      "outputs": [
        {
          "output_type": "display_data",
          "data": {
            "image/png": "[encoded data removed]",
            "text/plain": [
              "<Figure size 1440x504 with 1 Axes>"
            ]
          },
          "metadata": {
            "tags": []
          }
        }
      ]
    },
    {
      "cell_type": "code",
      "metadata": {
        "colab": {
          "base_uri": "https://localhost:8080/",
          "height": 204
        },
        "id": "h7Gp0X4JjlR2",
        "outputId": "9d601d8f-eb4a-415b-cae2-a3cc61a9b4be"
      },
      "source": [
        "df.head()"
      ],
      "execution_count": null,
      "outputs": [
        {
          "output_type": "execute_result",
          "data": {
            "text/html": [
              "<div>\n",
              "<style scoped>\n",
              "    .dataframe tbody tr th:only-of-type {\n",
              "        vertical-align: middle;\n",
              "    }\n",
              "\n",
              "    .dataframe tbody tr th {\n",
              "        vertical-align: top;\n",
              "    }\n",
              "\n",
              "    .dataframe thead th {\n",
              "        text-align: right;\n",
              "    }\n",
              "</style>\n",
              "<table border=\"1\" class=\"dataframe\">\n",
              "  <thead>\n",
              "    <tr style=\"text-align: right;\">\n",
              "      <th></th>\n",
              "      <th>Text</th>\n",
              "      <th>Emotion</th>\n",
              "      <th>Emotion_code</th>\n",
              "    </tr>\n",
              "  </thead>\n",
              "  <tbody>\n",
              "    <tr>\n",
              "      <th>0</th>\n",
              "      <td>i didnt feel humiliated</td>\n",
              "      <td>sadness</td>\n",
              "      <td>4.0</td>\n",
              "    </tr>\n",
              "    <tr>\n",
              "      <th>1</th>\n",
              "      <td>i can go from feeling so hopeless to so damned...</td>\n",
              "      <td>sadness</td>\n",
              "      <td>4.0</td>\n",
              "    </tr>\n",
              "    <tr>\n",
              "      <th>2</th>\n",
              "      <td>im grabbing a minute to post i feel greedy wrong</td>\n",
              "      <td>anger</td>\n",
              "      <td>0.0</td>\n",
              "    </tr>\n",
              "    <tr>\n",
              "      <th>3</th>\n",
              "      <td>i am ever feeling nostalgic about the fireplac...</td>\n",
              "      <td>love</td>\n",
              "      <td>3.0</td>\n",
              "    </tr>\n",
              "    <tr>\n",
              "      <th>4</th>\n",
              "      <td>i am feeling grouchy</td>\n",
              "      <td>anger</td>\n",
              "      <td>0.0</td>\n",
              "    </tr>\n",
              "  </tbody>\n",
              "</table>\n",
              "</div>"
            ],
            "text/plain": [
              "                                                Text  Emotion  Emotion_code\n",
              "0                            i didnt feel humiliated  sadness           4.0\n",
              "1  i can go from feeling so hopeless to so damned...  sadness           4.0\n",
              "2   im grabbing a minute to post i feel greedy wrong    anger           0.0\n",
              "3  i am ever feeling nostalgic about the fireplac...     love           3.0\n",
              "4                               i am feeling grouchy    anger           0.0"
            ]
          },
          "metadata": {
            "tags": []
          },
          "execution_count": 35
        }
      ]
    },
    {
      "cell_type": "markdown",
      "metadata": {
        "id": "mEILf01YAnJm"
      },
      "source": [
        "# 4.2. Realice el escalamiento o normalización que requieran los datos"
      ]
    },
    {
      "cell_type": "markdown",
      "metadata": {
        "id": "1dsi05iRi2qX"
      },
      "source": [
        "# 6. Particione los datos en entrenamiento y prueba\n",
        "\n"
      ]
    },
    {
      "cell_type": "code",
      "metadata": {
        "id": "xuROcBz5m69G"
      },
      "source": [
        "X_train, X_test, y_train, y_test = train_test_split(X, df['Emotion_code'], test_size=0.2, random_state=42)"
      ],
      "execution_count": null,
      "outputs": []
    },
    {
      "cell_type": "markdown",
      "metadata": {
        "id": "1yqCggBJeJ0u"
      },
      "source": [
        "# 7. Realice un método no supervisado (ejemplo clustering)\n",
        "Use la inercia del cluster y el coeficiente de silueta y compárelos para saber el número óptimo de clusters de sus datos.\n",
        "\n",
        "Este paso se debe realizar incluso si sus datos estan supervisados para descubrir patrones dentro de sus datos."
      ]
    },
    {
      "cell_type": "markdown",
      "metadata": {
        "id": "SvrU-xGTmnZI"
      },
      "source": [
        "# 8. Regresión logistica"
      ]
    },
    {
      "cell_type": "code",
      "metadata": {
        "id": "gIhQPnXFmy4E"
      },
      "source": [
        "lr=LogisticRegression(max_iter=1000, multi_class='multinomial')\n",
        "lem=lr.fit(X_train, y_train)"
      ],
      "execution_count": null,
      "outputs": []
    },
    {
      "cell_type": "code",
      "metadata": {
        "colab": {
          "base_uri": "https://localhost:8080/"
        },
        "id": "V9v0sMx1m3KA",
        "outputId": "3f7048a9-ad35-4e43-c3e0-e4aa2c6a9db7"
      },
      "source": [
        "y_pred_l  = lem.predict(X_test)\n",
        "get_metrics_model(y_test=y_test, y_pred = y_pred_l)\n"
      ],
      "execution_count": null,
      "outputs": [
        {
          "output_type": "stream",
          "text": [
            "Accuracy: 0.8609426038264115\n",
            "fscore:  0.8148652777624564\n",
            "precision:  0.8624016094963599\n",
            "recall:  0.7826382859836777\n"
          ],
          "name": "stdout"
        }
      ]
    },
    {
      "cell_type": "code",
      "metadata": {
        "colab": {
          "base_uri": "https://localhost:8080/"
        },
        "id": "RFY1t4MCm7Dz",
        "outputId": "1b9a9385-01f4-44a8-beb0-50b57ef6b243"
      },
      "source": [
        "predict_emotion_text(model=lem, text=\"my pc is broken but i am really very happy as i got a new pc from my wife \")"
      ],
      "execution_count": null,
      "outputs": [
        {
          "output_type": "stream",
          "text": [
            "Emotion: happy | 😀 \n"
          ],
          "name": "stdout"
        }
      ]
    },
    {
      "cell_type": "code",
      "metadata": {
        "colab": {
          "base_uri": "https://localhost:8080/"
        },
        "id": "7s0Jri_qC6Fe",
        "outputId": "0e3b23cc-8e93-4273-93a8-fc1c26e4aa56"
      },
      "source": [
        "print(metrics.classification_report(y_test, y_pred_l))"
      ],
      "execution_count": null,
      "outputs": [
        {
          "output_type": "stream",
          "text": [
            "              precision    recall  f1-score   support\n",
            "\n",
            "         0.0       0.91      0.78      0.84       598\n",
            "         1.0       0.84      0.80      0.82       511\n",
            "         2.0       0.84      0.94      0.89      1355\n",
            "         3.0       0.89      0.67      0.77       345\n",
            "         4.0       0.87      0.92      0.90      1306\n",
            "         5.0       0.82      0.58      0.68       171\n",
            "\n",
            "    accuracy                           0.86      4286\n",
            "   macro avg       0.86      0.78      0.81      4286\n",
            "weighted avg       0.86      0.86      0.86      4286\n",
            "\n"
          ],
          "name": "stdout"
        }
      ]
    },
    {
      "cell_type": "code",
      "metadata": {
        "colab": {
          "base_uri": "https://localhost:8080/",
          "height": 502
        },
        "id": "qHMlY8dqChMu",
        "outputId": "dd909752-ea53-4c2d-9113-cb120ea2f7b0"
      },
      "source": [
        "plot_confusion_matrix(y_test=y_test, y_pred=y_pred_l)"
      ],
      "execution_count": null,
      "outputs": [
        {
          "output_type": "display_data",
          "data": {
            "image/png": "[encoded data removed]",
            "text/plain": [
              "<Figure size 720x576 with 1 Axes>"
            ]
          },
          "metadata": {
            "tags": []
          }
        }
      ]
    },
    {
      "cell_type": "markdown",
      "metadata": {
        "id": "lVqFnrqBdkBX"
      },
      "source": [
        "# 8. Árbol de decisión\n",
        "Entrene un árbol sin modificar los parámetros por defecto\n",
        "\n",
        "Para cada uno de los casos muestre accuracy, precision, recall y f1-score\n"
      ]
    },
    {
      "cell_type": "code",
      "metadata": {
        "colab": {
          "background_save": true
        },
        "id": "aIBW-sF2k3Px",
        "outputId": "aff90a3e-cee0-427a-f214-f608209faa73"
      },
      "source": [
        "classifier_tree = DecisionTreeClassifier()\n",
        "classifier_tree.fit(X_train, y_train)"
      ],
      "execution_count": null,
      "outputs": [
        {
          "output_type": "execute_result",
          "data": {
            "text/plain": [
              "DecisionTreeClassifier(ccp_alpha=0.0, class_weight=None, criterion='gini',\n",
              "                       max_depth=None, max_features=None, max_leaf_nodes=None,\n",
              "                       min_impurity_decrease=0.0, min_impurity_split=None,\n",
              "                       min_samples_leaf=1, min_samples_split=2,\n",
              "                       min_weight_fraction_leaf=0.0, presort='deprecated',\n",
              "                       random_state=None, splitter='best')"
            ]
          },
          "metadata": {
            "tags": []
          },
          "execution_count": 0
        }
      ]
    },
    {
      "cell_type": "code",
      "metadata": {
        "colab": {
          "background_save": true
        },
        "id": "-AbTBJ5poJbY",
        "outputId": "08b7e695-eb31-4d0c-a9c1-26d0f7c8f89a"
      },
      "source": [
        "y_pred_tree  = classifier_tree.predict(X_test)\n",
        "get_metrics_model(y_test = y_test, y_pred = y_pred_tree)"
      ],
      "execution_count": null,
      "outputs": [
        {
          "output_type": "stream",
          "text": [
            "Accuracy: 0.8133457769482034\n",
            "fscore:  0.7791910676440561\n",
            "precision:  0.7782849451545847\n",
            "recall:  0.7810342003894105\n"
          ],
          "name": "stdout"
        }
      ]
    },
    {
      "cell_type": "code",
      "metadata": {
        "colab": {
          "background_save": true
        },
        "id": "FTZkZJ_FGvj9",
        "outputId": "2422d165-3b02-4c6b-951a-da88e810f7ef"
      },
      "source": [
        "print(metrics.classification_report(y_test, y_pred_tree))"
      ],
      "execution_count": null,
      "outputs": [
        {
          "output_type": "stream",
          "text": [
            "              precision    recall  f1-score   support\n",
            "\n",
            "         0.0       0.75      0.82      0.78       598\n",
            "         1.0       0.78      0.80      0.79       511\n",
            "         2.0       0.85      0.82      0.83      1355\n",
            "         3.0       0.75      0.72      0.73       345\n",
            "         4.0       0.86      0.85      0.85      1306\n",
            "         5.0       0.69      0.67      0.68       171\n",
            "\n",
            "    accuracy                           0.81      4286\n",
            "   macro avg       0.78      0.78      0.78      4286\n",
            "weighted avg       0.81      0.81      0.81      4286\n",
            "\n"
          ],
          "name": "stdout"
        }
      ]
    },
    {
      "cell_type": "code",
      "metadata": {
        "colab": {
          "background_save": true
        },
        "id": "WsSoALnO3JNF",
        "outputId": "e2f8fbe3-cd9a-406a-e3c3-dfe2c7e22be3"
      },
      "source": [
        "classifier_tree.feature_importances_"
      ],
      "execution_count": null,
      "outputs": [
        {
          "output_type": "execute_result",
          "data": {
            "text/plain": [
              "array([1.36675485e-04, 1.68842857e-04, 1.23992964e-04, ...,\n",
              "       2.46651105e-05, 0.00000000e+00, 4.96952873e-04])"
            ]
          },
          "metadata": {
            "tags": []
          },
          "execution_count": 0
        }
      ]
    },
    {
      "cell_type": "code",
      "metadata": {
        "colab": {
          "background_save": true
        },
        "id": "oZ-6of8mG6Jt",
        "outputId": "63532690-b713-4c46-832c-d25ec9366369"
      },
      "source": [
        "plot_confusion_matrix(y_test=y_test, y_pred=y_pred_tree)"
      ],
      "execution_count": null,
      "outputs": [
        {
          "output_type": "display_data",
          "data": {
            "image/png": "[encoded data removed]",
            "text/plain": [
              "<Figure size 720x576 with 1 Axes>"
            ]
          },
          "metadata": {
            "tags": []
          }
        }
      ]
    },
    {
      "cell_type": "code",
      "metadata": {
        "colab": {
          "background_save": true
        },
        "id": "jKfTLawb0Kj6",
        "outputId": "db2eb50e-4794-4fca-a42c-da6043ca6a43"
      },
      "source": [
        "predict_emotion_text(model=classifier_tree, text=\"my pc is broken but i am really very happy as i got a new pc from my wife \")"
      ],
      "execution_count": null,
      "outputs": [
        {
          "output_type": "stream",
          "text": [
            "Emotion: happy | 😀 \n"
          ],
          "name": "stdout"
        }
      ]
    },
    {
      "cell_type": "markdown",
      "metadata": {
        "id": "yMrxdVKzd0We"
      },
      "source": [
        "# 8.1 Modifique el árbol de decisión anterior y utilice una grilla cuadrada para obtener el mejor árbol"
      ]
    },
    {
      "cell_type": "code",
      "metadata": {
        "id": "RkfXdfMFAoTH"
      },
      "source": [
        "rfc=DecisionTreeClassifier(random_state=1)\n",
        "\n",
        "param_grid = {'criterion':['gini','entropy'], 'max_depth' : [3,5,7,20]}\n",
        "grid_search = GridSearchCV(classifier_tree,param_grid=param_grid,cv=5)\n",
        "grid_search.fit(X_train, y_train)"
      ],
      "execution_count": null,
      "outputs": []
    },
    {
      "cell_type": "code",
      "metadata": {
        "id": "14ChngC3KnN9"
      },
      "source": [
        "grid_search.best_params_"
      ],
      "execution_count": null,
      "outputs": []
    },
    {
      "cell_type": "code",
      "metadata": {
        "id": "ODhUeYtXLFBR"
      },
      "source": [
        "grid_search.best_score_"
      ],
      "execution_count": null,
      "outputs": []
    },
    {
      "cell_type": "code",
      "metadata": {
        "id": "0nmDplRfLQiw"
      },
      "source": [
        "grid_search.best_estimator_"
      ],
      "execution_count": null,
      "outputs": []
    },
    {
      "cell_type": "code",
      "metadata": {
        "id": "z2kxQxGWLTkm"
      },
      "source": [
        "best_model = grid_search.best_estimator_\n",
        "test_acc = best_model.score(X_test, y_test)\n",
        "test_acc"
      ],
      "execution_count": null,
      "outputs": []
    },
    {
      "cell_type": "code",
      "metadata": {
        "id": "qWO5Fw34KscA"
      },
      "source": [
        "pred2 = grid_search.predict(X_test)\n",
        "print(classification_report(y_test, pred2))"
      ],
      "execution_count": null,
      "outputs": []
    },
    {
      "cell_type": "markdown",
      "metadata": {
        "id": "UHute4nJew_e"
      },
      "source": [
        "# 9. Entrene una máquina de soporte vectorial\n",
        "\n",
        "\n",
        "Para cada uno de los casos muestre accuracy, precision, recall y f1-score\n"
      ]
    },
    {
      "cell_type": "code",
      "metadata": {
        "id": "nGsYW3tjR3zA"
      },
      "source": [
        "rbf_svm = SVC()\n",
        "#rbf_svm.fit(X_train, y_train)"
      ],
      "execution_count": null,
      "outputs": []
    },
    {
      "cell_type": "code",
      "metadata": {
        "id": "hUaoAsVXSk0H"
      },
      "source": [
        "#rbf_svm_predict = rbf_svm.predict([y_test])"
      ],
      "execution_count": null,
      "outputs": []
    },
    {
      "cell_type": "markdown",
      "metadata": {
        "id": "xV6WV6cVe3a6"
      },
      "source": [
        "# 9.1 Utilice una grilla cuadrada para obtener la mejor máquina de soporte vectorial, utilice varios kernels\n"
      ]
    },
    {
      "cell_type": "markdown",
      "metadata": {
        "id": "QWwbR3RIgg0s"
      },
      "source": [
        "# 9.2 Utilice una grilla aleatoria para obtener la mejor máquina de soporte vectorial, utilice varios kernels\n"
      ]
    },
    {
      "cell_type": "markdown",
      "metadata": {
        "id": "F2PhXI_1hZxP"
      },
      "source": [
        "# 10.Entrene un algoritmo de redes de neuronales\n",
        "\n",
        "\n",
        "Para cada uno de los casos muestre accuracy, precision, recall y f1-score\n"
      ]
    },
    {
      "cell_type": "code",
      "metadata": {
        "id": "xtziA4pemRos"
      },
      "source": [
        "clf = MLPClassifier(random_state=1, hidden_layer_sizes=(100,100,100), max_iter=300, alpha=0.0001).fit(X_train, y_train)"
      ],
      "execution_count": null,
      "outputs": []
    },
    {
      "cell_type": "code",
      "metadata": {
        "colab": {
          "background_save": true
        },
        "id": "WzK1ltk_mYaa"
      },
      "source": [
        "clf.predict_proba(X_test[:1])"
      ],
      "execution_count": null,
      "outputs": []
    },
    {
      "cell_type": "code",
      "metadata": {
        "id": "jP6WbJy-nn4X"
      },
      "source": [
        " clf.score(X_test, y_test)"
      ],
      "execution_count": null,
      "outputs": []
    },
    {
      "cell_type": "code",
      "metadata": {
        "id": "ybm6U18bn4VI"
      },
      "source": [
        "pred_clf = clf.predict(X_test)\n",
        "print(classification_report(y_test, pred_clf))"
      ],
      "execution_count": null,
      "outputs": []
    },
    {
      "cell_type": "code",
      "metadata": {
        "id": "5iyHlcQWoGbY"
      },
      "source": [
        "plot_confusion_matrix(y_test=y_test, y_pred=pred_clf)"
      ],
      "execution_count": null,
      "outputs": []
    },
    {
      "cell_type": "code",
      "metadata": {
        "id": "9ZSE2lOLoN93"
      },
      "source": [
        "get_metrics_model(y_test = y_test, y_pred = pred_clf)"
      ],
      "execution_count": null,
      "outputs": []
    },
    {
      "cell_type": "code",
      "metadata": {
        "id": "F25QqISuq7WI"
      },
      "source": [
        "predict_emotion_text(model=clf, text=\"my pc is broken\")"
      ],
      "execution_count": null,
      "outputs": []
    },
    {
      "cell_type": "markdown",
      "metadata": {
        "id": "qDsr9FLyinTZ"
      },
      "source": [
        "# 10.1 Utilice una grilla cuadrada para obtener los mejores parámetros para la red neuronal"
      ]
    },
    {
      "cell_type": "code",
      "metadata": {
        "colab": {
          "background_save": true
        },
        "id": "SYZKwHRVsAnH",
        "outputId": "d7484838-dd57-4cf8-a3d9-7edc65a1c9b0"
      },
      "source": [
        "mlp_gs = MLPClassifier(max_iter=100)\n",
        "parameter_space = {\n",
        "    'hidden_layer_sizes': [(10,30,10),(20,)],\n",
        "    'activation': ['tanh', 'relu'],\n",
        "    'solver': ['sgd', 'adam'],\n",
        "    'alpha': [0.0001, 0.05],\n",
        "    'learning_rate': ['constant','adaptive'],\n",
        "}\n",
        "from sklearn.model_selection import GridSearchCV\n",
        "clf2 = GridSearchCV(mlp_gs, parameter_space, n_jobs=-1, cv=5)\n",
        "clf2.fit(X_train, y_train)"
      ],
      "execution_count": null,
      "outputs": [
        {
          "output_type": "stream",
          "text": [
            "/usr/local/lib/python3.7/dist-packages/sklearn/neural_network/_multilayer_perceptron.py:571: ConvergenceWarning:\n",
            "\n",
            "Stochastic Optimizer: Maximum iterations (100) reached and the optimization hasn't converged yet.\n",
            "\n"
          ],
          "name": "stderr"
        },
        {
          "output_type": "execute_result",
          "data": {
            "text/plain": [
              "GridSearchCV(cv=5, error_score=nan,\n",
              "             estimator=MLPClassifier(activation='relu', alpha=0.0001,\n",
              "                                     batch_size='auto', beta_1=0.9,\n",
              "                                     beta_2=0.999, early_stopping=False,\n",
              "                                     epsilon=1e-08, hidden_layer_sizes=(100,),\n",
              "                                     learning_rate='constant',\n",
              "                                     learning_rate_init=0.001, max_fun=15000,\n",
              "                                     max_iter=100, momentum=0.9,\n",
              "                                     n_iter_no_change=10,\n",
              "                                     nesterovs_momentum=True, power_t=0.5,\n",
              "                                     random_state...\n",
              "                                     solver='adam', tol=0.0001,\n",
              "                                     validation_fraction=0.1, verbose=False,\n",
              "                                     warm_start=False),\n",
              "             iid='deprecated', n_jobs=-1,\n",
              "             param_grid={'activation': ['tanh', 'relu'],\n",
              "                         'alpha': [0.0001, 0.05],\n",
              "                         'hidden_layer_sizes': [(10, 30, 10), (20,)],\n",
              "                         'learning_rate': ['constant', 'adaptive'],\n",
              "                         'solver': ['sgd', 'adam']},\n",
              "             pre_dispatch='2*n_jobs', refit=True, return_train_score=False,\n",
              "             scoring=None, verbose=0)"
            ]
          },
          "metadata": {
            "tags": []
          },
          "execution_count": 0
        }
      ]
    },
    {
      "cell_type": "code",
      "metadata": {
        "colab": {
          "background_save": true
        },
        "id": "mwYdm5kzetFD",
        "outputId": "c667e1ce-8bf3-4f01-878b-c8938637dc65"
      },
      "source": [
        "pred_clf = clf.predict(X_test)\n",
        "print(classification_report(y_test, pred_clf))"
      ],
      "execution_count": null,
      "outputs": [
        {
          "output_type": "stream",
          "text": [
            "              precision    recall  f1-score   support\n",
            "\n",
            "         0.0       0.82      0.79      0.81       598\n",
            "         1.0       0.78      0.80      0.79       511\n",
            "         2.0       0.86      0.90      0.88      1355\n",
            "         3.0       0.84      0.67      0.75       345\n",
            "         4.0       0.87      0.89      0.88      1306\n",
            "         5.0       0.72      0.67      0.69       171\n",
            "\n",
            "    accuracy                           0.84      4286\n",
            "   macro avg       0.81      0.79      0.80      4286\n",
            "weighted avg       0.84      0.84      0.84      4286\n",
            "\n"
          ],
          "name": "stdout"
        }
      ]
    },
    {
      "cell_type": "code",
      "metadata": {
        "colab": {
          "background_save": true
        },
        "id": "f4PVD1wHPpPB",
        "outputId": "474a4ec7-e032-4947-cad3-b210d6d469c8"
      },
      "source": [
        "plot_confusion_matrix(y_test=y_test, y_pred=pred_clf)"
      ],
      "execution_count": null,
      "outputs": [
        {
          "output_type": "display_data",
          "data": {
            "image/png": "[encoded data removed]",
            "text/plain": [
              "<Figure size 720x576 with 1 Axes>"
            ]
          },
          "metadata": {
            "tags": []
          }
        }
      ]
    },
    {
      "cell_type": "markdown",
      "metadata": {
        "id": "ljcgdfz7ivHS"
      },
      "source": [
        "# 10.2 Utilice una grilla aleatoria para obtener los mejores parámetros para la red neuronal"
      ]
    },
    {
      "cell_type": "markdown",
      "metadata": {
        "id": "AICuETgzjEeJ"
      },
      "source": [
        "# 11. Random Forest\n",
        "\n",
        "\n",
        "Para cada uno de los casos muestre accuracy, precision, recall y f1-score\n"
      ]
    },
    {
      "cell_type": "code",
      "metadata": {
        "colab": {
          "background_save": true
        },
        "id": "XyXI-cW3nIhF",
        "outputId": "0e5254f4-5b07-45ba-eb5e-0732e561fda9"
      },
      "source": [
        "classifier_1 = RandomForestClassifier()\n",
        "classifier_1.fit(X_train, y_train)"
      ],
      "execution_count": null,
      "outputs": [
        {
          "output_type": "execute_result",
          "data": {
            "text/plain": [
              "RandomForestClassifier(bootstrap=True, ccp_alpha=0.0, class_weight=None,\n",
              "                       criterion='gini', max_depth=None, max_features='auto',\n",
              "                       max_leaf_nodes=None, max_samples=None,\n",
              "                       min_impurity_decrease=0.0, min_impurity_split=None,\n",
              "                       min_samples_leaf=1, min_samples_split=2,\n",
              "                       min_weight_fraction_leaf=0.0, n_estimators=100,\n",
              "                       n_jobs=None, oob_score=False, random_state=None,\n",
              "                       verbose=0, warm_start=False)"
            ]
          },
          "metadata": {
            "tags": []
          },
          "execution_count": 0
        }
      ]
    },
    {
      "cell_type": "code",
      "metadata": {
        "colab": {
          "background_save": true
        },
        "id": "BpajsXiUn3m3",
        "outputId": "3f6148e8-bf6d-4c05-be2a-1627b2a25ea2"
      },
      "source": [
        "y_pred_r = classifier_1.predict(X_test)\n",
        "get_metrics_model(y_test = y_test, y_pred = y_pred_r)"
      ],
      "execution_count": null,
      "outputs": [
        {
          "output_type": "stream",
          "text": [
            "Accuracy: 0.8448436770881941\n",
            "fscore:  0.8102057744961518\n",
            "precision:  0.8147013934284971\n",
            "recall:  0.8067827399090689\n"
          ],
          "name": "stdout"
        }
      ]
    },
    {
      "cell_type": "code",
      "metadata": {
        "colab": {
          "background_save": true
        },
        "id": "TTe-sPNXnMSR"
      },
      "source": [
        "classifier = RandomForestClassifier(n_estimators=100, random_state=42)\n",
        "classifier.fit(X_train, y_train) "
      ],
      "execution_count": null,
      "outputs": []
    },
    {
      "cell_type": "code",
      "metadata": {
        "colab": {
          "background_save": true
        },
        "id": "CvFLa7DioAVa"
      },
      "source": [
        "y_pred_r = classifier.predict(X_test)\n",
        "get_metrics_model(y_test = y_test, y_pred = y_pred_r)"
      ],
      "execution_count": null,
      "outputs": []
    },
    {
      "cell_type": "markdown",
      "metadata": {
        "id": "KSiwk3rCfwJg"
      },
      "source": [
        "Test"
      ]
    },
    {
      "cell_type": "code",
      "metadata": {
        "colab": {
          "background_save": true
        },
        "id": "VrVi3yRKQmKi"
      },
      "source": [
        "pred2 = grid_search.predict(X_test)\n",
        "print(classification_report(y_test, y_pred_r))"
      ],
      "execution_count": null,
      "outputs": []
    },
    {
      "cell_type": "code",
      "metadata": {
        "colab": {
          "background_save": true
        },
        "id": "GzsBWEo5QtNe"
      },
      "source": [
        "labels = ['sadness', 'anger', 'love', 'surprise', 'fear', 'happy']\n",
        "cm1 = pd.DataFrame(confusion_matrix(y_test, y_pred_r), index = labels, columns = labels)"
      ],
      "execution_count": null,
      "outputs": []
    },
    {
      "cell_type": "code",
      "metadata": {
        "colab": {
          "background_save": true
        },
        "id": "WJUru000QtuW"
      },
      "source": [
        "plt.figure(figsize = (10, 8))\n",
        "sns.heatmap(cm1, annot = True, cbar = False, fmt = 'g')\n",
        "plt.ylabel('Actual values')\n",
        "plt.xlabel('Predicted values')\n",
        "plt.show()"
      ],
      "execution_count": null,
      "outputs": []
    },
    {
      "cell_type": "code",
      "metadata": {
        "colab": {
          "background_save": true
        },
        "id": "rT5Yckc8fxNi"
      },
      "source": [
        "predict_emotion_text(model=classifier, text=\"my pc is broken but i am really very happy as i got a new pc from my wife \")\n"
      ],
      "execution_count": null,
      "outputs": []
    },
    {
      "cell_type": "code",
      "metadata": {
        "colab": {
          "background_save": true
        },
        "id": "nazd5uZFhVUA"
      },
      "source": [
        "predict_emotion_text(model=classifier, text=\"I'm curious to meet you\")"
      ],
      "execution_count": null,
      "outputs": []
    },
    {
      "cell_type": "code",
      "metadata": {
        "colab": {
          "background_save": true
        },
        "id": "JbSt9Ps4-roF"
      },
      "source": [
        "predict_emotion_text(model=classifier, text=\"I hate you\")"
      ],
      "execution_count": null,
      "outputs": []
    },
    {
      "cell_type": "code",
      "metadata": {
        "colab": {
          "background_save": true
        },
        "id": "Wxb5s3L4Q9e9"
      },
      "source": [
        "predict_emotion_text(model=classifier, text=\"I feel sad\")"
      ],
      "execution_count": null,
      "outputs": []
    },
    {
      "cell_type": "markdown",
      "metadata": {
        "id": "56GMBOZDjKFi"
      },
      "source": [
        "# 11.1 Utilice una grilla aleatoria para obtener los mejores parámetros para el random forest"
      ]
    },
    {
      "cell_type": "code",
      "metadata": {
        "colab": {
          "base_uri": "https://localhost:8080/",
          "height": 231
        },
        "id": "qnm0jABOjt84",
        "outputId": "4f6ae9cb-e19d-46f6-f5cf-52c3e9ced6b3"
      },
      "source": [
        "rfc=RandomForestClassifier(random_state=42)\n",
        "\n",
        "param_grid = { \n",
        "    'n_estimators': [100, 200],\n",
        "    'max_features': ['auto', 'sqrt', 'log2'],\n",
        "    'max_depth' : [4,5,6],\n",
        "    'criterion' :['gini', 'entropy']\n",
        "}\n",
        "CV_rfc = GridSearchCV(estimator=rfc, param_grid=param_grid, cv= 5)\n",
        "CV_rfc.fit(X_train, y_train)"
      ],
      "execution_count": null,
      "outputs": [
        {
          "output_type": "error",
          "ename": "NameError",
          "evalue": "ignored",
          "traceback": [
            "\u001b[0;31m---------------------------------------------------------------------------\u001b[0m",
            "\u001b[0;31mNameError\u001b[0m                                 Traceback (most recent call last)",
            "\u001b[0;32m<ipython-input-1-26b4553af1b0>\u001b[0m in \u001b[0;36m<module>\u001b[0;34m()\u001b[0m\n\u001b[0;32m----> 1\u001b[0;31m \u001b[0mrfc\u001b[0m\u001b[0;34m=\u001b[0m\u001b[0mRandomForestClassifier\u001b[0m\u001b[0;34m(\u001b[0m\u001b[0mrandom_state\u001b[0m\u001b[0;34m=\u001b[0m\u001b[0;36m42\u001b[0m\u001b[0;34m)\u001b[0m\u001b[0;34m\u001b[0m\u001b[0;34m\u001b[0m\u001b[0m\n\u001b[0m\u001b[1;32m      2\u001b[0m \u001b[0;34m\u001b[0m\u001b[0m\n\u001b[1;32m      3\u001b[0m param_grid = { \n\u001b[1;32m      4\u001b[0m     \u001b[0;34m'n_estimators'\u001b[0m\u001b[0;34m:\u001b[0m \u001b[0;34m[\u001b[0m\u001b[0;36m100\u001b[0m\u001b[0;34m,\u001b[0m \u001b[0;36m200\u001b[0m\u001b[0;34m]\u001b[0m\u001b[0;34m,\u001b[0m\u001b[0;34m\u001b[0m\u001b[0;34m\u001b[0m\u001b[0m\n\u001b[1;32m      5\u001b[0m     \u001b[0;34m'max_features'\u001b[0m\u001b[0;34m:\u001b[0m \u001b[0;34m[\u001b[0m\u001b[0;34m'auto'\u001b[0m\u001b[0;34m,\u001b[0m \u001b[0;34m'sqrt'\u001b[0m\u001b[0;34m,\u001b[0m \u001b[0;34m'log2'\u001b[0m\u001b[0;34m]\u001b[0m\u001b[0;34m,\u001b[0m\u001b[0;34m\u001b[0m\u001b[0;34m\u001b[0m\u001b[0m\n",
            "\u001b[0;31mNameError\u001b[0m: name 'RandomForestClassifier' is not defined"
          ]
        }
      ]
    },
    {
      "cell_type": "code",
      "metadata": {
        "colab": {
          "background_save": true
        },
        "id": "OLypRx4-QKhB",
        "outputId": "124dea94-0ca2-4d61-ea71-176b7db3309e"
      },
      "source": [
        "CV_rfc.best_params_"
      ],
      "execution_count": null,
      "outputs": [
        {
          "output_type": "execute_result",
          "data": {
            "text/plain": [
              "{'criterion': 'gini',\n",
              " 'max_depth': 6,\n",
              " 'max_features': 'auto',\n",
              " 'n_estimators': 100}"
            ]
          },
          "metadata": {
            "tags": []
          },
          "execution_count": 0
        }
      ]
    },
    {
      "cell_type": "code",
      "metadata": {
        "colab": {
          "background_save": true
        },
        "id": "J1s6h7ArQM1d",
        "outputId": "2131b81b-f85f-415c-d94c-14f0a960e9ce"
      },
      "source": [
        "CV_rfc.best_estimator_"
      ],
      "execution_count": null,
      "outputs": [
        {
          "output_type": "execute_result",
          "data": {
            "text/plain": [
              "RandomForestClassifier(bootstrap=True, ccp_alpha=0.0, class_weight=None,\n",
              "                       criterion='gini', max_depth=6, max_features='auto',\n",
              "                       max_leaf_nodes=None, max_samples=None,\n",
              "                       min_impurity_decrease=0.0, min_impurity_split=None,\n",
              "                       min_samples_leaf=1, min_samples_split=2,\n",
              "                       min_weight_fraction_leaf=0.0, n_estimators=100,\n",
              "                       n_jobs=None, oob_score=False, random_state=42, verbose=0,\n",
              "                       warm_start=False)"
            ]
          },
          "metadata": {
            "tags": []
          },
          "execution_count": 0
        }
      ]
    },
    {
      "cell_type": "code",
      "metadata": {
        "colab": {
          "background_save": true
        },
        "id": "RCFHZUqlQQZH",
        "outputId": "e9a3e58f-e3dd-492a-f468-08e8eec23e93"
      },
      "source": [
        "CV_rfc.best_score_"
      ],
      "execution_count": null,
      "outputs": [
        {
          "output_type": "execute_result",
          "data": {
            "text/plain": [
              "0.3460102638862091"
            ]
          },
          "metadata": {
            "tags": []
          },
          "execution_count": 0
        }
      ]
    },
    {
      "cell_type": "markdown",
      "metadata": {
        "id": "Sn-EZJtYS3pf"
      },
      "source": [
        "#CREA UNA TABLA COMPARATIVA CON LOS RESULTADOS Y PRUEBAS"
      ]
    },
    {
      "cell_type": "markdown",
      "metadata": {
        "id": "NTnrouc8jQpt"
      },
      "source": [
        "# 11.2 Utilice una grilla cuadrada para obtener los mejores parámetros para el random forest"
      ]
    },
    {
      "cell_type": "markdown",
      "metadata": {
        "id": "d_qgP1VyjVGw"
      },
      "source": [
        "## ¿Cuál fue el mejor algoritmo que funcionó para sus datos?"
      ]
    },
    {
      "cell_type": "markdown",
      "metadata": {
        "id": "uf_eneUZja-f"
      },
      "source": [
        "## ¿Por qué cree que fue el que mejor funcionó?"
      ]
    },
    {
      "cell_type": "markdown",
      "metadata": {
        "id": "HjcHUk4mjo3P"
      },
      "source": [
        "## ¿Qué otras técnicas cree que puede utilizar para mejorar su algoritmo?"
      ]
    },
    {
      "cell_type": "markdown",
      "metadata": {
        "id": "WxDoHtY9kDlU"
      },
      "source": [
        "## ¿Los métodos aplicados le ayudaron a responder sus preguntas con base en los datos? Trate de mostrar gráficamente la información extraida del proceso.\n"
      ]
    },
    {
      "cell_type": "markdown",
      "metadata": {
        "id": "xWNkd8b9jx82"
      },
      "source": [
        "## ¿Le hicieron falta datos o realice una conjetura sobre como podría obtener mejores resultados?"
      ]
    }
  ]
}